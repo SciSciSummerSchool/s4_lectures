{
 "cells": [
  {
   "cell_type": "markdown",
   "id": "emerging-charlotte",
   "metadata": {
    "cell_style": "center",
    "slideshow": {
     "slide_type": "slide"
    }
   },
   "source": [
    "# Science of Science Summer School (S4)\n",
    "- Daniel E. Acuna, iSchool, Syracuse University\n",
    "- Stephen David, OHSU"
   ]
  },
  {
   "cell_type": "markdown",
   "id": "b2d0307b",
   "metadata": {
    "cell_style": "split",
    "pycharm": {
     "name": "#%% md\n"
    },
    "slideshow": {
     "slide_type": "slide"
    }
   },
   "source": [
    "# Acknowledgements\n",
    "- NSF's #1933803 _Collaborative Research: Social Dynamics of Knowledge Transfer Through Scientific Mentorship and Publication_\n",
    "- School of Information Studies at Syracuse University\n",
    "- Students:\n",
    "  - Lizhen Liang (Ph.D. iSchool)\n",
    "  - Han Zhuang (Ph.D. iSchool)\n",
    "  - Jim Yi (master students)\n",
    "  - Qing Ke (postdoc, to join CUHK in Fall 2021)\n",
    "- Media partner: Academic Data Science Alliance (https://academicdatascience.org/)"
   ]
  },
  {
   "cell_type": "markdown",
   "id": "f5dc1fc9",
   "metadata": {
    "cell_style": "split"
   },
   "source": [
    "![](images/nsf_logo.png)"
   ]
  },
  {
   "cell_type": "markdown",
   "id": "a96dfb2d",
   "metadata": {
    "slideshow": {
     "slide_type": "slide"
    }
   },
   "source": [
    "# Motivation\n",
    "- Several schools dedicated to _Computational Social Science_ (e.g., SICSS) and mostly to methods\n",
    "- Few dedicated to the nascent field of science of science\n",
    "- Specifically, few dedicated to foundational and emerging questions, theories, and methods for science of science\n",
    "- Opportunities for mentoring have significantly diminished due to COVID-19"
   ]
  },
  {
   "cell_type": "markdown",
   "id": "chubby-trade",
   "metadata": {
    "cell_style": "split",
    "slideshow": {
     "slide_type": "slide"
    }
   },
   "source": [
    "# Objectives\n",
    "1. Lectures (first week)\n",
    "2. Conference (second week)\n",
    "3. Panel discussion (second week)\n",
    "4. Mentoring sessions (second week)\n",
    "5. Group interactions (throughout summer school)\n",
    "7. Micro-grant (details TBA)"
   ]
  },
  {
   "cell_type": "markdown",
   "id": "61c96ee9",
   "metadata": {
    "cell_style": "split"
   },
   "source": [
    "![](images/agenda.jpg)"
   ]
  },
  {
   "cell_type": "markdown",
   "id": "sensitive-fraction",
   "metadata": {
    "slideshow": {
     "slide_type": "slide"
    }
   },
   "source": [
    "# First week\n",
    "Methods and group discussion\n",
    "\n",
    "| Day     |           |\n",
    "|---------|------------------|\n",
    "| July 26 | Introduction     |\n",
    "| July 27 | ML/AI            |\n",
    "| July 28 | Network science  |\n",
    "| July 29 | Deep learning    |\n",
    "| July 30 | Causal inference |"
   ]
  },
  {
   "cell_type": "markdown",
   "id": "c90bc122",
   "metadata": {
    "pycharm": {
     "name": "#%% md\n"
    },
    "slideshow": {
     "slide_type": "slide"
    }
   },
   "source": [
    "# Second week\n",
    "\n",
    "Conference and discussion with mentors\n",
    "\n",
    "| Day      |           |\n",
    "|----------|------------------|\n",
    "| August 2 | James Evans, Dashun Wang, Ying Ding     |\n",
    "| August 3 | Jevin West, Monya Baker, Luis Amaral            |\n",
    "| August 4 | Cassidy Sugimoto, Vincent Lariviere, Beth Patin  |\n",
    "| August 5 | Stasa Milojevic, Bruce Weinberg, Jian Qin    |\n",
    "| August 6 | Project presentations |\n"
   ]
  },
  {
   "cell_type": "markdown",
   "id": "0200993d",
   "metadata": {
    "slideshow": {
     "slide_type": "slide"
    }
   },
   "source": [
    "# First week\n",
    "\n",
    "| Activity               | PT                   | ET                  | CET                 | China               | India                |\n",
    "|------------------------|----------------------|---------------------|---------------------|---------------------|----------------------|\n",
    "| Intro presentation     | 06:00 AM - 07:00 AM  | 09:00 AM - 10:00 AM | 03:00 PM - 04:00 PM | 09:00 PM - 10:00 PM | 06:30 PM - 07:30 PM  |\n",
    "| Lectures               | 07:00 AM - 10:00 AM  | 10:00 AM - 01:00 PM | 04:00 PM - 07:00 PM | 10:00 PM - 01:00 AM | 07:30 PM - 10:30 PM  |\n",
    "| Long break             | 10:00 AM - 11:00 AM  | 01:00 PM - 02:00 PM | 07:00 PM - 08:00 PM | 01:00 AM - 02:00 AM | 10:30 PM - 11:30 PM  |\n",
    "| Group activity (TZ 1)  | 11:00 AM - 12:45 PM  | 02:00 PM - 03:45 PM | 08:00 PM - 09:45 PM | 02:00 AM - 03:45 AM | 11:30 PM - 01:15 AM  |\n",
    "| Outro (TZ 1)           | 12:45 PM - 01:00 PM  | 03:45 PM - 04:00 PM | 09:45 PM - 10:00 PM | 03:45 AM - 04:00 AM | 01:15 AM - 01:30 AM  |\n",
    "| Group activity (TZ 2)* | 07:00 PM - 08:45 PM  | 10:00 PM - 11:45 PM | 04:00 AM - 05:45 AM | 10:00 AM - 11:45 AM | 07:30 AM - 09:15 AM  |\n",
    "| Outro (TZ 2)*          | 08:45 PM - 09:00 PM  | 11:45 PM - 12:00 AM | 05:45 AM - 06:00 AM | 11:45 AM - 12:00 PM | 09:15 AM - 09:30 AM  |"
   ]
  },
  {
   "cell_type": "markdown",
   "id": "e909acca",
   "metadata": {
    "slideshow": {
     "slide_type": "slide"
    }
   },
   "source": [
    "# Second week\n",
    "\n",
    "\n",
    "| Activity                           | PT                   | ET                  | CET                 | China               | India                |\n",
    "|------------------------------------|----------------------|---------------------|---------------------|---------------------|----------------------|\n",
    "| Presentations                      | 06:00 AM - 08:35 AM  | 09:00 AM - 11:35 AM | 03:00 PM - 05:35 PM | 09:00 PM - 11:35 PM | 06:30 PM - 09:05 PM  |\n",
    "| Panel discussion                   | 08:35 AM - 09:35 AM  | 11:35 AM - 12:35 PM | 05:35 PM - 06:35 PM | 11:35 PM - 12:35 AM | 09:05 PM - 10:05 PM  |\n",
    "| Long break                         | 09:35 AM - 10:15 AM  | 12:35 PM - 01:15 PM | 06:35 PM - 07:15 PM | 12:35 AM - 01:15 AM | 10:05 PM - 10:45 PM  |\n",
    "| Mentoring sessions                 | 10:15 AM - 12:30 PM  | 01:15 PM - 03:30 PM | 07:15 PM - 09:30 PM | 01:15 AM - 03:30 AM | 10:45 PM - 01:00 AM  |\n",
    "| Social event/group activity (TZ 1) | 12:30 PM - 01:30 PM  | 03:30 PM - 04:30 PM | 09:30 PM - 10:30 PM | 03:30 AM - 04:30 AM | 01:00 AM - 02:00 AM  |\n",
    "| Social event/group activity (TZ 2) | 07:00 PM - 08:00 PM  | 10:00 PM - 11:00 PM | 04:00 AM - 05:00 AM | 10:00 AM - 11:00 AM | 7:30 AM - 08:30 AM   |"
   ]
  },
  {
   "cell_type": "markdown",
   "id": "a645fd0b",
   "metadata": {
    "slideshow": {
     "slide_type": "slide"
    }
   },
   "source": [
    "# Questions?\n"
   ]
  },
  {
   "cell_type": "markdown",
   "id": "711541bb",
   "metadata": {
    "slideshow": {
     "slide_type": "slide"
    }
   },
   "source": [
    "# Introduction to Science of Science\n",
    "\n",
    "- Science of science is a relatively new subfield of Computational Social Science\n",
    "- Its roots can be traced back to Philosophy of Science"
   ]
  }
 ],
 "metadata": {
  "celltoolbar": "Slideshow",
  "kernelspec": {
   "display_name": "Python 3",
   "language": "python",
   "name": "python3"
  },
  "language_info": {
   "codemirror_mode": {
    "name": "ipython",
    "version": 3
   },
   "file_extension": ".py",
   "mimetype": "text/x-python",
   "name": "python",
   "nbconvert_exporter": "python",
   "pygments_lexer": "ipython3",
   "version": "3.8.8"
  },
  "latex_envs": {
   "LaTeX_envs_menu_present": true,
   "autoclose": false,
   "autocomplete": true,
   "bibliofile": "biblio.bib",
   "cite_by": "apalike",
   "current_citInitial": 1,
   "eqLabelWithNumbers": true,
   "eqNumInitial": 1,
   "hotkeys": {
    "equation": "Ctrl-E",
    "itemize": "Ctrl-I"
   },
   "labels_anchors": false,
   "latex_user_defs": false,
   "report_style_numbering": false,
   "user_envs_cfg": false
  },
  "rise": {
   "chalkboard": {
    "color": [
     "rgb(250, 250, 250)",
     "rgb(250, 250, 250)"
    ]
   },
   "enable_chalkboard": true,
   "footer": "<h3><span style='color: orange'>Science of Science Summer School 2021</span> &#x2014; https://s4.scienceofscience.org &#x2014; (Virtually) hosted by School of Information Studies, Syracuse University: &#x2014; 07/26 - 08/6 <br>Vector art from <a href='https://www.freepik.com/'>https://www.freepik.com/</a></h3>",
   "header": "<h3>Day 1 - Introduction</h3>",
   "show_buttons_on_startup": false,
   "slideNumber": true,
   "theme": "white"
  },
  "toc": {
   "base_numbering": 1,
   "nav_menu": {
    "height": "122.986px",
    "width": "160px"
   },
   "number_sections": false,
   "sideBar": true,
   "skip_h1_title": false,
   "title_cell": "Table of Contents",
   "title_sidebar": "Contents",
   "toc_cell": false,
   "toc_position": {},
   "toc_section_display": true,
   "toc_window_display": false
  },
  "widgets": {
   "application/vnd.jupyter.widget-state+json": {
    "state": {},
    "version_major": 2,
    "version_minor": 0
   }
  }
 },
 "nbformat": 4,
 "nbformat_minor": 5
}