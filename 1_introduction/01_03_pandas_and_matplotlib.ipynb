{
 "cells": [
  {
   "cell_type": "markdown",
   "id": "91bca6fb",
   "metadata": {},
   "source": [
    "# Data Transformation with Pandas"
   ]
  },
  {
   "cell_type": "markdown",
   "id": "66b412c3",
   "metadata": {},
   "source": [
    "Pandas is a popular Python package for data transformation. It is open source (BSD-licensed). It provides efficient, easy-to-use data transformation and analusis tools. In the following section, we will show you how to use Pandas to transform and analyze tabular data.  "
   ]
  },
  {
   "cell_type": "markdown",
   "id": "01b1715a",
   "metadata": {},
   "source": [
    "------------------------------------------------------------------------------  "
   ]
  },
  {
   "cell_type": "markdown",
   "id": "5ca219c5",
   "metadata": {},
   "source": [
    "We import numpy and pandas as follows, we assign alias of packages after the term \"as\" so we don't need to type in the full name of the package every time we use it  "
   ]
  },
  {
   "cell_type": "code",
   "execution_count": null,
   "id": "11c52025",
   "metadata": {},
   "outputs": [],
   "source": [
    "import numpy as np\n",
    "import pandas as pd"
   ]
  },
  {
   "cell_type": "markdown",
   "id": "313330ff",
   "metadata": {},
   "source": [
    "## Loading Datasets with Pandas"
   ]
  },
  {
   "cell_type": "markdown",
   "id": "836c0fc5",
   "metadata": {},
   "source": [
    "With Pandas, we can read tables of different format (csv. json, parquet, ...)  \n",
    "  \n",
    "In our case, we are reading a table in csv. The table \"Papers\" is a part of the Microsoft Academic Graph. The table includes publication information, such as title, publish year, publisher, ...  "
   ]
  },
  {
   "cell_type": "code",
   "execution_count": null,
   "id": "b38aa5f7",
   "metadata": {},
   "outputs": [],
   "source": [
    "Papers = pd.read_csv('~/datasets/s4/MAG/Papers.csv')"
   ]
  },
  {
   "cell_type": "markdown",
   "id": "55ba3f02",
   "metadata": {},
   "source": [
    "By calling:   \n",
    "```python\n",
    "Papers.head()\n",
    "```\n",
    "we can view the first five lines of the datast"
   ]
  },
  {
   "cell_type": "markdown",
   "id": "d21ea9d2",
   "metadata": {},
   "source": [
    "## Brief Overview of the Data"
   ]
  },
  {
   "cell_type": "code",
   "execution_count": null,
   "id": "7d099471",
   "metadata": {},
   "outputs": [],
   "source": [
    "Papers.head()"
   ]
  },
  {
   "cell_type": "markdown",
   "id": "592a04b8",
   "metadata": {},
   "source": [
    "By calling:   \n",
    "```python\n",
    "Papers.tail()\n",
    "```\n",
    "we can view the last five lines of the datast"
   ]
  },
  {
   "cell_type": "code",
   "execution_count": null,
   "id": "041647e3",
   "metadata": {},
   "outputs": [],
   "source": [
    "Papers.tail()"
   ]
  },
  {
   "cell_type": "markdown",
   "id": "43fcd412",
   "metadata": {},
   "source": [
    "We can also assign the number of lines we want to view:"
   ]
  },
  {
   "cell_type": "code",
   "execution_count": null,
   "id": "4783a02a",
   "metadata": {
    "scrolled": true
   },
   "outputs": [],
   "source": [
    "Papers.head(10)"
   ]
  },
  {
   "cell_type": "markdown",
   "id": "44b86110",
   "metadata": {},
   "source": [
    "we can check all the column names"
   ]
  },
  {
   "cell_type": "code",
   "execution_count": null,
   "id": "b2c7150c",
   "metadata": {},
   "outputs": [],
   "source": [
    "Papers.columns"
   ]
  },
  {
   "cell_type": "markdown",
   "id": "144890f9",
   "metadata": {},
   "source": [
    "We cam also check the datatype of different columns in the dataframe"
   ]
  },
  {
   "cell_type": "code",
   "execution_count": null,
   "id": "9747c12c",
   "metadata": {},
   "outputs": [],
   "source": [
    "Papers.dtypes"
   ]
  },
  {
   "cell_type": "markdown",
   "id": "cf087a4b",
   "metadata": {},
   "source": [
    "We can get basic statistic summary"
   ]
  },
  {
   "cell_type": "code",
   "execution_count": null,
   "id": "d9e7b2ec",
   "metadata": {},
   "outputs": [],
   "source": [
    "Papers.describe()"
   ]
  },
  {
   "cell_type": "markdown",
   "id": "110b14c8",
   "metadata": {},
   "source": [
    "To select a part of the dataframe, for example, a column in a dataframe, we can either use a square bracket or a dot: "
   ]
  },
  {
   "cell_type": "code",
   "execution_count": null,
   "id": "e0894b45",
   "metadata": {},
   "outputs": [],
   "source": [
    "Papers['PaperTitle']"
   ]
  },
  {
   "cell_type": "code",
   "execution_count": null,
   "id": "fedb4eed",
   "metadata": {},
   "outputs": [],
   "source": [
    "Papers.PaperTitle"
   ]
  },
  {
   "cell_type": "code",
   "execution_count": null,
   "id": "a8e32929",
   "metadata": {},
   "outputs": [],
   "source": [
    "Papers[['PaperTitle', 'Year']]"
   ]
  },
  {
   "cell_type": "markdown",
   "id": "be23f962",
   "metadata": {},
   "source": [
    "With square bracket, we can slices the rows"
   ]
  },
  {
   "cell_type": "markdown",
   "id": "f0e7cbc1",
   "metadata": {},
   "source": [
    "## Indexing and Selecting Data"
   ]
  },
  {
   "cell_type": "code",
   "execution_count": null,
   "id": "6f301a61",
   "metadata": {},
   "outputs": [],
   "source": [
    "Papers[0:3]"
   ]
  },
  {
   "cell_type": "markdown",
   "id": "f05fa555",
   "metadata": {},
   "source": [
    "By Calling\n",
    "```python\n",
    ".sort_values()\n",
    "```\n",
    "We can sort a dataframe by the value of a column"
   ]
  },
  {
   "cell_type": "code",
   "execution_count": null,
   "id": "909a9184",
   "metadata": {},
   "outputs": [],
   "source": [
    "Papers.\\\n",
    "    sort_values(by = 'CitationCount', \n",
    "                ascending = False)[['PaperTitle', 'CitationCount']][0:20]"
   ]
  },
  {
   "cell_type": "markdown",
   "id": "16c8b3af",
   "metadata": {},
   "source": [
    "We can also use\n",
    "```python\n",
    ".loc[]\n",
    "```\n",
    "to make selection by label. \n",
    "We may do that using this format:\n",
    "```python\n",
    "df.loc[indics, column names]\n",
    "```"
   ]
  },
  {
   "cell_type": "code",
   "execution_count": null,
   "id": "a49cbf40",
   "metadata": {
    "scrolled": true
   },
   "outputs": [],
   "source": [
    "Papers.loc[1:4, 'PaperTitle']"
   ]
  },
  {
   "cell_type": "markdown",
   "id": "36f509b2",
   "metadata": {},
   "source": [
    "Select multiple columns"
   ]
  },
  {
   "cell_type": "code",
   "execution_count": null,
   "id": "47b61da7",
   "metadata": {
    "scrolled": true
   },
   "outputs": [],
   "source": [
    "Papers.loc[1:4, ['PaperTitle', 'CitationCount']]"
   ]
  },
  {
   "cell_type": "markdown",
   "id": "d5fe8215",
   "metadata": {},
   "source": [
    "Using\n",
    "```python\n",
    ".iloc[]\n",
    "```\n",
    "we can make selection by position(index). \n",
    "We may do that using this format:\n",
    "```python\n",
    "df.iloc[row position, column position]\n",
    "```"
   ]
  },
  {
   "cell_type": "code",
   "execution_count": null,
   "id": "791f9778",
   "metadata": {},
   "outputs": [],
   "source": [
    "Papers.iloc[[1, 3, 5], [2, 4, 6]]"
   ]
  },
  {
   "cell_type": "code",
   "execution_count": null,
   "id": "b4b40f01",
   "metadata": {},
   "outputs": [],
   "source": [
    "Papers.iloc[1:5, 2:4]"
   ]
  },
  {
   "cell_type": "markdown",
   "id": "6ad605c9",
   "metadata": {},
   "source": [
    "We can also select rows by condition"
   ]
  },
  {
   "cell_type": "code",
   "execution_count": null,
   "id": "0558112c",
   "metadata": {
    "scrolled": true
   },
   "outputs": [],
   "source": [
    "Papers[Papers['CitationCount'] >= 100]"
   ]
  },
  {
   "cell_type": "markdown",
   "id": "18e55a4f",
   "metadata": {},
   "source": [
    "Most of the data we use might be dirty, in a sense that it includes a lot of NaN values. With Pandas we can either remove rows with NaNs or fill NaN with another value"
   ]
  },
  {
   "cell_type": "markdown",
   "id": "f57d1885",
   "metadata": {},
   "source": [
    "## Removing NaN"
   ]
  },
  {
   "cell_type": "code",
   "execution_count": null,
   "id": "11d744e0",
   "metadata": {
    "scrolled": true
   },
   "outputs": [],
   "source": [
    "Papers[['DocType', 'PaperTitle', 'CitationCount']].dropna()"
   ]
  },
  {
   "cell_type": "markdown",
   "id": "c258946a",
   "metadata": {},
   "source": [
    "Some time by removing rows with NaN, we might loss a lot of information. In the following example, we lost data because a lot of publication in the dataset is missing document type. Removing all the rows with NaN might bring undesired results. "
   ]
  },
  {
   "cell_type": "code",
   "execution_count": null,
   "id": "a99ba28f",
   "metadata": {},
   "outputs": [],
   "source": [
    "len(Papers[['DocType', 'PaperTitle', 'CitationCount']]), len(Papers[['DocType', 'PaperTitle', 'CitationCount']].dropna())"
   ]
  },
  {
   "cell_type": "markdown",
   "id": "668474ca",
   "metadata": {},
   "source": [
    "Instead of removing NaN, we can also fill those fields with other values:"
   ]
  },
  {
   "cell_type": "code",
   "execution_count": null,
   "id": "9b31a9b5",
   "metadata": {},
   "outputs": [],
   "source": [
    "Papers['DocType'].fillna('unknown')"
   ]
  },
  {
   "cell_type": "markdown",
   "id": "b86d334b",
   "metadata": {},
   "source": [
    "With Pandas, we can perform simple descriptive statistic:"
   ]
  },
  {
   "cell_type": "code",
   "execution_count": null,
   "id": "9b1159b9",
   "metadata": {},
   "outputs": [],
   "source": [
    "Papers.CitationCount.mean(), Papers.CitationCount.std()"
   ]
  },
  {
   "cell_type": "markdown",
   "id": "4c26a431",
   "metadata": {},
   "source": [
    "Counting the frequency of different categories in a dataframe:"
   ]
  },
  {
   "cell_type": "code",
   "execution_count": null,
   "id": "998c846c",
   "metadata": {},
   "outputs": [],
   "source": [
    "Papers.DocType.fillna('unknown').value_counts()"
   ]
  },
  {
   "cell_type": "markdown",
   "id": "7d3b620a",
   "metadata": {},
   "source": [
    "## Data Preprocessing"
   ]
  },
  {
   "cell_type": "markdown",
   "id": "a301ac99",
   "metadata": {},
   "source": [
    "Sometimes we want to apply an operation on a column, we can simply call\n",
    "```python\n",
    ".apply(func)\n",
    "```\n",
    "with ```func``` being the operation in the form of Python function"
   ]
  },
  {
   "cell_type": "code",
   "execution_count": null,
   "id": "fe4dee9e",
   "metadata": {},
   "outputs": [],
   "source": [
    "def published_recently(s):\n",
    "    if (2021 - s) <= 10:\n",
    "        return(True)\n",
    "    else:\n",
    "        return(False)\n",
    "\n",
    "Papers.Year.apply(published_recently)"
   ]
  },
  {
   "cell_type": "markdown",
   "id": "9031f249",
   "metadata": {},
   "source": [
    "There are many ways we can link two different dataframe. One way is to use ```pd.concat([])```"
   ]
  },
  {
   "cell_type": "code",
   "execution_count": null,
   "id": "d1894832",
   "metadata": {},
   "outputs": [],
   "source": [
    "pd.concat([Papers.Year, Papers.Year.apply(published_recently)], axis = 1)"
   ]
  },
  {
   "cell_type": "markdown",
   "id": "a5b6d03c",
   "metadata": {},
   "source": [
    "If we want to combine two dataframe with matching column values, we can use ```merge()```"
   ]
  },
  {
   "cell_type": "markdown",
   "id": "cac3cf46",
   "metadata": {},
   "source": [
    "Let's import another table:"
   ]
  },
  {
   "cell_type": "code",
   "execution_count": null,
   "id": "546d60a3",
   "metadata": {},
   "outputs": [],
   "source": [
    "PaperCitationContext = pd.read_csv('~/datasets/s4/MAG/PaperCitationContexts.csv')"
   ]
  },
  {
   "cell_type": "markdown",
   "id": "1b4f9425",
   "metadata": {},
   "source": [
    "Merge two dataframe matching PaperId to see what each paper is citing and the citaiton context"
   ]
  },
  {
   "cell_type": "code",
   "execution_count": null,
   "id": "92f035b4",
   "metadata": {},
   "outputs": [],
   "source": [
    "Papers.\\\n",
    "    merge(PaperCitationContext, how = 'inner', on = 'PaperId')[['PaperTitle', 'CitationContext']]"
   ]
  },
  {
   "cell_type": "markdown",
   "id": "bf41901d",
   "metadata": {},
   "source": [
    "We might want to look at simple descriptive statistic or apply complicated operation on data broken into different groups, we can use\n",
    "```python\n",
    ".groupby()\n",
    "```\n",
    "to do that. In the following case, we will calculate the average citation count for different document type:"
   ]
  },
  {
   "cell_type": "code",
   "execution_count": null,
   "id": "5aafb8fb",
   "metadata": {},
   "outputs": [],
   "source": [
    "Papers.groupby('DocType')['CitationCount'].mean()"
   ]
  },
  {
   "cell_type": "markdown",
   "id": "b192f6f3",
   "metadata": {},
   "source": [
    "In the following case, we are counting the number of documents of different document types"
   ]
  },
  {
   "cell_type": "code",
   "execution_count": null,
   "id": "79743b04",
   "metadata": {},
   "outputs": [],
   "source": [
    "Papers.groupby('DocType')['PaperId'].count()"
   ]
  },
  {
   "cell_type": "markdown",
   "id": "8ccc19d3",
   "metadata": {},
   "source": [
    "# Visualization with Matplotlib\n",
    "\n",
    "(code example from jakevdp/PythonDataScienceHandbook)"
   ]
  },
  {
   "cell_type": "markdown",
   "id": "73b519d6",
   "metadata": {},
   "source": []
  },
  {
   "cell_type": "markdown",
   "id": "0d5e2c08",
   "metadata": {},
   "source": [
    "### Importing Matplotlib\n",
    "\n",
    "Like the package NumPy and Pandas, we will also use `as` to shorten the package name for `Matplotlib`:"
   ]
  },
  {
   "cell_type": "code",
   "execution_count": null,
   "id": "9bcd7d7d",
   "metadata": {},
   "outputs": [],
   "source": [
    "import matplotlib.pyplot as plt"
   ]
  },
  {
   "cell_type": "markdown",
   "id": "d3a40267",
   "metadata": {},
   "source": [
    "### Setting Styles\n",
    "\n",
    "There are many [plot styles](https://matplotlib.org/stable/gallery/style_sheets/style_sheets_reference.html) matplotlib provides. In this notebook we will be using the `classic` style."
   ]
  },
  {
   "cell_type": "code",
   "execution_count": null,
   "id": "e3bbc762",
   "metadata": {},
   "outputs": [],
   "source": [
    "plt.style.use('classic')"
   ]
  },
  {
   "cell_type": "markdown",
   "id": "4eca5b80",
   "metadata": {},
   "source": [
    "#### Plotting from an IPython notebook\n",
    "\n",
    "- ``%matplotlib notebook``  *interactive* plots embedded within the notebook\n",
    "- ``%matplotlib inline``  *static* images of your plot embedded in the notebook\n",
    "\n",
    "\n"
   ]
  },
  {
   "cell_type": "code",
   "execution_count": null,
   "id": "ad2e0d78",
   "metadata": {},
   "outputs": [],
   "source": [
    "%matplotlib inline"
   ]
  },
  {
   "cell_type": "markdown",
   "id": "d8498c3a",
   "metadata": {},
   "source": [
    "Lets plot cosine and sine"
   ]
  },
  {
   "cell_type": "code",
   "execution_count": null,
   "id": "a63dd20c",
   "metadata": {},
   "outputs": [],
   "source": [
    "import numpy as np\n",
    "x = np.linspace(0, 10, 100)\n",
    "\n",
    "fig = plt.figure()\n",
    "plt.plot(x, np.sin(x), '-')\n",
    "plt.plot(x, np.cos(x), '--');"
   ]
  },
  {
   "cell_type": "markdown",
   "id": "7717a444",
   "metadata": {},
   "source": [
    "We used [`np.linespace`](https://numpy.org/doc/stable/reference/generated/numpy.linspace.html), to create our data `x`. In short \n",
    "> np.linespace(starting number, end number, number of data points)"
   ]
  },
  {
   "cell_type": "markdown",
   "id": "4671cec4",
   "metadata": {},
   "source": [
    "## Two Plots in One Image"
   ]
  },
  {
   "cell_type": "markdown",
   "id": "aa8531db",
   "metadata": {},
   "source": [
    "Brief idea of subplot"
   ]
  },
  {
   "cell_type": "code",
   "execution_count": null,
   "id": "c1b1b916",
   "metadata": {},
   "outputs": [],
   "source": [
    "plt.figure()  # create a plot figure\n",
    "\n",
    "# create the first of two panels and set current axis\n",
    "plt.subplot(2, 1, 1) # (rows, columns, panel number)\n",
    "plt.plot(x, np.sin(x))\n",
    "\n",
    "# create the second panel and set current axis\n",
    "plt.subplot(2, 1, 2)\n",
    "plt.plot(x, np.cos(x));"
   ]
  },
  {
   "cell_type": "markdown",
   "id": "e2788c38",
   "metadata": {},
   "source": [
    "#### Object-oriented interface\n",
    "\n",
    "in the object-oriented interface the plotting functions are *methods* of explicit ``Figure`` and ``Axes`` objects"
   ]
  },
  {
   "cell_type": "code",
   "execution_count": null,
   "id": "256434c7",
   "metadata": {},
   "outputs": [],
   "source": [
    "# First create a grid of plots\n",
    "# ax will be an array of two Axes objects\n",
    "fig, ax = plt.subplots(2)\n",
    "\n",
    "# Call plot() method on the appropriate object\n",
    "ax[0].plot(x, np.sin(x))\n",
    "ax[1].plot(x, np.cos(x));"
   ]
  },
  {
   "cell_type": "markdown",
   "id": "9c61856f",
   "metadata": {},
   "source": [
    "## Simple Line Plots"
   ]
  },
  {
   "cell_type": "markdown",
   "id": "30f91397",
   "metadata": {},
   "source": [
    "line plot of a single function $y = f(x)$."
   ]
  },
  {
   "cell_type": "code",
   "execution_count": null,
   "id": "69e6f5a9",
   "metadata": {},
   "outputs": [],
   "source": [
    "%matplotlib inline\n",
    "import matplotlib.pyplot as plt\n",
    "plt.style.use('seaborn-whitegrid')\n",
    "import numpy as np\n",
    "fig = plt.figure()\n",
    "ax = plt.axes()\n",
    "\n",
    "x = np.linspace(0, 10, 1000)\n",
    "ax.plot(x, np.sin(x));"
   ]
  },
  {
   "cell_type": "markdown",
   "id": "d8bc8b42",
   "metadata": {},
   "source": [
    "create a single figure with multiple lines, we can call the ``plot`` function multiple times:"
   ]
  },
  {
   "cell_type": "code",
   "execution_count": null,
   "id": "ef399fc1",
   "metadata": {},
   "outputs": [],
   "source": [
    "plt.plot(x, np.sin(x))\n",
    "plt.plot(x, np.cos(x));"
   ]
  },
  {
   "cell_type": "markdown",
   "id": "1472f296",
   "metadata": {},
   "source": [
    "## Adjusting the Plot: Line Colors and Styles"
   ]
  },
  {
   "cell_type": "code",
   "execution_count": null,
   "id": "4118a4e7",
   "metadata": {},
   "outputs": [],
   "source": [
    "plt.plot(x, np.sin(x - 0), color='blue')        # specify color by name\n",
    "plt.plot(x, np.sin(x - 1), color='g')           # short color code (rgbcmyk)\n",
    "plt.plot(x, np.sin(x - 2), color='0.75')        # Grayscale between 0 and 1\n",
    "plt.plot(x, np.sin(x - 3), color='#FFDD44')     # Hex code (RRGGBB from 00 to FF)\n",
    "plt.plot(x, np.sin(x - 4), color=(1.0,0.2,0.3)) # RGB tuple, values 0 to 1\n",
    "plt.plot(x, np.sin(x - 5), color='chartreuse'); # all HTML color names supported"
   ]
  },
  {
   "cell_type": "code",
   "execution_count": null,
   "id": "690b7f2a",
   "metadata": {},
   "outputs": [],
   "source": [
    "plt.plot(x, x + 0, linestyle='solid')\n",
    "plt.plot(x, x + 1, linestyle='dashed')\n",
    "plt.plot(x, x + 2, linestyle='dashdot')\n",
    "plt.plot(x, x + 3, linestyle='dotted');\n",
    "\n",
    "# For short, you can use the following codes:\n",
    "plt.plot(x, x + 4, linestyle='-')  # solid\n",
    "plt.plot(x, x + 5, linestyle='--') # dashed\n",
    "plt.plot(x, x + 6, linestyle='-.') # dashdot\n",
    "plt.plot(x, x + 7, linestyle=':');  # dotted"
   ]
  },
  {
   "cell_type": "code",
   "execution_count": null,
   "id": "d5d2b657",
   "metadata": {},
   "outputs": [],
   "source": [
    "plt.plot(x, x + 0, '-g')  # solid green\n",
    "plt.plot(x, x + 1, '--c') # dashed cyan\n",
    "plt.plot(x, x + 2, '-.k') # dashdot black\n",
    "plt.plot(x, x + 3, ':r');  # dotted red"
   ]
  },
  {
   "cell_type": "markdown",
   "id": "e1a99be4",
   "metadata": {},
   "source": [
    "## Labeling Plots"
   ]
  },
  {
   "cell_type": "code",
   "execution_count": null,
   "id": "51cb8840",
   "metadata": {},
   "outputs": [],
   "source": [
    "plt.plot(x, np.sin(x))\n",
    "plt.title(\"A Sine Curve\")\n",
    "plt.xlabel(\"x\")\n",
    "plt.ylabel(\"sin(x)\");"
   ]
  },
  {
   "cell_type": "code",
   "execution_count": null,
   "id": "ad5766df",
   "metadata": {},
   "outputs": [],
   "source": [
    "plt.plot(x, np.sin(x), '-g', label='sin(x)')\n",
    "plt.plot(x, np.cos(x), ':b', label='cos(x)')\n",
    "plt.axis('equal')\n",
    "\n",
    "plt.legend();"
   ]
  },
  {
   "cell_type": "markdown",
   "id": "cde4c4d6",
   "metadata": {},
   "source": [
    "## Visualization with Seaborn"
   ]
  },
  {
   "cell_type": "markdown",
   "id": "4ca68006",
   "metadata": {},
   "source": [
    "#### Multi Line Plot with Legend"
   ]
  },
  {
   "cell_type": "code",
   "execution_count": null,
   "id": "5c6b4f51",
   "metadata": {},
   "outputs": [],
   "source": [
    "import matplotlib.pyplot as plt\n",
    "plt.style.use('classic')\n",
    "%matplotlib inline\n",
    "import numpy as np\n",
    "import pandas as pd"
   ]
  },
  {
   "cell_type": "code",
   "execution_count": null,
   "id": "a76ed9aa",
   "metadata": {},
   "outputs": [],
   "source": [
    "# Create some data\n",
    "rng = np.random.RandomState(0)\n",
    "x = np.linspace(0, 10, 500)\n",
    "y = np.cumsum(rng.randn(500, 6), 0) # create 6 array of number that adds up to 0"
   ]
  },
  {
   "cell_type": "code",
   "execution_count": null,
   "id": "512bfdcd",
   "metadata": {
    "scrolled": true
   },
   "outputs": [],
   "source": [
    "# Plot the data with Matplotlib defaults\n",
    "plt.plot(x, y)\n",
    "plt.legend('ABCDEF', ncol=2, loc='upper left');"
   ]
  },
  {
   "cell_type": "code",
   "execution_count": null,
   "id": "cc53f1b4",
   "metadata": {},
   "outputs": [],
   "source": [
    "import seaborn as sns\n",
    "sns.set() # using sns theme\n",
    "# same plotting code as above!\n",
    "plt.plot(x, y)\n",
    "plt.legend('ABCDEF', ncol=2, loc='upper left');"
   ]
  },
  {
   "cell_type": "markdown",
   "id": "cfac25dc",
   "metadata": {},
   "source": []
  },
  {
   "cell_type": "markdown",
   "id": "7f8996aa",
   "metadata": {},
   "source": [
    "### Pair plots\n",
    " *pair plots*. A quick visulization on the relationship between each columns in iris datas."
   ]
  },
  {
   "cell_type": "code",
   "execution_count": null,
   "id": "bdeb92ed",
   "metadata": {},
   "outputs": [],
   "source": [
    "iris = sns.load_dataset(\"iris\")\n",
    "iris.head()"
   ]
  },
  {
   "cell_type": "code",
   "execution_count": null,
   "id": "e9b4445f",
   "metadata": {},
   "outputs": [],
   "source": [
    "sns.pairplot(iris, hue='species', height=2.5);"
   ]
  },
  {
   "cell_type": "markdown",
   "id": "29c638b8",
   "metadata": {},
   "source": [
    "### Faceted histograms"
   ]
  },
  {
   "cell_type": "markdown",
   "id": "b89376c6",
   "metadata": {},
   "source": [
    "Create multiple plots with Facet. Below is a datasets of tips, we will analysis the percentage of tips custom give base on *sex* and *time*"
   ]
  },
  {
   "cell_type": "code",
   "execution_count": null,
   "id": "1308da4b",
   "metadata": {
    "scrolled": true
   },
   "outputs": [],
   "source": [
    "tips = sns.load_dataset('tips')\n",
    "tips.head()"
   ]
  },
  {
   "cell_type": "code",
   "execution_count": null,
   "id": "2feec1e7",
   "metadata": {},
   "outputs": [],
   "source": [
    "tips['tip_pct'] = 100 * tips['tip'] / tips['total_bill']\n",
    "\n",
    "grid = sns.FacetGrid(tips, row=\"sex\", col=\"time\", margin_titles=True)\n",
    "grid.map(plt.hist, \"tip_pct\", bins=np.linspace(0, 40, 15));"
   ]
  },
  {
   "cell_type": "markdown",
   "id": "47214086",
   "metadata": {},
   "source": [
    "### Factor plots"
   ]
  },
  {
   "cell_type": "markdown",
   "id": "f5ae6d8e",
   "metadata": {},
   "source": [
    "Some quick boxplots"
   ]
  },
  {
   "cell_type": "code",
   "execution_count": null,
   "id": "1ad57f7e",
   "metadata": {
    "scrolled": false
   },
   "outputs": [],
   "source": [
    "with sns.axes_style(style='ticks'):\n",
    "    g = sns.catplot(x=\"day\", y=\"total_bill\", hue=\"sex\", data=tips, kind=\"box\")\n",
    "    g.set_axis_labels(\"Day\", \"Total Bill\");"
   ]
  },
  {
   "cell_type": "markdown",
   "id": "aacb0e2d",
   "metadata": {},
   "source": [
    "# Activity"
   ]
  },
  {
   "cell_type": "markdown",
   "id": "1baf4308",
   "metadata": {},
   "source": [
    "##### Can you create a line plot with matplotlib or seaborn showing trend of the number of papers between 2000 and 2010 in MAG papers dataset? \n",
    "![solution1](https://raw.githubusercontent.com/SciSciSummerSchool/s4_lectures/master/1_introduction/images/01_03_activity1.png)"
   ]
  },
  {
   "cell_type": "code",
   "execution_count": null,
   "id": "7f087e60",
   "metadata": {},
   "outputs": [],
   "source": [
    "Papers = pd.read_csv(\"~/datasets/s4/MAG/Papers.csv\")\n",
    "\n",
    "# Display without scientific notation\n",
    "ax = plt.axes()\n",
    "ax.ticklabel_format(useOffset=False)\n",
    "\n",
    "# code here\n",
    "#\n",
    "#\n",
    "# "
   ]
  },
  {
   "cell_type": "markdown",
   "id": "92c491ff",
   "metadata": {},
   "source": [
    "### Advanced (optional)"
   ]
  },
  {
   "cell_type": "markdown",
   "id": "c00095e1",
   "metadata": {},
   "source": [
    "##### Using matplotlib or seaborn, can you show the trend of citation numbers between 1950 and 2015 for different types of documents?\n",
    "![solution2](https://raw.githubusercontent.com/SciSciSummerSchool/s4_lectures/master/1_introduction/images/01_03_activity2.png)"
   ]
  },
  {
   "cell_type": "code",
   "execution_count": null,
   "id": "c820a43f",
   "metadata": {},
   "outputs": [],
   "source": [
    "Papers = pd.read_csv(\"~/datasets/s4/MAG/Papers.csv\")\n",
    "\n",
    "# Display without scientific notation\n",
    "ax = plt.axes()\n",
    "ax.ticklabel_format(useOffset=False)\n",
    "\n",
    "# code here\n",
    "#\n",
    "#\n",
    "# \n",
    "\n",
    "# Legend style\n",
    "plt.legend(loc='upper left');"
   ]
  }
 ],
 "metadata": {
  "kernelspec": {
   "display_name": "Python 3",
   "language": "python",
   "name": "python3"
  },
  "language_info": {
   "codemirror_mode": {
    "name": "ipython",
    "version": 3
   },
   "file_extension": ".py",
   "mimetype": "text/x-python",
   "name": "python",
   "nbconvert_exporter": "python",
   "pygments_lexer": "ipython3",
   "version": "3.8.8"
  },
  "latex_envs": {
   "LaTeX_envs_menu_present": true,
   "autoclose": false,
   "autocomplete": true,
   "bibliofile": "biblio.bib",
   "cite_by": "apalike",
   "current_citInitial": 1,
   "eqLabelWithNumbers": true,
   "eqNumInitial": 1,
   "hotkeys": {
    "equation": "Ctrl-E",
    "itemize": "Ctrl-I"
   },
   "labels_anchors": false,
   "latex_user_defs": false,
   "report_style_numbering": false,
   "user_envs_cfg": false
  },
  "toc": {
   "base_numbering": 1,
   "nav_menu": {},
   "number_sections": true,
   "sideBar": true,
   "skip_h1_title": false,
   "title_cell": "Table of Contents",
   "title_sidebar": "Contents",
   "toc_cell": false,
   "toc_position": {},
   "toc_section_display": true,
   "toc_window_display": false
  }
 },
 "nbformat": 4,
 "nbformat_minor": 5
}
