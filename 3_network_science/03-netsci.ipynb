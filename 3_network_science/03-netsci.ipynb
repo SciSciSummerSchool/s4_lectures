{
 "cells": [
  {
   "cell_type": "code",
   "execution_count": 1,
   "id": "a6762ad9",
   "metadata": {},
   "outputs": [],
   "source": [
    "import networkx as nx\n",
    "import pandas as pd"
   ]
  },
  {
   "cell_type": "code",
   "execution_count": 6,
   "id": "f033f863",
   "metadata": {},
   "outputs": [
    {
     "data": {
      "text/plain": [
       "'2.5'"
      ]
     },
     "execution_count": 6,
     "metadata": {},
     "output_type": "execute_result"
    }
   ],
   "source": [
    "nx.__version__"
   ]
  },
  {
   "cell_type": "markdown",
   "id": "566f8147",
   "metadata": {},
   "source": [
    "# Introduction to networks"
   ]
  },
  {
   "cell_type": "markdown",
   "id": "f6ecfbde",
   "metadata": {},
   "source": [
    "Let's construct an undirected network by hand."
   ]
  },
  {
   "cell_type": "code",
   "execution_count": 2,
   "id": "b6ae894c",
   "metadata": {},
   "outputs": [],
   "source": [
    "G = nx.Graph()"
   ]
  },
  {
   "cell_type": "markdown",
   "id": "41d53681",
   "metadata": {},
   "source": [
    "Adding nodes:"
   ]
  },
  {
   "cell_type": "code",
   "execution_count": 3,
   "id": "a5135191",
   "metadata": {},
   "outputs": [],
   "source": [
    "G.add_node(1)\n",
    "G.add_node(2)\n",
    "G.add_node(3)\n",
    "G.add_node(4)\n",
    "G.add_nodes_from([5, 6, 7, 8, 9, 10, 11])"
   ]
  },
  {
   "cell_type": "code",
   "execution_count": 9,
   "id": "099405ae",
   "metadata": {},
   "outputs": [],
   "source": [
    "G.add_edge(1, 2)\n",
    "G.add_edge(1, 3)\n",
    "G.add_edge(1, 4)\n",
    "G.add_edge(2, 3)\n",
    "G.add_edge(2, 4)\n",
    "G.add_edge(3, 4)\n",
    "\n",
    "nx.add_path(G, [4, 5, 6, 7, 8])\n",
    "\n",
    "nx.add_cycle(G, [8, 9, 10, 11])\n",
    "G.add_edges_from([(8, 10), (9, 11)])"
   ]
  },
  {
   "cell_type": "code",
   "execution_count": 20,
   "id": "27972598",
   "metadata": {},
   "outputs": [
    {
     "data": {
      "image/png": "[encoded data removed]",
      "text/plain": [
       "<Figure size 432x288 with 1 Axes>"
      ]
     },
     "metadata": {},
     "output_type": "display_data"
    }
   ],
   "source": [
    "nx.draw(G,\n",
    "        with_labels=True,\n",
    "        node_color='blue',\n",
    "        node_size=400,\n",
    "        font_color='white',\n",
    "        font_size=16,\n",
    "       )"
   ]
  },
  {
   "cell_type": "code",
   "execution_count": 21,
   "id": "2cb64ae4",
   "metadata": {},
   "outputs": [
    {
     "data": {
      "text/plain": [
       "11"
      ]
     },
     "execution_count": 21,
     "metadata": {},
     "output_type": "execute_result"
    }
   ],
   "source": [
    "G.number_of_nodes()"
   ]
  },
  {
   "cell_type": "code",
   "execution_count": 22,
   "id": "18f5fa97",
   "metadata": {},
   "outputs": [
    {
     "data": {
      "text/plain": [
       "16"
      ]
     },
     "execution_count": 22,
     "metadata": {},
     "output_type": "execute_result"
    }
   ],
   "source": [
    "G.number_of_edges()"
   ]
  },
  {
   "cell_type": "code",
   "execution_count": 23,
   "id": "e36d4ddd",
   "metadata": {},
   "outputs": [
    {
     "data": {
      "text/plain": [
       "NodeView((1, 2, 3, 4, 5, 6, 7, 8, 9, 10, 11))"
      ]
     },
     "execution_count": 23,
     "metadata": {},
     "output_type": "execute_result"
    }
   ],
   "source": [
    "G.nodes()"
   ]
  },
  {
   "cell_type": "code",
   "execution_count": 24,
   "id": "e0f44cbd",
   "metadata": {},
   "outputs": [
    {
     "data": {
      "text/plain": [
       "[1, 2, 3, 4, 5, 6, 7, 8, 9, 10, 11]"
      ]
     },
     "execution_count": 24,
     "metadata": {},
     "output_type": "execute_result"
    }
   ],
   "source": [
    "list(G.nodes())"
   ]
  },
  {
   "cell_type": "code",
   "execution_count": 25,
   "id": "4c7a437d",
   "metadata": {},
   "outputs": [
    {
     "data": {
      "text/plain": [
       "EdgeView([(1, 2), (1, 3), (1, 4), (2, 3), (2, 4), (3, 4), (4, 5), (5, 6), (6, 7), (7, 8), (8, 9), (8, 11), (8, 10), (9, 10), (9, 11), (10, 11)])"
      ]
     },
     "execution_count": 25,
     "metadata": {},
     "output_type": "execute_result"
    }
   ],
   "source": [
    "G.edges()"
   ]
  },
  {
   "cell_type": "code",
   "execution_count": 26,
   "id": "661905eb",
   "metadata": {},
   "outputs": [
    {
     "data": {
      "text/plain": [
       "[(1, 2),\n",
       " (1, 3),\n",
       " (1, 4),\n",
       " (2, 3),\n",
       " (2, 4),\n",
       " (3, 4),\n",
       " (4, 5),\n",
       " (5, 6),\n",
       " (6, 7),\n",
       " (7, 8),\n",
       " (8, 9),\n",
       " (8, 11),\n",
       " (8, 10),\n",
       " (9, 10),\n",
       " (9, 11),\n",
       " (10, 11)]"
      ]
     },
     "execution_count": 26,
     "metadata": {},
     "output_type": "execute_result"
    }
   ],
   "source": [
    "list(G.edges())"
   ]
  },
  {
   "cell_type": "markdown",
   "id": "ee5160ae",
   "metadata": {},
   "source": [
    "Get the neighbor of a node:"
   ]
  },
  {
   "cell_type": "code",
   "execution_count": 27,
   "id": "4c3a35db",
   "metadata": {},
   "outputs": [
    {
     "data": {
      "text/plain": [
       "<dict_keyiterator at 0x7fc80586f2c0>"
      ]
     },
     "execution_count": 27,
     "metadata": {},
     "output_type": "execute_result"
    }
   ],
   "source": [
    "G.neighbors(4)"
   ]
  },
  {
   "cell_type": "code",
   "execution_count": 28,
   "id": "2cc6cafb",
   "metadata": {},
   "outputs": [
    {
     "data": {
      "text/plain": [
       "[1, 2, 3, 5]"
      ]
     },
     "execution_count": 28,
     "metadata": {},
     "output_type": "execute_result"
    }
   ],
   "source": [
    "list(G.neighbors(4))"
   ]
  },
  {
   "cell_type": "markdown",
   "id": "b261e12a",
   "metadata": {},
   "source": [
    "Another way to get the neighbor:"
   ]
  },
  {
   "cell_type": "code",
   "execution_count": 29,
   "id": "569793a2",
   "metadata": {},
   "outputs": [
    {
     "data": {
      "text/plain": [
       "AtlasView({1: {}, 2: {}, 3: {}, 5: {}})"
      ]
     },
     "execution_count": 29,
     "metadata": {},
     "output_type": "execute_result"
    }
   ],
   "source": [
    "G[4]"
   ]
  },
  {
   "cell_type": "code",
   "execution_count": 30,
   "id": "7777cda7",
   "metadata": {},
   "outputs": [
    {
     "data": {
      "text/plain": [
       "[1, 2, 3, 5]"
      ]
     },
     "execution_count": 30,
     "metadata": {},
     "output_type": "execute_result"
    }
   ],
   "source": [
    "list(G[4])"
   ]
  },
  {
   "cell_type": "markdown",
   "id": "c3e21031",
   "metadata": {},
   "source": [
    "What's the degree of a node?"
   ]
  },
  {
   "cell_type": "code",
   "execution_count": 33,
   "id": "81ffa04b",
   "metadata": {},
   "outputs": [
    {
     "data": {
      "text/plain": [
       "4"
      ]
     },
     "execution_count": 33,
     "metadata": {},
     "output_type": "execute_result"
    }
   ],
   "source": [
    "len(G[4])"
   ]
  },
  {
   "cell_type": "code",
   "execution_count": 32,
   "id": "bfc46a33",
   "metadata": {},
   "outputs": [
    {
     "data": {
      "text/plain": [
       "4"
      ]
     },
     "execution_count": 32,
     "metadata": {},
     "output_type": "execute_result"
    }
   ],
   "source": [
    "G.degree(4)"
   ]
  },
  {
   "cell_type": "markdown",
   "id": "4e8b8ac4",
   "metadata": {},
   "source": [
    "Get the degrees of all nodes:"
   ]
  },
  {
   "cell_type": "code",
   "execution_count": 34,
   "id": "2931979a",
   "metadata": {},
   "outputs": [
    {
     "data": {
      "text/plain": [
       "DegreeView({1: 3, 2: 3, 3: 3, 4: 4, 5: 2, 6: 2, 7: 2, 8: 4, 9: 3, 10: 3, 11: 3})"
      ]
     },
     "execution_count": 34,
     "metadata": {},
     "output_type": "execute_result"
    }
   ],
   "source": [
    "G.degree()"
   ]
  },
  {
   "cell_type": "code",
   "execution_count": 35,
   "id": "ce444138",
   "metadata": {},
   "outputs": [
    {
     "data": {
      "text/plain": [
       "{1: 3, 2: 3, 3: 3, 4: 4, 5: 2, 6: 2, 7: 2, 8: 4, 9: 3, 10: 3, 11: 3}"
      ]
     },
     "execution_count": 35,
     "metadata": {},
     "output_type": "execute_result"
    }
   ],
   "source": [
    "dict(G.degree())"
   ]
  },
  {
   "cell_type": "code",
   "execution_count": null,
   "id": "1e5b3bf7",
   "metadata": {},
   "outputs": [],
   "source": []
  }
 ],
 "metadata": {
  "kernelspec": {
   "display_name": "Python 3",
   "language": "python",
   "name": "python3"
  },
  "language_info": {
   "codemirror_mode": {
    "name": "ipython",
    "version": 3
   },
   "file_extension": ".py",
   "mimetype": "text/x-python",
   "name": "python",
   "nbconvert_exporter": "python",
   "pygments_lexer": "ipython3",
   "version": "3.8.8"
  },
  "latex_envs": {
   "LaTeX_envs_menu_present": true,
   "autoclose": false,
   "autocomplete": true,
   "bibliofile": "biblio.bib",
   "cite_by": "apalike",
   "current_citInitial": 1,
   "eqLabelWithNumbers": true,
   "eqNumInitial": 1,
   "hotkeys": {
    "equation": "Ctrl-E",
    "itemize": "Ctrl-I"
   },
   "labels_anchors": false,
   "latex_user_defs": false,
   "report_style_numbering": false,
   "user_envs_cfg": false
  },
  "toc": {
   "base_numbering": 1,
   "nav_menu": {},
   "number_sections": true,
   "sideBar": true,
   "skip_h1_title": false,
   "title_cell": "Table of Contents",
   "title_sidebar": "Contents",
   "toc_cell": false,
   "toc_position": {},
   "toc_section_display": true,
   "toc_window_display": true
  }
 },
 "nbformat": 4,
 "nbformat_minor": 5
}
