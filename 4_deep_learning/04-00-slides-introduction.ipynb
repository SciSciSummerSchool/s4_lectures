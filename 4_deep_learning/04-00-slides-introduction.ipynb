{
 "cells": [
  {
   "cell_type": "markdown",
   "metadata": {
    "slideshow": {
     "slide_type": "slide"
    }
   },
   "source": [
    "# Science of Science Summer School (S4) 2021\n",
    "## Day 4: Deep Learning\n",
    "### Introduction\n",
    "- Daniel E. Acuna, School of Information, Syracuse University"
   ]
  },
  {
   "cell_type": "markdown",
   "metadata": {
    "slideshow": {
     "slide_type": "slide"
    }
   },
   "source": [
    "# Plan for today\n",
    "\n",
    "- Teaching from 9:45 AM - 1:00 PM ET\n",
    "- Break 1:00 PM - 2:00 PM ET\n",
    "- Group activity + Office hours 2:00 PM ET - 4:00 PM\n",
    "- We will cover:\n",
    "  - Basic artificial neural networks and learning: Multilayer perceptron\n",
    "  - Learning temporal data (RNN)\n",
    "  - Learning spatial data (CNN)\n",
    "  - Bias in AI\n",
    "- Three teaching session (30 minute lecture, 15 minute group activity)"
   ]
  },
  {
   "cell_type": "markdown",
   "metadata": {
    "slideshow": {
     "slide_type": "slide"
    }
   },
   "source": [
    "# Recommendations\n",
    "\n",
    "- Ian Goodfellow and Yoshua Bengio and Aaron Courville, \"Deep Learning\" https://www.deeplearningbook.org/\n",
    "- François Chollet, \"Deep Learning with Python\" https://www.manning.com/books/deep-learning-with-python"
   ]
  },
  {
   "cell_type": "markdown",
   "metadata": {
    "slideshow": {
     "slide_type": "slide"
    }
   },
   "source": [
    "# Groups/projects and others\n",
    "\n",
    "- Project proposal due today at midnight Eastern Time\n",
    "- Project presentation tomorrow at 11:30 AM ET\n",
    "    - 4 to 5 minutes, I'll project the project proposal and you will present. Audience will ask questions and give feedback"
   ]
  }
 ],
 "metadata": {
  "celltoolbar": "Slideshow",
  "kernelspec": {
   "display_name": "Python 3",
   "language": "python",
   "name": "python3"
  },
  "language_info": {
   "codemirror_mode": {
    "name": "ipython",
    "version": 3
   },
   "file_extension": ".py",
   "mimetype": "text/x-python",
   "name": "python",
   "nbconvert_exporter": "python",
   "pygments_lexer": "ipython3",
   "version": "3.8.8"
  },
  "latex_envs": {
   "LaTeX_envs_menu_present": true,
   "autoclose": false,
   "autocomplete": true,
   "bibliofile": "biblio.bib",
   "cite_by": "apalike",
   "current_citInitial": 1,
   "eqLabelWithNumbers": true,
   "eqNumInitial": 1,
   "hotkeys": {
    "equation": "Ctrl-E",
    "itemize": "Ctrl-I"
   },
   "labels_anchors": false,
   "latex_user_defs": false,
   "report_style_numbering": false,
   "user_envs_cfg": false
  },
  "rise": {
   "chalkboard": {
    "color": [
     "rgb(250, 250, 250)",
     "rgb(250, 250, 250)"
    ]
   },
   "enable_chalkboard": true,
   "footer": "<h3><span style='color: orange'>Science of Science Summer School 2021</span> &#x2014; https://s4.scienceofscience.org &#x2014; (Virtually) hosted by School of Information Studies, Syracuse University: &#x2014; 07/26 - 08/6 <br>Vector art from <a href='https://www.freepik.com/'>https://www.freepik.com/</a></h3>",
   "header": "<h3>Day 3 - Deep Learning</h3>",
   "show_buttons_on_startup": false,
   "slideNumber": true,
   "theme": "white"
  },
  "toc": {
   "base_numbering": 1,
   "nav_menu": {},
   "number_sections": false,
   "sideBar": true,
   "skip_h1_title": false,
   "title_cell": "Table of Contents",
   "title_sidebar": "Contents",
   "toc_cell": false,
   "toc_position": {},
   "toc_section_display": true,
   "toc_window_display": false
  }
 },
 "nbformat": 4,
 "nbformat_minor": 4
}
