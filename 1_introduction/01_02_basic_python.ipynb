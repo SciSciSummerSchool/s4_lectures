{
 "cells": [
  {
   "cell_type": "markdown",
   "id": "66805f7a",
   "metadata": {},
   "source": [
    "Python is a feature-rich language. Too complex to teach in one session!\n",
    "\n",
    "# Resources\n",
    "- If you are coming from R:  \n",
    "http://mathesaurus.sourceforge.net/matlab-python-xref.pdf\n",
    "- Python Essential Training in Lynda.com:  \n",
    "https://www.lynda.com/Python-tutorials/Python-Essential-Training/614299-2.html\n",
    "- Python for Data Science:  \n",
    "https://www.lynda.com/Python-tutorials/Python-Data-Science-Essential-Training/520233-2.html\n",
    "- Learn Python the Hard Way (book):  \n",
    "https://learnpythonthehardway.org/python3/\n",
    "- Learn Git and Github (today!):  \n",
    "https://www.lynda.com/Git-tutorials/Up-Running-Git-GitHub/409275-2.html"
   ]
  },
  {
   "cell_type": "markdown",
   "id": "2acc761c",
   "metadata": {},
   "source": [
    "# Install\n",
    "- Many \"distributions\", the most popular is probably Anaconda Python https://docs.continuum.io/anaconda/install/\n",
    "\n",
    "**Different ways to interact with Python**\n",
    "- One good editor for Python is Visual Studio Code (https://code.visualstudio.com/)\n",
    "- Also PyCharm provides an academic license (need `.edu` email): https://www.jetbrains.com/pycharm/\n",
    "- You can put your code in a file and then execute it with Python like before\n",
    "- Or you can use `ipython` in the terminal\n",
    "- Or you can use `jupyter notebook`"
   ]
  },
  {
   "cell_type": "markdown",
   "id": "8a4771e6",
   "metadata": {},
   "source": [
    "# Jupyter notebook\n",
    "\n",
    "1. Jupyter notebook architecture\n",
    "1. Cell\n",
    "1. Cell type (e.g., markdown, code)\n",
    "1. Executing code in a cell\n",
    "1. Show line number\n",
    "1. Command and edit mode\n",
    "1. Delete cell\n",
    "1. Insert cell\n",
    "1. Block comment\n",
    "1. Change notebook name\n",
    "1. Save notebook\n",
    "1. Validate tests (only visible tests)\n",
    "1. Download notebook\n",
    "1. Upload notebook"
   ]
  },
  {
   "cell_type": "markdown",
   "id": "5a6b3865",
   "metadata": {},
   "source": [
    "# Python Language Basics"
   ]
  },
  {
   "cell_type": "markdown",
   "id": "33231a25",
   "metadata": {},
   "source": [
    "## Data Types\n",
    "- Python has the expected data types like int, float, bool, str\n",
    "- Python also contains types for collections of data:\n",
    "  - tuple: immutable collection\n",
    "  - list: all-purpose container for any data types\n",
    "  - set: a container for unordered, unique values\n",
    "  - dict: for storing maps of values (key/value pairs)\n",
    "- Python is *loosely-typed*. Meaning you can change types later."
   ]
  },
  {
   "cell_type": "markdown",
   "id": "d3fc249e",
   "metadata": {},
   "source": [
    "You can check the type of a variable using `type`"
   ]
  },
  {
   "cell_type": "code",
   "execution_count": null,
   "id": "1ea32f16",
   "metadata": {},
   "outputs": [],
   "source": [
    "type(1)"
   ]
  },
  {
   "cell_type": "code",
   "execution_count": null,
   "id": "128e9fc0",
   "metadata": {},
   "outputs": [],
   "source": [
    "type(1.0)"
   ]
  },
  {
   "cell_type": "code",
   "execution_count": null,
   "id": "d823b5b5",
   "metadata": {},
   "outputs": [],
   "source": [
    "type(\"4.5\")"
   ]
  },
  {
   "cell_type": "code",
   "execution_count": null,
   "id": "d6ab2ada",
   "metadata": {},
   "outputs": [],
   "source": [
    "type(True)"
   ]
  },
  {
   "cell_type": "code",
   "execution_count": null,
   "id": "726bd0e4",
   "metadata": {},
   "outputs": [],
   "source": [
    "type([4.5])"
   ]
  },
  {
   "cell_type": "code",
   "execution_count": null,
   "id": "9a7060e8",
   "metadata": {},
   "outputs": [],
   "source": [
    "type({'x': 4.5})"
   ]
  },
  {
   "cell_type": "code",
   "execution_count": null,
   "id": "9a004c04",
   "metadata": {},
   "outputs": [],
   "source": [
    "type((1, 2, 3, 4))"
   ]
  },
  {
   "cell_type": "code",
   "execution_count": null,
   "id": "b8c95089",
   "metadata": {},
   "outputs": [],
   "source": [
    "type((4.5))"
   ]
  },
  {
   "cell_type": "code",
   "execution_count": null,
   "id": "be6de7d3",
   "metadata": {
    "scrolled": true
   },
   "outputs": [],
   "source": [
    "type((4.5, ))"
   ]
  },
  {
   "cell_type": "markdown",
   "id": "528ac3fe",
   "metadata": {},
   "source": [
    "## Lists\n",
    "- A ***list*** is a mutable collection of any data type\n",
    "- Lists are defined using square brackets\n",
    "- Python list functions:\n",
    "https://docs.python.org/3/tutorial/datastructures.html \n",
    "- List items are indexed starting at 0\n",
    "- Slice notation can be used to obtain a sub-list of values `x[2:4]` equal to a list of `X[2]` and `x[3]` \n",
    "- `split()` makes a list from a string\n",
    "- `range()` produces a sequential list of int\n",
    "```python\n",
    "adjectives = ['awesome','good','excellent','awful','terrible']\n",
    "temperatures = [87, 56, -4, 70, 92, 60, 38, 87, 64, 71]\n",
    "coordinates = [(-34, 77), (45, -82)]\n",
    "```"
   ]
  },
  {
   "cell_type": "markdown",
   "id": "9234a1e7",
   "metadata": {},
   "source": [
    "try it yourself:"
   ]
  },
  {
   "cell_type": "code",
   "execution_count": null,
   "id": "65fae40b",
   "metadata": {},
   "outputs": [],
   "source": [
    "x = [1, 2, 3]\n",
    "y = [1, \"1\", None]"
   ]
  },
  {
   "cell_type": "code",
   "execution_count": null,
   "id": "846b9172",
   "metadata": {},
   "outputs": [],
   "source": [
    "# length\n",
    "len(x)"
   ]
  },
  {
   "cell_type": "markdown",
   "id": "8f7b7b24",
   "metadata": {},
   "source": [
    "You can append to a list:"
   ]
  },
  {
   "cell_type": "code",
   "execution_count": null,
   "id": "c1a79951",
   "metadata": {},
   "outputs": [],
   "source": [
    "x.append(4)"
   ]
  },
  {
   "cell_type": "code",
   "execution_count": null,
   "id": "5dcf54de",
   "metadata": {},
   "outputs": [],
   "source": [
    "x"
   ]
  },
  {
   "cell_type": "markdown",
   "id": "f4649bfd",
   "metadata": {},
   "source": [
    "You can concatenate two lists:"
   ]
  },
  {
   "cell_type": "code",
   "execution_count": null,
   "id": "21554b1f",
   "metadata": {},
   "outputs": [],
   "source": [
    "x + y"
   ]
  },
  {
   "cell_type": "markdown",
   "id": "32b398b5",
   "metadata": {},
   "source": [
    "You can ask if an element belongs to a list"
   ]
  },
  {
   "cell_type": "code",
   "execution_count": null,
   "id": "7598dbcc",
   "metadata": {},
   "outputs": [],
   "source": [
    "2 in x"
   ]
  },
  {
   "cell_type": "code",
   "execution_count": null,
   "id": "21cfb707",
   "metadata": {},
   "outputs": [],
   "source": [
    "-1 in x"
   ]
  },
  {
   "cell_type": "markdown",
   "id": "d7b1453c",
   "metadata": {},
   "source": [
    "You can index or slice a list by using the following notation:\n",
    "\n",
    "`x[start:stop:step]`: where `start` is the initial element of the slice, `stop` is the final element (until), and `step` is how many elements will skip to move from `start` until `stop`."
   ]
  },
  {
   "cell_type": "code",
   "execution_count": null,
   "id": "00ae192a",
   "metadata": {},
   "outputs": [],
   "source": [
    "x = [1, 2, 3, 4]"
   ]
  },
  {
   "cell_type": "markdown",
   "id": "881c5407",
   "metadata": {},
   "source": [
    "Indices start from 0 and you can omit `stop` and and `step`:"
   ]
  },
  {
   "cell_type": "code",
   "execution_count": null,
   "id": "e67dba95",
   "metadata": {},
   "outputs": [],
   "source": [
    "x[0]"
   ]
  },
  {
   "cell_type": "markdown",
   "id": "dd808fa3",
   "metadata": {},
   "source": [
    "All elements are taken from `start` until `stop`, but not `stop`:"
   ]
  },
  {
   "cell_type": "code",
   "execution_count": null,
   "id": "67ad76ff",
   "metadata": {},
   "outputs": [],
   "source": [
    "x[3]"
   ]
  },
  {
   "cell_type": "code",
   "execution_count": null,
   "id": "e2d1bde8",
   "metadata": {},
   "outputs": [],
   "source": [
    "x"
   ]
  },
  {
   "cell_type": "code",
   "execution_count": null,
   "id": "0adbd0ba",
   "metadata": {},
   "outputs": [],
   "source": [
    "x[0:3]"
   ]
  },
  {
   "cell_type": "markdown",
   "id": "3ad18f0b",
   "metadata": {},
   "source": [
    "Taken one every other element:"
   ]
  },
  {
   "cell_type": "code",
   "execution_count": null,
   "id": "134be5b5",
   "metadata": {},
   "outputs": [],
   "source": [
    "x[0:3:2]"
   ]
  },
  {
   "cell_type": "markdown",
   "id": "d9196368",
   "metadata": {},
   "source": [
    "A negative index indicate indexing from the end:"
   ]
  },
  {
   "cell_type": "code",
   "execution_count": null,
   "id": "106106e8",
   "metadata": {},
   "outputs": [],
   "source": [
    "x[-1]"
   ]
  },
  {
   "cell_type": "code",
   "execution_count": null,
   "id": "142a223f",
   "metadata": {},
   "outputs": [],
   "source": [
    "x[-2]"
   ]
  },
  {
   "cell_type": "markdown",
   "id": "afe7e074",
   "metadata": {},
   "source": [
    "Lets take the last three elements:"
   ]
  },
  {
   "cell_type": "code",
   "execution_count": null,
   "id": "8f4aec39",
   "metadata": {},
   "outputs": [],
   "source": [
    "x[-3:]"
   ]
  },
  {
   "cell_type": "markdown",
   "id": "e838a01f",
   "metadata": {},
   "source": [
    "If you omit `stop`, it will assume it will assume it is until the end of the list:"
   ]
  },
  {
   "cell_type": "code",
   "execution_count": null,
   "id": "3c3b9d25",
   "metadata": {},
   "outputs": [],
   "source": [
    "x[-3::2]"
   ]
  },
  {
   "cell_type": "markdown",
   "id": "e40b0407",
   "metadata": {},
   "source": [
    "**Q.** How would you reverse a list?"
   ]
  },
  {
   "cell_type": "code",
   "execution_count": null,
   "id": "1634ee5b",
   "metadata": {},
   "outputs": [],
   "source": [
    "# code"
   ]
  },
  {
   "cell_type": "code",
   "execution_count": null,
   "id": "1c5cc23f",
   "metadata": {},
   "outputs": [],
   "source": [
    "x[::-1]"
   ]
  },
  {
   "cell_type": "markdown",
   "id": "b7c7321a",
   "metadata": {},
   "source": [
    "## Comprehensions\n",
    "- A list comprehension consists of the following parts:\n",
    "  - An Input Sequence.\n",
    "  - A Variable representing members of the input sequence.\n",
    "  - An Optional Predicate expression.\n",
    "  - An Output Expression producing elements of the output list from members of the Input Sequence that satisfy the predicate.\n",
    "\n",
    "```python\n",
    "a_list = [1, '4', 9, 'a', 0, 4]\n",
    "squared_ints = [e**2 for e in a_list if type(e) == types.IntType]\n",
    "print(squared_ints) # [1, 81, 0, 16]\n",
    "```\n",
    "<center><img src=\"~/datasets/s4/images/list_comp.png\" width=\"50%\" align=\"center\"></center>"
   ]
  },
  {
   "cell_type": "markdown",
   "id": "af2388fb",
   "metadata": {},
   "source": [
    "Try yourself:"
   ]
  },
  {
   "cell_type": "code",
   "execution_count": null,
   "id": "cb0ddf2e",
   "metadata": {},
   "outputs": [],
   "source": [
    "[i for i in range(10)]"
   ]
  },
  {
   "cell_type": "code",
   "execution_count": null,
   "id": "6b6eebcc",
   "metadata": {},
   "outputs": [],
   "source": [
    "[i**2 for i in range(10)]"
   ]
  },
  {
   "cell_type": "markdown",
   "id": "1184adee",
   "metadata": {},
   "source": [
    "We can even add some conditions"
   ]
  },
  {
   "cell_type": "code",
   "execution_count": null,
   "id": "56944f9b",
   "metadata": {},
   "outputs": [],
   "source": [
    "[i for i in range(10) if i > 5]"
   ]
  },
  {
   "cell_type": "markdown",
   "id": "a727be23",
   "metadata": {},
   "source": [
    "Multiples of 2"
   ]
  },
  {
   "cell_type": "code",
   "execution_count": null,
   "id": "f80c9223",
   "metadata": {},
   "outputs": [],
   "source": [
    "[i for i in range(10) if i % 2 == 0]"
   ]
  },
  {
   "cell_type": "markdown",
   "id": "839bf4ee",
   "metadata": {},
   "source": [
    "Powers of 2"
   ]
  },
  {
   "cell_type": "code",
   "execution_count": null,
   "id": "b2cb52cd",
   "metadata": {},
   "outputs": [],
   "source": [
    "[i**2 for i in range(10)]"
   ]
  },
  {
   "cell_type": "markdown",
   "id": "f148dcb3",
   "metadata": {},
   "source": [
    "You can nest comprehensions"
   ]
  },
  {
   "cell_type": "code",
   "execution_count": null,
   "id": "6a65e0e9",
   "metadata": {},
   "outputs": [],
   "source": [
    "[[[i, j] for i in range(5)] for j in range(5)]"
   ]
  },
  {
   "cell_type": "markdown",
   "id": "83966cbd",
   "metadata": {},
   "source": [
    "You can concatenate multiple comprehensions"
   ]
  },
  {
   "cell_type": "code",
   "execution_count": null,
   "id": "cb1fad79",
   "metadata": {},
   "outputs": [],
   "source": [
    "[[i, j] for i in range(5) for j in range(5) if i < j]"
   ]
  },
  {
   "cell_type": "markdown",
   "id": "5c2ba39a",
   "metadata": {},
   "source": [
    "## Strings"
   ]
  },
  {
   "cell_type": "markdown",
   "id": "8c8c8f80",
   "metadata": {},
   "source": [
    "Strings are arrays of characters, we can access a string like we access a list."
   ]
  },
  {
   "cell_type": "code",
   "execution_count": null,
   "id": "380cb2ba",
   "metadata": {},
   "outputs": [],
   "source": [
    "s = \"Every once in a while there is a revolutionary product that comes along a changes everything\""
   ]
  },
  {
   "cell_type": "code",
   "execution_count": null,
   "id": "3ff7b36b",
   "metadata": {},
   "outputs": [],
   "source": [
    "s[0]"
   ]
  },
  {
   "cell_type": "code",
   "execution_count": null,
   "id": "70fae2d1",
   "metadata": {},
   "outputs": [],
   "source": [
    "s[0:10]"
   ]
  },
  {
   "cell_type": "code",
   "execution_count": null,
   "id": "8c3011bc",
   "metadata": {},
   "outputs": [],
   "source": [
    "s[-10:]"
   ]
  },
  {
   "cell_type": "code",
   "execution_count": null,
   "id": "69a36cf5",
   "metadata": {},
   "outputs": [],
   "source": [
    "s[0::2]"
   ]
  },
  {
   "cell_type": "markdown",
   "id": "44cb2034",
   "metadata": {},
   "source": [
    "Some times you want to transform a string into a list of words (e.g., Natural Language Processing):"
   ]
  },
  {
   "cell_type": "code",
   "execution_count": null,
   "id": "ab4d07a7",
   "metadata": {},
   "outputs": [],
   "source": [
    "s.split()"
   ]
  },
  {
   "cell_type": "markdown",
   "id": "a890aec5",
   "metadata": {},
   "source": [
    "You can do the reverse by using the `join` operation over string:"
   ]
  },
  {
   "cell_type": "code",
   "execution_count": null,
   "id": "b1381c62",
   "metadata": {},
   "outputs": [],
   "source": [
    "word_list = ['I', 'love', 'data', 'science']"
   ]
  },
  {
   "cell_type": "code",
   "execution_count": null,
   "id": "91eea715",
   "metadata": {},
   "outputs": [],
   "source": [
    "' '.join(word_list)"
   ]
  },
  {
   "cell_type": "code",
   "execution_count": null,
   "id": "f78e89b4",
   "metadata": {},
   "outputs": [],
   "source": [
    "'-'.join(word_list)"
   ]
  },
  {
   "cell_type": "code",
   "execution_count": null,
   "id": "0cacf3b0",
   "metadata": {},
   "outputs": [],
   "source": [
    "# there are other basic operation we can do to strings:\n",
    "\n",
    "print(s.lower())\n",
    "print(s.upper())\n",
    "print(s.replace('everything', 'something'))"
   ]
  },
  {
   "cell_type": "markdown",
   "id": "e2f1b401",
   "metadata": {},
   "source": [
    "## Tuples"
   ]
  },
  {
   "cell_type": "markdown",
   "id": "10d21baa",
   "metadata": {},
   "source": [
    "Tuples are like lists but they are *immutable* (cannot be changed)"
   ]
  },
  {
   "cell_type": "code",
   "execution_count": null,
   "id": "fe49e1a4",
   "metadata": {},
   "outputs": [],
   "source": [
    "z = (1, 2, 3, 4, 5)"
   ]
  },
  {
   "cell_type": "markdown",
   "id": "17629f99",
   "metadata": {},
   "source": [
    "## Dictionaries\n",
    "- Dictionaries are Key-Value pairs\n",
    "- Defined with curly brackets **{ }**\n",
    "- Values are indexed by their key\n",
    "- `KeyError` when key does not exist\n",
    "- Circumvent with `.get()`\n",
    "```python\n",
    "personal_info = {'Name':'John', 'Age':34, 'Height': 68.4}\n",
    "print(personal_info['Age'])\n",
    "```\n",
    "```\n",
    ">> 34\n",
    "```"
   ]
  },
  {
   "cell_type": "markdown",
   "id": "0d15acd8",
   "metadata": {},
   "source": [
    "Try it yourself:"
   ]
  },
  {
   "cell_type": "code",
   "execution_count": null,
   "id": "63e2474d",
   "metadata": {},
   "outputs": [],
   "source": [
    "S = { 'name' : 'bob', \n",
    "     'gpa'  : 3.4 }\n",
    "S['major'] = 'IM'"
   ]
  },
  {
   "cell_type": "code",
   "execution_count": null,
   "id": "53e284b4",
   "metadata": {},
   "outputs": [],
   "source": [
    "S"
   ]
  },
  {
   "cell_type": "code",
   "execution_count": null,
   "id": "06f319df",
   "metadata": {},
   "outputs": [],
   "source": [
    "S['gpa']"
   ]
  },
  {
   "cell_type": "code",
   "execution_count": null,
   "id": "3f315f5a",
   "metadata": {},
   "outputs": [],
   "source": [
    "S['major']"
   ]
  },
  {
   "cell_type": "code",
   "execution_count": null,
   "id": "8c98bfc6",
   "metadata": {},
   "outputs": [],
   "source": [
    "S['age']"
   ]
  },
  {
   "cell_type": "code",
   "execution_count": null,
   "id": "0abfa69f",
   "metadata": {},
   "outputs": [],
   "source": [
    "S.get('age', '')"
   ]
  },
  {
   "cell_type": "markdown",
   "id": "53b0709b",
   "metadata": {},
   "source": [
    "## Program flow"
   ]
  },
  {
   "cell_type": "markdown",
   "id": "5e834d49",
   "metadata": {},
   "source": [
    "Python has a very expressive set of condition statements:"
   ]
  },
  {
   "cell_type": "code",
   "execution_count": null,
   "id": "03f93511",
   "metadata": {},
   "outputs": [],
   "source": [
    "account_balance = 100\n",
    "withdrawal_amount = 200"
   ]
  },
  {
   "cell_type": "markdown",
   "id": "1518e4b0",
   "metadata": {},
   "source": [
    "Is my balance greater than 0?"
   ]
  },
  {
   "cell_type": "code",
   "execution_count": null,
   "id": "704ebfb3",
   "metadata": {},
   "outputs": [],
   "source": [
    "account_balance > 0"
   ]
  },
  {
   "cell_type": "markdown",
   "id": "dd92be43",
   "metadata": {},
   "source": [
    "Can I withdraw $ 200?"
   ]
  },
  {
   "cell_type": "code",
   "execution_count": null,
   "id": "4fbbd209",
   "metadata": {
    "scrolled": true
   },
   "outputs": [],
   "source": [
    "account_balance - withdrawal_amount >= 0"
   ]
  },
  {
   "cell_type": "markdown",
   "id": "a1ef80b4",
   "metadata": {},
   "source": [
    "You can combine statements in an intuitive way:"
   ]
  },
  {
   "cell_type": "code",
   "execution_count": null,
   "id": "336bebd2",
   "metadata": {
    "scrolled": true
   },
   "outputs": [],
   "source": [
    "0 <= account_balance <= 100"
   ]
  },
  {
   "cell_type": "code",
   "execution_count": null,
   "id": "b0ce2423",
   "metadata": {},
   "outputs": [],
   "source": [
    "0 <= account_balance and account_balance <= 100"
   ]
  },
  {
   "cell_type": "markdown",
   "id": "2b48eb3f",
   "metadata": {},
   "source": [
    "## IF\n",
    "- The `if` statement is used to branch your code based on a Boolean (`True`/`False`) expression.\n",
    "```python\n",
    "if boolean_expression:\n",
    "\t# statements when true\n",
    "else:\n",
    "\t# statements when false\n",
    "```\n",
    "\n",
    "Use `elif` to make more than one decision in your `if` statement\n",
    "```python\n",
    "if boolean_expression1:\n",
    "\t# statements when exp1 true\n",
    "elif boolean_expression2:\n",
    "\t# statements when exp2 true\n",
    "else:\n",
    "\t# statements when false\n",
    "```\n"
   ]
  },
  {
   "cell_type": "markdown",
   "id": "413b8730",
   "metadata": {},
   "source": [
    "## WHILE\n",
    "The `while` statement is a loop. It is used to repeat statements as long as a Boolean expression is true.\n",
    "```python\n",
    "while boolean_expression:\n",
    "    # statements to\n",
    "    # repeat while true\n",
    "```"
   ]
  },
  {
   "cell_type": "markdown",
   "id": "5b1a412e",
   "metadata": {},
   "source": [
    "## FOR\n",
    "The `for` statement is a loop. It is used to iterate over a list of items.\n",
    "```python\n",
    "for variable in list:\n",
    "\t# statements to\n",
    "    # do for each item\n",
    "```    "
   ]
  },
  {
   "cell_type": "markdown",
   "id": "50986753",
   "metadata": {},
   "source": [
    "Try it yourself:"
   ]
  },
  {
   "cell_type": "code",
   "execution_count": null,
   "id": "03d22087",
   "metadata": {},
   "outputs": [],
   "source": [
    "a = [1, 2, 3, 4]\n",
    "\n",
    "for element in a:\n",
    "    print(element)"
   ]
  },
  {
   "cell_type": "code",
   "execution_count": null,
   "id": "6599512a",
   "metadata": {},
   "outputs": [],
   "source": [
    "if 5 not in a:\n",
    "    print('True')\n",
    "else:\n",
    "    print('False')"
   ]
  },
  {
   "cell_type": "code",
   "execution_count": null,
   "id": "72bb3805",
   "metadata": {},
   "outputs": [],
   "source": [
    "i = 0\n",
    "while i <= 10:\n",
    "    print(i)\n",
    "    i = i + 1"
   ]
  },
  {
   "cell_type": "markdown",
   "id": "13258319",
   "metadata": {},
   "source": [
    "## Functions\n",
    "- Use the `def` keyword to define a custom function.\n",
    "- Use `return` to send a value back to the function caller.\n",
    "```python\n",
    "def function_name (arguments):\n",
    "\t# statements in function\n",
    "    return expression_value\n",
    "```\n",
    "\n",
    "- It is easy to define functions:\n",
    "```python\n",
    "def f():\n",
    "    return 5\n",
    "```\n",
    "- Functions have their own type\n",
    "```python\n",
    "type(f)?\n",
    "```\n",
    "- You can access hidden parameters of a function object: `f.__`\n",
    "- You can define the help of a function (called a “doc”) by putting a triple double quote box just below a function\n",
    "- Try to run `?f` after the doc definition"
   ]
  },
  {
   "cell_type": "markdown",
   "id": "c1ea1158",
   "metadata": {},
   "source": [
    "Try it yourself:"
   ]
  },
  {
   "cell_type": "code",
   "execution_count": null,
   "id": "2c9b524d",
   "metadata": {},
   "outputs": [],
   "source": [
    "def f():\n",
    "    '''\n",
    "    return 5.\n",
    "    '''\n",
    "    return 5"
   ]
  },
  {
   "cell_type": "code",
   "execution_count": null,
   "id": "5e56ae04",
   "metadata": {},
   "outputs": [],
   "source": [
    "f()"
   ]
  },
  {
   "cell_type": "code",
   "execution_count": null,
   "id": "44c0ccf0",
   "metadata": {},
   "outputs": [],
   "source": [
    "type(f)"
   ]
  },
  {
   "cell_type": "code",
   "execution_count": null,
   "id": "8e22049e",
   "metadata": {},
   "outputs": [],
   "source": [
    "?f"
   ]
  },
  {
   "cell_type": "code",
   "execution_count": null,
   "id": "8264e978",
   "metadata": {},
   "outputs": [],
   "source": [
    "def add(a, b):\n",
    "    return a + b"
   ]
  },
  {
   "cell_type": "code",
   "execution_count": null,
   "id": "1f6d7cbd",
   "metadata": {},
   "outputs": [],
   "source": [
    "add(2, 3)"
   ]
  },
  {
   "cell_type": "code",
   "execution_count": null,
   "id": "23250ef2",
   "metadata": {},
   "outputs": [],
   "source": [
    "add(\"hello \", \"world\")"
   ]
  },
  {
   "cell_type": "code",
   "execution_count": null,
   "id": "8e8ed3b2",
   "metadata": {},
   "outputs": [],
   "source": [
    "add([1,2,3], [4])"
   ]
  },
  {
   "cell_type": "markdown",
   "id": "8fa78cab",
   "metadata": {},
   "source": [
    "## Classes and objects\n",
    "- Much of Python functionality is provided by classes\n",
    "- Classes define a “template” which will be followed by all objects created from that class\n",
    "- For example\n",
    "```python\n",
    "import numpy as np\n",
    "arr = np.array([1, 2, 3, 4, 5])\n",
    "```\n",
    "This will create an object of class `numpy.ndarray`, you can access methods from the class."
   ]
  },
  {
   "cell_type": "code",
   "execution_count": null,
   "id": "9497c870",
   "metadata": {},
   "outputs": [],
   "source": [
    "import numpy as np\n",
    "arr = np.array([1, 2, 3, 4, 5])"
   ]
  },
  {
   "cell_type": "code",
   "execution_count": null,
   "id": "07e6231c",
   "metadata": {},
   "outputs": [],
   "source": [
    "arr.__class__"
   ]
  },
  {
   "cell_type": "code",
   "execution_count": null,
   "id": "6e2a2ec6",
   "metadata": {},
   "outputs": [],
   "source": [
    "# use a dot after the object to call class methods\n",
    "arr.shape"
   ]
  },
  {
   "cell_type": "markdown",
   "id": "a5de0f86",
   "metadata": {},
   "source": [
    "## Activity"
   ]
  },
  {
   "cell_type": "markdown",
   "id": "52cedd4b",
   "metadata": {},
   "source": [
    "**Infamous Fizz Buzz interview question** (15 minutes)\n",
    "\"Write a program that prints the numbers from 1 to 100. But for multiples of three print \"Fizz\" instead of the number and for the multiples of five print \"Buzz\". For numbers which are multiples of both three and five print \"FizzBuzz\".\""
   ]
  },
  {
   "cell_type": "code",
   "execution_count": null,
   "id": "d0e63bf6",
   "metadata": {},
   "outputs": [],
   "source": [
    "# Write your code here"
   ]
  }
 ],
 "metadata": {
  "kernelspec": {
   "display_name": "Python 3",
   "language": "python",
   "name": "python3"
  },
  "language_info": {
   "codemirror_mode": {
    "name": "ipython",
    "version": 3
   },
   "file_extension": ".py",
   "mimetype": "text/x-python",
   "name": "python",
   "nbconvert_exporter": "python",
   "pygments_lexer": "ipython3",
   "version": "3.8.8"
  },
  "latex_envs": {
   "LaTeX_envs_menu_present": true,
   "autoclose": false,
   "autocomplete": true,
   "bibliofile": "biblio.bib",
   "cite_by": "apalike",
   "current_citInitial": 1,
   "eqLabelWithNumbers": true,
   "eqNumInitial": 1,
   "hotkeys": {
    "equation": "Ctrl-E",
    "itemize": "Ctrl-I"
   },
   "labels_anchors": false,
   "latex_user_defs": false,
   "report_style_numbering": false,
   "user_envs_cfg": false
  },
  "toc": {
   "base_numbering": 1,
   "nav_menu": {},
   "number_sections": true,
   "sideBar": true,
   "skip_h1_title": false,
   "title_cell": "Table of Contents",
   "title_sidebar": "Contents",
   "toc_cell": false,
   "toc_position": {},
   "toc_section_display": true,
   "toc_window_display": false
  }
 },
 "nbformat": 4,
 "nbformat_minor": 5
}
