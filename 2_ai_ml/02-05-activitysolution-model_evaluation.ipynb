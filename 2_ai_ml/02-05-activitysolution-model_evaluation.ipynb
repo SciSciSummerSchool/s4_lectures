{
 "cells": [
  {
   "cell_type": "code",
   "execution_count": 1,
   "id": "f47762c1",
   "metadata": {},
   "outputs": [],
   "source": [
    "from sklearn.ensemble import RandomForestClassifier\n",
    "from sklearn.linear_model import LogisticRegression\n",
    "from sklearn.model_selection import train_test_split\n",
    "from sklearn.model_selection import learning_curve, cross_val_score\n",
    "import pandas as pd\n",
    "\n",
    "# data on papers with fewer than 200 citations\n",
    "data = pd.read_csv('data/articles_features.csv')[['AvgAuthorRank', \n",
    "                                                  'AvgAffiliationRank', \n",
    "                                                  'JournalRank', \n",
    "                                                  'CitationCount']].query('CitationCount<=200')\n",
    "data['HighlyCited'] = (data['CitationCount'] > 50).astype('int')"
   ]
  },
  {
   "cell_type": "markdown",
   "id": "07c6d9ad",
   "metadata": {},
   "source": [
    "# Activity"
   ]
  },
  {
   "cell_type": "markdown",
   "id": "977927e1",
   "metadata": {},
   "source": [
    "We are going to perform model selection for predicting highly cited papers\n",
    "\n",
    "1. Create matrices X and y for the problem (already done below)\n",
    "1. Split the data into training, validation, and testing (https://scikit-learn.org/)\n",
    "1. Compare a logistic regression model and a random forest classifier model using AUC under ROC."
   ]
  },
  {
   "cell_type": "code",
   "execution_count": 2,
   "id": "3b64b274",
   "metadata": {},
   "outputs": [],
   "source": [
    "# your code here\n",
    "X = data[['AvgAuthorRank', 'AvgAffiliationRank', 'JournalRank']].values\n",
    "y = data.HighlyCited.astype('float')"
   ]
  },
  {
   "cell_type": "code",
   "execution_count": 3,
   "id": "1939f7a6",
   "metadata": {},
   "outputs": [],
   "source": [
    "rfc = RandomForestClassifier()\n",
    "lr = LogisticRegression()\n",
    "X_train, X_test, y_train, y_test = train_test_split(X, y)\n",
    "X_valid, X_test, y_valid, y_test = train_test_split(X_test, y_test)\n",
    "\n",
    "rfc.fit(X_train,y_train);\n",
    "lr.fit(X_train,y_train);"
   ]
  },
  {
   "cell_type": "code",
   "execution_count": 4,
   "id": "2f774e77",
   "metadata": {},
   "outputs": [],
   "source": [
    "from sklearn.metrics import roc_auc_score"
   ]
  },
  {
   "cell_type": "code",
   "execution_count": 5,
   "id": "464f46a1",
   "metadata": {
    "scrolled": true
   },
   "outputs": [
    {
     "name": "stdout",
     "output_type": "stream",
     "text": [
      "Random Forest Validation set score: 0.8078196870465257\n",
      "Logistic Regression Validation set score: 0.7572740665376754\n"
     ]
    }
   ],
   "source": [
    "print(f'Random Forest Validation set score: {cross_val_score(rfc, X_valid, y_valid, scoring=\"roc_auc\").mean()}')\n",
    "print(f'Logistic Regression Validation set score: {cross_val_score(lr, X_valid, y_valid, scoring=\"roc_auc\").mean()}')"
   ]
  },
  {
   "cell_type": "markdown",
   "id": "81d6ee85",
   "metadata": {},
   "source": [
    "As we can see, random forest"
   ]
  },
  {
   "cell_type": "code",
   "execution_count": 6,
   "id": "4f0cfd1f",
   "metadata": {},
   "outputs": [
    {
     "data": {
      "text/plain": [
       "0.7978990694796914"
      ]
     },
     "execution_count": 6,
     "metadata": {},
     "output_type": "execute_result"
    }
   ],
   "source": [
    "rfc_y_score = rfc.predict_proba(X_test)[:, 1]\n",
    "roc_auc_score(y_test, rfc_y_score)"
   ]
  }
 ],
 "metadata": {
  "kernelspec": {
   "display_name": "Python 3",
   "language": "python",
   "name": "python3"
  },
  "language_info": {
   "codemirror_mode": {
    "name": "ipython",
    "version": 3
   },
   "file_extension": ".py",
   "mimetype": "text/x-python",
   "name": "python",
   "nbconvert_exporter": "python",
   "pygments_lexer": "ipython3",
   "version": "3.8.8"
  },
  "latex_envs": {
   "LaTeX_envs_menu_present": true,
   "autoclose": false,
   "autocomplete": true,
   "bibliofile": "biblio.bib",
   "cite_by": "apalike",
   "current_citInitial": 1,
   "eqLabelWithNumbers": true,
   "eqNumInitial": 1,
   "hotkeys": {
    "equation": "Ctrl-E",
    "itemize": "Ctrl-I"
   },
   "labels_anchors": false,
   "latex_user_defs": false,
   "report_style_numbering": false,
   "user_envs_cfg": false
  },
  "toc": {
   "base_numbering": 1,
   "nav_menu": {},
   "number_sections": false,
   "sideBar": true,
   "skip_h1_title": false,
   "title_cell": "Table of Contents",
   "title_sidebar": "Contents",
   "toc_cell": false,
   "toc_position": {},
   "toc_section_display": true,
   "toc_window_display": false
  }
 },
 "nbformat": 4,
 "nbformat_minor": 5
}
