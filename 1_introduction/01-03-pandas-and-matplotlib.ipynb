{
 "cells": [
  {
   "cell_type": "markdown",
   "id": "b4641941",
   "metadata": {},
   "source": [
    "# Data Transformation with Pandas"
   ]
  },
  {
   "cell_type": "markdown",
   "id": "048f8427",
   "metadata": {},
   "source": [
    "Pandas is a popular Python package for data transformation. It is open source (BSD-licensed). It provides efficient, easy-to-use data transformation and analusis tools. In the following section, we will show you how to use Pandas to transform and analyze tabular data.  "
   ]
  },
  {
   "cell_type": "markdown",
   "id": "b69cffc2",
   "metadata": {},
   "source": [
    "------------------------------------------------------------------------------  "
   ]
  },
  {
   "cell_type": "markdown",
   "id": "dd555527",
   "metadata": {},
   "source": [
    "We import numpy and pandas as follows, we assign alias of packages after the term \"as\" so we don't need to type in the full name of the package every time we use it  "
   ]
  },
  {
   "cell_type": "code",
   "execution_count": null,
   "id": "49616412",
   "metadata": {},
   "outputs": [],
   "source": [
    "import numpy as np\n",
    "import pandas as pd"
   ]
  },
  {
   "cell_type": "markdown",
   "id": "f5f57eb9",
   "metadata": {},
   "source": [
    "With Pandas, we can read tables of different format (csv. json, parquet, ...)  \n",
    "  \n",
    "In our case, we are reading a table in csv. The table \"Papers\" is a part of the Microsoft Academic Graph. The table includes publication information, such as title, publish year, publisher, ...  "
   ]
  },
  {
   "cell_type": "code",
   "execution_count": null,
   "id": "7f6c9c3b",
   "metadata": {},
   "outputs": [],
   "source": [
    "Papers = pd.read_csv('~/datasets/s4/MAG/Papers.csv')"
   ]
  },
  {
   "cell_type": "markdown",
   "id": "3cc693b3",
   "metadata": {},
   "source": [
    "By calling:   \n",
    "```python\n",
    "Papers.head()\n",
    "```\n",
    "we can view the first five lines of the datast"
   ]
  },
  {
   "cell_type": "code",
   "execution_count": null,
   "id": "2877ef5f",
   "metadata": {},
   "outputs": [],
   "source": [
    "Papers.head()"
   ]
  },
  {
   "cell_type": "markdown",
   "id": "0e416f01",
   "metadata": {},
   "source": [
    "By calling:   \n",
    "```python\n",
    "Papers.tail()\n",
    "```\n",
    "we can view the last five lines of the datast"
   ]
  },
  {
   "cell_type": "code",
   "execution_count": null,
   "id": "1628b5a5",
   "metadata": {},
   "outputs": [],
   "source": [
    "Papers.tail()"
   ]
  },
  {
   "cell_type": "markdown",
   "id": "c79cdb69",
   "metadata": {},
   "source": [
    "We can also assign the number of lines we want to view:"
   ]
  },
  {
   "cell_type": "code",
   "execution_count": null,
   "id": "c7a3c6e7",
   "metadata": {
    "scrolled": true
   },
   "outputs": [],
   "source": [
    "Papers.head(10)"
   ]
  },
  {
   "cell_type": "markdown",
   "id": "45e591b9",
   "metadata": {},
   "source": [
    "we can check all the column names"
   ]
  },
  {
   "cell_type": "code",
   "execution_count": null,
   "id": "31181243",
   "metadata": {},
   "outputs": [],
   "source": [
    "Papers.columns"
   ]
  },
  {
   "cell_type": "markdown",
   "id": "b06f1df2",
   "metadata": {},
   "source": [
    "We cam also check the datatype of different columns in the dataframe"
   ]
  },
  {
   "cell_type": "code",
   "execution_count": null,
   "id": "d8b27251",
   "metadata": {},
   "outputs": [],
   "source": [
    "Papers.dtypes"
   ]
  },
  {
   "cell_type": "markdown",
   "id": "02cffe27",
   "metadata": {},
   "source": [
    "We can get basic statistic summary"
   ]
  },
  {
   "cell_type": "code",
   "execution_count": null,
   "id": "a33cf866",
   "metadata": {},
   "outputs": [],
   "source": [
    "Papers.describe()"
   ]
  },
  {
   "cell_type": "markdown",
   "id": "418e2d4e",
   "metadata": {},
   "source": [
    "To select a part of the dataframe, for example, a column in a dataframe, we can either use a square bracket or a dot: "
   ]
  },
  {
   "cell_type": "code",
   "execution_count": null,
   "id": "98e423f9",
   "metadata": {},
   "outputs": [],
   "source": [
    "Papers['PaperTitle']"
   ]
  },
  {
   "cell_type": "code",
   "execution_count": null,
   "id": "b35cf667",
   "metadata": {},
   "outputs": [],
   "source": [
    "Papers.PaperTitle"
   ]
  },
  {
   "cell_type": "code",
   "execution_count": null,
   "id": "af0c2042",
   "metadata": {},
   "outputs": [],
   "source": [
    "Papers[['PaperTitle', 'Year']]"
   ]
  },
  {
   "cell_type": "markdown",
   "id": "67534b4c",
   "metadata": {},
   "source": [
    "With square bracket, we can slices the rows"
   ]
  },
  {
   "cell_type": "code",
   "execution_count": null,
   "id": "5efbc48f",
   "metadata": {},
   "outputs": [],
   "source": [
    "Papers[0:3]"
   ]
  },
  {
   "cell_type": "markdown",
   "id": "29df43bc",
   "metadata": {},
   "source": [
    "By Calling\n",
    "```python\n",
    ".sort_values()\n",
    "```\n",
    "We can sort a dataframe by the value of a column"
   ]
  },
  {
   "cell_type": "code",
   "execution_count": null,
   "id": "cbe2c54a",
   "metadata": {},
   "outputs": [],
   "source": [
    "Papers.\\\n",
    "    sort_values(by = 'CitationCount', \n",
    "                ascending = False)[['PaperTitle', 'CitationCount']][0:20]"
   ]
  },
  {
   "cell_type": "markdown",
   "id": "a86708b3",
   "metadata": {},
   "source": [
    "We can also use\n",
    "```python\n",
    ".loc[]\n",
    "```\n",
    "to make selection by label. \n",
    "We may do that using this format:\n",
    "```python\n",
    "df.loc[indics, column names]\n",
    "```"
   ]
  },
  {
   "cell_type": "code",
   "execution_count": null,
   "id": "342c318d",
   "metadata": {
    "scrolled": true
   },
   "outputs": [],
   "source": [
    "Papers.loc[1:4, 'PaperTitle']"
   ]
  },
  {
   "cell_type": "markdown",
   "id": "4eaeab56",
   "metadata": {},
   "source": [
    "Select multiple columns"
   ]
  },
  {
   "cell_type": "code",
   "execution_count": null,
   "id": "98924013",
   "metadata": {
    "scrolled": true
   },
   "outputs": [],
   "source": [
    "Papers.loc[1:4, ['PaperTitle', 'CitationCount']]"
   ]
  },
  {
   "cell_type": "markdown",
   "id": "0b17a829",
   "metadata": {},
   "source": [
    "Using\n",
    "```python\n",
    ".iloc[]\n",
    "```\n",
    "we can make selection by position(index). \n",
    "We may do that using this format:\n",
    "```python\n",
    "df.iloc[row position, column position]\n",
    "```"
   ]
  },
  {
   "cell_type": "code",
   "execution_count": null,
   "id": "64386103",
   "metadata": {},
   "outputs": [],
   "source": [
    "Papers.iloc[[1, 3, 5], [2, 4, 6]]"
   ]
  },
  {
   "cell_type": "code",
   "execution_count": null,
   "id": "b44c6a2f",
   "metadata": {},
   "outputs": [],
   "source": [
    "Papers.iloc[1:5, 2:4]"
   ]
  },
  {
   "cell_type": "markdown",
   "id": "4d7bbb0f",
   "metadata": {},
   "source": [
    "We can also select rows by condition"
   ]
  },
  {
   "cell_type": "code",
   "execution_count": null,
   "id": "c71d88ef",
   "metadata": {
    "scrolled": true
   },
   "outputs": [],
   "source": [
    "Papers[Papers['CitationCount'] >= 100]"
   ]
  },
  {
   "cell_type": "markdown",
   "id": "77546713",
   "metadata": {},
   "source": [
    "Most of the data we use might be dirty, in a sense that it includes a lot of NaN values. With Pandas we can either remove rows with NaNs or fill NaN with another value"
   ]
  },
  {
   "cell_type": "code",
   "execution_count": null,
   "id": "2400774f",
   "metadata": {
    "scrolled": true
   },
   "outputs": [],
   "source": [
    "Papers[['DocType', 'PaperTitle', 'CitationCount']].dropna()"
   ]
  },
  {
   "cell_type": "markdown",
   "id": "6065aa25",
   "metadata": {},
   "source": [
    "Some time by removing rows with NaN, we might loss a lot of information. In the following example, we lost data because a lot of publication in the dataset is missing document type. Removing all the rows with NaN might bring undesired results. "
   ]
  },
  {
   "cell_type": "code",
   "execution_count": null,
   "id": "0a36527f",
   "metadata": {},
   "outputs": [],
   "source": [
    "len(Papers[['DocType', 'PaperTitle', 'CitationCount']]), len(Papers[['DocType', 'PaperTitle', 'CitationCount']].dropna())"
   ]
  },
  {
   "cell_type": "markdown",
   "id": "34f17a60",
   "metadata": {},
   "source": [
    "Instead of removing NaN, we can also fill those fields with other values:"
   ]
  },
  {
   "cell_type": "code",
   "execution_count": null,
   "id": "fb032cd5",
   "metadata": {},
   "outputs": [],
   "source": [
    "Papers['DocType'].fillna('unknown')"
   ]
  },
  {
   "cell_type": "markdown",
   "id": "6ee2d588",
   "metadata": {},
   "source": [
    "With Pandas, we can perform simple descriptive statistic:"
   ]
  },
  {
   "cell_type": "code",
   "execution_count": null,
   "id": "fe2ff70e",
   "metadata": {},
   "outputs": [],
   "source": [
    "Papers.CitationCount.mean(), Papers.CitationCount.std()"
   ]
  },
  {
   "cell_type": "markdown",
   "id": "97106feb",
   "metadata": {},
   "source": [
    "Counting the frequency of different categories in a dataframe:"
   ]
  },
  {
   "cell_type": "code",
   "execution_count": null,
   "id": "09f9f453",
   "metadata": {},
   "outputs": [],
   "source": [
    "Papers.DocType.fillna('unknown').value_counts()"
   ]
  },
  {
   "cell_type": "markdown",
   "id": "a8540430",
   "metadata": {},
   "source": [
    "Sometimes we want to apply an operation on a column, we can simply call\n",
    "```python\n",
    ".apply(func)\n",
    "```\n",
    "with ```func``` being the operation in the form of Python function"
   ]
  },
  {
   "cell_type": "code",
   "execution_count": null,
   "id": "45649b06",
   "metadata": {},
   "outputs": [],
   "source": [
    "def published_recently(s):\n",
    "    if (2021 - s) <= 10:\n",
    "        return(True)\n",
    "    else:\n",
    "        return(False)\n",
    "\n",
    "Papers.Year.apply(published_recently)"
   ]
  },
  {
   "cell_type": "markdown",
   "id": "e766ae91",
   "metadata": {},
   "source": [
    "There are many ways we can link two different dataframe. One way is to use ```pd.concat([])```"
   ]
  },
  {
   "cell_type": "code",
   "execution_count": null,
   "id": "7d4d3707",
   "metadata": {},
   "outputs": [],
   "source": [
    "pd.concat([Papers.Year, Papers.Year.apply(published_recently)], axis = 1)"
   ]
  },
  {
   "cell_type": "markdown",
   "id": "4656061e",
   "metadata": {},
   "source": [
    "If we want to combine two dataframe with matching column values, we can use ```merge()```"
   ]
  },
  {
   "cell_type": "markdown",
   "id": "f1ed9e94",
   "metadata": {},
   "source": [
    "Let's import another table:"
   ]
  },
  {
   "cell_type": "code",
   "execution_count": null,
   "id": "9fe126f8",
   "metadata": {},
   "outputs": [],
   "source": [
    "PaperCitationContext = pd.read_csv('~/datasets/s4/MAG/PaperCitationContexts.csv')"
   ]
  },
  {
   "cell_type": "markdown",
   "id": "3ae94032",
   "metadata": {},
   "source": [
    "Merge two dataframe matching PaperId to see what each paper is citing and the citaiton context"
   ]
  },
  {
   "cell_type": "code",
   "execution_count": null,
   "id": "f3235190",
   "metadata": {},
   "outputs": [],
   "source": [
    "Papers.\\\n",
    "    merge(PaperCitationContext, how = 'inner', on = 'PaperId')[['PaperTitle', 'CitationContext']]"
   ]
  },
  {
   "cell_type": "markdown",
   "id": "ab0608bf",
   "metadata": {},
   "source": [
    "We might want to look at simple descriptive statistic or apply complicated operation on data broken into different groups, we can use\n",
    "```python\n",
    ".groupby()\n",
    "```\n",
    "to do that. In the following case, we will calculate the average citation count for different document type:"
   ]
  },
  {
   "cell_type": "code",
   "execution_count": null,
   "id": "6e8400eb",
   "metadata": {},
   "outputs": [],
   "source": [
    "Papers.groupby('DocType')['CitationCount'].mean()"
   ]
  },
  {
   "cell_type": "markdown",
   "id": "6487c4c9",
   "metadata": {},
   "source": [
    "In the following case, we are counting the number of documents of different document types"
   ]
  },
  {
   "cell_type": "code",
   "execution_count": null,
   "id": "e54867b5",
   "metadata": {},
   "outputs": [],
   "source": [
    "Papers.groupby('DocType')['PaperId'].count()"
   ]
  },
  {
   "cell_type": "markdown",
   "id": "de37c95f",
   "metadata": {},
   "source": [
    "# Visualization with Matplotlib"
   ]
  },
  {
   "cell_type": "markdown",
   "id": "aaff782e",
   "metadata": {},
   "source": [
    "### Importing Matplotlib\n",
    "\n",
    "Just as we use the ``np`` shorthand for NumPy and the ``pd`` shorthand for Pandas, we will use some standard shorthands for Matplotlib imports:"
   ]
  },
  {
   "cell_type": "code",
   "execution_count": null,
   "id": "862afc6d",
   "metadata": {},
   "outputs": [],
   "source": [
    "import matplotlib as mpl\n",
    "import matplotlib.pyplot as plt"
   ]
  },
  {
   "cell_type": "markdown",
   "id": "e6eb6055",
   "metadata": {},
   "source": [
    "### Setting Styles\n",
    "\n",
    "We will use the ``plt.style`` directive to choose appropriate aesthetic styles for our figures.\n",
    "Here we will set the ``classic`` style, which ensures that the plots we create use the classic Matplotlib style:"
   ]
  },
  {
   "cell_type": "code",
   "execution_count": null,
   "id": "60bc3028",
   "metadata": {},
   "outputs": [],
   "source": [
    "plt.style.use('classic')"
   ]
  },
  {
   "cell_type": "markdown",
   "id": "e35c42e7",
   "metadata": {},
   "source": [
    "#### Plotting from an IPython notebook\n",
    "\n",
    "- ``%matplotlib notebook`` will lead to *interactive* plots embedded within the notebook\n",
    "- ``%matplotlib inline`` will lead to *static* images of your plot embedded in the notebook\n"
   ]
  },
  {
   "cell_type": "code",
   "execution_count": null,
   "id": "4bcfd13e",
   "metadata": {},
   "outputs": [],
   "source": [
    "%matplotlib inline"
   ]
  },
  {
   "cell_type": "code",
   "execution_count": null,
   "id": "3a7c8d4e",
   "metadata": {},
   "outputs": [],
   "source": [
    "import numpy as np\n",
    "x = np.linspace(0, 10, 100)\n",
    "\n",
    "fig = plt.figure()\n",
    "plt.plot(x, np.sin(x), '-')\n",
    "plt.plot(x, np.cos(x), '--');"
   ]
  },
  {
   "cell_type": "markdown",
   "id": "7da6d239",
   "metadata": {},
   "source": [
    "## Two Interfaces for the Price of One\n"
   ]
  },
  {
   "cell_type": "code",
   "execution_count": null,
   "id": "ab66c053",
   "metadata": {},
   "outputs": [],
   "source": [
    "plt.figure()  # create a plot figure\n",
    "\n",
    "# create the first of two panels and set current axis\n",
    "plt.subplot(2, 1, 1) # (rows, columns, panel number)\n",
    "plt.plot(x, np.sin(x))\n",
    "\n",
    "# create the second panel and set current axis\n",
    "plt.subplot(2, 1, 2)\n",
    "plt.plot(x, np.cos(x));"
   ]
  },
  {
   "cell_type": "markdown",
   "id": "bd5c4057",
   "metadata": {},
   "source": [
    "#### Object-oriented interface\n",
    "\n",
    "in the object-oriented interface the plotting functions are *methods* of explicit ``Figure`` and ``Axes`` objects"
   ]
  },
  {
   "cell_type": "code",
   "execution_count": null,
   "id": "0f1b1bd3",
   "metadata": {},
   "outputs": [],
   "source": [
    "# First create a grid of plots\n",
    "# ax will be an array of two Axes objects\n",
    "fig, ax = plt.subplots(2)\n",
    "\n",
    "# Call plot() method on the appropriate object\n",
    "ax[0].plot(x, np.sin(x))\n",
    "ax[1].plot(x, np.cos(x));"
   ]
  },
  {
   "cell_type": "markdown",
   "id": "1e8e7f0a",
   "metadata": {},
   "source": [
    "## Simple Line Plots"
   ]
  },
  {
   "cell_type": "markdown",
   "id": "a684f6aa",
   "metadata": {},
   "source": [
    "line plot of a single function $y = f(x)$."
   ]
  },
  {
   "cell_type": "code",
   "execution_count": null,
   "id": "c034c009",
   "metadata": {},
   "outputs": [],
   "source": [
    "%matplotlib inline\n",
    "import matplotlib.pyplot as plt\n",
    "plt.style.use('seaborn-whitegrid')\n",
    "import numpy as np\n",
    "fig = plt.figure()\n",
    "ax = plt.axes()\n",
    "\n",
    "x = np.linspace(0, 10, 1000)\n",
    "ax.plot(x, np.sin(x));"
   ]
  },
  {
   "cell_type": "markdown",
   "id": "985aebf5",
   "metadata": {},
   "source": [
    "create a single figure with multiple lines, we can call the ``plot`` function multiple times:"
   ]
  },
  {
   "cell_type": "code",
   "execution_count": null,
   "id": "2bd1bca9",
   "metadata": {},
   "outputs": [],
   "source": [
    "plt.plot(x, np.sin(x))\n",
    "plt.plot(x, np.cos(x));"
   ]
  },
  {
   "cell_type": "markdown",
   "id": "8d20d5aa",
   "metadata": {},
   "source": [
    "## Adjusting the Plot: Line Colors and Styles"
   ]
  },
  {
   "cell_type": "code",
   "execution_count": null,
   "id": "56874bd8",
   "metadata": {},
   "outputs": [],
   "source": [
    "plt.plot(x, np.sin(x - 0), color='blue')        # specify color by name\n",
    "plt.plot(x, np.sin(x - 1), color='g')           # short color code (rgbcmyk)\n",
    "plt.plot(x, np.sin(x - 2), color='0.75')        # Grayscale between 0 and 1\n",
    "plt.plot(x, np.sin(x - 3), color='#FFDD44')     # Hex code (RRGGBB from 00 to FF)\n",
    "plt.plot(x, np.sin(x - 4), color=(1.0,0.2,0.3)) # RGB tuple, values 0 to 1\n",
    "plt.plot(x, np.sin(x - 5), color='chartreuse'); # all HTML color names supported"
   ]
  },
  {
   "cell_type": "code",
   "execution_count": null,
   "id": "8a25dac3",
   "metadata": {},
   "outputs": [],
   "source": [
    "plt.plot(x, x + 0, linestyle='solid')\n",
    "plt.plot(x, x + 1, linestyle='dashed')\n",
    "plt.plot(x, x + 2, linestyle='dashdot')\n",
    "plt.plot(x, x + 3, linestyle='dotted');\n",
    "\n",
    "# For short, you can use the following codes:\n",
    "plt.plot(x, x + 4, linestyle='-')  # solid\n",
    "plt.plot(x, x + 5, linestyle='--') # dashed\n",
    "plt.plot(x, x + 6, linestyle='-.') # dashdot\n",
    "plt.plot(x, x + 7, linestyle=':');  # dotted"
   ]
  },
  {
   "cell_type": "code",
   "execution_count": null,
   "id": "e0812c56",
   "metadata": {},
   "outputs": [],
   "source": [
    "plt.plot(x, x + 0, '-g')  # solid green\n",
    "plt.plot(x, x + 1, '--c') # dashed cyan\n",
    "plt.plot(x, x + 2, '-.k') # dashdot black\n",
    "plt.plot(x, x + 3, ':r');  # dotted red"
   ]
  },
  {
   "cell_type": "markdown",
   "id": "9a4dca1b",
   "metadata": {},
   "source": [
    "## Labeling Plots"
   ]
  },
  {
   "cell_type": "code",
   "execution_count": null,
   "id": "267e7d50",
   "metadata": {},
   "outputs": [],
   "source": [
    "plt.plot(x, np.sin(x))\n",
    "plt.title(\"A Sine Curve\")\n",
    "plt.xlabel(\"x\")\n",
    "plt.ylabel(\"sin(x)\");"
   ]
  },
  {
   "cell_type": "code",
   "execution_count": null,
   "id": "acd873e5",
   "metadata": {},
   "outputs": [],
   "source": [
    "plt.plot(x, np.sin(x), '-g', label='sin(x)')\n",
    "plt.plot(x, np.cos(x), ':b', label='cos(x)')\n",
    "plt.axis('equal')\n",
    "\n",
    "plt.legend();"
   ]
  },
  {
   "cell_type": "markdown",
   "id": "9528fd7e",
   "metadata": {},
   "source": [
    "## Visualization with Seaborn"
   ]
  },
  {
   "cell_type": "code",
   "execution_count": null,
   "id": "676aa2fe",
   "metadata": {},
   "outputs": [],
   "source": [
    "import matplotlib.pyplot as plt\n",
    "plt.style.use('classic')\n",
    "%matplotlib inline\n",
    "import numpy as np\n",
    "import pandas as pd"
   ]
  },
  {
   "cell_type": "code",
   "execution_count": null,
   "id": "2439c67d",
   "metadata": {},
   "outputs": [],
   "source": [
    "# Create some data\n",
    "rng = np.random.RandomState(0)\n",
    "x = np.linspace(0, 10, 500)\n",
    "y = np.cumsum(rng.randn(500, 6), 0)"
   ]
  },
  {
   "cell_type": "code",
   "execution_count": null,
   "id": "72b4824f",
   "metadata": {},
   "outputs": [],
   "source": [
    "# Plot the data with Matplotlib defaults\n",
    "plt.plot(x, y)\n",
    "plt.legend('ABCDEF', ncol=2, loc='upper left');"
   ]
  },
  {
   "cell_type": "code",
   "execution_count": null,
   "id": "b5c57c77",
   "metadata": {},
   "outputs": [],
   "source": [
    "import seaborn as sns\n",
    "sns.set()\n",
    "# same plotting code as above!\n",
    "plt.plot(x, y)\n",
    "plt.legend('ABCDEF', ncol=2, loc='upper left');"
   ]
  },
  {
   "cell_type": "markdown",
   "id": "75663025",
   "metadata": {},
   "source": [
    "### Pair plots\n",
    " *pair plots* on iris data"
   ]
  },
  {
   "cell_type": "code",
   "execution_count": null,
   "id": "c5334c5c",
   "metadata": {},
   "outputs": [],
   "source": [
    "iris = sns.load_dataset(\"iris\")\n",
    "iris.head()"
   ]
  },
  {
   "cell_type": "code",
   "execution_count": null,
   "id": "fba1fd2e",
   "metadata": {},
   "outputs": [],
   "source": [
    "sns.pairplot(iris, hue='species', height=2.5);"
   ]
  },
  {
   "cell_type": "markdown",
   "id": "68f105c7",
   "metadata": {},
   "source": [
    "### Faceted histograms"
   ]
  },
  {
   "cell_type": "code",
   "execution_count": null,
   "id": "a6f4aa5c",
   "metadata": {},
   "outputs": [],
   "source": [
    "tips = sns.load_dataset('tips')\n",
    "tips.head()"
   ]
  },
  {
   "cell_type": "code",
   "execution_count": null,
   "id": "01c628e6",
   "metadata": {},
   "outputs": [],
   "source": [
    "tips['tip_pct'] = 100 * tips['tip'] / tips['total_bill']\n",
    "\n",
    "grid = sns.FacetGrid(tips, row=\"sex\", col=\"time\", margin_titles=True)\n",
    "grid.map(plt.hist, \"tip_pct\", bins=np.linspace(0, 40, 15));"
   ]
  },
  {
   "cell_type": "markdown",
   "id": "f87b6364",
   "metadata": {},
   "source": [
    "### Factor plots"
   ]
  },
  {
   "cell_type": "code",
   "execution_count": null,
   "id": "dd19e18c",
   "metadata": {
    "scrolled": false
   },
   "outputs": [],
   "source": [
    "with sns.axes_style(style='ticks'):\n",
    "    g = sns.catplot(x=\"day\", y=\"total_bill\", hue=\"sex\", data=tips, kind=\"box\")\n",
    "    g.set_axis_labels(\"Day\", \"Total Bill\");"
   ]
  },
  {
   "cell_type": "markdown",
   "id": "76920a2e",
   "metadata": {},
   "source": [
    "We import numpy and pandas as follows, we assign alias of packages after the term \"as\" so we don't need to type in the full name of the package every time we use it  "
   ]
  }
 ],
 "metadata": {
  "kernelspec": {
   "display_name": "Python 3.7.10 64-bit ('base': conda)",
   "language": "python",
   "name": "python3710jvsc74a57bd0ca3c0fb8fe39c83e2aef932c160e2421a0589d549facec1211817fc91676033a"
  },
  "language_info": {
   "codemirror_mode": {
    "name": "ipython",
    "version": 3
   },
   "file_extension": ".py",
   "mimetype": "text/x-python",
   "name": "python",
   "nbconvert_exporter": "python",
   "pygments_lexer": "ipython3",
   "version": "3.7.10"
  }
 },
 "nbformat": 4,
 "nbformat_minor": 5
}
