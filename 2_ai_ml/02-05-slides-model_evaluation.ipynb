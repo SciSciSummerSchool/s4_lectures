{
 "cells": [
  {
   "cell_type": "code",
   "execution_count": 1,
   "metadata": {
    "slideshow": {
     "slide_type": "skip"
    }
   },
   "outputs": [
    {
     "name": "stderr",
     "output_type": "stream",
     "text": [
      "<ipython-input-1-b85bf9517f64>:12: DeprecationWarning: `set_matplotlib_formats` is deprecated since IPython 7.23, directly use `matplotlib_inline.backend_inline.set_matplotlib_formats()`\n"
     ]
    }
   ],
   "source": [
    "import numpy as np\n",
    "import pandas as pd\n",
    "import matplotlib.pyplot as plt\n",
    "from plotnine import *\n",
    "from IPython.display import set_matplotlib_formats\n",
    "from sklearn.preprocessing import PolynomialFeatures\n",
    "from sklearn.ensemble import RandomForestRegressor\n",
    "from sklearn.model_selection import learning_curve, cross_val_score\n",
    "from sklearn.model_selection import ShuffleSplit, KFold\n",
    "from sklearn.linear_model import LinearRegression\n",
    "\n",
    "set_matplotlib_formats('retina')\n",
    "\n",
    "# data on papers with fewer than 200 citations\n",
    "data = pd.read_csv('./data/articles_features.csv')[['AvgAuthorRank', \n",
    "                                                  'AvgAffiliationRank', \n",
    "                                                  'JournalRank', \n",
    "                                                  'CitationCount']].query('CitationCount<=200')\n",
    "data['HighlyCited'] = (data['CitationCount'] > 50).astype('int')\n",
    "\n",
    "from IPython.display import set_matplotlib_formats\n",
    "\n",
    "X = data[['AvgAuthorRank', 'AvgAffiliationRank', 'JournalRank']].values\n",
    "y = data.CitationCount.astype('float')\n",
    "kf = KFold(n_splits=5)"
   ]
  },
  {
   "cell_type": "markdown",
   "metadata": {
    "slideshow": {
     "slide_type": "slide"
    }
   },
   "source": [
    "# Model evaluation\n",
    "## Generalization performance: regression and classification"
   ]
  },
  {
   "cell_type": "markdown",
   "metadata": {
    "slideshow": {
     "slide_type": "slide"
    }
   },
   "source": [
    "# From previous unit\n",
    "- We took a **statistical approach to learning** which acknowledges our uncertainty and noise in the data science process.  \n",
    "\n",
    "- We defined a **model** of the data.  \n",
    "\n",
    "- We estimated the parameters using **training data**.  \n",
    "\n",
    "- We used the model to **predict** and **interpret** the results.  \n",
    "\n",
    "- We could use **supervised** or **unsupervised** learning to find relationships between variables.  \n",
    "\n",
    "- If variables are not quantitative, we used classification models."
   ]
  },
  {
   "cell_type": "markdown",
   "metadata": {
    "slideshow": {
     "slide_type": "slide"
    }
   },
   "source": [
    "# In this unit\n",
    "- Generalization performance\n",
    "- Estimating generalization performance: cross-validation\n",
    "- Bias-variance decomposition\n",
    "- Performance of classifiers: confusion matrix, ROC curve, AUC\n",
    "- Bayes rule"
   ]
  },
  {
   "cell_type": "markdown",
   "metadata": {
    "slideshow": {
     "slide_type": "slide"
    }
   },
   "source": [
    "<center><img src=\"./images/unit-06/unit-06-0_ama1.png\" width=\"800\" align=\"center\"></center>"
   ]
  },
  {
   "cell_type": "markdown",
   "metadata": {
    "slideshow": {
     "slide_type": "slide"
    }
   },
   "source": [
    "<center><img src=\"./images/unit-06/unit-06-0_ama2.png\" width=\"800\" align=\"center\"></center>"
   ]
  },
  {
   "cell_type": "markdown",
   "metadata": {
    "slideshow": {
     "slide_type": "slide"
    }
   },
   "source": [
    "# Generalization performance\n",
    "- Generalization is the performance of a learning method on independent **test data**.  \n",
    "\n",
    "- Generalization performance guides the choice of learning method or model.  \n",
    "- **Why don't we teach the *best method*?**\n",
    "  - *Because there is no free lunch in statistics*: David Wolpert, \"The Lack of A Priori Distinctions Between Learning Algorithms\", 1996.\n",
    "  <div class=\"blockquote2\">\n",
    "    No one method dominates all others over all possible data sets.\n",
    "  </div>"
   ]
  },
  {
   "cell_type": "markdown",
   "metadata": {
    "slideshow": {
     "slide_type": "slide"
    }
   },
   "source": [
    "# Generalization performance (2)\n",
    "- The no free lunch theorem implies that we need to:  \n",
    "\n",
    "  1. Learn about the **particular dataset** we are working on (data science!)  \n",
    "  \n",
    "  2. **Select the best method** using generalization performance (data science!)\n"
   ]
  },
  {
   "cell_type": "markdown",
   "metadata": {
    "slideshow": {
     "slide_type": "slide"
    }
   },
   "source": [
    "# Measuring generalization performance: theory\n",
    "- We need to define a loss function:\n",
    "\n",
    "$$l(Y,\\hat{f}(X))$$  \n",
    "\n",
    "- For example, the Squared Error for regression:\n",
    "\n",
    "$$l(Y,\\hat{f}(X)) = (Y - \\hat{f}(X))^2$$  \n",
    "\n",
    "<center>(which is the same as the negative likelihood with Gaussian noise.)</center>  \n",
    "\n",
    "- Or zero-one loss for classification:\n",
    "\n",
    "$$l(Y,\\hat{f}(X)) = \\text{I}(Y \\neq \\hat{f}(X))$$  \n",
    "\n",
    "<center>where $\\text{I}(a,b)$ is 1 if $a = b$, and 0 otherwise.</center>  "
   ]
  },
  {
   "cell_type": "markdown",
   "metadata": {
    "slideshow": {
     "slide_type": "slide"
    }
   },
   "source": [
    "# Measuring generalization performance: test error and expected prediction error\n",
    "- Test error is the prediction error over an *independent* test sample:\n",
    "\n",
    "$$Err_T = E[l(Y,\\hat{f}(X)) \\mid T]$$  \n",
    "\n",
    "<center>where both $Y$ and $X$ are randomly sampled with a fixed training set $T$.</center>\n",
    "\n",
    "- A related quantity is the expected prediction error:\n",
    "\n",
    "$$Err = E[l(Y,\\hat{f}(X))] = E[Err_T]$$  \n",
    "\n",
    "<center>where everything is random including the training dataset.</center>\n",
    "\n",
    "- Most methods effectively estimate $Err$ instead of $Err_T$."
   ]
  },
  {
   "cell_type": "markdown",
   "metadata": {
    "slideshow": {
     "slide_type": "slide"
    }
   },
   "source": [
    "# Measuring generalization performance: model comparison\n",
    "\n",
    "- Typically, we must compare several models\n",
    "- We split the data into **three datasets** and compute the following over a **testing dataset**\n",
    "$$Err_{V,T}=E[l(Y,\\hat{f}(X))\\mid V,T ]$$\n",
    "where $V$ is a **validation dataset**, and $T$ is a **training dataset**. \n",
    "- We further restrict the previous quantity to the best model on **validation** performance, and therefore we end up estimating\n",
    "$$Err = E[E_T[Err_{V^*,T}]]$$"
   ]
  },
  {
   "cell_type": "markdown",
   "metadata": {},
   "source": [
    "# Example measure of errors in regression\n",
    "- Mean squared error\n",
    "$$\\text{MSE}=\\frac{\\sum (y_i-\\hat{y_i})^2}{n}$$\n",
    "- Root mean squared error\n",
    "$$\\text{RMSE}=\\sqrt{\\frac{\\sum (y_i-\\hat{y_i})^2}{n}}$$\n",
    "- Coefficient of determination\n",
    "$$R^2=1-\\frac{u}{v}$$\n",
    "where $u=\\sum (y_i - \\hat{y}_i)^2$ and $v=\\sum (y_i - \\sum \\frac{y_i}{n})^2$\n"
   ]
  },
  {
   "cell_type": "markdown",
   "metadata": {
    "slideshow": {
     "slide_type": "slide"
    }
   },
   "source": [
    "# Estimating test error in practice: cross validation\n",
    "<br>\n",
    "\n",
    "<div class=\"container2\">\n",
    "  <div class=\"row2\">\n",
    "    <div class=\"col-6\">\n",
    "          <ul>\n",
    "            <li>Often, models have differing degrees of complexity controlled by a parameter $\\alpha$ (e.g., $\\;\\hat{f}_\\alpha(X)$)</li>\n",
    "              <li><b>Training split</b> is used to **fit** one model.</li>\n",
    "              <li><b>Validation split</b> is used to select **complexity**.</li>\n",
    "              <li><b>Test split</b> is used to estimate **expected test error**.</li>  \n",
    "          </ul>        \n",
    "    </div>\n",
    "  <div class=\"col-6\">\n",
    "    <ul>\n",
    "    <center><img src=\"./images/unit-06/unit-06-0_ama3.png\" width=\"100%\" align=\"center\"></center>\n",
    "    </ul>\n",
    "</div>"
   ]
  },
  {
   "cell_type": "markdown",
   "metadata": {
    "slideshow": {
     "slide_type": "slide"
    }
   },
   "source": [
    "# Estimating test error in practice: cross validation (2)\n",
    "- The previous approach is known as **training, validation, and testing split**\n",
    "- If no alternative models are compared, there are only two splits and the method is known as training and testing\n",
    "- Typical data splits are 60%-30%-10% for training, validation, and testing\n",
    "- Or 80%-20% for training and testing splits"
   ]
  },
  {
   "cell_type": "markdown",
   "metadata": {
    "slideshow": {
     "slide_type": "slide"
    }
   },
   "source": [
    "# Estimating the expected test error: $k$-fold cross validation\n",
    "<br>\n",
    "<div class=\"container2\">\n",
    "  <div class=\"row2\">\n",
    "    <div class=\"col-6\">\n",
    "      <ul>\n",
    "        <li>The problem with the previous procedure is that we \"throw away\" the validation and test splits during training.</li>\n",
    "        <br>  \n",
    "        <li>$k$-fold cross validation (partially) fixes this by running cross validation multiple times.</li>\n",
    "      </ul>        \n",
    "    </div>\n",
    "  <div class=\"col-6\">\n",
    "    <center><img src=\"./images/unit-06/unit-06-0_ama4.png\" width=\"600\" align=\"center\"></center>\n",
    "</div>"
   ]
  },
  {
   "cell_type": "markdown",
   "metadata": {
    "slideshow": {
     "slide_type": "slide"
    }
   },
   "source": [
    "# More on expected test error\n",
    "- The loss function used to cross validation **does not** necessarily match the loss function used during model fitting.\n",
    "- For example, you can fit models with gradient descent to minimize MSE (because it is easy and fast) but you might choose models based on the Mean Absolute Deviation (MAD)\n",
    "$$\\text{MAD} = \\frac{1}{n} \\sum_{i=1}^n | \\hat{y}_i - y |$$"
   ]
  },
  {
   "cell_type": "markdown",
   "metadata": {
    "slideshow": {
     "slide_type": "slide"
    }
   },
   "source": [
    "# The Bias-Variance decomposition: Math\n",
    "- Mathematically:  \n",
    "\n",
    "\\begin{align}\n",
    "Err(x_0) &= E[(Y-\\hat{f}(x_0))^2\\mid x_0] \\\\\n",
    "Err(x_0) &= \\sigma_{\\epsilon}^2 + (E[\\hat{f}(x_0)]-f(x_0))^2 + E[\\hat{f}(x_0)-E[\\hat{f}(x_0)]]^2 \\\\\n",
    "Err(x_0) &= \\text{Irreducible error} + \\text{Bias}^2 + \\text{Variance}\n",
    "\\end{align}  "
   ]
  },
  {
   "cell_type": "markdown",
   "metadata": {
    "slideshow": {
     "slide_type": "slide"
    }
   },
   "source": [
    "# The Bias-Variance decomposition of test error\n",
    "- In general, more complex models have low bias and high variance.  \n",
    "\n",
    "- Vice versa, simple models have high bias and low variance.  \n",
    "\n",
    "- This is a **fundamental tradeoff**.  \n",
    "\n",
    "- **High variance** means that the estimation has high \"error bars.\"  \n",
    "\n",
    "- **High bias** means that the estimation will not change much even if more data is seen."
   ]
  },
  {
   "cell_type": "markdown",
   "metadata": {
    "slideshow": {
     "slide_type": "slide"
    }
   },
   "source": [
    "# The Bias-Variance decomposition: Nearest neighbor regression\n",
    "- Take the $k$ closest points and compute the average $y$ of those points\n",
    "$$\\hat{f}(x_0) = \\frac{1}{k}\\sum_{i=1}^k f(x_{\\text{nn}_i(x_0)})$$\n",
    "where $\\text{nn}_i(x)$ is the index of $i$-th closest neighbor to $x$\n",
    "- The Bias-variance decomposition then becomes\n",
    "$$Err(x_0) = \\sigma_\\epsilon^2 + [f(x_0) - \\frac{1}{k}\\sum_{i=1}^k f(x_{\\text{nn}_i(x_0)})]^2 + \\frac{\\sigma_\\epsilon^2}{k}$$\n",
    "where $\\frac{\\sigma_\\epsilon^2}{k}$ is the variance of $\\hat{f}$\n",
    "- Bias increases with $k$ and variance decreases with $k$"
   ]
  },
  {
   "cell_type": "markdown",
   "metadata": {
    "slideshow": {
     "slide_type": "slide"
    }
   },
   "source": [
    "# The Bias-Variance decomposition: Linear regression\n",
    "- The argument is more complex: $\\hat{f}(x_0) = x_0^T b$ with vector $b$ having $p$ components\n",
    "- On average\n",
    "$$Err(x_0) \\approx \\sigma_\\epsilon^2 + \\text{Bias}^2 + p \\sigma_\\epsilon^2$$\n",
    "- Variance is proportional to the number of parameters and therefore Bias decreases with number of parameters"
   ]
  },
  {
   "cell_type": "markdown",
   "metadata": {
    "slideshow": {
     "slide_type": "slide"
    }
   },
   "source": [
    "# The Bias-Variance decomposition: in practice\n",
    "- It is many times impossible to know the irreducible error, bias, and variance decomposition\n",
    "- There are several heuristics for trying to understand whether we need to increase the bias or the variance, or whether we have simply hit the irreducible error\n",
    "- We will want to **search over many models to find the one which minimizes bias and variance**"
   ]
  },
  {
   "cell_type": "markdown",
   "metadata": {
    "slideshow": {
     "slide_type": "slide"
    }
   },
   "source": [
    "# The Bias-Variance tradeoff\n",
    "\n",
    "Polynomial regression example: predicting article citations given author, institution, and journal rankings"
   ]
  },
  {
   "cell_type": "code",
   "execution_count": 2,
   "metadata": {
    "hide_input": true,
    "scrolled": true,
    "slideshow": {
     "slide_type": "fragment"
    }
   },
   "outputs": [
    {
     "data": {
      "image/png": "[encoded data removed]",
      "text/plain": [
       "<Figure size 432x288 with 1 Axes>"
      ]
     },
     "metadata": {
      "image/png": {
       "height": 261,
       "width": 398
      },
      "needs_background": "light"
     },
     "output_type": "display_data"
    }
   ],
   "source": [
    "performance_np = np.array([[d, cross_val_score(LinearRegression(), \n",
    "                PolynomialFeatures(degree=d).fit_transform(X[:1000]), \n",
    "                y[:1000], cv=kf, n_jobs=-1).mean()] for d in range(1, 5)])\n",
    "plt.plot(performance_np[:, 0], performance_np[:, 1], '+-');\n",
    "plt.xlabel('degree polynomial');\n",
    "plt.ylabel('R^2');\n",
    "plt.xticks(range(1, 5));"
   ]
  },
  {
   "cell_type": "markdown",
   "metadata": {
    "slideshow": {
     "slide_type": "slide"
    }
   },
   "source": [
    "# A model with high variance: random forest\n",
    "\n",
    "- Random forest is a relatively simple idea where we use \"the wisdom of the crowds\" to average the prediction of several estimators\n",
    "- For this, we several a \"decision trees\" based on uncorrelated samples of the data\n",
    "- The deeper the tree, the higher the variance (the more complex the function)\n",
    "- The more trees, the higher the variance (kind of)"
   ]
  },
  {
   "cell_type": "markdown",
   "metadata": {
    "slideshow": {
     "slide_type": "slide"
    }
   },
   "source": [
    "# The Bias-Variance decomposition: the learning curve\n",
    "\n",
    "- Predicting article citations given author, institution, and journal rankings\n",
    " - Linear regression\n",
    " - Polynomial regression\n",
    " - Random forest"
   ]
  },
  {
   "cell_type": "code",
   "execution_count": 3,
   "metadata": {
    "hide_input": true,
    "slideshow": {
     "slide_type": "fragment"
    }
   },
   "outputs": [
    {
     "data": {
      "image/png": "[encoded data removed]",
      "text/plain": [
       "<Figure size 432x288 with 1 Axes>"
      ]
     },
     "metadata": {
      "image/png": {
       "height": 261,
       "width": 391
      },
      "needs_background": "light"
     },
     "output_type": "display_data"
    }
   ],
   "source": [
    "train_sizes_simple, train_scores_simple, test_scores_simple = \\\n",
    "    learning_curve(LinearRegression(), X, y, cv=kf)\n",
    "train_sizes_complex, train_scores_complex, test_scores_complex = \\\n",
    "    learning_curve(LinearRegression(), PolynomialFeatures(degree=5).fit_transform(X), y, cv=kf, n_jobs=-1)\n",
    "train_sizes_complex_rf, train_scores_complex_rf, test_scores_complex_rf = \\\n",
    "    learning_curve(RandomForestRegressor(), X, y, cv=kf, n_jobs=-1)\n",
    "\n",
    "plt.plot(train_sizes_simple, test_scores_simple.mean(axis=1))\n",
    "plt.plot(train_sizes_complex, test_scores_complex.mean(axis=1))\n",
    "plt.plot(train_sizes_complex_rf, test_scores_complex_rf.mean(axis=1))\n",
    "plt.legend(['linear regression', 'polynomial regression', 'random forest'])\n",
    "plt.xlabel('data size')\n",
    "plt.ylabel('R^2');"
   ]
  },
  {
   "cell_type": "markdown",
   "metadata": {
    "slideshow": {
     "slide_type": "slide"
    }
   },
   "source": [
    "# Evaluating classification\n",
    "\n",
    "Many tasks in science of science are about classification. For example, predict whether a paper will be highly cited or whether a sentence needs a citation"
   ]
  },
  {
   "cell_type": "markdown",
   "metadata": {
    "slideshow": {
     "slide_type": "slide"
    }
   },
   "source": [
    "# Measuring generalization performance: classification\n",
    "- A typical method for measuring classification performance is *accuracy*:  \n",
    "\n",
    "    $$\\text{Accuracy} = \\frac{1}{n} \\sum_{i=1}^{n} \\text{I}(y_i,\\hat{f}(x_i))$$\n",
    "<center>where $\\text{I}(a, b)$ is 1 if $a = b$, and 0 otherwise.</center>  \n",
    "\n",
    "\n",
    "- What might be the problem with using accuracy? (hint: What is the accuracy of an algorithm that predicts that every email received is not a spam?)"
   ]
  },
  {
   "cell_type": "markdown",
   "metadata": {
    "slideshow": {
     "slide_type": "slide"
    }
   },
   "source": [
    "# Measuring generalization performance: confusion matrix\n",
    "- This matrix is called a **confusion matrix**: summary of true vs predicted cases\n",
    "<center><img src=\"./images/unit-06/unit-06-0_ama9.png\" width=\"80%\" align=\"center\"></center>"
   ]
  },
  {
   "cell_type": "markdown",
   "metadata": {
    "slideshow": {
     "slide_type": "slide"
    }
   },
   "source": [
    "# Measuring generalization performance: Common statistics from confusion matrix\n",
    "- **Prevalence**: (TP+FN) / everything\n",
    "- **Precision**: TP / (TP + FP)\n",
    "- **Sensitivity**, **Recall**, or **True positive rate**: TP / true condition positive\n",
    "- **Specificity**: TN / true condition negative\n",
    "- **F1**: $\\frac{2*precision*recall}{precision + recall}$"
   ]
  },
  {
   "cell_type": "markdown",
   "metadata": {
    "slideshow": {
     "slide_type": "slide"
    }
   },
   "source": [
    "# Measuring generalization performance: ROC curve\n",
    "- In general, no single algorithm has the best sensitivity and specificity simultaneously.\n",
    "- Some algorithms offer a range of sensitivity/specificity points.  ROC curve displays this\n",
    "\n",
    "<center><img src=\"./images/unit-06/unit-06-0_ama10.png\" width=\"100%\" align=\"center\"></center>"
   ]
  },
  {
   "cell_type": "markdown",
   "metadata": {
    "slideshow": {
     "slide_type": "slide"
    }
   },
   "source": [
    "# Measuring generalization performance: ROC curve (2)\n",
    "- We will classify as spam if classifier thinks with more than 50% probability.  \n",
    "\n",
    "<br>\n",
    "<center><img src=\"./images/unit-06/unit-06-0_ama11.png\" width=\"100%\" align=\"center\"></center>"
   ]
  },
  {
   "cell_type": "markdown",
   "metadata": {
    "slideshow": {
     "slide_type": "slide"
    }
   },
   "source": [
    "# Measuring generalization performance: ROC curve (3)\n",
    "- **Less stringent, we will classify as spam if P(spam) > 0.1**\n",
    "\n",
    "<br>\n",
    "<center><img src=\"./images/unit-06/unit-06-0_ama12.png\" width=\"100%\" align=\"center\"></center>"
   ]
  },
  {
   "cell_type": "markdown",
   "metadata": {
    "slideshow": {
     "slide_type": "slide"
    }
   },
   "source": [
    "# Measuring generalization performance: ROC curve (4)\n",
    "- We can put the two thresholds $\\theta = 0.5$ and $\\theta = 0.1$ in a plot.\n",
    "\n",
    "<br>\n",
    "<center><img src=\"./images/unit-06/unit-06-0_ama13.png\" width=\"50%\" align=\"center\"></center>"
   ]
  },
  {
   "cell_type": "markdown",
   "metadata": {
    "slideshow": {
     "slide_type": "slide"
    }
   },
   "source": [
    "# Measuring generalization performance: ROC curve  (5)\n",
    "- We can do this for every threshold value and plot the result as a curve.  \n",
    "<br>\n",
    "<center><img src=\"./images/unit-06/unit-06-0_ama14.png\" width=\"50%\" align=\"center\"></center>\n",
    "<br>\n",
    "<u>**Activity**</u>: can you guess the curve of a random classifier?"
   ]
  },
  {
   "cell_type": "markdown",
   "metadata": {
    "slideshow": {
     "slide_type": "slide"
    }
   },
   "source": [
    "# Measuring generalization performance: ROC curve (6)\n",
    "- We can do this for every threshold value and plot the result as follows:  \n",
    "\n",
    "<br>\n",
    "<div class=\"container2\">\n",
    "  <div class=\"row2\">\n",
    "    <div class=\"col-8\">\n",
    "      <center><img src=\"./images/unit-06/unit-06-0_ama15_2.png\" width=\"50%\" align=\"center\"></center>\n",
    "    </div>\n",
    "  <div class=\"col-4\">\n",
    "    <br>  \n",
    "    <p>A measure that combines all thresholds is the **Area Under the ROC Curve (AUC)**</p>\n",
    "</div>     "
   ]
  },
  {
   "cell_type": "markdown",
   "metadata": {
    "slideshow": {
     "slide_type": "slide"
    }
   },
   "source": [
    "# Area under the ROC curve (AUC)\n",
    "\n",
    "- It is hard to interpret but:\n",
    "    - It can be thought as how good is the model to rank the probabilities with the real labels\n",
    "- The **AUC** is 1/2 if the classifier is *random* or *constant*\n",
    "- **Activity: show that the AUC is in fact 1/2 for a random predictor**"
   ]
  },
  {
   "cell_type": "markdown",
   "metadata": {
    "slideshow": {
     "slide_type": "slide"
    }
   },
   "source": [
    "# AUC for random prediction\n",
    "\n",
    "- AP, AN, PP, PN mean actual positive, actual negative, predicted positive, and predictived negative, respectively\n",
    "- There are $n$ cases in total\n",
    "\n",
    "| .  | PP|PN |\n",
    "|---|---|---|\n",
    "| AP| TP|FN |\n",
    "| AN| FP|TN |\n",
    "\n",
    "- Cases are gonna randomly fall on PP and PN. \n",
    "- For a given threshold $\\theta$, FP = $(1-\\theta)$AN and TN=$\\theta$AN, and similarly TP=$(1-\\theta)$AP and FN=$\\theta$AP\n",
    "- FPR = $(1-\\theta)$AN/($(1-\\theta)$AN + $\\theta$AN) = $1-\\theta$\n",
    "- Therefore, AUC = $\\frac{1}{2}$"
   ]
  },
  {
   "cell_type": "markdown",
   "metadata": {
    "slideshow": {
     "slide_type": "slide"
    }
   },
   "source": [
    "# AUC for constant prediction\n",
    "- As we move the threshold there will be a change between all points being in PP to PN, or viceverse.\n",
    "- There two points will have FPR=TPR=0 and FPR=TPR=1 respectively\n",
    "- By interpolation, AUC = $\\frac{1}{2}$"
   ]
  },
  {
   "cell_type": "markdown",
   "metadata": {
    "slideshow": {
     "slide_type": "slide"
    }
   },
   "source": [
    "# Take home message\n",
    "- Always keep the testing dataset in vault until the end of your analysis.  \n",
    "\n",
    "- Use model selection to choose from models of different complexity.  \n",
    "\n",
    "- Stick to a loss function throughout your analysis.  \n",
    "\n",
    "- For classification problems, think carefully about the requirements of your problem.  \n",
    "\n",
    "- Be careful about the prevalence values."
   ]
  }
 ],
 "metadata": {
  "celltoolbar": "Slideshow",
  "kernelspec": {
   "display_name": "Python 3",
   "language": "python",
   "name": "python3"
  },
  "language_info": {
   "codemirror_mode": {
    "name": "ipython",
    "version": 3
   },
   "file_extension": ".py",
   "mimetype": "text/x-python",
   "name": "python",
   "nbconvert_exporter": "python",
   "pygments_lexer": "ipython3",
   "version": "3.8.8"
  },
  "latex_envs": {
   "LaTeX_envs_menu_present": true,
   "autoclose": false,
   "autocomplete": true,
   "bibliofile": "biblio.bib",
   "cite_by": "apalike",
   "current_citInitial": 1,
   "eqLabelWithNumbers": true,
   "eqNumInitial": 1,
   "hotkeys": {
    "equation": "Ctrl-E",
    "itemize": "Ctrl-I"
   },
   "labels_anchors": false,
   "latex_user_defs": false,
   "report_style_numbering": false,
   "user_envs_cfg": false
  },
  "rise": {
   "chalkboard": {
    "color": [
     "rgb(250, 250, 250)",
     "rgb(250, 250, 250)"
    ]
   },
   "enable_chalkboard": true,
   "footer": "<h3><span style='color: orange'>Science of Science Summer School 2021</span> &#x2014; https://s4.scienceofscience.org &#x2014; (Virtually) hosted by School of Information Studies, Syracuse University: &#x2014; 07/26 - 08/6 <br>Vector art from <a href='https://www.freepik.com/'>https://www.freepik.com/</a></h3>",
   "header": "<h3>Day 2 - ML/AI</h3>",
   "show_buttons_on_startup": false,
   "slideNumber": true,
   "theme": "white"
  },
  "toc": {
   "base_numbering": 1,
   "nav_menu": {},
   "number_sections": false,
   "sideBar": true,
   "skip_h1_title": false,
   "title_cell": "Table of Contents",
   "title_sidebar": "Contents",
   "toc_cell": false,
   "toc_position": {},
   "toc_section_display": true,
   "toc_window_display": false
  }
 },
 "nbformat": 4,
 "nbformat_minor": 4
}
