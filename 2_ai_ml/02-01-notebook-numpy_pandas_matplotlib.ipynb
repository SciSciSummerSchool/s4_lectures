{
 "cells": [
  {
   "cell_type": "markdown",
   "id": "3e30dbf5-35ed-4dd4-957a-c6a9ed75c8c0",
   "metadata": {},
   "source": [
    "# Pandas"
   ]
  },
  {
   "cell_type": "markdown",
   "id": "b1a2de20-ee3f-4c49-958b-86dce53bdf26",
   "metadata": {},
   "source": [
    "Sometimes, we want to store 2 dimensional data and give a name to each column. Pandas allows us to do that and keep some of the `numpy` funcionality"
   ]
  },
  {
   "cell_type": "code",
   "execution_count": null,
   "id": "c52b1f07-57fc-401b-a2b8-a70e9cbb78b7",
   "metadata": {},
   "outputs": [],
   "source": [
    "import pandas as pd"
   ]
  },
  {
   "cell_type": "code",
   "execution_count": null,
   "id": "9e5d89b8-ace9-4300-a13d-a4faa9357b26",
   "metadata": {},
   "outputs": [],
   "source": [
    "import numpy as np"
   ]
  },
  {
   "cell_type": "code",
   "execution_count": null,
   "id": "92a85dd7-ba86-4e93-81f3-aaa882d07857",
   "metadata": {},
   "outputs": [],
   "source": [
    "X = np.random.normal(size=(100, 5))"
   ]
  },
  {
   "cell_type": "code",
   "execution_count": null,
   "id": "b95fb8a8-e8c7-4534-9344-163a5b61d56d",
   "metadata": {},
   "outputs": [],
   "source": [
    "X_pd = pd.DataFrame(X)\n",
    "X_pd"
   ]
  },
  {
   "cell_type": "markdown",
   "id": "22a99926-9ec8-4466-9280-82185a3c31f0",
   "metadata": {},
   "source": [
    "Now, we have names for each of the rows and columns."
   ]
  },
  {
   "cell_type": "markdown",
   "id": "324653a3-b685-4554-ab7a-ebc4a85c6dd8",
   "metadata": {},
   "source": [
    "But it is more interesting to give meaninful names to the columns."
   ]
  },
  {
   "cell_type": "markdown",
   "id": "c48f568d-ed15-480e-b68d-2a9972dc6dfe",
   "metadata": {},
   "source": [
    "We can create `Series` (Pandas' vectors) and make them be columns"
   ]
  },
  {
   "cell_type": "code",
   "execution_count": null,
   "id": "81e02480-d9fd-4504-a273-2c892bb0737d",
   "metadata": {},
   "outputs": [],
   "source": [
    "x_s = pd.Series([1, 2, 3, 4])\n",
    "y_s = pd.Series([-1, -2, -3, -4])"
   ]
  },
  {
   "cell_type": "code",
   "execution_count": null,
   "id": "c325f160-c7d3-4b21-8fdc-df136dd95371",
   "metadata": {},
   "outputs": [],
   "source": [
    "x_s"
   ]
  },
  {
   "cell_type": "code",
   "execution_count": null,
   "id": "001bec15-ec81-4e2a-8bc5-6122fb133a70",
   "metadata": {},
   "outputs": [],
   "source": [
    "y_s"
   ]
  },
  {
   "cell_type": "code",
   "execution_count": null,
   "id": "70d00293-a6a2-4ca8-a038-6009dcce95fa",
   "metadata": {},
   "outputs": [],
   "source": [
    "XY = pd.DataFrame({'x': x_s, 'y': y_s})\n",
    "XY"
   ]
  },
  {
   "cell_type": "markdown",
   "id": "f0979504-d25a-428f-b1d2-aa6a6f72d23e",
   "metadata": {},
   "source": [
    "Now we can access columns by name"
   ]
  },
  {
   "cell_type": "code",
   "execution_count": null,
   "id": "fe61d31d-51d6-4671-b629-923baa2cbc9d",
   "metadata": {},
   "outputs": [],
   "source": [
    "XY['x']"
   ]
  },
  {
   "cell_type": "code",
   "execution_count": null,
   "id": "e2e052f1-0d67-4303-8f6a-39a63842ef03",
   "metadata": {},
   "outputs": [],
   "source": [
    "XY['x']"
   ]
  },
  {
   "cell_type": "code",
   "execution_count": null,
   "id": "6b6dc40a-b859-4cb4-9a0a-8754f42e380c",
   "metadata": {},
   "outputs": [],
   "source": [
    "XY[['y', 'x']]"
   ]
  },
  {
   "cell_type": "code",
   "execution_count": null,
   "id": "0784a08f-fbfd-44ee-a7b0-07c8ee1a4e55",
   "metadata": {},
   "outputs": [],
   "source": [
    "2*XY"
   ]
  },
  {
   "cell_type": "markdown",
   "id": "c7f9998a-2611-41fb-9415-1a3b1485c37f",
   "metadata": {},
   "source": [
    "We can also transpose:"
   ]
  },
  {
   "cell_type": "code",
   "execution_count": null,
   "id": "457aebb1-4c47-4c85-ba93-8c540d8f1584",
   "metadata": {},
   "outputs": [],
   "source": [
    "XY.T"
   ]
  },
  {
   "cell_type": "markdown",
   "id": "2e3c6275-31a3-4905-b694-319b3eaff978",
   "metadata": {},
   "source": [
    "Pandas' DataFrames make it easy to load data from multiple formats"
   ]
  },
  {
   "cell_type": "code",
   "execution_count": null,
   "id": "86326f77-f695-437a-86a6-1c3bbd209ad5",
   "metadata": {},
   "outputs": [],
   "source": [
    "?pd.DataFrame"
   ]
  },
  {
   "cell_type": "markdown",
   "id": "9a4ae6cc-d014-4520-b387-186a34ac66fb",
   "metadata": {},
   "source": [
    "Pandas can hold multiple types of objects"
   ]
  },
  {
   "cell_type": "code",
   "execution_count": null,
   "id": "1e681d19-ae3f-4b95-975e-f70259a12354",
   "metadata": {},
   "outputs": [],
   "source": [
    "df2 = pd.DataFrame({ 'A' : 1.,\n",
    "'B' : pd.Timestamp('20130102'),\n",
    "'C' : pd.Series(1,index=list(range(4)),dtype='float32'),\n",
    "'D' : np.array([3] * 4,dtype='int32'),\n",
    "'E' : pd.Categorical([\"test\",\"train\",\"test\",\"train\"]),\n",
    "'F' : 'foo' })"
   ]
  },
  {
   "cell_type": "code",
   "execution_count": null,
   "id": "fb34ab47-f51a-4a08-9e2d-fbcad94339ad",
   "metadata": {},
   "outputs": [],
   "source": [
    "df2"
   ]
  },
  {
   "cell_type": "code",
   "execution_count": null,
   "id": "f096f2aa-d764-4c8d-9229-cb0b2a1b19fd",
   "metadata": {},
   "outputs": [],
   "source": [
    "# each column has its own type\n",
    "df2.dtypes"
   ]
  },
  {
   "cell_type": "code",
   "execution_count": null,
   "id": "67659bf9-c394-4ae1-a921-1b829acffa6b",
   "metadata": {},
   "outputs": [],
   "source": [
    "df2.head()"
   ]
  },
  {
   "cell_type": "code",
   "execution_count": null,
   "id": "d309c7c3-b3c7-4df1-991a-f8683a283142",
   "metadata": {},
   "outputs": [],
   "source": [
    "df2.tail()"
   ]
  },
  {
   "cell_type": "code",
   "execution_count": null,
   "id": "02a043e1-62e5-442b-87af-9c8fae5c7a29",
   "metadata": {},
   "outputs": [],
   "source": [
    "# underlying a pandas, there are three things: index, columns, and data\n",
    "df2.index"
   ]
  },
  {
   "cell_type": "code",
   "execution_count": null,
   "id": "f19ef785-f34e-4df5-bd2e-844390acb3e1",
   "metadata": {},
   "outputs": [],
   "source": [
    "df2.columns"
   ]
  },
  {
   "cell_type": "code",
   "execution_count": null,
   "id": "dfd11421-abb4-4c4c-8b64-c7684b2f663d",
   "metadata": {},
   "outputs": [],
   "source": [
    "df2.values"
   ]
  },
  {
   "cell_type": "code",
   "execution_count": null,
   "id": "1a4018a9-945d-4827-ab0c-83781b44ddd7",
   "metadata": {},
   "outputs": [],
   "source": [
    "# you can do many operations that were available in numpy\n",
    "df2.T"
   ]
  },
  {
   "cell_type": "code",
   "execution_count": null,
   "id": "62ac1541-a762-45a6-8815-5f4d144caf02",
   "metadata": {},
   "outputs": [],
   "source": [
    "# we will create another dataframe\n",
    "index = pd.date_range('1/1/2000', periods=8)\n",
    "s = pd.Series(np.random.randn(5), index=['a', 'b', 'c', 'd', 'e'])\n",
    "df = pd.DataFrame(np.random.randn(8, 3), index=index,\n",
    "  columns=['A', 'B', 'C'])"
   ]
  },
  {
   "cell_type": "code",
   "execution_count": null,
   "id": "fbef9ed0-dc3f-4052-9379-5d0461b459ed",
   "metadata": {},
   "outputs": [],
   "source": [
    "# now the index is the date\n",
    "df"
   ]
  },
  {
   "cell_type": "code",
   "execution_count": null,
   "id": "8c81cec1-f1c7-4088-b4ef-07e519d8f143",
   "metadata": {},
   "outputs": [],
   "source": [
    "# you can access the columns\n",
    "df['A']"
   ]
  },
  {
   "cell_type": "code",
   "execution_count": null,
   "id": "be610c31-5d97-4801-8d5c-5f74ef0c6ea1",
   "metadata": {},
   "outputs": [],
   "source": [
    "# you can access the rows in multiple ways: .loc and .iloc are the most common\n",
    "# .loc accesses the label\n",
    "# .iloc access by index\n",
    "df.loc['2000-01-02']"
   ]
  },
  {
   "cell_type": "code",
   "execution_count": null,
   "id": "2f22e445-1dfd-4c13-88fc-6153abdb1343",
   "metadata": {},
   "outputs": [],
   "source": [
    "df.iloc[0]"
   ]
  },
  {
   "cell_type": "code",
   "execution_count": null,
   "id": "1f8393dd-228c-4a13-8106-f3aa64e382d5",
   "metadata": {},
   "outputs": [],
   "source": [
    "# this returns a pandas\n",
    "df.loc[:, ['A', 'B']]"
   ]
  },
  {
   "cell_type": "code",
   "execution_count": null,
   "id": "7cb44601-106e-40ff-ad4d-da76a697d12f",
   "metadata": {},
   "outputs": [],
   "source": [
    "# similarly with position\n",
    "df.iloc[5:6, :]"
   ]
  },
  {
   "cell_type": "code",
   "execution_count": null,
   "id": "f9162499-e34f-48cb-b959-f75760866c01",
   "metadata": {},
   "outputs": [],
   "source": [
    "# selection by boolean indexing\n",
    "df[df.A>0]"
   ]
  },
  {
   "cell_type": "code",
   "execution_count": null,
   "id": "a9766c1e-5e74-43b1-b469-af6570c44d7a",
   "metadata": {},
   "outputs": [],
   "source": [
    "# it will put nan to the things that don't match\n",
    "df[df>0]"
   ]
  },
  {
   "cell_type": "code",
   "execution_count": null,
   "id": "99f55f81-9d76-4cbe-ba31-ae3a0a4b625d",
   "metadata": {},
   "outputs": [],
   "source": [
    "# you can deal with missing data\n",
    "df[df>0].dropna()"
   ]
  },
  {
   "cell_type": "code",
   "execution_count": null,
   "id": "e72b817d-22cf-42c4-8ad1-e2ecb932237d",
   "metadata": {},
   "outputs": [],
   "source": [
    "# replace nas by some value\n",
    "df[df>0].fillna(value=0)"
   ]
  },
  {
   "cell_type": "code",
   "execution_count": null,
   "id": "bb10f65f-b2d3-4396-8907-512c034c23c2",
   "metadata": {},
   "outputs": [],
   "source": [
    "# you can do operations\n",
    "df['A'].mean()"
   ]
  },
  {
   "cell_type": "code",
   "execution_count": null,
   "id": "729432a8-71d6-4844-ac5d-88df41f466a4",
   "metadata": {},
   "outputs": [],
   "source": [
    "df.std()"
   ]
  },
  {
   "cell_type": "markdown",
   "id": "622e8ae5-defe-4fb7-a3cf-476ec743943d",
   "metadata": {},
   "source": [
    "## Apply functions"
   ]
  },
  {
   "cell_type": "markdown",
   "id": "47f9637f-8df6-4fd4-993b-f559a37706c5",
   "metadata": {},
   "source": [
    "you can apply functions to individual columns"
   ]
  },
  {
   "cell_type": "code",
   "execution_count": null,
   "id": "b6d3b447-95f6-46b7-a2da-62434f709c95",
   "metadata": {},
   "outputs": [],
   "source": [
    "# the function should expect to receive a series\n",
    "df.apply(lambda x: x - x.mean())"
   ]
  },
  {
   "cell_type": "code",
   "execution_count": null,
   "id": "6bb45481-1aeb-458c-b925-5d86270bd8f6",
   "metadata": {},
   "outputs": [],
   "source": [
    "# you apply a function to each cell by using applymap\n",
    "df.applymap(lambda x: 0 if x > 0 else 1)"
   ]
  },
  {
   "cell_type": "markdown",
   "id": "f7750c9b-a081-4300-b96a-deaa895495c6",
   "metadata": {},
   "source": [
    "## Concatenating"
   ]
  },
  {
   "cell_type": "code",
   "execution_count": null,
   "id": "36c1cb90-8b50-43d3-8253-225e19a84842",
   "metadata": {},
   "outputs": [],
   "source": [
    "df3 = pd.DataFrame(np.random.randn(8, 4))"
   ]
  },
  {
   "cell_type": "code",
   "execution_count": null,
   "id": "20b235bf-bde5-41fa-ae1c-df5e6bb25572",
   "metadata": {},
   "outputs": [],
   "source": [
    "# it tryings to be clever and concat by index\n",
    "pd.concat((df3, df))"
   ]
  },
  {
   "cell_type": "code",
   "execution_count": null,
   "id": "647073cd-373a-4c2e-8295-234a127c4567",
   "metadata": {},
   "outputs": [],
   "source": [
    "# this works because indices coincide\n",
    "pd.concat((df3[:3], df3[3:7]))"
   ]
  },
  {
   "cell_type": "markdown",
   "id": "c7cef448-ee51-4d9d-b840-016bb4a2a176",
   "metadata": {},
   "source": [
    "### joining\n",
    "Similar to SQL"
   ]
  },
  {
   "cell_type": "code",
   "execution_count": null,
   "id": "483b10eb-e5ce-42f6-a4f8-898024948d30",
   "metadata": {},
   "outputs": [],
   "source": [
    "left = pd.DataFrame({'key': ['foo', 'foo'], 'lval': [1, 2]})\n",
    "right = pd.DataFrame({'key': ['foo', 'foo'], 'rval': [4, 5]})"
   ]
  },
  {
   "cell_type": "code",
   "execution_count": null,
   "id": "b9dad84c-5c15-4bfb-9c4f-50d2f14d011e",
   "metadata": {},
   "outputs": [],
   "source": [
    "pd.merge(left, right, on = 'key')"
   ]
  },
  {
   "cell_type": "markdown",
   "id": "be2e0ca7-d2a1-4020-bd3f-25a2991c5aab",
   "metadata": {},
   "source": [
    "## Grouping\n",
    "\n",
    "It consists of\n",
    "\n",
    "- Splitting the data into groups based on some criteria\n",
    "- Applying a function to each group independently\n",
    "- Combining the results into a data structure"
   ]
  },
  {
   "cell_type": "code",
   "execution_count": null,
   "id": "613f0463-bb6b-4e7e-9243-fe4afdab09da",
   "metadata": {},
   "outputs": [],
   "source": [
    "df = pd.DataFrame({'A' : ['foo', 'bar', 'foo', 'bar',\n",
    "'foo', 'bar', 'foo', 'foo'],\n",
    "'B' : ['one', 'one', 'two', 'three',\n",
    "'two', 'two', 'one', 'three'],\n",
    "'C' : np.random.randn(8),\n",
    "'D' : np.random.randn(8)})"
   ]
  },
  {
   "cell_type": "code",
   "execution_count": null,
   "id": "86a77cdd-754b-4b8e-a122-851219b89631",
   "metadata": {},
   "outputs": [],
   "source": [
    "df.groupby('A').sum()"
   ]
  },
  {
   "cell_type": "code",
   "execution_count": null,
   "id": "eec3ab37-67bb-493f-9428-b1172405d64c",
   "metadata": {},
   "outputs": [],
   "source": [
    "df.groupby(['A', 'B']).sum()"
   ]
  },
  {
   "cell_type": "markdown",
   "id": "c4b367d5-f092-4cea-b0b5-fd27900794b0",
   "metadata": {},
   "source": [
    "### complex grouping\n",
    "sometimes you want to apply compex functions to each group. You can do so by creating a function that receives each of the groups and returns a dataframe"
   ]
  },
  {
   "cell_type": "code",
   "execution_count": null,
   "id": "a1a63467-7b6c-4004-aa25-87e7717bc984",
   "metadata": {},
   "outputs": [],
   "source": [
    "group = df.groupby('A')"
   ]
  },
  {
   "cell_type": "code",
   "execution_count": null,
   "id": "5ff7b151-7156-4f87-a0c3-1b194cd17db8",
   "metadata": {},
   "outputs": [],
   "source": [
    "group"
   ]
  },
  {
   "cell_type": "code",
   "execution_count": null,
   "id": "e59c90b9-3d69-44ab-903c-f92a82caa881",
   "metadata": {},
   "outputs": [],
   "source": [
    "def top1(g):\n",
    "  # simply return top row for each group\n",
    "  return g.iloc[[0]]"
   ]
  },
  {
   "cell_type": "code",
   "execution_count": null,
   "id": "3d018418-470c-43f6-a5cd-0220b4e95f53",
   "metadata": {},
   "outputs": [],
   "source": [
    "group.apply(generate_dataframe)"
   ]
  },
  {
   "cell_type": "markdown",
   "id": "91bca6fb",
   "metadata": {},
   "source": [
    "# Data Transformation with Pandas (MAG examples)"
   ]
  },
  {
   "cell_type": "markdown",
   "id": "66b412c3",
   "metadata": {},
   "source": [
    "Pandas is a popular Python package for data transformation. It is open source (BSD-licensed). It provides efficient, easy-to-use data transformation and analusis tools. In the following section, we will show you how to use Pandas to transform and analyze tabular data.  "
   ]
  },
  {
   "cell_type": "markdown",
   "id": "01b1715a",
   "metadata": {},
   "source": [
    "------------------------------------------------------------------------------  "
   ]
  },
  {
   "cell_type": "markdown",
   "id": "5ca219c5",
   "metadata": {},
   "source": [
    "We import numpy and pandas as follows, we assign alias of packages after the term \"as\" so we don't need to type in the full name of the package every time we use it  "
   ]
  },
  {
   "cell_type": "code",
   "execution_count": null,
   "id": "11c52025",
   "metadata": {},
   "outputs": [],
   "source": [
    "import numpy as np\n",
    "import pandas as pd"
   ]
  },
  {
   "cell_type": "markdown",
   "id": "313330ff",
   "metadata": {},
   "source": [
    "## Loading Datasets with Pandas"
   ]
  },
  {
   "cell_type": "markdown",
   "id": "836c0fc5",
   "metadata": {},
   "source": [
    "With Pandas, we can read tables of different format (csv. json, parquet, ...)  \n",
    "  \n",
    "In our case, we are reading a table in csv. The table \"Papers\" is a part of the Microsoft Academic Graph. The table includes publication information, such as title, publish year, publisher, ...  "
   ]
  },
  {
   "cell_type": "code",
   "execution_count": null,
   "id": "b38aa5f7",
   "metadata": {},
   "outputs": [],
   "source": [
    "Papers = pd.read_csv('~/datasets/s4/MAG/Papers.csv')"
   ]
  },
  {
   "cell_type": "markdown",
   "id": "55ba3f02",
   "metadata": {},
   "source": [
    "By calling:   \n",
    "```python\n",
    "Papers.head()\n",
    "```\n",
    "we can view the first five lines of the datast"
   ]
  },
  {
   "cell_type": "markdown",
   "id": "d21ea9d2",
   "metadata": {},
   "source": [
    "## Brief Overview of the Data"
   ]
  },
  {
   "cell_type": "code",
   "execution_count": null,
   "id": "7d099471",
   "metadata": {},
   "outputs": [],
   "source": [
    "Papers.head()"
   ]
  },
  {
   "cell_type": "markdown",
   "id": "592a04b8",
   "metadata": {},
   "source": [
    "By calling:   \n",
    "```python\n",
    "Papers.tail()\n",
    "```\n",
    "we can view the last five lines of the datast"
   ]
  },
  {
   "cell_type": "code",
   "execution_count": null,
   "id": "041647e3",
   "metadata": {},
   "outputs": [],
   "source": [
    "Papers.tail()"
   ]
  },
  {
   "cell_type": "markdown",
   "id": "43fcd412",
   "metadata": {},
   "source": [
    "We can also assign the number of lines we want to view:"
   ]
  },
  {
   "cell_type": "code",
   "execution_count": null,
   "id": "4783a02a",
   "metadata": {
    "scrolled": true
   },
   "outputs": [],
   "source": [
    "Papers.head(10)"
   ]
  },
  {
   "cell_type": "markdown",
   "id": "44b86110",
   "metadata": {},
   "source": [
    "we can check all the column names"
   ]
  },
  {
   "cell_type": "code",
   "execution_count": null,
   "id": "b2c7150c",
   "metadata": {},
   "outputs": [],
   "source": [
    "Papers.columns"
   ]
  },
  {
   "cell_type": "markdown",
   "id": "144890f9",
   "metadata": {},
   "source": [
    "We cam also check the datatype of different columns in the dataframe"
   ]
  },
  {
   "cell_type": "code",
   "execution_count": null,
   "id": "9747c12c",
   "metadata": {},
   "outputs": [],
   "source": [
    "Papers.dtypes"
   ]
  },
  {
   "cell_type": "markdown",
   "id": "cf087a4b",
   "metadata": {},
   "source": [
    "We can get basic statistic summary"
   ]
  },
  {
   "cell_type": "code",
   "execution_count": null,
   "id": "d9e7b2ec",
   "metadata": {},
   "outputs": [],
   "source": [
    "Papers.describe()"
   ]
  },
  {
   "cell_type": "markdown",
   "id": "110b14c8",
   "metadata": {},
   "source": [
    "To select a part of the dataframe, for example, a column in a dataframe, we can either use a square bracket or a dot: "
   ]
  },
  {
   "cell_type": "code",
   "execution_count": null,
   "id": "e0894b45",
   "metadata": {},
   "outputs": [],
   "source": [
    "Papers['PaperTitle']"
   ]
  },
  {
   "cell_type": "code",
   "execution_count": null,
   "id": "fedb4eed",
   "metadata": {},
   "outputs": [],
   "source": [
    "Papers.PaperTitle"
   ]
  },
  {
   "cell_type": "code",
   "execution_count": null,
   "id": "a8e32929",
   "metadata": {},
   "outputs": [],
   "source": [
    "Papers[['PaperTitle', 'Year']]"
   ]
  },
  {
   "cell_type": "markdown",
   "id": "be23f962",
   "metadata": {},
   "source": [
    "With square bracket, we can slices the rows"
   ]
  },
  {
   "cell_type": "markdown",
   "id": "f0e7cbc1",
   "metadata": {},
   "source": [
    "## Indexing and Selecting Data"
   ]
  },
  {
   "cell_type": "code",
   "execution_count": null,
   "id": "6f301a61",
   "metadata": {},
   "outputs": [],
   "source": [
    "Papers[0:3]"
   ]
  },
  {
   "cell_type": "markdown",
   "id": "f05fa555",
   "metadata": {},
   "source": [
    "By Calling\n",
    "```python\n",
    ".sort_values()\n",
    "```\n",
    "We can sort a dataframe by the value of a column"
   ]
  },
  {
   "cell_type": "code",
   "execution_count": null,
   "id": "909a9184",
   "metadata": {},
   "outputs": [],
   "source": [
    "Papers.\\\n",
    "    sort_values(by = 'CitationCount', \n",
    "                ascending = False)[['PaperTitle', 'CitationCount']][0:20]"
   ]
  },
  {
   "cell_type": "markdown",
   "id": "16c8b3af",
   "metadata": {},
   "source": [
    "We can also use\n",
    "```python\n",
    ".loc[]\n",
    "```\n",
    "to make selection by label. \n",
    "We may do that using this format:\n",
    "```python\n",
    "df.loc[indics, column names]\n",
    "```"
   ]
  },
  {
   "cell_type": "code",
   "execution_count": null,
   "id": "a49cbf40",
   "metadata": {
    "scrolled": true
   },
   "outputs": [],
   "source": [
    "Papers.loc[1:4, 'PaperTitle']"
   ]
  },
  {
   "cell_type": "markdown",
   "id": "36f509b2",
   "metadata": {},
   "source": [
    "Select multiple columns"
   ]
  },
  {
   "cell_type": "code",
   "execution_count": null,
   "id": "47b61da7",
   "metadata": {
    "scrolled": true
   },
   "outputs": [],
   "source": [
    "Papers.loc[1:4, ['PaperTitle', 'CitationCount']]"
   ]
  },
  {
   "cell_type": "markdown",
   "id": "d5fe8215",
   "metadata": {},
   "source": [
    "Using\n",
    "```python\n",
    ".iloc[]\n",
    "```\n",
    "we can make selection by position(index). \n",
    "We may do that using this format:\n",
    "```python\n",
    "df.iloc[row position, column position]\n",
    "```"
   ]
  },
  {
   "cell_type": "code",
   "execution_count": null,
   "id": "791f9778",
   "metadata": {},
   "outputs": [],
   "source": [
    "Papers.iloc[[1, 3, 5], [2, 4, 6]]"
   ]
  },
  {
   "cell_type": "code",
   "execution_count": null,
   "id": "b4b40f01",
   "metadata": {},
   "outputs": [],
   "source": [
    "Papers.iloc[1:5, 2:4]"
   ]
  },
  {
   "cell_type": "markdown",
   "id": "6ad605c9",
   "metadata": {},
   "source": [
    "We can also select rows by condition"
   ]
  },
  {
   "cell_type": "code",
   "execution_count": null,
   "id": "0558112c",
   "metadata": {
    "scrolled": true
   },
   "outputs": [],
   "source": [
    "Papers[Papers['CitationCount'] >= 100]"
   ]
  },
  {
   "cell_type": "markdown",
   "id": "18e55a4f",
   "metadata": {},
   "source": [
    "Most of the data we use might be dirty, in a sense that it includes a lot of NaN values. With Pandas we can either remove rows with NaNs or fill NaN with another value"
   ]
  },
  {
   "cell_type": "markdown",
   "id": "f57d1885",
   "metadata": {},
   "source": [
    "## Removing NaN"
   ]
  },
  {
   "cell_type": "code",
   "execution_count": null,
   "id": "11d744e0",
   "metadata": {
    "scrolled": true
   },
   "outputs": [],
   "source": [
    "Papers[['DocType', 'PaperTitle', 'CitationCount']].dropna()"
   ]
  },
  {
   "cell_type": "markdown",
   "id": "c258946a",
   "metadata": {},
   "source": [
    "Some time by removing rows with NaN, we might loss a lot of information. In the following example, we lost data because a lot of publication in the dataset is missing document type. Removing all the rows with NaN might bring undesired results. "
   ]
  },
  {
   "cell_type": "code",
   "execution_count": null,
   "id": "a99ba28f",
   "metadata": {},
   "outputs": [],
   "source": [
    "len(Papers[['DocType', 'PaperTitle', 'CitationCount']]), len(Papers[['DocType', 'PaperTitle', 'CitationCount']].dropna())"
   ]
  },
  {
   "cell_type": "markdown",
   "id": "668474ca",
   "metadata": {},
   "source": [
    "Instead of removing NaN, we can also fill those fields with other values:"
   ]
  },
  {
   "cell_type": "code",
   "execution_count": null,
   "id": "9b31a9b5",
   "metadata": {},
   "outputs": [],
   "source": [
    "Papers['DocType'].fillna('unknown')"
   ]
  },
  {
   "cell_type": "markdown",
   "id": "b86d334b",
   "metadata": {},
   "source": [
    "With Pandas, we can perform simple descriptive statistic:"
   ]
  },
  {
   "cell_type": "code",
   "execution_count": null,
   "id": "9b1159b9",
   "metadata": {},
   "outputs": [],
   "source": [
    "Papers.CitationCount.mean(), Papers.CitationCount.std()"
   ]
  },
  {
   "cell_type": "markdown",
   "id": "4c26a431",
   "metadata": {},
   "source": [
    "Counting the frequency of different categories in a dataframe:"
   ]
  },
  {
   "cell_type": "code",
   "execution_count": null,
   "id": "998c846c",
   "metadata": {},
   "outputs": [],
   "source": [
    "Papers.DocType.fillna('unknown').value_counts()"
   ]
  },
  {
   "cell_type": "markdown",
   "id": "7d3b620a",
   "metadata": {},
   "source": [
    "## Data Preprocessing"
   ]
  },
  {
   "cell_type": "markdown",
   "id": "a301ac99",
   "metadata": {},
   "source": [
    "Sometimes we want to apply an operation on a column, we can simply call\n",
    "```python\n",
    ".apply(func)\n",
    "```\n",
    "with ```func``` being the operation in the form of Python function"
   ]
  },
  {
   "cell_type": "code",
   "execution_count": null,
   "id": "fe4dee9e",
   "metadata": {},
   "outputs": [],
   "source": [
    "def published_recently(s):\n",
    "    if (2021 - s) <= 10:\n",
    "        return(True)\n",
    "    else:\n",
    "        return(False)\n",
    "\n",
    "Papers.Year.apply(published_recently)"
   ]
  },
  {
   "cell_type": "markdown",
   "id": "9031f249",
   "metadata": {},
   "source": [
    "There are many ways we can link two different dataframe. One way is to use ```pd.concat([])```"
   ]
  },
  {
   "cell_type": "code",
   "execution_count": null,
   "id": "d1894832",
   "metadata": {},
   "outputs": [],
   "source": [
    "pd.concat([Papers.Year, Papers.Year.apply(published_recently)], axis = 1)"
   ]
  },
  {
   "cell_type": "markdown",
   "id": "a5b6d03c",
   "metadata": {},
   "source": [
    "If we want to combine two dataframe with matching column values, we can use ```merge()```"
   ]
  },
  {
   "cell_type": "markdown",
   "id": "cac3cf46",
   "metadata": {},
   "source": [
    "Let's import another table:"
   ]
  },
  {
   "cell_type": "code",
   "execution_count": null,
   "id": "546d60a3",
   "metadata": {},
   "outputs": [],
   "source": [
    "PaperCitationContext = pd.read_csv('~/datasets/s4/MAG/PaperCitationContexts.csv')"
   ]
  },
  {
   "cell_type": "markdown",
   "id": "1b4f9425",
   "metadata": {},
   "source": [
    "Merge two dataframe matching PaperId to see what each paper is citing and the citaiton context"
   ]
  },
  {
   "cell_type": "code",
   "execution_count": null,
   "id": "92f035b4",
   "metadata": {},
   "outputs": [],
   "source": [
    "Papers.\\\n",
    "    merge(PaperCitationContext, how = 'inner', on = 'PaperId')[['PaperTitle', 'CitationContext']]"
   ]
  },
  {
   "cell_type": "markdown",
   "id": "bf41901d",
   "metadata": {},
   "source": [
    "We might want to look at simple descriptive statistic or apply complicated operation on data broken into different groups, we can use\n",
    "```python\n",
    ".groupby()\n",
    "```\n",
    "to do that. In the following case, we will calculate the average citation count for different document type:"
   ]
  },
  {
   "cell_type": "code",
   "execution_count": null,
   "id": "5aafb8fb",
   "metadata": {},
   "outputs": [],
   "source": [
    "Papers.groupby('DocType')['CitationCount'].mean()"
   ]
  },
  {
   "cell_type": "markdown",
   "id": "b192f6f3",
   "metadata": {},
   "source": [
    "In the following case, we are counting the number of documents of different document types"
   ]
  },
  {
   "cell_type": "code",
   "execution_count": null,
   "id": "79743b04",
   "metadata": {},
   "outputs": [],
   "source": [
    "Papers.groupby('DocType')['PaperId'].count()"
   ]
  },
  {
   "cell_type": "markdown",
   "id": "8ccc19d3",
   "metadata": {},
   "source": [
    "# Visualization with Matplotlib\n",
    "\n",
    "(code example from jakevdp/PythonDataScienceHandbook)"
   ]
  },
  {
   "cell_type": "markdown",
   "id": "0d5e2c08",
   "metadata": {},
   "source": [
    "### Importing Matplotlib\n",
    "\n",
    "Like the package NumPy and Pandas, we will also use `as` to shorten the package name for `Matplotlib`:"
   ]
  },
  {
   "cell_type": "code",
   "execution_count": null,
   "id": "9bcd7d7d",
   "metadata": {},
   "outputs": [],
   "source": [
    "import matplotlib.pyplot as plt"
   ]
  },
  {
   "cell_type": "markdown",
   "id": "d3a40267",
   "metadata": {},
   "source": [
    "### Setting Styles\n",
    "\n",
    "There are many [plot styles](https://matplotlib.org/stable/gallery/style_sheets/style_sheets_reference.html) matplotlib provides. In this notebook we will be using the `classic` style."
   ]
  },
  {
   "cell_type": "code",
   "execution_count": null,
   "id": "e3bbc762",
   "metadata": {},
   "outputs": [],
   "source": [
    "plt.style.use('classic')"
   ]
  },
  {
   "cell_type": "markdown",
   "id": "4eca5b80",
   "metadata": {},
   "source": [
    "#### Plotting from an IPython notebook\n",
    "\n",
    "- ``%matplotlib notebook``  *interactive* plots embedded within the notebook\n",
    "- ``%matplotlib inline``  *static* images of your plot embedded in the notebook\n",
    "\n",
    "\n"
   ]
  },
  {
   "cell_type": "code",
   "execution_count": null,
   "id": "ad2e0d78",
   "metadata": {},
   "outputs": [],
   "source": [
    "%matplotlib notebook"
   ]
  },
  {
   "cell_type": "markdown",
   "id": "d8498c3a",
   "metadata": {},
   "source": [
    "Lets plot cosine and sine"
   ]
  },
  {
   "cell_type": "code",
   "execution_count": null,
   "id": "a63dd20c",
   "metadata": {},
   "outputs": [],
   "source": [
    "import numpy as np\n",
    "x = np.linspace(0, 10, 100)\n",
    "\n",
    "fig = plt.figure()\n",
    "plt.plot(x, np.sin(x), '-')\n",
    "plt.plot(x, np.cos(x), '--');"
   ]
  },
  {
   "cell_type": "markdown",
   "id": "7717a444",
   "metadata": {},
   "source": [
    "We used [`np.linespace`](https://numpy.org/doc/stable/reference/generated/numpy.linspace.html), to create our data `x`. In short \n",
    "> np.linespace(starting number, end number, number of data points)"
   ]
  },
  {
   "cell_type": "markdown",
   "id": "4671cec4",
   "metadata": {},
   "source": [
    "## Two Plots in One Image"
   ]
  },
  {
   "cell_type": "markdown",
   "id": "aa8531db",
   "metadata": {},
   "source": [
    "Brief idea of subplot"
   ]
  },
  {
   "cell_type": "code",
   "execution_count": null,
   "id": "c1b1b916",
   "metadata": {},
   "outputs": [],
   "source": [
    "plt.figure()  # create a plot figure\n",
    "\n",
    "# create the first of two panels and set current axis\n",
    "plt.subplot(2, 1, 1) # (rows, columns, panel number)\n",
    "plt.plot(x, np.sin(x))\n",
    "\n",
    "# create the second panel and set current axis\n",
    "plt.subplot(2, 1, 2)\n",
    "plt.plot(x, np.cos(x));"
   ]
  },
  {
   "cell_type": "markdown",
   "id": "e2788c38",
   "metadata": {},
   "source": [
    "#### Object-oriented interface\n",
    "\n",
    "in the object-oriented interface the plotting functions are *methods* of explicit ``Figure`` and ``Axes`` objects"
   ]
  },
  {
   "cell_type": "code",
   "execution_count": null,
   "id": "256434c7",
   "metadata": {},
   "outputs": [],
   "source": [
    "# First create a grid of plots\n",
    "# ax will be an array of two Axes objects\n",
    "fig, ax = plt.subplots(2)\n",
    "\n",
    "# Call plot() method on the appropriate object\n",
    "ax[0].plot(x, np.sin(x))\n",
    "ax[1].plot(x, np.cos(x));"
   ]
  },
  {
   "cell_type": "markdown",
   "id": "9c61856f",
   "metadata": {},
   "source": [
    "## Simple Line Plots"
   ]
  },
  {
   "cell_type": "markdown",
   "id": "30f91397",
   "metadata": {},
   "source": [
    "line plot of a single function $y = f(x)$."
   ]
  },
  {
   "cell_type": "code",
   "execution_count": null,
   "id": "69e6f5a9",
   "metadata": {},
   "outputs": [],
   "source": [
    "%matplotlib inline\n",
    "import matplotlib.pyplot as plt\n",
    "plt.style.use('seaborn-whitegrid')\n",
    "import numpy as np\n",
    "fig = plt.figure()\n",
    "ax = plt.axes()\n",
    "\n",
    "x = np.linspace(0, 10, 1000)\n",
    "ax.plot(x, np.sin(x));"
   ]
  },
  {
   "cell_type": "markdown",
   "id": "d8bc8b42",
   "metadata": {},
   "source": [
    "create a single figure with multiple lines, we can call the ``plot`` function multiple times:"
   ]
  },
  {
   "cell_type": "code",
   "execution_count": null,
   "id": "ef399fc1",
   "metadata": {},
   "outputs": [],
   "source": [
    "plt.plot(x, np.sin(x))\n",
    "plt.plot(x, np.cos(x));"
   ]
  },
  {
   "cell_type": "markdown",
   "id": "1472f296",
   "metadata": {},
   "source": [
    "## Adjusting the Plot: Line Colors and Styles"
   ]
  },
  {
   "cell_type": "code",
   "execution_count": null,
   "id": "4118a4e7",
   "metadata": {},
   "outputs": [],
   "source": [
    "plt.plot(x, np.sin(x - 0), color='blue')        # specify color by name\n",
    "plt.plot(x, np.sin(x - 1), color='g')           # short color code (rgbcmyk)\n",
    "plt.plot(x, np.sin(x - 2), color='0.75')        # Grayscale between 0 and 1\n",
    "plt.plot(x, np.sin(x - 3), color='#FFDD44')     # Hex code (RRGGBB from 00 to FF)\n",
    "plt.plot(x, np.sin(x - 4), color=(1.0,0.2,0.3)) # RGB tuple, values 0 to 1\n",
    "plt.plot(x, np.sin(x - 5), color='chartreuse'); # all HTML color names supported"
   ]
  },
  {
   "cell_type": "code",
   "execution_count": null,
   "id": "690b7f2a",
   "metadata": {},
   "outputs": [],
   "source": [
    "plt.plot(x, x + 0, linestyle='solid')\n",
    "plt.plot(x, x + 1, linestyle='dashed')\n",
    "plt.plot(x, x + 2, linestyle='dashdot')\n",
    "plt.plot(x, x + 3, linestyle='dotted');\n",
    "\n",
    "# For short, you can use the following codes:\n",
    "plt.plot(x, x + 4, linestyle='-')  # solid\n",
    "plt.plot(x, x + 5, linestyle='--') # dashed\n",
    "plt.plot(x, x + 6, linestyle='-.') # dashdot\n",
    "plt.plot(x, x + 7, linestyle=':');  # dotted"
   ]
  },
  {
   "cell_type": "code",
   "execution_count": null,
   "id": "d5d2b657",
   "metadata": {},
   "outputs": [],
   "source": [
    "plt.plot(x, x + 0, '-g')  # solid green\n",
    "plt.plot(x, x + 1, '--c') # dashed cyan\n",
    "plt.plot(x, x + 2, '-.k') # dashdot black\n",
    "plt.plot(x, x + 3, ':r');  # dotted red"
   ]
  },
  {
   "cell_type": "markdown",
   "id": "e1a99be4",
   "metadata": {},
   "source": [
    "## Labeling Plots"
   ]
  },
  {
   "cell_type": "code",
   "execution_count": null,
   "id": "51cb8840",
   "metadata": {},
   "outputs": [],
   "source": [
    "plt.plot(x, np.sin(x))\n",
    "plt.title(\"A Sine Curve\")\n",
    "plt.xlabel(\"x\")\n",
    "plt.ylabel(\"sin(x)\");"
   ]
  },
  {
   "cell_type": "code",
   "execution_count": null,
   "id": "ad5766df",
   "metadata": {},
   "outputs": [],
   "source": [
    "plt.plot(x, np.sin(x), '-g', label='sin(x)')\n",
    "plt.plot(x, np.cos(x), ':b', label='cos(x)')\n",
    "plt.axis('equal')\n",
    "\n",
    "plt.legend();"
   ]
  },
  {
   "cell_type": "markdown",
   "id": "cde4c4d6",
   "metadata": {},
   "source": [
    "## Visualization with Seaborn"
   ]
  },
  {
   "cell_type": "markdown",
   "id": "4ca68006",
   "metadata": {},
   "source": [
    "#### Multi Line Plot with Legend"
   ]
  },
  {
   "cell_type": "code",
   "execution_count": null,
   "id": "5c6b4f51",
   "metadata": {},
   "outputs": [],
   "source": [
    "import matplotlib.pyplot as plt\n",
    "plt.style.use('classic')\n",
    "%matplotlib inline\n",
    "import numpy as np\n",
    "import pandas as pd"
   ]
  },
  {
   "cell_type": "code",
   "execution_count": null,
   "id": "a76ed9aa",
   "metadata": {},
   "outputs": [],
   "source": [
    "# Create some data\n",
    "rng = np.random.RandomState(0)\n",
    "x = np.linspace(0, 10, 500)\n",
    "y = np.cumsum(rng.randn(500, 6), 0) # create 6 array of number that adds up to 0"
   ]
  },
  {
   "cell_type": "code",
   "execution_count": null,
   "id": "512bfdcd",
   "metadata": {
    "scrolled": true
   },
   "outputs": [],
   "source": [
    "# Plot the data with Matplotlib defaults\n",
    "plt.plot(x, y)\n",
    "plt.legend('ABCDEF', ncol=2, loc='upper left');"
   ]
  },
  {
   "cell_type": "code",
   "execution_count": null,
   "id": "cc53f1b4",
   "metadata": {},
   "outputs": [],
   "source": [
    "import seaborn as sns\n",
    "sns.set() # using sns theme\n",
    "# same plotting code as above!\n",
    "plt.plot(x, y)\n",
    "plt.legend('ABCDEF', ncol=2, loc='upper left');"
   ]
  },
  {
   "cell_type": "markdown",
   "id": "cfac25dc",
   "metadata": {},
   "source": []
  },
  {
   "cell_type": "markdown",
   "id": "7f8996aa",
   "metadata": {},
   "source": [
    "### Pair plots\n",
    " *pair plots*. A quick visulization on the relationship between each columns in iris datas."
   ]
  },
  {
   "cell_type": "code",
   "execution_count": null,
   "id": "bdeb92ed",
   "metadata": {},
   "outputs": [],
   "source": [
    "iris = sns.load_dataset(\"iris\")\n",
    "iris.head()"
   ]
  },
  {
   "cell_type": "code",
   "execution_count": null,
   "id": "e9b4445f",
   "metadata": {},
   "outputs": [],
   "source": [
    "sns.pairplot(iris, hue='species', height=2.5);"
   ]
  },
  {
   "cell_type": "markdown",
   "id": "29c638b8",
   "metadata": {},
   "source": [
    "### Faceted histograms"
   ]
  },
  {
   "cell_type": "markdown",
   "id": "b89376c6",
   "metadata": {},
   "source": [
    "Create multiple plots with Facet. Below is a datasets of tips, we will analysis the percentage of tips custom give base on *sex* and *time*"
   ]
  },
  {
   "cell_type": "code",
   "execution_count": null,
   "id": "1308da4b",
   "metadata": {
    "scrolled": true
   },
   "outputs": [],
   "source": [
    "tips = sns.load_dataset('tips')\n",
    "tips.head()"
   ]
  },
  {
   "cell_type": "code",
   "execution_count": null,
   "id": "2feec1e7",
   "metadata": {},
   "outputs": [],
   "source": [
    "tips['tip_pct'] = 100 * tips['tip'] / tips['total_bill']\n",
    "\n",
    "grid = sns.FacetGrid(tips, row=\"sex\", col=\"time\", margin_titles=True)\n",
    "grid.map(plt.hist, \"tip_pct\", bins=np.linspace(0, 40, 15));"
   ]
  },
  {
   "cell_type": "markdown",
   "id": "47214086",
   "metadata": {},
   "source": [
    "### Factor plots"
   ]
  },
  {
   "cell_type": "markdown",
   "id": "f5ae6d8e",
   "metadata": {},
   "source": [
    "Some quick boxplots"
   ]
  },
  {
   "cell_type": "code",
   "execution_count": null,
   "id": "1ad57f7e",
   "metadata": {},
   "outputs": [],
   "source": [
    "with sns.axes_style(style='ticks'):\n",
    "    g = sns.catplot(x=\"day\", y=\"total_bill\", hue=\"sex\", data=tips, kind=\"box\")\n",
    "    g.set_axis_labels(\"Day\", \"Total Bill\");"
   ]
  },
  {
   "cell_type": "markdown",
   "id": "aacb0e2d",
   "metadata": {},
   "source": [
    "# Activity"
   ]
  },
  {
   "cell_type": "markdown",
   "id": "1baf4308",
   "metadata": {},
   "source": [
    "##### Can you create a line plot with matplotlib or seaborn showing trend of the number of papers between 2000 and 2010 in MAG papers dataset? \n",
    "![solution1](https://raw.githubusercontent.com/SciSciSummerSchool/s4_lectures/master/1_introduction/images/01_03_activity1.png)"
   ]
  },
  {
   "cell_type": "code",
   "execution_count": null,
   "id": "7f087e60",
   "metadata": {},
   "outputs": [],
   "source": [
    "Papers = pd.read_csv(\"~/datasets/s4/MAG/Papers.csv\")\n",
    "\n",
    "# Display without scientific notation\n",
    "ax = plt.axes()\n",
    "ax.ticklabel_format(useOffset=False)\n",
    "\n",
    "# code here\n",
    "#\n",
    "#\n",
    "# "
   ]
  },
  {
   "cell_type": "markdown",
   "id": "92c491ff",
   "metadata": {},
   "source": [
    "### Advanced (optional)"
   ]
  },
  {
   "cell_type": "markdown",
   "id": "c00095e1",
   "metadata": {},
   "source": [
    "##### Using matplotlib or seaborn, can you show the trend of citation numbers between 1950 and 2015 for different types of documents?\n",
    "![solution2](https://raw.githubusercontent.com/SciSciSummerSchool/s4_lectures/master/1_introduction/images/01_03_activity2.png)"
   ]
  },
  {
   "cell_type": "code",
   "execution_count": null,
   "id": "c820a43f",
   "metadata": {},
   "outputs": [],
   "source": [
    "Papers = pd.read_csv(\"~/datasets/s4/MAG/Papers.csv\")\n",
    "\n",
    "# Display without scientific notation\n",
    "ax = plt.axes()\n",
    "ax.ticklabel_format(useOffset=False)\n",
    "\n",
    "# code here\n",
    "#\n",
    "#\n",
    "# \n",
    "\n",
    "# Legend style\n",
    "plt.legend(loc='upper left');"
   ]
  }
 ],
 "metadata": {
  "kernelspec": {
   "display_name": "Python 3",
   "language": "python",
   "name": "python3"
  },
  "language_info": {
   "codemirror_mode": {
    "name": "ipython",
    "version": 3
   },
   "file_extension": ".py",
   "mimetype": "text/x-python",
   "name": "python",
   "nbconvert_exporter": "python",
   "pygments_lexer": "ipython3",
   "version": "3.8.8"
  },
  "latex_envs": {
   "LaTeX_envs_menu_present": true,
   "autoclose": false,
   "autocomplete": true,
   "bibliofile": "biblio.bib",
   "cite_by": "apalike",
   "current_citInitial": 1,
   "eqLabelWithNumbers": true,
   "eqNumInitial": 1,
   "hotkeys": {
    "equation": "Ctrl-E",
    "itemize": "Ctrl-I"
   },
   "labels_anchors": false,
   "latex_user_defs": false,
   "report_style_numbering": false,
   "user_envs_cfg": false
  },
  "toc": {
   "base_numbering": 1,
   "nav_menu": {},
   "number_sections": false,
   "sideBar": true,
   "skip_h1_title": false,
   "title_cell": "Table of Contents",
   "title_sidebar": "Contents",
   "toc_cell": false,
   "toc_position": {},
   "toc_section_display": true,
   "toc_window_display": false
  }
 },
 "nbformat": 4,
 "nbformat_minor": 5
}
