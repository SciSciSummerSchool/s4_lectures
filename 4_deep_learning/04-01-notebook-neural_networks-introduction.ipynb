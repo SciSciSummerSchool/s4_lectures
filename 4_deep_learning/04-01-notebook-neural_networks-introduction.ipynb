{
 "cells": [
  {
   "cell_type": "code",
   "execution_count": 1,
   "metadata": {},
   "outputs": [],
   "source": [
    "import torch\n",
    "import torch.nn as nn\n",
    "from torch.autograd import Variable\n",
    "import matplotlib.pyplot as plt\n",
    "import numpy as np"
   ]
  },
  {
   "cell_type": "markdown",
   "metadata": {},
   "source": [
    "# Pytorch basics\n",
    "\n",
    "## Define tensors"
   ]
  },
  {
   "cell_type": "code",
   "execution_count": 2,
   "metadata": {},
   "outputs": [],
   "source": [
    "# random Tensor\n",
    "X = torch.rand(3, 5)"
   ]
  },
  {
   "cell_type": "code",
   "execution_count": 3,
   "metadata": {},
   "outputs": [
    {
     "data": {
      "text/plain": [
       "tensor([[0.0924, 0.2911, 0.1212, 0.1868, 0.5374],\n",
       "        [0.3645, 0.5727, 0.5804, 0.6288, 0.0055],\n",
       "        [0.4104, 0.7801, 0.1654, 0.3685, 0.6012]])"
      ]
     },
     "execution_count": 3,
     "metadata": {},
     "output_type": "execute_result"
    }
   ],
   "source": [
    "X"
   ]
  },
  {
   "cell_type": "code",
   "execution_count": 4,
   "metadata": {},
   "outputs": [
    {
     "data": {
      "text/plain": [
       "torch.Size([3, 5])"
      ]
     },
     "execution_count": 4,
     "metadata": {},
     "output_type": "execute_result"
    }
   ],
   "source": [
    "# shape of tensor\n",
    "X.shape"
   ]
  },
  {
   "cell_type": "code",
   "execution_count": 5,
   "metadata": {},
   "outputs": [
    {
     "data": {
      "text/plain": [
       "torch.float32"
      ]
     },
     "execution_count": 5,
     "metadata": {},
     "output_type": "execute_result"
    }
   ],
   "source": [
    "# type of tensor\n",
    "X.dtype"
   ]
  },
  {
   "cell_type": "code",
   "execution_count": 6,
   "metadata": {},
   "outputs": [],
   "source": [
    "# create a tensor from Python\n",
    "vector = torch.FloatTensor([1, 2, 3, 4, 5])"
   ]
  },
  {
   "cell_type": "code",
   "execution_count": 7,
   "metadata": {},
   "outputs": [
    {
     "name": "stdout",
     "output_type": "stream",
     "text": [
      "tensor([1., 2., 3., 4., 5.])\n",
      "tensor([ 2.,  4.,  6.,  8., 10.])\n"
     ]
    }
   ],
   "source": [
    "# you can apply operations similar to how Numpy works\n",
    "print(vector)\n",
    "print(vector*2)"
   ]
  },
  {
   "cell_type": "code",
   "execution_count": 8,
   "metadata": {},
   "outputs": [],
   "source": [
    "integer_vector = torch.LongTensor([1,2, 3, 4, 5])"
   ]
  },
  {
   "cell_type": "code",
   "execution_count": 9,
   "metadata": {},
   "outputs": [
    {
     "name": "stdout",
     "output_type": "stream",
     "text": [
      "tensor([1, 2, 3, 4, 5])\n",
      "tensor([0, 1, 1, 2, 2])\n"
     ]
    }
   ],
   "source": [
    "print(integer_vector)\n",
    "print(integer_vector/2)"
   ]
  },
  {
   "cell_type": "markdown",
   "metadata": {},
   "source": [
    "# Autograd\n",
    "\n",
    "Pytorch keep tracks of the gradients automatically"
   ]
  },
  {
   "cell_type": "markdown",
   "metadata": {},
   "source": [
    "If I wrap a tensor in a Variable object, then Pytorch automatically tracks its gradients:"
   ]
  },
  {
   "cell_type": "markdown",
   "metadata": {},
   "source": [
    "\\begin{align}\n",
    "b &= w_1 a \\\\\n",
    "c &= w_2 a \\\\\n",
    "d &= w_3 b + w_4 c \\\\\n",
    "L &= 10 - d\n",
    "\\end{align}"
   ]
  },
  {
   "cell_type": "code",
   "execution_count": 10,
   "metadata": {},
   "outputs": [],
   "source": [
    "a = Variable(torch.FloatTensor([1]), requires_grad=True)\n",
    "w1, w2, w3, w4 = [Variable(torch.FloatTensor([1]), requires_grad=True),\n",
    "                  Variable(torch.FloatTensor([2]), requires_grad=True),\n",
    "                  Variable(torch.FloatTensor([-1]), requires_grad=True),\n",
    "                  Variable(torch.FloatTensor([4]), requires_grad=True)\n",
    "                 ]\n",
    "b = w1*a\n",
    "c = w2*a\n",
    "d = w3*b + w4*c\n",
    "L = 10 - d"
   ]
  },
  {
   "cell_type": "markdown",
   "metadata": {},
   "source": [
    "Let's compute \n",
    "$$\\frac{dd}{dw_4} = c = 2$$"
   ]
  },
  {
   "cell_type": "code",
   "execution_count": 11,
   "metadata": {},
   "outputs": [],
   "source": [
    "d.backward()"
   ]
  },
  {
   "cell_type": "code",
   "execution_count": 12,
   "metadata": {},
   "outputs": [
    {
     "data": {
      "text/plain": [
       "tensor([2.])"
      ]
     },
     "execution_count": 12,
     "metadata": {},
     "output_type": "execute_result"
    }
   ],
   "source": [
    "w4.grad"
   ]
  },
  {
   "cell_type": "code",
   "execution_count": 13,
   "metadata": {},
   "outputs": [],
   "source": [
    "a = Variable(torch.FloatTensor([1]), requires_grad=True)\n",
    "w1, w2, w3, w4 = [Variable(torch.FloatTensor([1]), requires_grad=True),\n",
    "                  Variable(torch.FloatTensor([2]), requires_grad=True),\n",
    "                  Variable(torch.FloatTensor([-1]), requires_grad=True),\n",
    "                  Variable(torch.FloatTensor([4]), requires_grad=True)\n",
    "                 ]\n",
    "b = w1*a\n",
    "c = w2*a\n",
    "d = w3*b + w4*c\n",
    "L = 10 - d"
   ]
  },
  {
   "cell_type": "code",
   "execution_count": 14,
   "metadata": {},
   "outputs": [],
   "source": [
    "L.backward()"
   ]
  },
  {
   "cell_type": "markdown",
   "metadata": {},
   "source": [
    "Now \n",
    "\n",
    "\\begin{align}\n",
    "\\frac{dL}{da} &= \\frac{dL}{dd} \\frac{dd}{db} \\frac{db}{da} + \\frac{dL}{dd} \\frac{dd}{dc} \\frac{dc}{da}\\\\\n",
    "&= -w_3 w_1 -w_4 w_2\\\\\n",
    "&= -7\n",
    "\\end{align}"
   ]
  },
  {
   "cell_type": "code",
   "execution_count": 15,
   "metadata": {},
   "outputs": [
    {
     "data": {
      "text/plain": [
       "tensor([-7.], grad_fn=<ThSubBackward>)"
      ]
     },
     "execution_count": 15,
     "metadata": {},
     "output_type": "execute_result"
    }
   ],
   "source": [
    "-w3*w1-w4*w2"
   ]
  },
  {
   "cell_type": "code",
   "execution_count": 16,
   "metadata": {},
   "outputs": [
    {
     "data": {
      "text/plain": [
       "tensor([-7.])"
      ]
     },
     "execution_count": 16,
     "metadata": {},
     "output_type": "execute_result"
    }
   ],
   "source": [
    "a.grad"
   ]
  },
  {
   "cell_type": "markdown",
   "metadata": {},
   "source": [
    "# Regression"
   ]
  },
  {
   "cell_type": "code",
   "execution_count": 17,
   "metadata": {},
   "outputs": [],
   "source": [
    "# generate fake data\n",
    "from sklearn.datasets import make_regression"
   ]
  },
  {
   "cell_type": "code",
   "execution_count": 18,
   "metadata": {},
   "outputs": [],
   "source": [
    "X, y = make_regression(n_features=1, n_informative=1, bias=2, noise=20, random_state=0)"
   ]
  },
  {
   "cell_type": "code",
   "execution_count": 19,
   "metadata": {},
   "outputs": [
    {
     "data": {
      "text/plain": [
       "(100, 1)"
      ]
     },
     "execution_count": 19,
     "metadata": {},
     "output_type": "execute_result"
    }
   ],
   "source": [
    "X.shape"
   ]
  },
  {
   "cell_type": "code",
   "execution_count": 20,
   "metadata": {},
   "outputs": [
    {
     "data": {
      "text/plain": [
       "(100,)"
      ]
     },
     "execution_count": 20,
     "metadata": {},
     "output_type": "execute_result"
    }
   ],
   "source": [
    "y.shape"
   ]
  },
  {
   "cell_type": "code",
   "execution_count": 21,
   "metadata": {},
   "outputs": [
    {
     "data": {
      "image/png": "[encoded data removed]",
      "text/plain": [
       "<Figure size 432x288 with 1 Axes>"
      ]
     },
     "metadata": {
      "needs_background": "light"
     },
     "output_type": "display_data"
    }
   ],
   "source": [
    "plt.scatter(X, y);\n",
    "plt.xlabel('x')\n",
    "plt.ylabel('y');"
   ]
  },
  {
   "cell_type": "markdown",
   "metadata": {},
   "source": [
    "A simple regression model\n",
    "$$y = w_1b+w_0$$"
   ]
  },
  {
   "cell_type": "code",
   "execution_count": 22,
   "metadata": {},
   "outputs": [],
   "source": [
    "from sklearn.linear_model import LinearRegression"
   ]
  },
  {
   "cell_type": "code",
   "execution_count": 23,
   "metadata": {},
   "outputs": [],
   "source": [
    "w0_best, w1_best = [LinearRegression().fit(X, y).intercept_, LinearRegression().fit(X, y).coef_[0]]"
   ]
  },
  {
   "cell_type": "markdown",
   "metadata": {},
   "source": [
    "Let's find it through autograd"
   ]
  },
  {
   "cell_type": "code",
   "execution_count": 24,
   "metadata": {},
   "outputs": [],
   "source": [
    "Xt = torch.from_numpy(X).type(torch.float32)\n",
    "yt = torch.from_numpy(y.reshape(-1, 1)).type(torch.float32)\n",
    "w = torch.randn(2, 1, requires_grad=True)"
   ]
  },
  {
   "cell_type": "code",
   "execution_count": 25,
   "metadata": {},
   "outputs": [
    {
     "name": "stdout",
     "output_type": "stream",
     "text": [
      "MSE =  tensor(2230.8096, grad_fn=<MeanBackward1>)\n",
      "MSE =  tensor(686.4489, grad_fn=<MeanBackward1>)\n",
      "MSE =  tensor(486.8759, grad_fn=<MeanBackward1>)\n",
      "MSE =  tensor(460.7115, grad_fn=<MeanBackward1>)\n",
      "MSE =  tensor(457.2306, grad_fn=<MeanBackward1>)\n",
      "MSE =  tensor(456.7607, grad_fn=<MeanBackward1>)\n",
      "MSE =  tensor(456.6963, grad_fn=<MeanBackward1>)\n",
      "MSE =  tensor(456.6875, grad_fn=<MeanBackward1>)\n",
      "MSE =  tensor(456.6862, grad_fn=<MeanBackward1>)\n",
      "MSE =  tensor(456.6860, grad_fn=<MeanBackward1>)\n",
      "Final solution\n",
      "tensor([0.3727], grad_fn=<SelectBackward>)\n",
      "tensor([42.8514], grad_fn=<SelectBackward>)\n",
      "Solution found by scikit-learn\n",
      "0.3716363459385481\n",
      "42.85335572691592\n"
     ]
    }
   ],
   "source": [
    "learning_rate = 0.001\n",
    "for i in range(5000): # 10 iterations of gradient descent\n",
    "    # forward pass\n",
    "    yp = Xt*w[1] + w[0]\n",
    "    MSE = ((yp-yt)**2).mean()\n",
    "    MSE.backward()\n",
    "    # don't update the gradient\n",
    "    with torch.no_grad():        \n",
    "        w -= learning_rate * w.grad\n",
    "        if i % 500 == 0:\n",
    "            print(\"MSE = \", MSE)           \n",
    "\n",
    "        # Manually zero the gradients after running the backward pass\n",
    "        w.grad.zero_()\n",
    "        w.grad.zero_()\n",
    "print(\"Final solution\")\n",
    "print(w[0])\n",
    "print(w[1])\n",
    "print(\"Solution found by scikit-learn\")\n",
    "print(w0_best)\n",
    "print(w1_best)"
   ]
  },
  {
   "cell_type": "markdown",
   "metadata": {},
   "source": [
    "# Higher level API: nn"
   ]
  },
  {
   "cell_type": "markdown",
   "metadata": {},
   "source": [
    "The subpackage `nn` allows you to define *layers* that are connected sequentially or in any other fashion"
   ]
  },
  {
   "cell_type": "code",
   "execution_count": 26,
   "metadata": {},
   "outputs": [],
   "source": [
    "# let's define a complex regression\n",
    "X = np.linspace(-100, 100, num=500).reshape(-1, 1)\n",
    "y = np.sin(0.1*X) + np.random.randn(len(X), 1)*0.4"
   ]
  },
  {
   "cell_type": "code",
   "execution_count": 27,
   "metadata": {},
   "outputs": [
    {
     "data": {
      "text/plain": [
       "<matplotlib.collections.PathCollection at 0x7f762296e390>"
      ]
     },
     "execution_count": 27,
     "metadata": {},
     "output_type": "execute_result"
    },
    {
     "data": {
      "image/png": "[encoded data removed]",
      "text/plain": [
       "<Figure size 432x288 with 1 Axes>"
      ]
     },
     "metadata": {
      "needs_background": "light"
     },
     "output_type": "display_data"
    }
   ],
   "source": [
    "plt.scatter(X, y)"
   ]
  },
  {
   "cell_type": "code",
   "execution_count": 28,
   "metadata": {},
   "outputs": [],
   "source": [
    "model = nn.Sequential(\n",
    "    nn.Linear(1, 10), # 10 hidden units\n",
    "    nn.ReLU(), # sigmoid activation\n",
    "    nn.Linear(10, 20), # 20 hidden units\n",
    "    nn.ReLU(),\n",
    "    nn.Linear(20, 20), # 20 hidden units\n",
    "    nn.ReLU(),\n",
    "    nn.Linear(20, 20), # 20 hidden units\n",
    "    nn.ReLU(),\n",
    "    nn.Linear(20, 20), # 20 hidden units\n",
    "    nn.ReLU(),\n",
    "    nn.Linear(20, 1) # final prediction\n",
    ")"
   ]
  },
  {
   "cell_type": "code",
   "execution_count": 29,
   "metadata": {},
   "outputs": [],
   "source": [
    "Xt = torch.from_numpy(X).type(torch.float32)\n",
    "yt = torch.from_numpy(y).type(torch.float32)"
   ]
  },
  {
   "cell_type": "code",
   "execution_count": 30,
   "metadata": {},
   "outputs": [
    {
     "data": {
      "text/plain": [
       "<matplotlib.legend.Legend at 0x7f761cbb66a0>"
      ]
     },
     "execution_count": 30,
     "metadata": {},
     "output_type": "execute_result"
    },
    {
     "data": {
      "image/png": "[encoded data removed]",
      "text/plain": [
       "<Figure size 432x288 with 1 Axes>"
      ]
     },
     "metadata": {
      "needs_background": "light"
     },
     "output_type": "display_data"
    }
   ],
   "source": [
    "# initial prediction\n",
    "plt.scatter(X, y)\n",
    "plt.scatter(X, model.forward(Xt).data.numpy())\n",
    "plt.legend(['real', 'predicted'])"
   ]
  },
  {
   "cell_type": "code",
   "execution_count": 31,
   "metadata": {},
   "outputs": [],
   "source": [
    "# nn comes with several predefined packages\n",
    "loss_function = nn.MSELoss(reduction='sum')\n",
    "learning_rate = 0.00001"
   ]
  },
  {
   "cell_type": "code",
   "execution_count": 32,
   "metadata": {},
   "outputs": [
    {
     "name": "stdout",
     "output_type": "stream",
     "text": [
      "tensor(333.6453, grad_fn=<MseLossBackward>)\n",
      "tensor(292.4708, grad_fn=<MseLossBackward>)\n",
      "tensor(290.1729, grad_fn=<MseLossBackward>)\n",
      "tensor(287.1142, grad_fn=<MseLossBackward>)\n",
      "tensor(284.0723, grad_fn=<MseLossBackward>)\n",
      "tensor(280.1725, grad_fn=<MseLossBackward>)\n",
      "tensor(274.9623, grad_fn=<MseLossBackward>)\n",
      "tensor(267.6495, grad_fn=<MseLossBackward>)\n",
      "tensor(257.6697, grad_fn=<MseLossBackward>)\n",
      "tensor(244.2865, grad_fn=<MseLossBackward>)\n"
     ]
    }
   ],
   "source": [
    "for i in range(5000):\n",
    "    yp = model.forward(Xt)\n",
    "    loss = loss_function(yp, yt)\n",
    "    # reset gradients\n",
    "    model.zero_grad()\n",
    "    \n",
    "    loss.backward()\n",
    "    \n",
    "    if i % 500 == 0:\n",
    "        print(loss)\n",
    "    # don't grow the graph\n",
    "    with torch.no_grad():\n",
    "        for param in model.parameters():\n",
    "            param.data -= learning_rate * param.grad"
   ]
  },
  {
   "cell_type": "code",
   "execution_count": 33,
   "metadata": {},
   "outputs": [
    {
     "data": {
      "text/plain": [
       "<matplotlib.legend.Legend at 0x7f76193a6b38>"
      ]
     },
     "execution_count": 33,
     "metadata": {},
     "output_type": "execute_result"
    },
    {
     "data": {
      "image/png": "[encoded data removed]",
      "text/plain": [
       "<Figure size 432x288 with 1 Axes>"
      ]
     },
     "metadata": {
      "needs_background": "light"
     },
     "output_type": "display_data"
    }
   ],
   "source": [
    "# initial prediction\n",
    "plt.scatter(X, y)\n",
    "plt.scatter(X, model.forward(Xt).data.numpy())\n",
    "plt.legend(['real', 'predicted'])"
   ]
  },
  {
   "cell_type": "markdown",
   "metadata": {},
   "source": [
    "# Package optim\n",
    "\n",
    "There are several algorithms better than stochastic gradient descent"
   ]
  },
  {
   "cell_type": "code",
   "execution_count": 34,
   "metadata": {},
   "outputs": [],
   "source": [
    "model = nn.Sequential(\n",
    "    nn.Linear(1, 10), # 10 hidden units\n",
    "    nn.ReLU(), # sigmoid activation\n",
    "    nn.Linear(10, 20), # 20 hidden units\n",
    "    nn.ReLU(),\n",
    "    nn.Linear(20, 20), # 20 hidden units\n",
    "    nn.ReLU(),\n",
    "    nn.Linear(20, 20), # 20 hidden units\n",
    "    nn.ReLU(),\n",
    "    nn.Linear(20, 20), # 20 hidden units\n",
    "    nn.ReLU(),\n",
    "    nn.Linear(20, 1) # final prediction\n",
    ")"
   ]
  },
  {
   "cell_type": "code",
   "execution_count": 35,
   "metadata": {},
   "outputs": [
    {
     "name": "stdout",
     "output_type": "stream",
     "text": [
      "tensor(315.0819, grad_fn=<MseLossBackward>)\n",
      "tensor(299.9580, grad_fn=<MseLossBackward>)\n",
      "tensor(294.2961, grad_fn=<MseLossBackward>)\n",
      "tensor(291.4652, grad_fn=<MseLossBackward>)\n",
      "tensor(289.1334, grad_fn=<MseLossBackward>)\n",
      "tensor(286.6578, grad_fn=<MseLossBackward>)\n",
      "tensor(283.8851, grad_fn=<MseLossBackward>)\n",
      "tensor(280.9672, grad_fn=<MseLossBackward>)\n",
      "tensor(277.7617, grad_fn=<MseLossBackward>)\n",
      "tensor(274.0918, grad_fn=<MseLossBackward>)\n"
     ]
    }
   ],
   "source": [
    "optimizer = torch.optim.Adam(model.parameters(), lr=learning_rate)\n",
    "\n",
    "for i in range(5000):\n",
    "    yp = model.forward(Xt)\n",
    "    loss = loss_function(yp, yt)\n",
    "    # reset gradients\n",
    "    optimizer.zero_grad()\n",
    "    \n",
    "    loss.backward()\n",
    "    \n",
    "    if i % 500 == 0:\n",
    "        print(loss)\n",
    "    optimizer.step()"
   ]
  },
  {
   "cell_type": "code",
   "execution_count": 36,
   "metadata": {},
   "outputs": [
    {
     "data": {
      "text/plain": [
       "<matplotlib.legend.Legend at 0x7f7619321208>"
      ]
     },
     "execution_count": 36,
     "metadata": {},
     "output_type": "execute_result"
    },
    {
     "data": {
      "image/png": "[encoded data removed]",
      "text/plain": [
       "<Figure size 432x288 with 1 Axes>"
      ]
     },
     "metadata": {
      "needs_background": "light"
     },
     "output_type": "display_data"
    }
   ],
   "source": [
    "# initial prediction\n",
    "plt.scatter(X, y)\n",
    "plt.scatter(X, model.forward(Xt).data.numpy())\n",
    "plt.legend(['real', 'predicted'])"
   ]
  },
  {
   "cell_type": "markdown",
   "metadata": {},
   "source": [
    "# Custom modules"
   ]
  },
  {
   "cell_type": "code",
   "execution_count": 37,
   "metadata": {},
   "outputs": [],
   "source": [
    "class TwoLayerNet(torch.nn.Module):\n",
    "    def __init__(self, D_in, H, D_out):\n",
    "        \"\"\"\n",
    "        In the constructor we instantiate two nn.Linear modules and assign them as\n",
    "        member variables.\n",
    "        \"\"\"\n",
    "        super(TwoLayerNet, self).__init__()\n",
    "        self.linear1 = torch.nn.Linear(D_in, H)\n",
    "        self.linear2 = torch.nn.Linear(H, D_out)\n",
    "\n",
    "    def forward(self, x):\n",
    "        \"\"\"\n",
    "        In the forward function we accept a Tensor of input data and we must return\n",
    "        a Tensor of output data. We can use Modules defined in the constructor as\n",
    "        well as arbitrary (differentiable) operations on Tensors.\n",
    "        \"\"\"\n",
    "        h_relu = self.linear1(x).clamp(min=0)\n",
    "        y_pred = self.linear2(h_relu)\n",
    "        return y_pred"
   ]
  },
  {
   "cell_type": "code",
   "execution_count": 38,
   "metadata": {},
   "outputs": [],
   "source": [
    "model = nn.Sequential(\n",
    "    nn.Linear(1, 10), # 10 hidden units\n",
    "    nn.ReLU(), # sigmoid activation\n",
    "    TwoLayerNet(10, 20, 20),\n",
    "    nn.Linear(20, 1) # final prediction\n",
    ")"
   ]
  },
  {
   "cell_type": "code",
   "execution_count": 39,
   "metadata": {},
   "outputs": [
    {
     "name": "stdout",
     "output_type": "stream",
     "text": [
      "tensor(1161.2627, grad_fn=<MseLossBackward>)\n",
      "tensor(293.3873, grad_fn=<MseLossBackward>)\n",
      "tensor(292.4538, grad_fn=<MseLossBackward>)\n",
      "tensor(292.3284, grad_fn=<MseLossBackward>)\n",
      "tensor(292.1781, grad_fn=<MseLossBackward>)\n",
      "tensor(291.9982, grad_fn=<MseLossBackward>)\n",
      "tensor(291.7816, grad_fn=<MseLossBackward>)\n",
      "tensor(291.5215, grad_fn=<MseLossBackward>)\n",
      "tensor(291.2095, grad_fn=<MseLossBackward>)\n",
      "tensor(290.8332, grad_fn=<MseLossBackward>)\n"
     ]
    }
   ],
   "source": [
    "optimizer = torch.optim.Adam(model.parameters(), lr=learning_rate)\n",
    "\n",
    "for i in range(5000):\n",
    "    yp = model.forward(Xt)\n",
    "    loss = loss_function(yp, yt)\n",
    "    # reset gradients\n",
    "    optimizer.zero_grad()\n",
    "    \n",
    "    loss.backward()\n",
    "    \n",
    "    if i % 500 == 0:\n",
    "        print(loss)\n",
    "    optimizer.step()"
   ]
  },
  {
   "cell_type": "markdown",
   "metadata": {},
   "source": [
    "# Fancy dataset loading"
   ]
  },
  {
   "cell_type": "code",
   "execution_count": 40,
   "metadata": {},
   "outputs": [],
   "source": [
    "from torch.utils.data import TensorDataset, DataLoader"
   ]
  },
  {
   "cell_type": "code",
   "execution_count": 41,
   "metadata": {},
   "outputs": [
    {
     "data": {
      "text/plain": [
       "torch.Size([500, 1])"
      ]
     },
     "execution_count": 41,
     "metadata": {},
     "output_type": "execute_result"
    }
   ],
   "source": [
    "Xt.shape"
   ]
  },
  {
   "cell_type": "code",
   "execution_count": 42,
   "metadata": {},
   "outputs": [],
   "source": [
    "# randomize the data\n",
    "dataloader = DataLoader(TensorDataset(Xt, yt), batch_size=250, \n",
    "                        shuffle=True)"
   ]
  },
  {
   "cell_type": "code",
   "execution_count": 44,
   "metadata": {},
   "outputs": [
    {
     "name": "stdout",
     "output_type": "stream",
     "text": [
      "tensor(255.5187, grad_fn=<MseLossBackward>)\n",
      "tensor(248.4363, grad_fn=<MseLossBackward>)\n"
     ]
    }
   ],
   "source": [
    "for epoch in range(1000):\n",
    "    for i_batch, sample_batched in enumerate(dataloader):\n",
    "        yp = model.forward(Xt)\n",
    "        loss = loss_function(yp, yt)\n",
    "        # reset gradients\n",
    "        optimizer.zero_grad()\n",
    "\n",
    "        loss.backward()\n",
    "        \n",
    "        optimizer.step()\n",
    "    if epoch % 500 == 0:\n",
    "        print(loss)"
   ]
  }
 ],
 "metadata": {
  "kernelspec": {
   "display_name": "Python 3",
   "language": "python",
   "name": "python3"
  },
  "language_info": {
   "codemirror_mode": {
    "name": "ipython",
    "version": 3
   },
   "file_extension": ".py",
   "mimetype": "text/x-python",
   "name": "python",
   "nbconvert_exporter": "python",
   "pygments_lexer": "ipython3",
   "version": "3.8.8"
  },
  "latex_envs": {
   "LaTeX_envs_menu_present": true,
   "autoclose": false,
   "autocomplete": true,
   "bibliofile": "biblio.bib",
   "cite_by": "apalike",
   "current_citInitial": 1,
   "eqLabelWithNumbers": true,
   "eqNumInitial": 1,
   "hotkeys": {
    "equation": "Ctrl-E",
    "itemize": "Ctrl-I"
   },
   "labels_anchors": false,
   "latex_user_defs": false,
   "report_style_numbering": false,
   "user_envs_cfg": false
  },
  "toc": {
   "base_numbering": 1,
   "nav_menu": {},
   "number_sections": true,
   "sideBar": true,
   "skip_h1_title": false,
   "title_cell": "Table of Contents",
   "title_sidebar": "Contents",
   "toc_cell": false,
   "toc_position": {},
   "toc_section_display": true,
   "toc_window_display": false
  }
 },
 "nbformat": 4,
 "nbformat_minor": 2
}
