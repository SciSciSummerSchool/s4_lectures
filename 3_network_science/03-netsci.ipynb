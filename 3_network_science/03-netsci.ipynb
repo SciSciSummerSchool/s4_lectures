{
 "cells": [
  {
   "cell_type": "code",
   "execution_count": 2,
   "id": "a6762ad9",
   "metadata": {},
   "outputs": [],
   "source": [
    "import networkx as nx\n",
    "import pandas as pd"
   ]
  },
  {
   "cell_type": "code",
   "execution_count": 6,
   "id": "5d5a5b4c",
   "metadata": {},
   "outputs": [
    {
     "data": {
      "text/plain": [
       "'2.5'"
      ]
     },
     "execution_count": 6,
     "metadata": {},
     "output_type": "execute_result"
    }
   ],
   "source": [
    "nx.__version__"
   ]
  },
  {
   "cell_type": "markdown",
   "id": "01a60292",
   "metadata": {},
   "source": [
    "# Introduction to networks"
   ]
  },
  {
   "cell_type": "markdown",
   "id": "49e5cf6a",
   "metadata": {},
   "source": [
    "Let's construct an undirected network by hand."
   ]
  },
  {
   "cell_type": "code",
   "execution_count": 2,
   "id": "b6ae894c",
   "metadata": {},
   "outputs": [],
   "source": [
    "G = nx.Graph()"
   ]
  },
  {
   "cell_type": "markdown",
   "id": "32b54bf2",
   "metadata": {},
   "source": [
    "Adding nodes:"
   ]
  },
  {
   "cell_type": "code",
   "execution_count": 3,
   "id": "342c4511",
   "metadata": {},
   "outputs": [],
   "source": [
    "G.add_node(1)\n",
    "G.add_node(2)\n",
    "G.add_node(3)\n",
    "G.add_node(4)\n",
    "G.add_nodes_from([5, 6, 7, 8, 9, 10, 11])"
   ]
  },
  {
   "cell_type": "code",
   "execution_count": 9,
   "id": "35b8b943",
   "metadata": {},
   "outputs": [],
   "source": [
    "G.add_edge(1, 2)\n",
    "G.add_edge(1, 3)\n",
    "G.add_edge(1, 4)\n",
    "G.add_edge(2, 3)\n",
    "G.add_edge(2, 4)\n",
    "G.add_edge(3, 4)\n",
    "\n",
    "nx.add_path(G, [4, 5, 6, 7, 8])\n",
    "\n",
    "nx.add_cycle(G, [8, 9, 10, 11])\n",
    "G.add_edges_from([(8, 10), (9, 11)])"
   ]
  },
  {
   "cell_type": "code",
   "execution_count": 20,
   "id": "5f056452",
   "metadata": {},
   "outputs": [
    {
     "data": {
      "image/png": "[encoded data removed]",
      "text/plain": [
       "<Figure size 432x288 with 1 Axes>"
      ]
     },
     "metadata": {},
     "output_type": "display_data"
    }
   ],
   "source": [
    "nx.draw(G,\n",
    "        with_labels=True,\n",
    "        node_color='blue',\n",
    "        node_size=400,\n",
    "        font_color='white',\n",
    "        font_size=16,\n",
    "       )"
   ]
  },
  {
   "cell_type": "code",
   "execution_count": 36,
   "id": "9ca9c388",
   "metadata": {},
   "outputs": [
    {
     "data": {
      "text/plain": [
       "<11x11 sparse matrix of type '<class 'numpy.int64'>'\n",
       "\twith 32 stored elements in Compressed Sparse Row format>"
      ]
     },
     "execution_count": 36,
     "metadata": {},
     "output_type": "execute_result"
    }
   ],
   "source": [
    "nx.adjacency_matrix(G)"
   ]
  },
  {
   "cell_type": "code",
   "execution_count": 42,
   "id": "060eef1b",
   "metadata": {},
   "outputs": [
    {
     "data": {
      "text/plain": [
       "matrix([[0, 1, 1, 1, 0, 0, 0, 0, 0, 0, 0],\n",
       "        [1, 0, 1, 1, 0, 0, 0, 0, 0, 0, 0],\n",
       "        [1, 1, 0, 1, 0, 0, 0, 0, 0, 0, 0],\n",
       "        [1, 1, 1, 0, 1, 0, 0, 0, 0, 0, 0],\n",
       "        [0, 0, 0, 1, 0, 1, 0, 0, 0, 0, 0],\n",
       "        [0, 0, 0, 0, 1, 0, 1, 0, 0, 0, 0],\n",
       "        [0, 0, 0, 0, 0, 1, 0, 1, 0, 0, 0],\n",
       "        [0, 0, 0, 0, 0, 0, 1, 0, 1, 1, 1],\n",
       "        [0, 0, 0, 0, 0, 0, 0, 1, 0, 1, 1],\n",
       "        [0, 0, 0, 0, 0, 0, 0, 1, 1, 0, 1],\n",
       "        [0, 0, 0, 0, 0, 0, 0, 1, 1, 1, 0]])"
      ]
     },
     "execution_count": 42,
     "metadata": {},
     "output_type": "execute_result"
    }
   ],
   "source": [
    "nx.adjacency_matrix(G).todense()"
   ]
  },
  {
   "cell_type": "code",
   "execution_count": 21,
   "id": "9d10b5ce",
   "metadata": {},
   "outputs": [
    {
     "data": {
      "text/plain": [
       "11"
      ]
     },
     "execution_count": 21,
     "metadata": {},
     "output_type": "execute_result"
    }
   ],
   "source": [
    "G.number_of_nodes()"
   ]
  },
  {
   "cell_type": "code",
   "execution_count": 22,
   "id": "61d78f25",
   "metadata": {},
   "outputs": [
    {
     "data": {
      "text/plain": [
       "16"
      ]
     },
     "execution_count": 22,
     "metadata": {},
     "output_type": "execute_result"
    }
   ],
   "source": [
    "G.number_of_edges()"
   ]
  },
  {
   "cell_type": "code",
   "execution_count": 23,
   "id": "72f5bb3c",
   "metadata": {},
   "outputs": [
    {
     "data": {
      "text/plain": [
       "NodeView((1, 2, 3, 4, 5, 6, 7, 8, 9, 10, 11))"
      ]
     },
     "execution_count": 23,
     "metadata": {},
     "output_type": "execute_result"
    }
   ],
   "source": [
    "G.nodes()"
   ]
  },
  {
   "cell_type": "code",
   "execution_count": 24,
   "id": "4c966e7e",
   "metadata": {},
   "outputs": [
    {
     "data": {
      "text/plain": [
       "[1, 2, 3, 4, 5, 6, 7, 8, 9, 10, 11]"
      ]
     },
     "execution_count": 24,
     "metadata": {},
     "output_type": "execute_result"
    }
   ],
   "source": [
    "list(G.nodes())"
   ]
  },
  {
   "cell_type": "code",
   "execution_count": 25,
   "id": "a54c31d9",
   "metadata": {},
   "outputs": [
    {
     "data": {
      "text/plain": [
       "EdgeView([(1, 2), (1, 3), (1, 4), (2, 3), (2, 4), (3, 4), (4, 5), (5, 6), (6, 7), (7, 8), (8, 9), (8, 11), (8, 10), (9, 10), (9, 11), (10, 11)])"
      ]
     },
     "execution_count": 25,
     "metadata": {},
     "output_type": "execute_result"
    }
   ],
   "source": [
    "G.edges()"
   ]
  },
  {
   "cell_type": "code",
   "execution_count": 26,
   "id": "fbcbca89",
   "metadata": {},
   "outputs": [
    {
     "data": {
      "text/plain": [
       "[(1, 2),\n",
       " (1, 3),\n",
       " (1, 4),\n",
       " (2, 3),\n",
       " (2, 4),\n",
       " (3, 4),\n",
       " (4, 5),\n",
       " (5, 6),\n",
       " (6, 7),\n",
       " (7, 8),\n",
       " (8, 9),\n",
       " (8, 11),\n",
       " (8, 10),\n",
       " (9, 10),\n",
       " (9, 11),\n",
       " (10, 11)]"
      ]
     },
     "execution_count": 26,
     "metadata": {},
     "output_type": "execute_result"
    }
   ],
   "source": [
    "list(G.edges())"
   ]
  },
  {
   "cell_type": "markdown",
   "id": "18b136d0",
   "metadata": {},
   "source": [
    "Get the neighbor of a node:"
   ]
  },
  {
   "cell_type": "code",
   "execution_count": 27,
   "id": "074c350e",
   "metadata": {},
   "outputs": [
    {
     "data": {
      "text/plain": [
       "<dict_keyiterator at 0x7fc80586f2c0>"
      ]
     },
     "execution_count": 27,
     "metadata": {},
     "output_type": "execute_result"
    }
   ],
   "source": [
    "G.neighbors(4)"
   ]
  },
  {
   "cell_type": "code",
   "execution_count": 28,
   "id": "6dce04b6",
   "metadata": {},
   "outputs": [
    {
     "data": {
      "text/plain": [
       "[1, 2, 3, 5]"
      ]
     },
     "execution_count": 28,
     "metadata": {},
     "output_type": "execute_result"
    }
   ],
   "source": [
    "list(G.neighbors(4))"
   ]
  },
  {
   "cell_type": "markdown",
   "id": "bffa85a6",
   "metadata": {},
   "source": [
    "Another way to get the neighbor:"
   ]
  },
  {
   "cell_type": "code",
   "execution_count": 29,
   "id": "c2ba4add",
   "metadata": {},
   "outputs": [
    {
     "data": {
      "text/plain": [
       "AtlasView({1: {}, 2: {}, 3: {}, 5: {}})"
      ]
     },
     "execution_count": 29,
     "metadata": {},
     "output_type": "execute_result"
    }
   ],
   "source": [
    "G[4]"
   ]
  },
  {
   "cell_type": "code",
   "execution_count": 30,
   "id": "6ffde270",
   "metadata": {},
   "outputs": [
    {
     "data": {
      "text/plain": [
       "[1, 2, 3, 5]"
      ]
     },
     "execution_count": 30,
     "metadata": {},
     "output_type": "execute_result"
    }
   ],
   "source": [
    "list(G[4])"
   ]
  },
  {
   "cell_type": "markdown",
   "id": "2b32f054",
   "metadata": {},
   "source": [
    "What's the degree of a node?"
   ]
  },
  {
   "cell_type": "code",
   "execution_count": 33,
   "id": "3c053945",
   "metadata": {},
   "outputs": [
    {
     "data": {
      "text/plain": [
       "4"
      ]
     },
     "execution_count": 33,
     "metadata": {},
     "output_type": "execute_result"
    }
   ],
   "source": [
    "len(G[4])"
   ]
  },
  {
   "cell_type": "code",
   "execution_count": 32,
   "id": "1807b9b8",
   "metadata": {},
   "outputs": [
    {
     "data": {
      "text/plain": [
       "4"
      ]
     },
     "execution_count": 32,
     "metadata": {},
     "output_type": "execute_result"
    }
   ],
   "source": [
    "G.degree(4)"
   ]
  },
  {
   "cell_type": "markdown",
   "id": "bd906a4f",
   "metadata": {},
   "source": [
    "Get the degrees of all nodes:"
   ]
  },
  {
   "cell_type": "code",
   "execution_count": 34,
   "id": "fa08083f",
   "metadata": {},
   "outputs": [
    {
     "data": {
      "text/plain": [
       "DegreeView({1: 3, 2: 3, 3: 3, 4: 4, 5: 2, 6: 2, 7: 2, 8: 4, 9: 3, 10: 3, 11: 3})"
      ]
     },
     "execution_count": 34,
     "metadata": {},
     "output_type": "execute_result"
    }
   ],
   "source": [
    "G.degree()"
   ]
  },
  {
   "cell_type": "code",
   "execution_count": 35,
   "id": "2b5caab4",
   "metadata": {},
   "outputs": [
    {
     "data": {
      "text/plain": [
       "{1: 3, 2: 3, 3: 3, 4: 4, 5: 2, 6: 2, 7: 2, 8: 4, 9: 3, 10: 3, 11: 3}"
      ]
     },
     "execution_count": 35,
     "metadata": {},
     "output_type": "execute_result"
    }
   ],
   "source": [
    "dict(G.degree())"
   ]
  },
  {
   "cell_type": "markdown",
   "id": "b1f85ef8",
   "metadata": {},
   "source": [
    "Degree distribution:"
   ]
  },
  {
   "cell_type": "code",
   "execution_count": 38,
   "id": "2dc629fe",
   "metadata": {},
   "outputs": [
    {
     "data": {
      "text/plain": [
       "1     3\n",
       "2     3\n",
       "3     3\n",
       "4     4\n",
       "5     2\n",
       "6     2\n",
       "7     2\n",
       "8     4\n",
       "9     3\n",
       "10    3\n",
       "11    3\n",
       "Name: degree, dtype: int64"
      ]
     },
     "execution_count": 38,
     "metadata": {},
     "output_type": "execute_result"
    }
   ],
   "source": [
    "node_degree = pd.Series(dict(G.degree()), name='degree')\n",
    "node_degree"
   ]
  },
  {
   "cell_type": "code",
   "execution_count": 39,
   "id": "77ec759e",
   "metadata": {},
   "outputs": [
    {
     "data": {
      "text/plain": [
       "3    6\n",
       "2    3\n",
       "4    2\n",
       "Name: degree, dtype: int64"
      ]
     },
     "execution_count": 39,
     "metadata": {},
     "output_type": "execute_result"
    }
   ],
   "source": [
    "node_degree.value_counts()"
   ]
  },
  {
   "cell_type": "code",
   "execution_count": 40,
   "id": "731a01cf",
   "metadata": {},
   "outputs": [
    {
     "data": {
      "text/plain": [
       "2    0.272727\n",
       "3    0.545455\n",
       "4    0.181818\n",
       "Name: degree, dtype: float64"
      ]
     },
     "execution_count": 40,
     "metadata": {},
     "output_type": "execute_result"
    }
   ],
   "source": [
    "node_degree.value_counts(normalize=True).sort_index()"
   ]
  },
  {
   "cell_type": "code",
   "execution_count": 41,
   "id": "f6935564",
   "metadata": {},
   "outputs": [
    {
     "data": {
      "text/plain": [
       "<AxesSubplot:xlabel='degree', ylabel='probability'>"
      ]
     },
     "execution_count": 41,
     "metadata": {},
     "output_type": "execute_result"
    },
    {
     "data": {
      "image/png": "[encoded data removed]",
      "text/plain": [
       "<Figure size 432x288 with 1 Axes>"
      ]
     },
     "metadata": {
      "needs_background": "light"
     },
     "output_type": "display_data"
    }
   ],
   "source": [
    "node_degree.value_counts(normalize=True).sort_index().plot.bar(xlabel='degree', ylabel='probability', rot=0)"
   ]
  },
  {
   "cell_type": "markdown",
   "id": "6fabc7ea",
   "metadata": {},
   "source": [
    "## Weighted network"
   ]
  },
  {
   "cell_type": "code",
   "execution_count": 3,
   "id": "6f668358",
   "metadata": {},
   "outputs": [],
   "source": [
    "W = nx.Graph()"
   ]
  },
  {
   "cell_type": "markdown",
   "id": "5c34a7ae",
   "metadata": {},
   "source": [
    "Nodes are implicitly added to the network when adding edges. When adding an edge, we can specify its properties:"
   ]
  },
  {
   "cell_type": "code",
   "execution_count": 4,
   "id": "faf893b3",
   "metadata": {},
   "outputs": [],
   "source": [
    "W.add_edge(1, 2, weight=4)\n",
    "W.add_edge(1, 3, weight=8)\n",
    "W.add_edge(1, 4, weight=2)\n",
    "W.add_edge(2, 3) # default weight is 1\n",
    "W.add_edge(2, 4)\n",
    "W.add_edge(3, 4)\n",
    "\n",
    "nx.add_path(W, [4, 5, 6, 7, 8], weight=1)\n",
    "\n",
    "nx.add_cycle(W, [8, 9, 10, 11], weight=2)\n",
    "W.add_edges_from([(8, 10), (9, 11)], weight=4)"
   ]
  },
  {
   "cell_type": "code",
   "execution_count": 8,
   "id": "5622c99f",
   "metadata": {},
   "outputs": [
    {
     "data": {
      "image/png": "[encoded data removed]",
      "text/plain": [
       "<Figure size 432x288 with 1 Axes>"
      ]
     },
     "metadata": {},
     "output_type": "display_data"
    }
   ],
   "source": [
    "nx.draw(W,\n",
    "        with_labels=True,\n",
    "        node_color='blue',\n",
    "        node_size=400,\n",
    "        font_color='white',\n",
    "        font_size=16,\n",
    "       )"
   ]
  },
  {
   "cell_type": "code",
   "execution_count": 7,
   "id": "1f4c1ac4",
   "metadata": {},
   "outputs": [
    {
     "data": {
      "text/plain": [
       "matrix([[0, 4, 8, 2, 0, 0, 0, 0, 0, 0, 0],\n",
       "        [4, 0, 1, 1, 0, 0, 0, 0, 0, 0, 0],\n",
       "        [8, 1, 0, 1, 0, 0, 0, 0, 0, 0, 0],\n",
       "        [2, 1, 1, 0, 1, 0, 0, 0, 0, 0, 0],\n",
       "        [0, 0, 0, 1, 0, 1, 0, 0, 0, 0, 0],\n",
       "        [0, 0, 0, 0, 1, 0, 1, 0, 0, 0, 0],\n",
       "        [0, 0, 0, 0, 0, 1, 0, 1, 0, 0, 0],\n",
       "        [0, 0, 0, 0, 0, 0, 1, 0, 2, 4, 2],\n",
       "        [0, 0, 0, 0, 0, 0, 0, 2, 0, 2, 4],\n",
       "        [0, 0, 0, 0, 0, 0, 0, 4, 2, 0, 2],\n",
       "        [0, 0, 0, 0, 0, 0, 0, 2, 4, 2, 0]])"
      ]
     },
     "execution_count": 7,
     "metadata": {},
     "output_type": "execute_result"
    }
   ],
   "source": [
    "nx.adjacency_matrix(W).todense()"
   ]
  },
  {
   "cell_type": "markdown",
   "id": "edd81aae",
   "metadata": {},
   "source": [
    "Node degree:"
   ]
  },
  {
   "cell_type": "code",
   "execution_count": 10,
   "id": "fa70ab28",
   "metadata": {},
   "outputs": [
    {
     "data": {
      "text/plain": [
       "DegreeView({1: 3, 2: 3, 3: 3, 4: 4, 5: 2, 6: 2, 7: 2, 8: 4, 9: 3, 10: 3, 11: 3})"
      ]
     },
     "execution_count": 10,
     "metadata": {},
     "output_type": "execute_result"
    }
   ],
   "source": [
    "W.degree()"
   ]
  },
  {
   "cell_type": "markdown",
   "id": "31aeddb2",
   "metadata": {},
   "source": [
    "Considering weights (node strength):"
   ]
  },
  {
   "cell_type": "code",
   "execution_count": 11,
   "id": "bf0276e5",
   "metadata": {},
   "outputs": [
    {
     "data": {
      "text/plain": [
       "DegreeView({1: 14, 2: 6, 3: 10, 4: 5, 5: 2, 6: 2, 7: 2, 8: 9, 9: 8, 10: 8, 11: 8})"
      ]
     },
     "execution_count": 11,
     "metadata": {},
     "output_type": "execute_result"
    }
   ],
   "source": [
    "W.degree(weight='weight')"
   ]
  },
  {
   "cell_type": "markdown",
   "id": "6562ee19",
   "metadata": {},
   "source": [
    "## Directed network"
   ]
  },
  {
   "cell_type": "code",
   "execution_count": 25,
   "id": "8ff760cf",
   "metadata": {},
   "outputs": [],
   "source": [
    "D = nx.DiGraph()"
   ]
  },
  {
   "cell_type": "code",
   "execution_count": 26,
   "id": "b69080d2",
   "metadata": {},
   "outputs": [],
   "source": [
    "D.add_edge(1, 2, w=4) # now this edge points from 1 to 2\n",
    "D.add_edge(2, 3, w=8) # let's call the weight property w\n",
    "D.add_edge(3, 4, w=1)\n",
    "D.add_edge(1, 4, w=2, formed='2020') # we can add any properties"
   ]
  },
  {
   "cell_type": "code",
   "execution_count": 16,
   "id": "8044f29d",
   "metadata": {},
   "outputs": [
    {
     "data": {
      "image/png": "[encoded data removed]",
      "text/plain": [
       "<Figure size 432x288 with 1 Axes>"
      ]
     },
     "metadata": {},
     "output_type": "display_data"
    }
   ],
   "source": [
    "nx.draw(D,\n",
    "        with_labels=True,\n",
    "        node_color='blue',\n",
    "        node_size=400,\n",
    "        font_color='white',\n",
    "        font_size=16,\n",
    "       )"
   ]
  },
  {
   "cell_type": "code",
   "execution_count": 33,
   "id": "fa32a77e",
   "metadata": {},
   "outputs": [
    {
     "data": {
      "text/plain": [
       "matrix([[0, 1, 0, 1],\n",
       "        [0, 0, 1, 0],\n",
       "        [0, 0, 0, 1],\n",
       "        [0, 0, 0, 0]])"
      ]
     },
     "execution_count": 33,
     "metadata": {},
     "output_type": "execute_result"
    }
   ],
   "source": [
    "nx.adjacency_matrix(D).todense()"
   ]
  },
  {
   "cell_type": "code",
   "execution_count": 34,
   "id": "cf101673",
   "metadata": {},
   "outputs": [
    {
     "data": {
      "text/plain": [
       "matrix([[0, 4, 0, 2],\n",
       "        [0, 0, 8, 0],\n",
       "        [0, 0, 0, 1],\n",
       "        [0, 0, 0, 0]])"
      ]
     },
     "execution_count": 34,
     "metadata": {},
     "output_type": "execute_result"
    }
   ],
   "source": [
    "nx.adjacency_matrix(D, weight='w').todense()"
   ]
  },
  {
   "cell_type": "code",
   "execution_count": 17,
   "id": "b499f523",
   "metadata": {},
   "outputs": [
    {
     "data": {
      "text/plain": [
       "1"
      ]
     },
     "execution_count": 17,
     "metadata": {},
     "output_type": "execute_result"
    }
   ],
   "source": [
    "D.in_degree(3)"
   ]
  },
  {
   "cell_type": "code",
   "execution_count": 28,
   "id": "ff210421",
   "metadata": {},
   "outputs": [
    {
     "data": {
      "text/plain": [
       "8"
      ]
     },
     "execution_count": 28,
     "metadata": {},
     "output_type": "execute_result"
    }
   ],
   "source": [
    "D.in_degree(3, weight='w')"
   ]
  },
  {
   "cell_type": "code",
   "execution_count": 29,
   "id": "d57e3834",
   "metadata": {},
   "outputs": [
    {
     "data": {
      "text/plain": [
       "InDegreeView({1: 0, 2: 1, 3: 1, 4: 2})"
      ]
     },
     "execution_count": 29,
     "metadata": {},
     "output_type": "execute_result"
    }
   ],
   "source": [
    "D.in_degree()"
   ]
  },
  {
   "cell_type": "code",
   "execution_count": 30,
   "id": "e7ef0251",
   "metadata": {},
   "outputs": [
    {
     "data": {
      "text/plain": [
       "OutDegreeView({1: 2, 2: 1, 3: 1, 4: 0})"
      ]
     },
     "execution_count": 30,
     "metadata": {},
     "output_type": "execute_result"
    }
   ],
   "source": [
    "D.out_degree()"
   ]
  },
  {
   "cell_type": "code",
   "execution_count": 31,
   "id": "ac767d9a",
   "metadata": {},
   "outputs": [
    {
     "data": {
      "text/plain": [
       "OutDegreeView({1: 6, 2: 8, 3: 1, 4: 0})"
      ]
     },
     "execution_count": 31,
     "metadata": {},
     "output_type": "execute_result"
    }
   ],
   "source": [
    "D.out_degree(weight='w')"
   ]
  },
  {
   "cell_type": "markdown",
   "id": "5b0bfcab",
   "metadata": {},
   "source": [
    "# Networks in Science of Science"
   ]
  },
  {
   "cell_type": "code",
   "execution_count": null,
   "id": "94393dc0",
   "metadata": {},
   "outputs": [],
   "source": []
  }
 ],
 "metadata": {
  "kernelspec": {
   "display_name": "Python 3",
   "language": "python",
   "name": "python3"
  },
  "language_info": {
   "codemirror_mode": {
    "name": "ipython",
    "version": 3
   },
   "file_extension": ".py",
   "mimetype": "text/x-python",
   "name": "python",
   "nbconvert_exporter": "python",
   "pygments_lexer": "ipython3",
   "version": "3.8.8"
  },
  "latex_envs": {
   "LaTeX_envs_menu_present": true,
   "autoclose": false,
   "autocomplete": true,
   "bibliofile": "biblio.bib",
   "cite_by": "apalike",
   "current_citInitial": 1,
   "eqLabelWithNumbers": true,
   "eqNumInitial": 1,
   "hotkeys": {
    "equation": "Ctrl-E",
    "itemize": "Ctrl-I"
   },
   "labels_anchors": false,
   "latex_user_defs": false,
   "report_style_numbering": false,
   "user_envs_cfg": false
  },
  "toc": {
   "base_numbering": 1,
   "nav_menu": {},
   "number_sections": true,
   "sideBar": true,
   "skip_h1_title": false,
   "title_cell": "Table of Contents",
   "title_sidebar": "Contents",
   "toc_cell": false,
   "toc_position": {
    "height": "calc(100% - 180px)",
    "left": "10px",
    "top": "150px",
    "width": "375px"
   },
   "toc_section_display": true,
   "toc_window_display": true
  }
 },
 "nbformat": 4,
 "nbformat_minor": 5
}
