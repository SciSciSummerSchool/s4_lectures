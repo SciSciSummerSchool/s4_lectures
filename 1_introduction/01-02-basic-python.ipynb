{
 "cells": [
  {
   "cell_type": "markdown",
   "id": "b31ae061",
   "metadata": {},
   "source": [
    "# Python Language Basics"
   ]
  },
  {
   "cell_type": "markdown",
   "id": "4c4ad3a5",
   "metadata": {},
   "source": [
    "## Data Types\n",
    "- Python has the expected data types like int, float, bool, str\n",
    "- Python also contains types for collections of data:\n",
    "  - tuple: immutable collection\n",
    "  - list: all-purpose container for any data types\n",
    "  - set: a container for unordered, unique values\n",
    "  - dict: for storing maps of values (key/value pairs)\n",
    "- Python is *loosely-typed*. Meaning you can change types later."
   ]
  },
  {
   "cell_type": "markdown",
   "id": "8ab9f814",
   "metadata": {},
   "source": [
    "You can check the type of a variable using `type`"
   ]
  },
  {
   "cell_type": "code",
   "execution_count": 1,
   "id": "102528c3",
   "metadata": {},
   "outputs": [
    {
     "data": {
      "text/plain": [
       "int"
      ]
     },
     "execution_count": 1,
     "metadata": {},
     "output_type": "execute_result"
    }
   ],
   "source": [
    "type(1)"
   ]
  },
  {
   "cell_type": "code",
   "execution_count": 2,
   "id": "c4749bdf",
   "metadata": {},
   "outputs": [
    {
     "data": {
      "text/plain": [
       "float"
      ]
     },
     "execution_count": 2,
     "metadata": {},
     "output_type": "execute_result"
    }
   ],
   "source": [
    "type(1.0)"
   ]
  },
  {
   "cell_type": "code",
   "execution_count": 3,
   "id": "d0a9c7ab",
   "metadata": {},
   "outputs": [
    {
     "data": {
      "text/plain": [
       "str"
      ]
     },
     "execution_count": 3,
     "metadata": {},
     "output_type": "execute_result"
    }
   ],
   "source": [
    "type(\"4.5\")"
   ]
  },
  {
   "cell_type": "code",
   "execution_count": 4,
   "id": "9e53c93d",
   "metadata": {},
   "outputs": [
    {
     "data": {
      "text/plain": [
       "bool"
      ]
     },
     "execution_count": 4,
     "metadata": {},
     "output_type": "execute_result"
    }
   ],
   "source": [
    "type(True)"
   ]
  },
  {
   "cell_type": "code",
   "execution_count": 5,
   "id": "dae297d2",
   "metadata": {},
   "outputs": [
    {
     "data": {
      "text/plain": [
       "list"
      ]
     },
     "execution_count": 5,
     "metadata": {},
     "output_type": "execute_result"
    }
   ],
   "source": [
    "type([4.5])"
   ]
  },
  {
   "cell_type": "code",
   "execution_count": 6,
   "id": "88c1c63c",
   "metadata": {},
   "outputs": [
    {
     "data": {
      "text/plain": [
       "dict"
      ]
     },
     "execution_count": 6,
     "metadata": {},
     "output_type": "execute_result"
    }
   ],
   "source": [
    "type({'x': 4.5})"
   ]
  },
  {
   "cell_type": "code",
   "execution_count": 7,
   "id": "5cb20ca4",
   "metadata": {},
   "outputs": [
    {
     "data": {
      "text/plain": [
       "tuple"
      ]
     },
     "execution_count": 7,
     "metadata": {},
     "output_type": "execute_result"
    }
   ],
   "source": [
    "type((1, 2, 3, 4))"
   ]
  },
  {
   "cell_type": "code",
   "execution_count": 8,
   "id": "cc6cb110",
   "metadata": {},
   "outputs": [
    {
     "data": {
      "text/plain": [
       "float"
      ]
     },
     "execution_count": 8,
     "metadata": {},
     "output_type": "execute_result"
    }
   ],
   "source": [
    "type((4.5))"
   ]
  },
  {
   "cell_type": "code",
   "execution_count": 9,
   "id": "af868e65",
   "metadata": {
    "scrolled": true
   },
   "outputs": [
    {
     "data": {
      "text/plain": [
       "tuple"
      ]
     },
     "execution_count": 9,
     "metadata": {},
     "output_type": "execute_result"
    }
   ],
   "source": [
    "type((4.5, ))"
   ]
  },
  {
   "cell_type": "markdown",
   "id": "6a3a49ec",
   "metadata": {},
   "source": [
    "## Strings"
   ]
  },
  {
   "cell_type": "code",
   "execution_count": null,
   "id": "d0e97d85",
   "metadata": {},
   "outputs": [],
   "source": [
    "s = \"Every once in a while there is a revolutionary product that comes along a changes everything\""
   ]
  },
  {
   "cell_type": "code",
   "execution_count": null,
   "id": "cdec412e",
   "metadata": {},
   "outputs": [],
   "source": [
    "s[0]"
   ]
  },
  {
   "cell_type": "code",
   "execution_count": null,
   "id": "c5744079",
   "metadata": {},
   "outputs": [],
   "source": [
    "s[0:10]"
   ]
  },
  {
   "cell_type": "code",
   "execution_count": null,
   "id": "616073bd",
   "metadata": {},
   "outputs": [],
   "source": [
    "s[-10:]"
   ]
  },
  {
   "cell_type": "code",
   "execution_count": null,
   "id": "fddce251",
   "metadata": {},
   "outputs": [],
   "source": [
    "s[0::2]"
   ]
  },
  {
   "cell_type": "markdown",
   "id": "48a10f79",
   "metadata": {},
   "source": [
    "Some times you want to transform a string into a list of words (e.g., Natural Language Processing):"
   ]
  },
  {
   "cell_type": "code",
   "execution_count": null,
   "id": "fb9f1ee4",
   "metadata": {},
   "outputs": [],
   "source": [
    "s.split()"
   ]
  },
  {
   "cell_type": "markdown",
   "id": "fe420220",
   "metadata": {},
   "source": [
    "You can do the reverse by using the `join` operation over string:"
   ]
  },
  {
   "cell_type": "code",
   "execution_count": null,
   "id": "456f008c",
   "metadata": {},
   "outputs": [],
   "source": [
    "word_list = ['I', 'love', 'data', 'science']"
   ]
  },
  {
   "cell_type": "code",
   "execution_count": null,
   "id": "4eab12a0",
   "metadata": {},
   "outputs": [],
   "source": [
    "' '.join(word_list)"
   ]
  },
  {
   "cell_type": "code",
   "execution_count": null,
   "id": "48e67097",
   "metadata": {},
   "outputs": [],
   "source": [
    "'-'.join(word_list)"
   ]
  },
  {
   "cell_type": "markdown",
   "id": "41ad721f",
   "metadata": {},
   "source": [
    "## Lists\n",
    "- A ***list*** is a mutable collection of any data type\n",
    "- Lists are defined using square brackets\n",
    "- Python list functions:\n",
    "https://docs.python.org/3/tutorial/datastructures.html \n",
    "- List items are indexed starting at 0\n",
    "- Slice notation can be used to obtain a sub-list of values `x[2:4]` equal to a list of `X[2]` and `x[3]` \n",
    "- `split()` makes a list from a string\n",
    "- `range()` produces a sequential list of int\n",
    "```python\n",
    "adjectives = ['awesome','good','excellent','awful','terrible']\n",
    "temperatures = [87, 56, -4, 70, 92, 60, 38, 87, 64, 71]\n",
    "coordinates = [(-34, 77), (45, -82)]\n",
    "```"
   ]
  },
  {
   "cell_type": "markdown",
   "id": "7ee151bc",
   "metadata": {},
   "source": [
    "try it yourself:"
   ]
  },
  {
   "cell_type": "code",
   "execution_count": 13,
   "id": "f40f1637",
   "metadata": {},
   "outputs": [],
   "source": [
    "x = [1, 2, 3]\n",
    "y = [1, \"1\", None]"
   ]
  },
  {
   "cell_type": "code",
   "execution_count": 14,
   "id": "37948784",
   "metadata": {},
   "outputs": [
    {
     "data": {
      "text/plain": [
       "3"
      ]
     },
     "execution_count": 14,
     "metadata": {},
     "output_type": "execute_result"
    }
   ],
   "source": [
    "# length\n",
    "len(x)"
   ]
  },
  {
   "cell_type": "markdown",
   "id": "21d661fa",
   "metadata": {},
   "source": [
    "You can append to a list:"
   ]
  },
  {
   "cell_type": "code",
   "execution_count": 15,
   "id": "1ae68c39",
   "metadata": {},
   "outputs": [],
   "source": [
    "x.append(4)"
   ]
  },
  {
   "cell_type": "code",
   "execution_count": 16,
   "id": "4dab5ed9",
   "metadata": {},
   "outputs": [
    {
     "data": {
      "text/plain": [
       "[1, 2, 3, 4]"
      ]
     },
     "execution_count": 16,
     "metadata": {},
     "output_type": "execute_result"
    }
   ],
   "source": [
    "x"
   ]
  },
  {
   "cell_type": "markdown",
   "id": "008fac63",
   "metadata": {},
   "source": [
    "You can concatenate two lists:"
   ]
  },
  {
   "cell_type": "code",
   "execution_count": 17,
   "id": "eed9c483",
   "metadata": {},
   "outputs": [
    {
     "data": {
      "text/plain": [
       "[1, 2, 3, 4, 1, '1', None]"
      ]
     },
     "execution_count": 17,
     "metadata": {},
     "output_type": "execute_result"
    }
   ],
   "source": [
    "x + y"
   ]
  },
  {
   "cell_type": "markdown",
   "id": "390559a1",
   "metadata": {},
   "source": [
    "You can ask if an element belongs to a list"
   ]
  },
  {
   "cell_type": "code",
   "execution_count": 18,
   "id": "a1684b22",
   "metadata": {},
   "outputs": [
    {
     "data": {
      "text/plain": [
       "True"
      ]
     },
     "execution_count": 18,
     "metadata": {},
     "output_type": "execute_result"
    }
   ],
   "source": [
    "2 in x"
   ]
  },
  {
   "cell_type": "code",
   "execution_count": 19,
   "id": "f09cbed4",
   "metadata": {},
   "outputs": [
    {
     "data": {
      "text/plain": [
       "False"
      ]
     },
     "execution_count": 19,
     "metadata": {},
     "output_type": "execute_result"
    }
   ],
   "source": [
    "-1 in x"
   ]
  },
  {
   "cell_type": "markdown",
   "id": "3d4e2042",
   "metadata": {},
   "source": [
    "You can index or slice a list by using the following notation:\n",
    "\n",
    "`x[start:stop:step]`: where `start` is the initial element of the slice, `stop` is the final element (until), and `step` is how many elements will skip to move from `start` until `stop`."
   ]
  },
  {
   "cell_type": "code",
   "execution_count": 11,
   "id": "2c601c2f",
   "metadata": {},
   "outputs": [],
   "source": [
    "x = [1, 2, 3, 4]"
   ]
  },
  {
   "cell_type": "markdown",
   "id": "c9a69946",
   "metadata": {},
   "source": [
    "Indices start from 0 and you can omit `stop` and and `step`:"
   ]
  },
  {
   "cell_type": "code",
   "execution_count": null,
   "id": "11e85e97",
   "metadata": {},
   "outputs": [],
   "source": [
    "x[0]"
   ]
  },
  {
   "cell_type": "markdown",
   "id": "07da2102",
   "metadata": {},
   "source": [
    "All elements are taken from `start` until `stop`, but not `stop`:"
   ]
  },
  {
   "cell_type": "code",
   "execution_count": null,
   "id": "8eae18e5",
   "metadata": {},
   "outputs": [],
   "source": [
    "x[3]"
   ]
  },
  {
   "cell_type": "code",
   "execution_count": null,
   "id": "79436d81",
   "metadata": {},
   "outputs": [],
   "source": [
    "x"
   ]
  },
  {
   "cell_type": "code",
   "execution_count": null,
   "id": "5573c8b1",
   "metadata": {},
   "outputs": [],
   "source": [
    "x[0:3]"
   ]
  },
  {
   "cell_type": "markdown",
   "id": "9c9963fc",
   "metadata": {},
   "source": [
    "Taken one every other element:"
   ]
  },
  {
   "cell_type": "code",
   "execution_count": 23,
   "id": "0ae664ff",
   "metadata": {},
   "outputs": [
    {
     "data": {
      "text/plain": [
       "[1, 3]"
      ]
     },
     "execution_count": 23,
     "metadata": {},
     "output_type": "execute_result"
    }
   ],
   "source": [
    "x[0:3:2]"
   ]
  },
  {
   "cell_type": "markdown",
   "id": "54ddf789",
   "metadata": {},
   "source": [
    "A negative index indicate indexing from the end:"
   ]
  },
  {
   "cell_type": "code",
   "execution_count": null,
   "id": "d2be9b0d",
   "metadata": {},
   "outputs": [],
   "source": [
    "x[-1]"
   ]
  },
  {
   "cell_type": "code",
   "execution_count": null,
   "id": "8a96147a",
   "metadata": {},
   "outputs": [],
   "source": [
    "x[-2]"
   ]
  },
  {
   "cell_type": "markdown",
   "id": "4aeeed7c",
   "metadata": {},
   "source": [
    "Lets take the last three elements:"
   ]
  },
  {
   "cell_type": "code",
   "execution_count": null,
   "id": "d5fe17c5",
   "metadata": {},
   "outputs": [],
   "source": [
    "x[-3:]"
   ]
  },
  {
   "cell_type": "markdown",
   "id": "39d36d05",
   "metadata": {},
   "source": [
    "If you omit `stop`, it will assume it will assume it is until the end of the list:"
   ]
  },
  {
   "cell_type": "code",
   "execution_count": null,
   "id": "95b70549",
   "metadata": {},
   "outputs": [],
   "source": [
    "x[-3::2]"
   ]
  },
  {
   "cell_type": "markdown",
   "id": "acb8ebc6",
   "metadata": {},
   "source": [
    "**Q.** How would you reverse a list?"
   ]
  },
  {
   "cell_type": "code",
   "execution_count": null,
   "id": "f4babc40",
   "metadata": {},
   "outputs": [],
   "source": [
    "# code"
   ]
  },
  {
   "cell_type": "code",
   "execution_count": 12,
   "id": "a3157993",
   "metadata": {},
   "outputs": [
    {
     "data": {
      "text/plain": [
       "[4, 3, 2, 1]"
      ]
     },
     "execution_count": 12,
     "metadata": {},
     "output_type": "execute_result"
    }
   ],
   "source": [
    "x[::-1]"
   ]
  },
  {
   "cell_type": "markdown",
   "id": "a8f25575",
   "metadata": {},
   "source": [
    "## Comprehensions\n",
    "- A list comprehension consists of the following parts:\n",
    "  - An Input Sequence.\n",
    "  - A Variable representing members of the input sequence.\n",
    "  - An Optional Predicate expression.\n",
    "  - An Output Expression producing elements of the output list from members of the Input Sequence that satisfy the predicate.\n",
    "\n",
    "```python\n",
    "a_list = [1, '4', 9, 'a', 0, 4]\n",
    "squared_ints = [e**2 for e in a_list if type(e) == types.IntType]\n",
    "print(squared_ints) # [1, 81, 0, 16]\n",
    "```\n",
    "<center><img src=\"~/datasets/s4/images/list_comp.png\" width=\"50%\" align=\"center\"></center>"
   ]
  },
  {
   "cell_type": "markdown",
   "id": "bdd4b4f8",
   "metadata": {},
   "source": [
    "Try yourself:"
   ]
  },
  {
   "cell_type": "code",
   "execution_count": null,
   "id": "d1fccf1f",
   "metadata": {},
   "outputs": [],
   "source": [
    "[i for i in range(10)]"
   ]
  },
  {
   "cell_type": "code",
   "execution_count": null,
   "id": "69ae7b3c",
   "metadata": {},
   "outputs": [],
   "source": [
    "[i**2 for i in range(10)]"
   ]
  },
  {
   "cell_type": "markdown",
   "id": "764e5103",
   "metadata": {},
   "source": [
    "We can even add some conditions"
   ]
  },
  {
   "cell_type": "code",
   "execution_count": null,
   "id": "2c75195a",
   "metadata": {},
   "outputs": [],
   "source": [
    "[i for i in range(10) if i > 5]"
   ]
  },
  {
   "cell_type": "markdown",
   "id": "14f1c0e2",
   "metadata": {},
   "source": [
    "Multiples of 2"
   ]
  },
  {
   "cell_type": "code",
   "execution_count": null,
   "id": "5bb29590",
   "metadata": {},
   "outputs": [],
   "source": [
    "[i for i in range(10) if i % 2 == 0]"
   ]
  },
  {
   "cell_type": "markdown",
   "id": "8aa3087e",
   "metadata": {},
   "source": [
    "Powers of 2"
   ]
  },
  {
   "cell_type": "code",
   "execution_count": null,
   "id": "1d1ce819",
   "metadata": {},
   "outputs": [],
   "source": [
    "[i**2 for i in range(10)]"
   ]
  },
  {
   "cell_type": "markdown",
   "id": "0ff13458",
   "metadata": {},
   "source": [
    "You can nest comprehensions"
   ]
  },
  {
   "cell_type": "code",
   "execution_count": null,
   "id": "88bce89d",
   "metadata": {},
   "outputs": [],
   "source": [
    "[[[i, j] for i in range(5)] for j in range(5)]"
   ]
  },
  {
   "cell_type": "markdown",
   "id": "1725e1a8",
   "metadata": {},
   "source": [
    "You can concatenate multiple comprehensions"
   ]
  },
  {
   "cell_type": "code",
   "execution_count": null,
   "id": "2eaad408",
   "metadata": {},
   "outputs": [],
   "source": [
    "[[i, j] for i in range(5) for j in range(5) if i < j]"
   ]
  },
  {
   "cell_type": "markdown",
   "id": "dc87aaec",
   "metadata": {},
   "source": [
    "## Tuples"
   ]
  },
  {
   "cell_type": "markdown",
   "id": "c2940897",
   "metadata": {},
   "source": [
    "Tuples are like lists but they are *immutable* (cannot be changed)"
   ]
  },
  {
   "cell_type": "code",
   "execution_count": null,
   "id": "9588fedf",
   "metadata": {},
   "outputs": [],
   "source": [
    "z = (1, 2, 3, 4, 5)"
   ]
  },
  {
   "cell_type": "markdown",
   "id": "fd10c907",
   "metadata": {},
   "source": [
    "## Dictionaries\n",
    "- Dictionaries are Key-Value pairs\n",
    "- Defined with curly brackets **{ }**\n",
    "- Values are indexed by their key\n",
    "- `KeyError` when key does not exist\n",
    "- Circumvent with `.get()`\n",
    "```python\n",
    "personal_info = {'Name':'John', 'Age':34, 'Height': 68.4}\n",
    "print(personal_info['Age'])\n",
    "```\n",
    "```\n",
    ">> 34\n",
    "```"
   ]
  },
  {
   "cell_type": "markdown",
   "id": "e56c5f7f",
   "metadata": {},
   "source": [
    "Try it yourself:"
   ]
  },
  {
   "cell_type": "code",
   "execution_count": null,
   "id": "ff0d7dae",
   "metadata": {},
   "outputs": [],
   "source": [
    "S = { 'name' : 'bob', \n",
    "     'gpa'  : 3.4 }\n",
    "S['major'] = 'IM'"
   ]
  },
  {
   "cell_type": "code",
   "execution_count": null,
   "id": "7e94d551",
   "metadata": {},
   "outputs": [],
   "source": [
    "S"
   ]
  },
  {
   "cell_type": "code",
   "execution_count": null,
   "id": "064c6c54",
   "metadata": {},
   "outputs": [],
   "source": [
    "S['gpa']"
   ]
  },
  {
   "cell_type": "code",
   "execution_count": null,
   "id": "165ad76d",
   "metadata": {},
   "outputs": [],
   "source": [
    "S['major']"
   ]
  },
  {
   "cell_type": "code",
   "execution_count": null,
   "id": "af261cc9",
   "metadata": {},
   "outputs": [],
   "source": [
    "S['age']"
   ]
  },
  {
   "cell_type": "code",
   "execution_count": null,
   "id": "f52bfebb",
   "metadata": {},
   "outputs": [],
   "source": [
    "S.get('age', '')"
   ]
  },
  {
   "cell_type": "code",
   "execution_count": null,
   "id": "18ca814e",
   "metadata": {},
   "outputs": [],
   "source": []
  },
  {
   "cell_type": "code",
   "execution_count": null,
   "id": "e49bcdbb",
   "metadata": {},
   "outputs": [],
   "source": []
  },
  {
   "cell_type": "markdown",
   "id": "a9561402",
   "metadata": {},
   "source": [
    "## Program flow"
   ]
  },
  {
   "cell_type": "markdown",
   "id": "c6b6fbf2",
   "metadata": {},
   "source": [
    "Python has a very expressive set of condition statements:"
   ]
  },
  {
   "cell_type": "code",
   "execution_count": null,
   "id": "b8cbfc13",
   "metadata": {},
   "outputs": [],
   "source": [
    "account_balance = 100\n",
    "withdrawal_amount = 200"
   ]
  },
  {
   "cell_type": "markdown",
   "id": "9d4151ac",
   "metadata": {},
   "source": [
    "Is my balance greater than 0?"
   ]
  },
  {
   "cell_type": "code",
   "execution_count": null,
   "id": "8727b4a0",
   "metadata": {},
   "outputs": [],
   "source": [
    "account_balance > 0"
   ]
  },
  {
   "cell_type": "markdown",
   "id": "c143523b",
   "metadata": {},
   "source": [
    "Can I withdraw $ 200?"
   ]
  },
  {
   "cell_type": "code",
   "execution_count": null,
   "id": "72d86cd6",
   "metadata": {
    "scrolled": true
   },
   "outputs": [],
   "source": [
    "account_balance - withdrawal_amount >= 0"
   ]
  },
  {
   "cell_type": "markdown",
   "id": "018d87f3",
   "metadata": {},
   "source": [
    "You can combine statements in an intuitive way:"
   ]
  },
  {
   "cell_type": "code",
   "execution_count": null,
   "id": "cf67e1ff",
   "metadata": {
    "scrolled": true
   },
   "outputs": [],
   "source": [
    "0 <= account_balance <= 100"
   ]
  },
  {
   "cell_type": "code",
   "execution_count": null,
   "id": "70785820",
   "metadata": {},
   "outputs": [],
   "source": [
    "0 <= account_balance and account_balance <= 100"
   ]
  },
  {
   "cell_type": "markdown",
   "id": "815c53a4",
   "metadata": {},
   "source": [
    "## IF\n",
    "- The `if` statement is used to branch your code based on a Boolean (`True`/`False`) expression.\n",
    "```python\n",
    "if boolean_expression:\n",
    "\t# statements when true\n",
    "else:\n",
    "\t# statements when false\n",
    "```\n",
    "\n",
    "Use `elif` to make more than one decision in your `if` statement\n",
    "```python\n",
    "if boolean_expression1:\n",
    "\t# statements when exp1 true\n",
    "elif boolean_expression2:\n",
    "\t# statements when exp2 true\n",
    "else:\n",
    "\t# statements when false\n",
    "```\n"
   ]
  },
  {
   "cell_type": "markdown",
   "id": "8ecaf13f",
   "metadata": {},
   "source": [
    "## WHILE\n",
    "The `while` statement is a loop. It is used to repeat statements as long as a Boolean expression is true.\n",
    "```python\n",
    "while boolean_expression:\n",
    "    # statements to\n",
    "    # repeat while true\n",
    "```"
   ]
  },
  {
   "cell_type": "markdown",
   "id": "37081ff5",
   "metadata": {},
   "source": [
    "## FOR\n",
    "The `for` statement is a loop. It is used to iterate over a list of items.\n",
    "```python\n",
    "for variable in list:\n",
    "\t# statements to\n",
    "    # do for each item\n",
    "```    "
   ]
  },
  {
   "cell_type": "markdown",
   "id": "f4ae6a14",
   "metadata": {},
   "source": [
    "Try it yourself:"
   ]
  },
  {
   "cell_type": "code",
   "execution_count": 26,
   "id": "b940a353",
   "metadata": {},
   "outputs": [
    {
     "name": "stdout",
     "output_type": "stream",
     "text": [
      "1\n",
      "2\n",
      "3\n",
      "4\n"
     ]
    }
   ],
   "source": [
    "a = [1, 2, 3, 4]\n",
    "\n",
    "for element in a:\n",
    "    print(element)"
   ]
  },
  {
   "cell_type": "code",
   "execution_count": 28,
   "id": "e3b9a337",
   "metadata": {},
   "outputs": [
    {
     "name": "stdout",
     "output_type": "stream",
     "text": [
      "True\n"
     ]
    }
   ],
   "source": [
    "if 5 not in a:\n",
    "    print('True')\n",
    "else:\n",
    "    print('False')"
   ]
  },
  {
   "cell_type": "code",
   "execution_count": 31,
   "id": "72a47b3b",
   "metadata": {},
   "outputs": [
    {
     "name": "stdout",
     "output_type": "stream",
     "text": [
      "0\n",
      "1\n",
      "2\n",
      "3\n",
      "4\n",
      "5\n",
      "6\n",
      "7\n",
      "8\n",
      "9\n",
      "10\n"
     ]
    }
   ],
   "source": [
    "i = 0\n",
    "while i <= 10:\n",
    "    print(i)\n",
    "    i = i + 1"
   ]
  },
  {
   "cell_type": "markdown",
   "id": "668b4dff",
   "metadata": {},
   "source": [
    "## Functions\n",
    "- Use the `def` keyword to define a custom function.\n",
    "- Use `return` to send a value back to the function caller.\n",
    "```python\n",
    "def function_name (arguments):\n",
    "\t# statements in function\n",
    "    return expression_value\n",
    "```\n",
    "\n",
    "- It is easy to define functions:\n",
    "```python\n",
    "def f():\n",
    "    return 5\n",
    "```\n",
    "- Functions have their own type\n",
    "```python\n",
    "type(f)?\n",
    "```\n",
    "- You can access hidden parameters of a function object: `f.__`\n",
    "- You can define the help of a function (called a “doc”) by putting a triple double quote box just below a function\n",
    "- Try to run `?f` after the doc definition"
   ]
  },
  {
   "cell_type": "markdown",
   "id": "824770b9",
   "metadata": {},
   "source": [
    "Try it yourself:"
   ]
  },
  {
   "cell_type": "code",
   "execution_count": 23,
   "id": "dce6c57b",
   "metadata": {},
   "outputs": [],
   "source": [
    "def f():\n",
    "    '''\n",
    "    return 5.\n",
    "    '''\n",
    "    return 5"
   ]
  },
  {
   "cell_type": "code",
   "execution_count": 14,
   "id": "b2649fe9",
   "metadata": {},
   "outputs": [
    {
     "data": {
      "text/plain": [
       "5"
      ]
     },
     "execution_count": 14,
     "metadata": {},
     "output_type": "execute_result"
    }
   ],
   "source": [
    "f()"
   ]
  },
  {
   "cell_type": "code",
   "execution_count": 15,
   "id": "8ea0a693",
   "metadata": {},
   "outputs": [
    {
     "data": {
      "text/plain": [
       "function"
      ]
     },
     "execution_count": 15,
     "metadata": {},
     "output_type": "execute_result"
    }
   ],
   "source": [
    "type(f)"
   ]
  },
  {
   "cell_type": "code",
   "execution_count": 24,
   "id": "027cbb3d",
   "metadata": {},
   "outputs": [],
   "source": [
    "?f"
   ]
  },
  {
   "cell_type": "code",
   "execution_count": null,
   "id": "58c94f8f",
   "metadata": {},
   "outputs": [],
   "source": [
    "def add(a, b):\n",
    "    return a + b"
   ]
  },
  {
   "cell_type": "code",
   "execution_count": null,
   "id": "cc92df10",
   "metadata": {},
   "outputs": [],
   "source": [
    "add(2, 3)"
   ]
  },
  {
   "cell_type": "code",
   "execution_count": null,
   "id": "74b5806a",
   "metadata": {},
   "outputs": [],
   "source": [
    "add(\"hello \", \"world\")"
   ]
  },
  {
   "cell_type": "code",
   "execution_count": null,
   "id": "e74711a8",
   "metadata": {},
   "outputs": [],
   "source": [
    "add([1,2,3], [4])"
   ]
  },
  {
   "cell_type": "code",
   "execution_count": null,
   "id": "75443977",
   "metadata": {},
   "outputs": [],
   "source": []
  },
  {
   "cell_type": "code",
   "execution_count": null,
   "id": "81d91554",
   "metadata": {},
   "outputs": [],
   "source": []
  },
  {
   "cell_type": "code",
   "execution_count": null,
   "id": "9cc24bba",
   "metadata": {},
   "outputs": [],
   "source": []
  }
 ],
 "metadata": {
  "kernelspec": {
   "display_name": "Python 3",
   "language": "python",
   "name": "python3"
  },
  "language_info": {
   "codemirror_mode": {
    "name": "ipython",
    "version": 3
   },
   "file_extension": ".py",
   "mimetype": "text/x-python",
   "name": "python",
   "nbconvert_exporter": "python",
   "pygments_lexer": "ipython3",
   "version": "3.7.4"
  }
 },
 "nbformat": 4,
 "nbformat_minor": 5
}
