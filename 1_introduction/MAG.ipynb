{
 "cells": [
  {
   "cell_type": "markdown",
   "id": "1b2fd0e9",
   "metadata": {},
   "source": [
    "# Data Transformation with Microsoft Academic Graph "
   ]
  },
  {
   "cell_type": "markdown",
   "id": "1b616f9e",
   "metadata": {},
   "source": [
    "Microsift Academic Graph (MAG) is a large database with tables that include information about publications, authors, affiliations, journals and citation. In this notebook, we will work on a sample of MAG and transform it with Pandas."
   ]
  },
  {
   "cell_type": "code",
   "execution_count": null,
   "id": "270ee111",
   "metadata": {},
   "outputs": [],
   "source": [
    "# Importing packages for data transformation\n",
    "import numpy as np\n",
    "import pandas as pd"
   ]
  },
  {
   "cell_type": "code",
   "execution_count": null,
   "id": "b214e91c",
   "metadata": {},
   "outputs": [],
   "source": [
    "# Importing basic MAG tables\n",
    "Papers = pd.read_csv('~/datasets/s4/MAG/Papers.csv')\n",
    "PaperAuthorAffiliations = pd.read_csv('~/datasets/s4/MAG/PaperAuthorAffiliations.csv')\n",
    "Authors = pd.read_csv('~/datasets/s4/MAG/Authors.csv')\n",
    "Affiliations = pd.read_csv('~/datasets/s4/MAG/Affiliations.csv')\n",
    "Journals = pd.read_csv('~/datasets/s4/MAG/Journals.csv') "
   ]
  },
  {
   "cell_type": "code",
   "execution_count": null,
   "id": "2de959fd",
   "metadata": {
    "scrolled": false
   },
   "outputs": [],
   "source": [
    "# \"Papers\" is a table with information about publications. It includes paper title, publication date, DOI numbers and more.\n",
    "# We can link the table with other tables in MAG with ids to discover the relationship between different entities.\n",
    "Papers.head()"
   ]
  },
  {
   "cell_type": "code",
   "execution_count": null,
   "id": "2fa39cc3",
   "metadata": {},
   "outputs": [],
   "source": [
    "# Choosing PaperId and PaperTitle\n",
    "Papers.loc[0:1, ['PaperId', 'PaperTitle']]"
   ]
  },
  {
   "cell_type": "code",
   "execution_count": null,
   "id": "ce8376cf",
   "metadata": {
    "scrolled": true
   },
   "outputs": [],
   "source": [
    "# By linking PaperId and AuthorId with \"PaperAuthorAffiliations\" and \"Author\" table, \n",
    "# we can get the author names for publications\n",
    "\n",
    "Papers.loc[4:5, ['PaperId', 'PaperTitle']].\\\n",
    "    merge(PaperAuthorAffiliations, how = 'inner', on = 'PaperId').\\\n",
    "    merge(Authors, how = 'inner', on = 'AuthorId')[['PaperTitle', 'OriginalAuthor']]"
   ]
  },
  {
   "cell_type": "code",
   "execution_count": null,
   "id": "bc198550",
   "metadata": {},
   "outputs": [],
   "source": [
    "# By linking PaperId with \"PaperAuthorAffiliations\" and \"Affiliations\" table,\n",
    "# we can get information about the affiliation for authors of papers we selected\n",
    "Papers.loc[:10, ['PaperId', 'PaperTitle']].\\\n",
    "    merge(PaperAuthorAffiliations, how = 'inner', on = 'PaperId').\\\n",
    "    merge(Affiliations, how = 'inner', on = 'AffiliationId')[['PaperTitle', 'NormalizedName', 'OfficialPage']]"
   ]
  },
  {
   "cell_type": "code",
   "execution_count": null,
   "id": "45272330",
   "metadata": {},
   "outputs": [],
   "source": [
    "# Loading tables with field of study information\n",
    "\n",
    "PaperFields = pd.read_csv('~/datasets/s4/MAG/PaperFieldsOfStudy.csv')\n",
    "Fields = pd.read_csv('~/datasets/s4/MAG/FieldsOfStudy.csv')"
   ]
  },
  {
   "cell_type": "code",
   "execution_count": null,
   "id": "3bcefefa",
   "metadata": {},
   "outputs": [],
   "source": [
    "# Checking the field of study for selected papers\n",
    "\n",
    "pd.set_option('display.max_columns', None)  \n",
    "Papers.loc[:10, ['PaperId', 'PaperTitle']].\\\n",
    "    merge(PaperFields, how = 'inner', on = 'PaperId').\\\n",
    "    merge(Fields, how = 'inner', on = 'FieldOfStudyId')[['PaperTitle', 'NormalizedName']].groupby('PaperTitle').agg(list)"
   ]
  },
  {
   "cell_type": "code",
   "execution_count": null,
   "id": "fbe813c2",
   "metadata": {},
   "outputs": [],
   "source": [
    "# \"Journals\" table includes metadata of journals\n",
    "\n",
    "Journals.head()"
   ]
  },
  {
   "cell_type": "code",
   "execution_count": null,
   "id": "76ee280e",
   "metadata": {},
   "outputs": [],
   "source": [
    "# Loading tables with citation information\n",
    "\n",
    "PaperCitationContexts = pd.read_csv('~/datasets/s4/MAG/PaperCitationContexts.csv')\n",
    "PaperCitation = pd.read_csv('~/datasets/s4/MAG/PaperCitation.csv')"
   ]
  },
  {
   "cell_type": "code",
   "execution_count": null,
   "id": "a628e938",
   "metadata": {},
   "outputs": [],
   "source": [
    "PaperCitationContexts"
   ]
  },
  {
   "cell_type": "code",
   "execution_count": null,
   "id": "b9849426",
   "metadata": {},
   "outputs": [],
   "source": [
    "# Check paper citation\n",
    "\n",
    "Papers.loc[:30, ['PaperId', 'PaperTitle']].\\\n",
    "    merge(PaperCitation, how = 'inner', on = 'PaperId').\\\n",
    "    merge(Papers.rename({'PaperId': 'PaperReferenceId', 'PaperTitle': 'PaperReferenceTitle'}, axis = 1)[['PaperReferenceId', 'PaperReferenceTitle']],\n",
    "          how = 'inner',\n",
    "          on = 'PaperReferenceId')"
   ]
  },
  {
   "cell_type": "code",
   "execution_count": null,
   "id": "9a212796",
   "metadata": {},
   "outputs": [],
   "source": [
    "# Check paper citation and the citation context\n",
    "\n",
    "Papers.loc[:30, ['PaperId', 'PaperTitle']].\\\n",
    "    merge(PaperCitationContexts, how = 'inner', on = 'PaperId')[['PaperTitle', 'CitationContext']]"
   ]
  },
  {
   "cell_type": "code",
   "execution_count": null,
   "id": "68cdc46b",
   "metadata": {},
   "outputs": [],
   "source": []
  }
 ],
 "metadata": {
  "kernelspec": {
   "display_name": "Python 3",
   "language": "python",
   "name": "python3"
  },
  "language_info": {
   "codemirror_mode": {
    "name": "ipython",
    "version": 3
   },
   "file_extension": ".py",
   "mimetype": "text/x-python",
   "name": "python",
   "nbconvert_exporter": "python",
   "pygments_lexer": "ipython3",
   "version": "3.7.4"
  },
  "latex_envs": {
   "LaTeX_envs_menu_present": true,
   "autoclose": false,
   "autocomplete": true,
   "bibliofile": "biblio.bib",
   "cite_by": "apalike",
   "current_citInitial": 1,
   "eqLabelWithNumbers": true,
   "eqNumInitial": 1,
   "hotkeys": {
    "equation": "Ctrl-E",
    "itemize": "Ctrl-I"
   },
   "labels_anchors": false,
   "latex_user_defs": false,
   "report_style_numbering": false,
   "user_envs_cfg": false
  },
  "toc": {
   "base_numbering": 1,
   "nav_menu": {},
   "number_sections": true,
   "sideBar": true,
   "skip_h1_title": false,
   "title_cell": "Table of Contents",
   "title_sidebar": "Contents",
   "toc_cell": false,
   "toc_position": {},
   "toc_section_display": true,
   "toc_window_display": false
  }
 },
 "nbformat": 4,
 "nbformat_minor": 5
}
