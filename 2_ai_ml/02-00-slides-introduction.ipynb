{
 "cells": [
  {
   "cell_type": "markdown",
   "metadata": {
    "slideshow": {
     "slide_type": "slide"
    }
   },
   "source": [
    "# Science of Science Summer School (S4) 2021\n",
    "## Day 2: AI/ML\n",
    "### Introduction\n",
    "- Daniel E. Acuna, School of Information, Syracuse University"
   ]
  },
  {
   "cell_type": "markdown",
   "metadata": {
    "slideshow": {
     "slide_type": "slide"
    }
   },
   "source": [
    "# Plan for today\n",
    "\n",
    "- Teaching from 9:00 AM - 1:00 PM ET\n",
    "- Break 1:00 PM - 2:00 PM ET\n",
    "- Group activity + Office hours 2:00 PM ET - 4:00 PM : text mining, but feel free to discuss projects too\n",
    "- We will cover:\n",
    "  - Numpy, Pandas, Matplotlib\n",
    "  - Basic math\n",
    "  - Statistical learning\n",
    "  - scikit-learn\n",
    "  - Model evaluation, comparison  \n",
    "- Four teaching session (30 minute lecture, 15 minute group activity)"
   ]
  },
  {
   "attachments": {},
   "cell_type": "markdown",
   "metadata": {
    "slideshow": {
     "slide_type": "slide"
    }
   },
   "source": [
    "# If your copy of the repo is not syncronized to soshub\n",
    "\n",
    "Do the following\n",
    "![](images/open_terminal.png)\n",
    "and type `rm -rf library/s4_lectures` (careful with this command!)\n",
    "![](images/terminal_rm_command.png)\n",
    "and shutdown and restart your \"server\"\n",
    "![](images/open_control.png) ![](images/shutdown_server.png)\n"
   ]
  },
  {
   "cell_type": "markdown",
   "metadata": {
    "slideshow": {
     "slide_type": "slide"
    }
   },
   "source": [
    "# Groups/projects and others\n",
    "\n",
    "- If you don't have a group yet, feel free to use the afternoon session to find a match\n",
    "- Some groups have created channels on Slack\n",
    "- We need to close the Zoom meeting during the long break to save the video and post. We'll reopen at 2:00 PM ET\n",
    "- Remember to check repository https://github.com/SciSciSummerSchool/s4_lectures and references https://github.com/SciSciSummerSchool/s4_lectures/tree/master/references\n",
    "- Check https://s4.scienceofscience.org/schedule/ for videos\n",
    "- Questions?"
   ]
  }
 ],
 "metadata": {
  "celltoolbar": "Slideshow",
  "kernelspec": {
   "display_name": "Python 3",
   "language": "python",
   "name": "python3"
  },
  "language_info": {
   "codemirror_mode": {
    "name": "ipython",
    "version": 3
   },
   "file_extension": ".py",
   "mimetype": "text/x-python",
   "name": "python",
   "nbconvert_exporter": "python",
   "pygments_lexer": "ipython3",
   "version": "3.8.8"
  },
  "latex_envs": {
   "LaTeX_envs_menu_present": true,
   "autoclose": false,
   "autocomplete": true,
   "bibliofile": "biblio.bib",
   "cite_by": "apalike",
   "current_citInitial": 1,
   "eqLabelWithNumbers": true,
   "eqNumInitial": 1,
   "hotkeys": {
    "equation": "Ctrl-E",
    "itemize": "Ctrl-I"
   },
   "labels_anchors": false,
   "latex_user_defs": false,
   "report_style_numbering": false,
   "user_envs_cfg": false
  },
  "rise": {
   "chalkboard": {
    "color": [
     "rgb(250, 250, 250)",
     "rgb(250, 250, 250)"
    ]
   },
   "enable_chalkboard": true,
   "footer": "<h3><span style='color: orange'>Science of Science Summer School 2021</span> &#x2014; https://s4.scienceofscience.org &#x2014; (Virtually) hosted by School of Information Studies, Syracuse University: &#x2014; 07/26 - 08/6 <br>Vector art from <a href='https://www.freepik.com/'>https://www.freepik.com/</a></h3>",
   "header": "<h3>Day 2 - ML/AI</h3>",
   "show_buttons_on_startup": false,
   "slideNumber": true,
   "theme": "white"
  },
  "toc": {
   "base_numbering": 1,
   "nav_menu": {},
   "number_sections": false,
   "sideBar": true,
   "skip_h1_title": false,
   "title_cell": "Table of Contents",
   "title_sidebar": "Contents",
   "toc_cell": false,
   "toc_position": {},
   "toc_section_display": true,
   "toc_window_display": false
  }
 },
 "nbformat": 4,
 "nbformat_minor": 4
}
