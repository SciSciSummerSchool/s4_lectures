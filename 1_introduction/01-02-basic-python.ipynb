{
 "cells": [
  {
   "cell_type": "markdown",
   "id": "87175a5e",
   "metadata": {},
   "source": [
    "# Python Language Basics"
   ]
  },
  {
   "cell_type": "markdown",
   "id": "86ede740",
   "metadata": {},
   "source": [
    "## Data Types\n",
    "- Python has the expected data types like int, float, bool, str\n",
    "- Python also contains types for collections of data:\n",
    "  - tuple: immutable collection\n",
    "  - list: all-purpose container for any data types\n",
    "  - set: a container for unordered, unique values\n",
    "  - dict: for storing maps of values (key/value pairs)\n",
    "- Python is *loosely-typed*. Meaning you can change types later."
   ]
  },
  {
   "cell_type": "markdown",
   "id": "4f066c0d",
   "metadata": {},
   "source": [
    "You can check the type of a variable using `type`"
   ]
  },
  {
   "cell_type": "code",
   "execution_count": 1,
   "id": "510ae918",
   "metadata": {},
   "outputs": [
    {
     "data": {
      "text/plain": [
       "int"
      ]
     },
     "execution_count": 1,
     "metadata": {},
     "output_type": "execute_result"
    }
   ],
   "source": [
    "type(1)"
   ]
  },
  {
   "cell_type": "code",
   "execution_count": 2,
   "id": "75368914",
   "metadata": {},
   "outputs": [
    {
     "data": {
      "text/plain": [
       "float"
      ]
     },
     "execution_count": 2,
     "metadata": {},
     "output_type": "execute_result"
    }
   ],
   "source": [
    "type(1.0)"
   ]
  },
  {
   "cell_type": "code",
   "execution_count": 3,
   "id": "aa46c987",
   "metadata": {},
   "outputs": [
    {
     "data": {
      "text/plain": [
       "str"
      ]
     },
     "execution_count": 3,
     "metadata": {},
     "output_type": "execute_result"
    }
   ],
   "source": [
    "type(\"4.5\")"
   ]
  },
  {
   "cell_type": "code",
   "execution_count": 4,
   "id": "9574892d",
   "metadata": {},
   "outputs": [
    {
     "data": {
      "text/plain": [
       "bool"
      ]
     },
     "execution_count": 4,
     "metadata": {},
     "output_type": "execute_result"
    }
   ],
   "source": [
    "type(True)"
   ]
  },
  {
   "cell_type": "code",
   "execution_count": 5,
   "id": "f0059605",
   "metadata": {},
   "outputs": [
    {
     "data": {
      "text/plain": [
       "list"
      ]
     },
     "execution_count": 5,
     "metadata": {},
     "output_type": "execute_result"
    }
   ],
   "source": [
    "type([4.5])"
   ]
  },
  {
   "cell_type": "code",
   "execution_count": 6,
   "id": "b9e627e4",
   "metadata": {},
   "outputs": [
    {
     "data": {
      "text/plain": [
       "dict"
      ]
     },
     "execution_count": 6,
     "metadata": {},
     "output_type": "execute_result"
    }
   ],
   "source": [
    "type({'x': 4.5})"
   ]
  },
  {
   "cell_type": "code",
   "execution_count": 7,
   "id": "3e7f5c50",
   "metadata": {},
   "outputs": [
    {
     "data": {
      "text/plain": [
       "tuple"
      ]
     },
     "execution_count": 7,
     "metadata": {},
     "output_type": "execute_result"
    }
   ],
   "source": [
    "type((1, 2, 3, 4))"
   ]
  },
  {
   "cell_type": "code",
   "execution_count": 8,
   "id": "6700b26a",
   "metadata": {},
   "outputs": [
    {
     "data": {
      "text/plain": [
       "float"
      ]
     },
     "execution_count": 8,
     "metadata": {},
     "output_type": "execute_result"
    }
   ],
   "source": [
    "type((4.5))"
   ]
  },
  {
   "cell_type": "code",
   "execution_count": 9,
   "id": "29f44bdb",
   "metadata": {
    "scrolled": true
   },
   "outputs": [
    {
     "data": {
      "text/plain": [
       "tuple"
      ]
     },
     "execution_count": 9,
     "metadata": {},
     "output_type": "execute_result"
    }
   ],
   "source": [
    "type((4.5, ))"
   ]
  },
  {
   "cell_type": "markdown",
   "id": "8187d694",
   "metadata": {},
   "source": [
    "## Strings"
   ]
  },
  {
   "cell_type": "code",
   "execution_count": null,
   "id": "7645ca76",
   "metadata": {},
   "outputs": [],
   "source": [
    "s = \"Every once in a while there is a revolutionary product that comes along a changes everything\""
   ]
  },
  {
   "cell_type": "code",
   "execution_count": null,
   "id": "ae815b6e",
   "metadata": {},
   "outputs": [],
   "source": [
    "s[0]"
   ]
  },
  {
   "cell_type": "code",
   "execution_count": null,
   "id": "71f78f4e",
   "metadata": {},
   "outputs": [],
   "source": [
    "s[0:10]"
   ]
  },
  {
   "cell_type": "code",
   "execution_count": null,
   "id": "cb1e5370",
   "metadata": {},
   "outputs": [],
   "source": [
    "s[-10:]"
   ]
  },
  {
   "cell_type": "code",
   "execution_count": null,
   "id": "752a67ec",
   "metadata": {},
   "outputs": [],
   "source": [
    "s[0::2]"
   ]
  },
  {
   "cell_type": "markdown",
   "id": "0c126dea",
   "metadata": {},
   "source": [
    "Some times you want to transform a string into a list of words (e.g., Natural Language Processing):"
   ]
  },
  {
   "cell_type": "code",
   "execution_count": null,
   "id": "10c1dd71",
   "metadata": {},
   "outputs": [],
   "source": [
    "s.split()"
   ]
  },
  {
   "cell_type": "markdown",
   "id": "31f3cad6",
   "metadata": {},
   "source": [
    "You can do the reverse by using the `join` operation over string:"
   ]
  },
  {
   "cell_type": "code",
   "execution_count": null,
   "id": "b9543625",
   "metadata": {},
   "outputs": [],
   "source": [
    "word_list = ['I', 'love', 'data', 'science']"
   ]
  },
  {
   "cell_type": "code",
   "execution_count": null,
   "id": "25766daa",
   "metadata": {},
   "outputs": [],
   "source": [
    "' '.join(word_list)"
   ]
  },
  {
   "cell_type": "code",
   "execution_count": null,
   "id": "affdac2f",
   "metadata": {},
   "outputs": [],
   "source": [
    "'-'.join(word_list)"
   ]
  },
  {
   "cell_type": "markdown",
   "id": "f1b4edb8",
   "metadata": {},
   "source": [
    "## Lists\n",
    "- A ***list*** is a mutable collection of any data type\n",
    "- Lists are defined using square brackets\n",
    "- Python list functions:\n",
    "https://docs.python.org/3/tutorial/datastructures.html \n",
    "- List items are indexed starting at 0\n",
    "- Slice notation can be used to obtain a sub-list of values `x[2:4]` equal to a list of `X[2]` and `x[3]` \n",
    "- `split()` makes a list from a string\n",
    "- `range()` produces a sequential list of int\n",
    "```python\n",
    "adjectives = ['awesome','good','excellent','awful','terrible']\n",
    "temperatures = [87, 56, -4, 70, 92, 60, 38, 87, 64, 71]\n",
    "coordinates = [(-34, 77), (45, -82)]\n",
    "```"
   ]
  },
  {
   "cell_type": "markdown",
   "id": "fb28a980",
   "metadata": {},
   "source": [
    "try it yourself:"
   ]
  },
  {
   "cell_type": "code",
   "execution_count": 13,
   "id": "8f65609f",
   "metadata": {},
   "outputs": [],
   "source": [
    "x = [1, 2, 3]\n",
    "y = [1, \"1\", None]"
   ]
  },
  {
   "cell_type": "code",
   "execution_count": 14,
   "id": "907e4d41",
   "metadata": {},
   "outputs": [
    {
     "data": {
      "text/plain": [
       "3"
      ]
     },
     "execution_count": 14,
     "metadata": {},
     "output_type": "execute_result"
    }
   ],
   "source": [
    "# length\n",
    "len(x)"
   ]
  },
  {
   "cell_type": "markdown",
   "id": "2485b294",
   "metadata": {},
   "source": [
    "You can append to a list:"
   ]
  },
  {
   "cell_type": "code",
   "execution_count": 15,
   "id": "89530c41",
   "metadata": {},
   "outputs": [],
   "source": [
    "x.append(4)"
   ]
  },
  {
   "cell_type": "code",
   "execution_count": 16,
   "id": "80670fc0",
   "metadata": {},
   "outputs": [
    {
     "data": {
      "text/plain": [
       "[1, 2, 3, 4]"
      ]
     },
     "execution_count": 16,
     "metadata": {},
     "output_type": "execute_result"
    }
   ],
   "source": [
    "x"
   ]
  },
  {
   "cell_type": "markdown",
   "id": "c220336e",
   "metadata": {},
   "source": [
    "You can concatenate two lists:"
   ]
  },
  {
   "cell_type": "code",
   "execution_count": 17,
   "id": "f010820b",
   "metadata": {},
   "outputs": [
    {
     "data": {
      "text/plain": [
       "[1, 2, 3, 4, 1, '1', None]"
      ]
     },
     "execution_count": 17,
     "metadata": {},
     "output_type": "execute_result"
    }
   ],
   "source": [
    "x + y"
   ]
  },
  {
   "cell_type": "markdown",
   "id": "625732fe",
   "metadata": {},
   "source": [
    "You can ask if an element belongs to a list"
   ]
  },
  {
   "cell_type": "code",
   "execution_count": 18,
   "id": "5ae273a1",
   "metadata": {},
   "outputs": [
    {
     "data": {
      "text/plain": [
       "True"
      ]
     },
     "execution_count": 18,
     "metadata": {},
     "output_type": "execute_result"
    }
   ],
   "source": [
    "2 in x"
   ]
  },
  {
   "cell_type": "code",
   "execution_count": 19,
   "id": "0b7c57ad",
   "metadata": {},
   "outputs": [
    {
     "data": {
      "text/plain": [
       "False"
      ]
     },
     "execution_count": 19,
     "metadata": {},
     "output_type": "execute_result"
    }
   ],
   "source": [
    "-1 in x"
   ]
  },
  {
   "cell_type": "markdown",
   "id": "ed4d1109",
   "metadata": {},
   "source": [
    "You can index or slice a list by using the following notation:\n",
    "\n",
    "`x[start:stop:step]`: where `start` is the initial element of the slice, `stop` is the final element (until), and `step` is how many elements will skip to move from `start` until `stop`."
   ]
  },
  {
   "cell_type": "code",
   "execution_count": 11,
   "id": "59652fe0",
   "metadata": {},
   "outputs": [],
   "source": [
    "x = [1, 2, 3, 4]"
   ]
  },
  {
   "cell_type": "markdown",
   "id": "94cdb695",
   "metadata": {},
   "source": [
    "Indices start from 0 and you can omit `stop` and and `step`:"
   ]
  },
  {
   "cell_type": "code",
   "execution_count": null,
   "id": "1e7fd6a7",
   "metadata": {},
   "outputs": [],
   "source": [
    "x[0]"
   ]
  },
  {
   "cell_type": "markdown",
   "id": "8d50b5de",
   "metadata": {},
   "source": [
    "All elements are taken from `start` until `stop`, but not `stop`:"
   ]
  },
  {
   "cell_type": "code",
   "execution_count": null,
   "id": "5a51041c",
   "metadata": {},
   "outputs": [],
   "source": [
    "x[3]"
   ]
  },
  {
   "cell_type": "code",
   "execution_count": null,
   "id": "a003e728",
   "metadata": {},
   "outputs": [],
   "source": [
    "x"
   ]
  },
  {
   "cell_type": "code",
   "execution_count": null,
   "id": "a32fd500",
   "metadata": {},
   "outputs": [],
   "source": [
    "x[0:3]"
   ]
  },
  {
   "cell_type": "markdown",
   "id": "d8de9d78",
   "metadata": {},
   "source": [
    "Taken one every other element:"
   ]
  },
  {
   "cell_type": "code",
   "execution_count": 23,
   "id": "1378a2c7",
   "metadata": {},
   "outputs": [
    {
     "data": {
      "text/plain": [
       "[1, 3]"
      ]
     },
     "execution_count": 23,
     "metadata": {},
     "output_type": "execute_result"
    }
   ],
   "source": [
    "x[0:3:2]"
   ]
  },
  {
   "cell_type": "markdown",
   "id": "0013166a",
   "metadata": {},
   "source": [
    "A negative index indicate indexing from the end:"
   ]
  },
  {
   "cell_type": "code",
   "execution_count": null,
   "id": "5e7862a5",
   "metadata": {},
   "outputs": [],
   "source": [
    "x[-1]"
   ]
  },
  {
   "cell_type": "code",
   "execution_count": null,
   "id": "34d4f375",
   "metadata": {},
   "outputs": [],
   "source": [
    "x[-2]"
   ]
  },
  {
   "cell_type": "markdown",
   "id": "3c9912c4",
   "metadata": {},
   "source": [
    "Lets take the last three elements:"
   ]
  },
  {
   "cell_type": "code",
   "execution_count": null,
   "id": "36c54be6",
   "metadata": {},
   "outputs": [],
   "source": [
    "x[-3:]"
   ]
  },
  {
   "cell_type": "markdown",
   "id": "83d98e06",
   "metadata": {},
   "source": [
    "If you omit `stop`, it will assume it will assume it is until the end of the list:"
   ]
  },
  {
   "cell_type": "code",
   "execution_count": null,
   "id": "ea154b5d",
   "metadata": {},
   "outputs": [],
   "source": [
    "x[-3::2]"
   ]
  },
  {
   "cell_type": "markdown",
   "id": "c1914dd2",
   "metadata": {},
   "source": [
    "**Q.** How would you reverse a list?"
   ]
  },
  {
   "cell_type": "code",
   "execution_count": null,
   "id": "690a16c3",
   "metadata": {},
   "outputs": [],
   "source": [
    "# code"
   ]
  },
  {
   "cell_type": "code",
   "execution_count": 12,
   "id": "35d9e1d6",
   "metadata": {},
   "outputs": [
    {
     "data": {
      "text/plain": [
       "[4, 3, 2, 1]"
      ]
     },
     "execution_count": 12,
     "metadata": {},
     "output_type": "execute_result"
    }
   ],
   "source": [
    "x[::-1]"
   ]
  },
  {
   "cell_type": "markdown",
   "id": "844f6a7c",
   "metadata": {},
   "source": [
    "## Comprehensions\n",
    "- A list comprehension consists of the following parts:\n",
    "  - An Input Sequence.\n",
    "  - A Variable representing members of the input sequence.\n",
    "  - An Optional Predicate expression.\n",
    "  - An Output Expression producing elements of the output list from members of the Input Sequence that satisfy the predicate.\n",
    "\n",
    "```python\n",
    "a_list = [1, '4', 9, 'a', 0, 4]\n",
    "squared_ints = [e**2 for e in a_list if type(e) == types.IntType]\n",
    "print(squared_ints) # [1, 81, 0, 16]\n",
    "```\n",
    "<center><img src=\"~/datasets/s4/images/list_comp.png\" width=\"50%\" align=\"center\"></center>"
   ]
  },
  {
   "cell_type": "markdown",
   "id": "36007b43",
   "metadata": {},
   "source": [
    "Try yourself:"
   ]
  },
  {
   "cell_type": "code",
   "execution_count": null,
   "id": "e8263e91",
   "metadata": {},
   "outputs": [],
   "source": [
    "[i for i in range(10)]"
   ]
  },
  {
   "cell_type": "code",
   "execution_count": null,
   "id": "3e91501f",
   "metadata": {},
   "outputs": [],
   "source": [
    "[i**2 for i in range(10)]"
   ]
  },
  {
   "cell_type": "markdown",
   "id": "a9bfbc07",
   "metadata": {},
   "source": [
    "We can even add some conditions"
   ]
  },
  {
   "cell_type": "code",
   "execution_count": null,
   "id": "30e25abd",
   "metadata": {},
   "outputs": [],
   "source": [
    "[i for i in range(10) if i > 5]"
   ]
  },
  {
   "cell_type": "markdown",
   "id": "0160a5f0",
   "metadata": {},
   "source": [
    "Multiples of 2"
   ]
  },
  {
   "cell_type": "code",
   "execution_count": null,
   "id": "27b8ac12",
   "metadata": {},
   "outputs": [],
   "source": [
    "[i for i in range(10) if i % 2 == 0]"
   ]
  },
  {
   "cell_type": "markdown",
   "id": "43fe2d6e",
   "metadata": {},
   "source": [
    "Powers of 2"
   ]
  },
  {
   "cell_type": "code",
   "execution_count": null,
   "id": "472387c2",
   "metadata": {},
   "outputs": [],
   "source": [
    "[i**2 for i in range(10)]"
   ]
  },
  {
   "cell_type": "markdown",
   "id": "3c0bd236",
   "metadata": {},
   "source": [
    "You can nest comprehensions"
   ]
  },
  {
   "cell_type": "code",
   "execution_count": null,
   "id": "8e1df522",
   "metadata": {},
   "outputs": [],
   "source": [
    "[[[i, j] for i in range(5)] for j in range(5)]"
   ]
  },
  {
   "cell_type": "markdown",
   "id": "d8b5a4ae",
   "metadata": {},
   "source": [
    "You can concatenate multiple comprehensions"
   ]
  },
  {
   "cell_type": "code",
   "execution_count": null,
   "id": "1e16c2e4",
   "metadata": {},
   "outputs": [],
   "source": [
    "[[i, j] for i in range(5) for j in range(5) if i < j]"
   ]
  },
  {
   "cell_type": "markdown",
   "id": "c4d527c5",
   "metadata": {},
   "source": [
    "## Tuples"
   ]
  },
  {
   "cell_type": "markdown",
   "id": "68bb909f",
   "metadata": {},
   "source": [
    "Tuples are like lists but they are *immutable* (cannot be changed)"
   ]
  },
  {
   "cell_type": "code",
   "execution_count": null,
   "id": "086c77a3",
   "metadata": {},
   "outputs": [],
   "source": [
    "z = (1, 2, 3, 4, 5)"
   ]
  },
  {
   "cell_type": "markdown",
   "id": "ff616ae0",
   "metadata": {},
   "source": [
    "## Dictionaries\n",
    "- Dictionaries are Key-Value pairs\n",
    "- Defined with curly brackets **{ }**\n",
    "- Values are indexed by their key\n",
    "- `KeyError` when key does not exist\n",
    "- Circumvent with `.get()`\n",
    "```python\n",
    "personal_info = {'Name':'John', 'Age':34, 'Height': 68.4}\n",
    "print(personal_info['Age'])\n",
    "```\n",
    "```\n",
    ">> 34\n",
    "```"
   ]
  },
  {
   "cell_type": "markdown",
   "id": "e1f0f7ee",
   "metadata": {},
   "source": [
    "Try it yourself:"
   ]
  },
  {
   "cell_type": "code",
   "execution_count": null,
   "id": "a6b17a78",
   "metadata": {},
   "outputs": [],
   "source": [
    "S = { 'name' : 'bob', \n",
    "     'gpa'  : 3.4 }\n",
    "S['major'] = 'IM'"
   ]
  },
  {
   "cell_type": "code",
   "execution_count": null,
   "id": "d38bcec2",
   "metadata": {},
   "outputs": [],
   "source": [
    "S"
   ]
  },
  {
   "cell_type": "code",
   "execution_count": null,
   "id": "2189bd7b",
   "metadata": {},
   "outputs": [],
   "source": [
    "S['gpa']"
   ]
  },
  {
   "cell_type": "code",
   "execution_count": null,
   "id": "126ae3b0",
   "metadata": {},
   "outputs": [],
   "source": [
    "S['major']"
   ]
  },
  {
   "cell_type": "code",
   "execution_count": null,
   "id": "14f28284",
   "metadata": {},
   "outputs": [],
   "source": [
    "S['age']"
   ]
  },
  {
   "cell_type": "code",
   "execution_count": null,
   "id": "89f41c4d",
   "metadata": {},
   "outputs": [],
   "source": [
    "S.get('age', '')"
   ]
  },
  {
   "cell_type": "markdown",
   "id": "9595a773",
   "metadata": {},
   "source": [
    "## Program flow"
   ]
  },
  {
   "cell_type": "markdown",
   "id": "c36bb6d4",
   "metadata": {},
   "source": [
    "Python has a very expressive set of condition statements:"
   ]
  },
  {
   "cell_type": "code",
   "execution_count": null,
   "id": "0f476f00",
   "metadata": {},
   "outputs": [],
   "source": [
    "account_balance = 100\n",
    "withdrawal_amount = 200"
   ]
  },
  {
   "cell_type": "markdown",
   "id": "044dc0ba",
   "metadata": {},
   "source": [
    "Is my balance greater than 0?"
   ]
  },
  {
   "cell_type": "code",
   "execution_count": null,
   "id": "7b10c99b",
   "metadata": {},
   "outputs": [],
   "source": [
    "account_balance > 0"
   ]
  },
  {
   "cell_type": "markdown",
   "id": "08f965e1",
   "metadata": {},
   "source": [
    "Can I withdraw $ 200?"
   ]
  },
  {
   "cell_type": "code",
   "execution_count": null,
   "id": "88c0f884",
   "metadata": {
    "scrolled": true
   },
   "outputs": [],
   "source": [
    "account_balance - withdrawal_amount >= 0"
   ]
  },
  {
   "cell_type": "markdown",
   "id": "c63a1446",
   "metadata": {},
   "source": [
    "You can combine statements in an intuitive way:"
   ]
  },
  {
   "cell_type": "code",
   "execution_count": null,
   "id": "0d402904",
   "metadata": {
    "scrolled": true
   },
   "outputs": [],
   "source": [
    "0 <= account_balance <= 100"
   ]
  },
  {
   "cell_type": "code",
   "execution_count": null,
   "id": "676ce93a",
   "metadata": {},
   "outputs": [],
   "source": [
    "0 <= account_balance and account_balance <= 100"
   ]
  },
  {
   "cell_type": "markdown",
   "id": "85cd1ab1",
   "metadata": {},
   "source": [
    "## IF\n",
    "- The `if` statement is used to branch your code based on a Boolean (`True`/`False`) expression.\n",
    "```python\n",
    "if boolean_expression:\n",
    "\t# statements when true\n",
    "else:\n",
    "\t# statements when false\n",
    "```\n",
    "\n",
    "Use `elif` to make more than one decision in your `if` statement\n",
    "```python\n",
    "if boolean_expression1:\n",
    "\t# statements when exp1 true\n",
    "elif boolean_expression2:\n",
    "\t# statements when exp2 true\n",
    "else:\n",
    "\t# statements when false\n",
    "```\n"
   ]
  },
  {
   "cell_type": "markdown",
   "id": "5eb6c259",
   "metadata": {},
   "source": [
    "## WHILE\n",
    "The `while` statement is a loop. It is used to repeat statements as long as a Boolean expression is true.\n",
    "```python\n",
    "while boolean_expression:\n",
    "    # statements to\n",
    "    # repeat while true\n",
    "```"
   ]
  },
  {
   "cell_type": "markdown",
   "id": "60795881",
   "metadata": {},
   "source": [
    "## FOR\n",
    "The `for` statement is a loop. It is used to iterate over a list of items.\n",
    "```python\n",
    "for variable in list:\n",
    "\t# statements to\n",
    "    # do for each item\n",
    "```    "
   ]
  },
  {
   "cell_type": "markdown",
   "id": "8e57dc32",
   "metadata": {},
   "source": [
    "Try it yourself:"
   ]
  },
  {
   "cell_type": "code",
   "execution_count": 26,
   "id": "ebe62085",
   "metadata": {},
   "outputs": [
    {
     "name": "stdout",
     "output_type": "stream",
     "text": [
      "1\n",
      "2\n",
      "3\n",
      "4\n"
     ]
    }
   ],
   "source": [
    "a = [1, 2, 3, 4]\n",
    "\n",
    "for element in a:\n",
    "    print(element)"
   ]
  },
  {
   "cell_type": "code",
   "execution_count": 28,
   "id": "bf478188",
   "metadata": {},
   "outputs": [
    {
     "name": "stdout",
     "output_type": "stream",
     "text": [
      "True\n"
     ]
    }
   ],
   "source": [
    "if 5 not in a:\n",
    "    print('True')\n",
    "else:\n",
    "    print('False')"
   ]
  },
  {
   "cell_type": "code",
   "execution_count": 31,
   "id": "5ddff32b",
   "metadata": {},
   "outputs": [
    {
     "name": "stdout",
     "output_type": "stream",
     "text": [
      "0\n",
      "1\n",
      "2\n",
      "3\n",
      "4\n",
      "5\n",
      "6\n",
      "7\n",
      "8\n",
      "9\n",
      "10\n"
     ]
    }
   ],
   "source": [
    "i = 0\n",
    "while i <= 10:\n",
    "    print(i)\n",
    "    i = i + 1"
   ]
  },
  {
   "cell_type": "markdown",
   "id": "ca541c64",
   "metadata": {},
   "source": [
    "## Functions\n",
    "- Use the `def` keyword to define a custom function.\n",
    "- Use `return` to send a value back to the function caller.\n",
    "```python\n",
    "def function_name (arguments):\n",
    "\t# statements in function\n",
    "    return expression_value\n",
    "```\n",
    "\n",
    "- It is easy to define functions:\n",
    "```python\n",
    "def f():\n",
    "    return 5\n",
    "```\n",
    "- Functions have their own type\n",
    "```python\n",
    "type(f)?\n",
    "```\n",
    "- You can access hidden parameters of a function object: `f.__`\n",
    "- You can define the help of a function (called a “doc”) by putting a triple double quote box just below a function\n",
    "- Try to run `?f` after the doc definition"
   ]
  },
  {
   "cell_type": "markdown",
   "id": "f905265a",
   "metadata": {},
   "source": [
    "Try it yourself:"
   ]
  },
  {
   "cell_type": "code",
   "execution_count": 23,
   "id": "c18377e9",
   "metadata": {},
   "outputs": [],
   "source": [
    "def f():\n",
    "    '''\n",
    "    return 5.\n",
    "    '''\n",
    "    return 5"
   ]
  },
  {
   "cell_type": "code",
   "execution_count": 14,
   "id": "5ce2543f",
   "metadata": {},
   "outputs": [
    {
     "data": {
      "text/plain": [
       "5"
      ]
     },
     "execution_count": 14,
     "metadata": {},
     "output_type": "execute_result"
    }
   ],
   "source": [
    "f()"
   ]
  },
  {
   "cell_type": "code",
   "execution_count": 15,
   "id": "25341a5e",
   "metadata": {},
   "outputs": [
    {
     "data": {
      "text/plain": [
       "function"
      ]
     },
     "execution_count": 15,
     "metadata": {},
     "output_type": "execute_result"
    }
   ],
   "source": [
    "type(f)"
   ]
  },
  {
   "cell_type": "code",
   "execution_count": 24,
   "id": "4cff9e2d",
   "metadata": {},
   "outputs": [],
   "source": [
    "?f"
   ]
  },
  {
   "cell_type": "code",
   "execution_count": null,
   "id": "07a62ebc",
   "metadata": {},
   "outputs": [],
   "source": [
    "def add(a, b):\n",
    "    return a + b"
   ]
  },
  {
   "cell_type": "code",
   "execution_count": null,
   "id": "0890fcd0",
   "metadata": {},
   "outputs": [],
   "source": [
    "add(2, 3)"
   ]
  },
  {
   "cell_type": "code",
   "execution_count": null,
   "id": "94a77812",
   "metadata": {},
   "outputs": [],
   "source": [
    "add(\"hello \", \"world\")"
   ]
  },
  {
   "cell_type": "code",
   "execution_count": null,
   "id": "d58c0c59",
   "metadata": {},
   "outputs": [],
   "source": [
    "add([1,2,3], [4])"
   ]
  },
  {
   "cell_type": "code",
   "execution_count": null,
   "id": "b42962b8",
   "metadata": {},
   "outputs": [],
   "source": []
  },
  {
   "cell_type": "markdown",
   "id": "4d854666",
   "metadata": {},
   "source": [
    "## Classes and objects\n",
    "- Much of Python functionality is provided by classes\n",
    "- Classes define a “template” which will be followed by all objects created from that class\n",
    "- For example\n",
    "```python\n",
    "import numpy as np\n",
    "arr = np.zeros(5)\n",
    "```\n",
    "- This will create an object of class `DataFrame`\n",
    "- The class `DataFrame` “inherits” from class `NDFrame`. So it specializes what `NDFrame` does\n",
    "- You can access all parent classes through `DataFrame.__bases__`"
   ]
  },
  {
   "cell_type": "code",
   "execution_count": 2,
   "id": "a8c87182",
   "metadata": {},
   "outputs": [],
   "source": [
    "import numpy as np\n",
    "arr = np.zeros(5)"
   ]
  },
  {
   "cell_type": "markdown",
   "id": "43d2dd67",
   "metadata": {},
   "source": [
    "## Activity"
   ]
  },
  {
   "cell_type": "markdown",
   "id": "fe054dd7",
   "metadata": {},
   "source": [
    "**Infamous Fizz Buzz interview question**  \n",
    "\"Write a program that prints the numbers from 1 to 100. But for multiples of three print \"Fizz\" instead of the number and for the multiples of five print \"Buzz\". For numbers which are multiples of both three and five print \"FizzBuzz\".\""
   ]
  },
  {
   "cell_type": "code",
   "execution_count": null,
   "id": "78b039f3",
   "metadata": {},
   "outputs": [],
   "source": []
  },
  {
   "cell_type": "code",
   "execution_count": null,
   "id": "a665b0bc",
   "metadata": {},
   "outputs": [],
   "source": []
  }
 ],
 "metadata": {
  "kernelspec": {
   "display_name": "Python 3",
   "language": "python",
   "name": "python3"
  },
  "language_info": {
   "codemirror_mode": {
    "name": "ipython",
    "version": 3
   },
   "file_extension": ".py",
   "mimetype": "text/x-python",
   "name": "python",
   "nbconvert_exporter": "python",
   "pygments_lexer": "ipython3",
   "version": "3.7.4"
  }
 },
 "nbformat": 4,
 "nbformat_minor": 5
}
