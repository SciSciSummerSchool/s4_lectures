{
 "cells": [
  {
   "cell_type": "code",
   "execution_count": 5,
   "id": "5a5a8c07",
   "metadata": {},
   "outputs": [],
   "source": [
    "import pandas as pd\n",
    "from plotnine import *"
   ]
  },
  {
   "cell_type": "markdown",
   "id": "0c876665",
   "metadata": {},
   "source": [
    "# Causal inference with sub-classification\n",
    "\n",
    "We will examine the Titanic dataset. https://en.wikipedia.org/wiki/Sinking_of_the_Titanic\n",
    "\n",
    "We want to understand the **causal** effect between being first class passanger and chances of survival.\n",
    "\n",
    "We will follow three steps:\n",
    "\n",
    "1. Establish the causal model\n",
    "2. Identification criteria\n",
    "3. Causal effect estimation"
   ]
  },
  {
   "cell_type": "markdown",
   "id": "4f0edab8",
   "metadata": {},
   "source": [
    "# Establish causal model\n",
    "\n",
    "Let's assume that we have the following causal model (DAG).\n",
    "\n",
    "![](images/titanic_dag.png)\n",
    "\n",
    "where $W = 1$ if passanger was a woman, $C=1$ if passenger was a child, $D=1$ if in first class, and $Y=1$ if survived the tragedy."
   ]
  },
  {
   "cell_type": "code",
   "execution_count": 53,
   "id": "40cceef4",
   "metadata": {},
   "outputs": [],
   "source": [
    "titanic_data = pd.read_stata('data/titanic.dta')\n",
    "titanic_data = titanic_data.assign(Y = (titanic_data.survived == \"yes\").astype('int'),\n",
    "                       D = (titanic_data[\"class\"] == \"1st class\").astype('int'),\n",
    "                       W = (titanic_data[\"sex\"] == \"women\").astype('int'),\n",
    "                       C = (titanic_data[\"age\"] == \"child\").astype('int')\n",
    "                      )"
   ]
  },
  {
   "cell_type": "code",
   "execution_count": 54,
   "id": "248dbf09",
   "metadata": {},
   "outputs": [
    {
     "data": {
      "text/html": [
       "<div>\n",
       "<style scoped>\n",
       "    .dataframe tbody tr th:only-of-type {\n",
       "        vertical-align: middle;\n",
       "    }\n",
       "\n",
       "    .dataframe tbody tr th {\n",
       "        vertical-align: top;\n",
       "    }\n",
       "\n",
       "    .dataframe thead th {\n",
       "        text-align: right;\n",
       "    }\n",
       "</style>\n",
       "<table border=\"1\" class=\"dataframe\">\n",
       "  <thead>\n",
       "    <tr style=\"text-align: right;\">\n",
       "      <th></th>\n",
       "      <th>class</th>\n",
       "      <th>age</th>\n",
       "      <th>sex</th>\n",
       "      <th>survived</th>\n",
       "      <th>Y</th>\n",
       "      <th>D</th>\n",
       "      <th>W</th>\n",
       "      <th>C</th>\n",
       "    </tr>\n",
       "  </thead>\n",
       "  <tbody>\n",
       "    <tr>\n",
       "      <th>0</th>\n",
       "      <td>1st class</td>\n",
       "      <td>adults</td>\n",
       "      <td>man</td>\n",
       "      <td>yes</td>\n",
       "      <td>1</td>\n",
       "      <td>1</td>\n",
       "      <td>0</td>\n",
       "      <td>0</td>\n",
       "    </tr>\n",
       "    <tr>\n",
       "      <th>1</th>\n",
       "      <td>1st class</td>\n",
       "      <td>adults</td>\n",
       "      <td>man</td>\n",
       "      <td>yes</td>\n",
       "      <td>1</td>\n",
       "      <td>1</td>\n",
       "      <td>0</td>\n",
       "      <td>0</td>\n",
       "    </tr>\n",
       "    <tr>\n",
       "      <th>2</th>\n",
       "      <td>1st class</td>\n",
       "      <td>adults</td>\n",
       "      <td>man</td>\n",
       "      <td>yes</td>\n",
       "      <td>1</td>\n",
       "      <td>1</td>\n",
       "      <td>0</td>\n",
       "      <td>0</td>\n",
       "    </tr>\n",
       "    <tr>\n",
       "      <th>3</th>\n",
       "      <td>1st class</td>\n",
       "      <td>adults</td>\n",
       "      <td>man</td>\n",
       "      <td>yes</td>\n",
       "      <td>1</td>\n",
       "      <td>1</td>\n",
       "      <td>0</td>\n",
       "      <td>0</td>\n",
       "    </tr>\n",
       "    <tr>\n",
       "      <th>4</th>\n",
       "      <td>1st class</td>\n",
       "      <td>adults</td>\n",
       "      <td>man</td>\n",
       "      <td>yes</td>\n",
       "      <td>1</td>\n",
       "      <td>1</td>\n",
       "      <td>0</td>\n",
       "      <td>0</td>\n",
       "    </tr>\n",
       "    <tr>\n",
       "      <th>...</th>\n",
       "      <td>...</td>\n",
       "      <td>...</td>\n",
       "      <td>...</td>\n",
       "      <td>...</td>\n",
       "      <td>...</td>\n",
       "      <td>...</td>\n",
       "      <td>...</td>\n",
       "      <td>...</td>\n",
       "    </tr>\n",
       "    <tr>\n",
       "      <th>2196</th>\n",
       "      <td>crew</td>\n",
       "      <td>adults</td>\n",
       "      <td>women</td>\n",
       "      <td>yes</td>\n",
       "      <td>1</td>\n",
       "      <td>0</td>\n",
       "      <td>1</td>\n",
       "      <td>0</td>\n",
       "    </tr>\n",
       "    <tr>\n",
       "      <th>2197</th>\n",
       "      <td>crew</td>\n",
       "      <td>adults</td>\n",
       "      <td>women</td>\n",
       "      <td>yes</td>\n",
       "      <td>1</td>\n",
       "      <td>0</td>\n",
       "      <td>1</td>\n",
       "      <td>0</td>\n",
       "    </tr>\n",
       "    <tr>\n",
       "      <th>2198</th>\n",
       "      <td>crew</td>\n",
       "      <td>adults</td>\n",
       "      <td>women</td>\n",
       "      <td>no</td>\n",
       "      <td>0</td>\n",
       "      <td>0</td>\n",
       "      <td>1</td>\n",
       "      <td>0</td>\n",
       "    </tr>\n",
       "    <tr>\n",
       "      <th>2199</th>\n",
       "      <td>crew</td>\n",
       "      <td>adults</td>\n",
       "      <td>women</td>\n",
       "      <td>no</td>\n",
       "      <td>0</td>\n",
       "      <td>0</td>\n",
       "      <td>1</td>\n",
       "      <td>0</td>\n",
       "    </tr>\n",
       "    <tr>\n",
       "      <th>2200</th>\n",
       "      <td>crew</td>\n",
       "      <td>adults</td>\n",
       "      <td>women</td>\n",
       "      <td>no</td>\n",
       "      <td>0</td>\n",
       "      <td>0</td>\n",
       "      <td>1</td>\n",
       "      <td>0</td>\n",
       "    </tr>\n",
       "  </tbody>\n",
       "</table>\n",
       "<p>2201 rows × 8 columns</p>\n",
       "</div>"
      ],
      "text/plain": [
       "          class     age    sex survived  Y  D  W  C\n",
       "0     1st class  adults    man      yes  1  1  0  0\n",
       "1     1st class  adults    man      yes  1  1  0  0\n",
       "2     1st class  adults    man      yes  1  1  0  0\n",
       "3     1st class  adults    man      yes  1  1  0  0\n",
       "4     1st class  adults    man      yes  1  1  0  0\n",
       "...         ...     ...    ...      ... .. .. .. ..\n",
       "2196       crew  adults  women      yes  1  0  1  0\n",
       "2197       crew  adults  women      yes  1  0  1  0\n",
       "2198       crew  adults  women       no  0  0  1  0\n",
       "2199       crew  adults  women       no  0  0  1  0\n",
       "2200       crew  adults  women       no  0  0  1  0\n",
       "\n",
       "[2201 rows x 8 columns]"
      ]
     },
     "execution_count": 54,
     "metadata": {},
     "output_type": "execute_result"
    }
   ],
   "source": [
    "titanic_data"
   ]
  },
  {
   "cell_type": "code",
   "execution_count": 55,
   "id": "8129980e",
   "metadata": {},
   "outputs": [
    {
     "data": {
      "image/png": "[encoded data removed]",
      "text/plain": [
       "<Figure size 640x480 with 1 Axes>"
      ]
     },
     "metadata": {},
     "output_type": "display_data"
    }
   ],
   "source": [
    "(ggplot(aes(x=\"C\", y = \"Y\"), titanic_data) + \n",
    " stat_summary(fun_data = \"mean_cl_boot\", colour = \"red\", size = 2)\n",
    ").draw();"
   ]
  },
  {
   "cell_type": "markdown",
   "id": "68082788",
   "metadata": {},
   "source": [
    "## Naive estimation\n",
    "\n",
    "Let's estimate the simple observe difference\n",
    "$$SOD = E[Y|D=1] - E[Y|D=0]$$"
   ]
  },
  {
   "cell_type": "code",
   "execution_count": 56,
   "id": "5628943f",
   "metadata": {},
   "outputs": [
    {
     "data": {
      "text/plain": [
       "0.3538264720354272"
      ]
     },
     "execution_count": 56,
     "metadata": {},
     "output_type": "execute_result"
    }
   ],
   "source": [
    "titanic_data.query(\"D == 1\").Y.mean() - titanic_data.query(\"D == 0\").Y.mean()"
   ]
  },
  {
   "cell_type": "markdown",
   "id": "d7de089c",
   "metadata": {},
   "source": [
    "## Estimation by subclassification"
   ]
  },
  {
   "cell_type": "markdown",
   "id": "018599f2",
   "metadata": {},
   "source": [
    "We will now subclassify the units into cells. \n",
    "\n",
    "1. We will stratify the data into four groups (young men, young women, old men, old women)\n",
    "1. Calculate the difference in survival probabilities for each group.\n",
    "1. Calculate the number of people in the non-first-class groups and divide by the total number of non-first-class population. These are our strata-specific weights.\n",
    "1. Calculate the weighted average survival rate using the strata weights."
   ]
  },
  {
   "cell_type": "code",
   "execution_count": 115,
   "id": "f4f84baf",
   "metadata": {},
   "outputs": [],
   "source": [
    "not_first_class = titanic_data.query(\"D==0\").shape[0]"
   ]
  },
  {
   "cell_type": "code",
   "execution_count": 116,
   "id": "0cb854e6",
   "metadata": {},
   "outputs": [],
   "source": [
    "def weighted_avg_effect(df):\n",
    "    diff = df[df.D==1].Y.mean() - df[df.D==0].Y.mean()\n",
    "    weight = df[df.D==0].shape[0]/obs\n",
    "    return diff*weight"
   ]
  },
  {
   "cell_type": "code",
   "execution_count": 118,
   "id": "fdd9b734",
   "metadata": {},
   "outputs": [
    {
     "data": {
      "text/plain": [
       "0.1887847327985921"
      ]
     },
     "execution_count": 118,
     "metadata": {},
     "output_type": "execute_result"
    }
   ],
   "source": [
    "# causal effect\n",
    "titanic_data.groupby([\"W\", \"C\"]).apply(weighted_avg_effect).sum()"
   ]
  }
 ],
 "metadata": {
  "kernelspec": {
   "display_name": "Python 3",
   "language": "python",
   "name": "python3"
  },
  "language_info": {
   "codemirror_mode": {
    "name": "ipython",
    "version": 3
   },
   "file_extension": ".py",
   "mimetype": "text/x-python",
   "name": "python",
   "nbconvert_exporter": "python",
   "pygments_lexer": "ipython3",
   "version": "3.8.8"
  },
  "latex_envs": {
   "LaTeX_envs_menu_present": true,
   "autoclose": false,
   "autocomplete": true,
   "bibliofile": "biblio.bib",
   "cite_by": "apalike",
   "current_citInitial": 1,
   "eqLabelWithNumbers": true,
   "eqNumInitial": 1,
   "hotkeys": {
    "equation": "Ctrl-E",
    "itemize": "Ctrl-I"
   },
   "labels_anchors": false,
   "latex_user_defs": false,
   "report_style_numbering": false,
   "user_envs_cfg": false
  },
  "toc": {
   "base_numbering": 1,
   "nav_menu": {},
   "number_sections": true,
   "sideBar": true,
   "skip_h1_title": false,
   "title_cell": "Table of Contents",
   "title_sidebar": "Contents",
   "toc_cell": false,
   "toc_position": {},
   "toc_section_display": true,
   "toc_window_display": false
  }
 },
 "nbformat": 4,
 "nbformat_minor": 5
}
