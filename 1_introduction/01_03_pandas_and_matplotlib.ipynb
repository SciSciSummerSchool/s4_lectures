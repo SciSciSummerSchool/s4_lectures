{
 "cells": [
  {
   "cell_type": "markdown",
   "id": "91bca6fb",
   "metadata": {},
   "source": [
    "# Data Transformation with Pandas"
   ]
  },
  {
   "cell_type": "markdown",
   "id": "66b412c3",
   "metadata": {},
   "source": [
    "Pandas is a popular Python package for data transformation. It is open source (BSD-licensed). It provides efficient, easy-to-use data transformation and analusis tools. In the following section, we will show you how to use Pandas to transform and analyze tabular data.  "
   ]
  },
  {
   "cell_type": "markdown",
   "id": "01b1715a",
   "metadata": {},
   "source": [
    "------------------------------------------------------------------------------  "
   ]
  },
  {
   "cell_type": "markdown",
   "id": "5ca219c5",
   "metadata": {},
   "source": [
    "We import numpy and pandas as follows, we assign alias of packages after the term \"as\" so we don't need to type in the full name of the package every time we use it  "
   ]
  },
  {
   "cell_type": "code",
   "execution_count": 1,
   "id": "11c52025",
   "metadata": {},
   "outputs": [],
   "source": [
    "import numpy as np\n",
    "import pandas as pd"
   ]
  },
  {
   "cell_type": "markdown",
   "id": "313330ff",
   "metadata": {},
   "source": [
    "## Loading Datasets with Pandas"
   ]
  },
  {
   "cell_type": "markdown",
   "id": "836c0fc5",
   "metadata": {},
   "source": [
    "With Pandas, we can read tables of different format (csv. json, parquet, ...)  \n",
    "  \n",
    "In our case, we are reading a table in csv. The table \"Papers\" is a part of the Microsoft Academic Graph. The table includes publication information, such as title, publish year, publisher, ...  "
   ]
  },
  {
   "cell_type": "code",
   "execution_count": 2,
   "id": "b38aa5f7",
   "metadata": {},
   "outputs": [],
   "source": [
    "Papers = pd.read_csv('~/datasets/s4/MAG/Papers.csv')"
   ]
  },
  {
   "cell_type": "markdown",
   "id": "55ba3f02",
   "metadata": {},
   "source": [
    "By calling:   \n",
    "```python\n",
    "Papers.head()\n",
    "```\n",
    "we can view the first five lines of the datast"
   ]
  },
  {
   "cell_type": "markdown",
   "id": "d21ea9d2",
   "metadata": {},
   "source": [
    "## Brief Overview of the Data"
   ]
  },
  {
   "cell_type": "code",
   "execution_count": 3,
   "id": "7d099471",
   "metadata": {},
   "outputs": [
    {
     "data": {
      "text/html": [
       "<div>\n",
       "<style scoped>\n",
       "    .dataframe tbody tr th:only-of-type {\n",
       "        vertical-align: middle;\n",
       "    }\n",
       "\n",
       "    .dataframe tbody tr th {\n",
       "        vertical-align: top;\n",
       "    }\n",
       "\n",
       "    .dataframe thead th {\n",
       "        text-align: right;\n",
       "    }\n",
       "</style>\n",
       "<table border=\"1\" class=\"dataframe\">\n",
       "  <thead>\n",
       "    <tr style=\"text-align: right;\">\n",
       "      <th></th>\n",
       "      <th>PaperId</th>\n",
       "      <th>Rank</th>\n",
       "      <th>Doi</th>\n",
       "      <th>DocType</th>\n",
       "      <th>PaperTitle</th>\n",
       "      <th>OriginalTitle</th>\n",
       "      <th>BookTitle</th>\n",
       "      <th>Year</th>\n",
       "      <th>Date</th>\n",
       "      <th>OnlineDate</th>\n",
       "      <th>...</th>\n",
       "      <th>ConferenceSeriedId</th>\n",
       "      <th>ConferenceInstanceId</th>\n",
       "      <th>Volume</th>\n",
       "      <th>Issue</th>\n",
       "      <th>FirstPage</th>\n",
       "      <th>LastPage</th>\n",
       "      <th>ReferenceCount</th>\n",
       "      <th>CitationCount</th>\n",
       "      <th>EstimatedCitation</th>\n",
       "      <th>OriginalVenue</th>\n",
       "    </tr>\n",
       "  </thead>\n",
       "  <tbody>\n",
       "    <tr>\n",
       "      <th>0</th>\n",
       "      <td>51264158</td>\n",
       "      <td>27169</td>\n",
       "      <td>NaN</td>\n",
       "      <td>NaN</td>\n",
       "      <td>no has visto nada en treblinka</td>\n",
       "      <td>No has visto nada en Treblinka</td>\n",
       "      <td>NaN</td>\n",
       "      <td>2009</td>\n",
       "      <td>2009-01-01 00:00:00</td>\n",
       "      <td>NaN</td>\n",
       "      <td>...</td>\n",
       "      <td>NaN</td>\n",
       "      <td>NaN</td>\n",
       "      <td>NaN</td>\n",
       "      <td>26.0</td>\n",
       "      <td>73</td>\n",
       "      <td>NaN</td>\n",
       "      <td>0</td>\n",
       "      <td>0</td>\n",
       "      <td>0</td>\n",
       "      <td>Cahiers du cinéma: España</td>\n",
       "    </tr>\n",
       "    <tr>\n",
       "      <th>1</th>\n",
       "      <td>93781424</td>\n",
       "      <td>22616</td>\n",
       "      <td>NaN</td>\n",
       "      <td>Journal</td>\n",
       "      <td>reading minds how infants come to understand o...</td>\n",
       "      <td>Reading Minds: How Infants Come to Understand ...</td>\n",
       "      <td>NaN</td>\n",
       "      <td>2009</td>\n",
       "      <td>2009-11-01 00:00:00</td>\n",
       "      <td>NaN</td>\n",
       "      <td>...</td>\n",
       "      <td>NaN</td>\n",
       "      <td>NaN</td>\n",
       "      <td>30.0</td>\n",
       "      <td>2.0</td>\n",
       "      <td>28</td>\n",
       "      <td>32</td>\n",
       "      <td>0</td>\n",
       "      <td>6</td>\n",
       "      <td>6</td>\n",
       "      <td>Zero to Three</td>\n",
       "    </tr>\n",
       "    <tr>\n",
       "      <th>2</th>\n",
       "      <td>138145309</td>\n",
       "      <td>22947</td>\n",
       "      <td>NaN</td>\n",
       "      <td>Patent</td>\n",
       "      <td>weight measuring device for cooking appliance</td>\n",
       "      <td>Weight measuring device for cooking appliance</td>\n",
       "      <td>NaN</td>\n",
       "      <td>1996</td>\n",
       "      <td>1996-09-25 00:00:00</td>\n",
       "      <td>NaN</td>\n",
       "      <td>...</td>\n",
       "      <td>NaN</td>\n",
       "      <td>NaN</td>\n",
       "      <td>NaN</td>\n",
       "      <td>NaN</td>\n",
       "      <td>NaN</td>\n",
       "      <td>NaN</td>\n",
       "      <td>8</td>\n",
       "      <td>6</td>\n",
       "      <td>6</td>\n",
       "      <td>NaN</td>\n",
       "    </tr>\n",
       "    <tr>\n",
       "      <th>3</th>\n",
       "      <td>214118367</td>\n",
       "      <td>21825</td>\n",
       "      <td>10.1007/BF00324200</td>\n",
       "      <td>Journal</td>\n",
       "      <td>effect of oxygen segregation on the surface st...</td>\n",
       "      <td>Effect of oxygen segregation on the surface st...</td>\n",
       "      <td>NaN</td>\n",
       "      <td>1992</td>\n",
       "      <td>1992-04-01 00:00:00</td>\n",
       "      <td>NaN</td>\n",
       "      <td>...</td>\n",
       "      <td>NaN</td>\n",
       "      <td>NaN</td>\n",
       "      <td>54.0</td>\n",
       "      <td>4.0</td>\n",
       "      <td>350</td>\n",
       "      <td>354</td>\n",
       "      <td>22</td>\n",
       "      <td>25</td>\n",
       "      <td>25</td>\n",
       "      <td>Applied Physics A</td>\n",
       "    </tr>\n",
       "    <tr>\n",
       "      <th>4</th>\n",
       "      <td>267808649</td>\n",
       "      <td>22391</td>\n",
       "      <td>NaN</td>\n",
       "      <td>NaN</td>\n",
       "      <td>is mars sample return required prior to sendin...</td>\n",
       "      <td>Is Mars Sample Return Required Prior to Sendin...</td>\n",
       "      <td>NaN</td>\n",
       "      <td>2012</td>\n",
       "      <td>2012-05-22 00:00:00</td>\n",
       "      <td>NaN</td>\n",
       "      <td>...</td>\n",
       "      <td>NaN</td>\n",
       "      <td>NaN</td>\n",
       "      <td>NaN</td>\n",
       "      <td>NaN</td>\n",
       "      <td>NaN</td>\n",
       "      <td>NaN</td>\n",
       "      <td>0</td>\n",
       "      <td>2</td>\n",
       "      <td>2</td>\n",
       "      <td>NaN</td>\n",
       "    </tr>\n",
       "  </tbody>\n",
       "</table>\n",
       "<p>5 rows × 22 columns</p>\n",
       "</div>"
      ],
      "text/plain": [
       "     PaperId   Rank                 Doi  DocType  \\\n",
       "0   51264158  27169                 NaN      NaN   \n",
       "1   93781424  22616                 NaN  Journal   \n",
       "2  138145309  22947                 NaN   Patent   \n",
       "3  214118367  21825  10.1007/BF00324200  Journal   \n",
       "4  267808649  22391                 NaN      NaN   \n",
       "\n",
       "                                          PaperTitle  \\\n",
       "0                     no has visto nada en treblinka   \n",
       "1  reading minds how infants come to understand o...   \n",
       "2      weight measuring device for cooking appliance   \n",
       "3  effect of oxygen segregation on the surface st...   \n",
       "4  is mars sample return required prior to sendin...   \n",
       "\n",
       "                                       OriginalTitle BookTitle  Year  \\\n",
       "0                     No has visto nada en Treblinka       NaN  2009   \n",
       "1  Reading Minds: How Infants Come to Understand ...       NaN  2009   \n",
       "2      Weight measuring device for cooking appliance       NaN  1996   \n",
       "3  Effect of oxygen segregation on the surface st...       NaN  1992   \n",
       "4  Is Mars Sample Return Required Prior to Sendin...       NaN  2012   \n",
       "\n",
       "                  Date OnlineDate  ... ConferenceSeriedId  \\\n",
       "0  2009-01-01 00:00:00        NaN  ...                NaN   \n",
       "1  2009-11-01 00:00:00        NaN  ...                NaN   \n",
       "2  1996-09-25 00:00:00        NaN  ...                NaN   \n",
       "3  1992-04-01 00:00:00        NaN  ...                NaN   \n",
       "4  2012-05-22 00:00:00        NaN  ...                NaN   \n",
       "\n",
       "   ConferenceInstanceId  Volume  Issue  FirstPage  LastPage ReferenceCount  \\\n",
       "0                   NaN     NaN   26.0         73       NaN              0   \n",
       "1                   NaN    30.0    2.0         28        32              0   \n",
       "2                   NaN     NaN    NaN        NaN       NaN              8   \n",
       "3                   NaN    54.0    4.0        350       354             22   \n",
       "4                   NaN     NaN    NaN        NaN       NaN              0   \n",
       "\n",
       "  CitationCount  EstimatedCitation              OriginalVenue  \n",
       "0             0                  0  Cahiers du cinéma: España  \n",
       "1             6                  6              Zero to Three  \n",
       "2             6                  6                        NaN  \n",
       "3            25                 25          Applied Physics A  \n",
       "4             2                  2                        NaN  \n",
       "\n",
       "[5 rows x 22 columns]"
      ]
     },
     "execution_count": 3,
     "metadata": {},
     "output_type": "execute_result"
    }
   ],
   "source": [
    "Papers.head()"
   ]
  },
  {
   "cell_type": "markdown",
   "id": "592a04b8",
   "metadata": {},
   "source": [
    "By calling:   \n",
    "```python\n",
    "Papers.tail()\n",
    "```\n",
    "we can view the last five lines of the datast"
   ]
  },
  {
   "cell_type": "code",
   "execution_count": 4,
   "id": "041647e3",
   "metadata": {},
   "outputs": [
    {
     "data": {
      "text/html": [
       "<div>\n",
       "<style scoped>\n",
       "    .dataframe tbody tr th:only-of-type {\n",
       "        vertical-align: middle;\n",
       "    }\n",
       "\n",
       "    .dataframe tbody tr th {\n",
       "        vertical-align: top;\n",
       "    }\n",
       "\n",
       "    .dataframe thead th {\n",
       "        text-align: right;\n",
       "    }\n",
       "</style>\n",
       "<table border=\"1\" class=\"dataframe\">\n",
       "  <thead>\n",
       "    <tr style=\"text-align: right;\">\n",
       "      <th></th>\n",
       "      <th>PaperId</th>\n",
       "      <th>Rank</th>\n",
       "      <th>Doi</th>\n",
       "      <th>DocType</th>\n",
       "      <th>PaperTitle</th>\n",
       "      <th>OriginalTitle</th>\n",
       "      <th>BookTitle</th>\n",
       "      <th>Year</th>\n",
       "      <th>Date</th>\n",
       "      <th>OnlineDate</th>\n",
       "      <th>...</th>\n",
       "      <th>ConferenceSeriedId</th>\n",
       "      <th>ConferenceInstanceId</th>\n",
       "      <th>Volume</th>\n",
       "      <th>Issue</th>\n",
       "      <th>FirstPage</th>\n",
       "      <th>LastPage</th>\n",
       "      <th>ReferenceCount</th>\n",
       "      <th>CitationCount</th>\n",
       "      <th>EstimatedCitation</th>\n",
       "      <th>OriginalVenue</th>\n",
       "    </tr>\n",
       "  </thead>\n",
       "  <tbody>\n",
       "    <tr>\n",
       "      <th>121523</th>\n",
       "      <td>3021802473</td>\n",
       "      <td>18475</td>\n",
       "      <td>NaN</td>\n",
       "      <td>Book</td>\n",
       "      <td>the human equation</td>\n",
       "      <td>The human equation</td>\n",
       "      <td>NaN</td>\n",
       "      <td>1998</td>\n",
       "      <td>1998-01-01</td>\n",
       "      <td>NaN</td>\n",
       "      <td>...</td>\n",
       "      <td>NaN</td>\n",
       "      <td>NaN</td>\n",
       "      <td>NaN</td>\n",
       "      <td>NaN</td>\n",
       "      <td>NaN</td>\n",
       "      <td>NaN</td>\n",
       "      <td>0</td>\n",
       "      <td>541</td>\n",
       "      <td>857</td>\n",
       "      <td>NaN</td>\n",
       "    </tr>\n",
       "    <tr>\n",
       "      <th>121524</th>\n",
       "      <td>3047811908</td>\n",
       "      <td>21782</td>\n",
       "      <td>10.1525/9780520936942</td>\n",
       "      <td>NaN</td>\n",
       "      <td>geology of the sierra nevada revised edition</td>\n",
       "      <td>Geology of the Sierra Nevada: Revised Edition</td>\n",
       "      <td>NaN</td>\n",
       "      <td>2006</td>\n",
       "      <td>2006-05-15</td>\n",
       "      <td>NaN</td>\n",
       "      <td>...</td>\n",
       "      <td>NaN</td>\n",
       "      <td>NaN</td>\n",
       "      <td>NaN</td>\n",
       "      <td>NaN</td>\n",
       "      <td>NaN</td>\n",
       "      <td>NaN</td>\n",
       "      <td>0</td>\n",
       "      <td>4</td>\n",
       "      <td>4</td>\n",
       "      <td>NaN</td>\n",
       "    </tr>\n",
       "    <tr>\n",
       "      <th>121525</th>\n",
       "      <td>3103850923</td>\n",
       "      <td>21618</td>\n",
       "      <td>10.1063/1.4867509</td>\n",
       "      <td>Repository</td>\n",
       "      <td>raman spectra and magnetization of all ferroma...</td>\n",
       "      <td>Raman spectra and Magnetization of all-ferroma...</td>\n",
       "      <td>NaN</td>\n",
       "      <td>2014</td>\n",
       "      <td>2014-02-26</td>\n",
       "      <td>NaN</td>\n",
       "      <td>...</td>\n",
       "      <td>NaN</td>\n",
       "      <td>NaN</td>\n",
       "      <td>NaN</td>\n",
       "      <td>NaN</td>\n",
       "      <td>NaN</td>\n",
       "      <td>NaN</td>\n",
       "      <td>0</td>\n",
       "      <td>9</td>\n",
       "      <td>9</td>\n",
       "      <td>arXiv: Materials Science</td>\n",
       "    </tr>\n",
       "    <tr>\n",
       "      <th>121526</th>\n",
       "      <td>3108124974</td>\n",
       "      <td>19215</td>\n",
       "      <td>NaN</td>\n",
       "      <td>Patent</td>\n",
       "      <td>growth hormone secretagogues</td>\n",
       "      <td>Growth hormone secretagogues</td>\n",
       "      <td>NaN</td>\n",
       "      <td>1996</td>\n",
       "      <td>1996-12-04</td>\n",
       "      <td>NaN</td>\n",
       "      <td>...</td>\n",
       "      <td>NaN</td>\n",
       "      <td>NaN</td>\n",
       "      <td>2.0</td>\n",
       "      <td>12.0</td>\n",
       "      <td>1302</td>\n",
       "      <td>1312</td>\n",
       "      <td>28</td>\n",
       "      <td>238</td>\n",
       "      <td>370</td>\n",
       "      <td>IDrugs : the investigational drugs journal</td>\n",
       "    </tr>\n",
       "    <tr>\n",
       "      <th>121527</th>\n",
       "      <td>3122705141</td>\n",
       "      <td>16122</td>\n",
       "      <td>10.1162/003355399555954</td>\n",
       "      <td>Journal</td>\n",
       "      <td>why do some countries produce so much more out...</td>\n",
       "      <td>Why do Some Countries Produce So Much More Out...</td>\n",
       "      <td>NaN</td>\n",
       "      <td>1999</td>\n",
       "      <td>1999-02-01</td>\n",
       "      <td>1999-06-01</td>\n",
       "      <td>...</td>\n",
       "      <td>NaN</td>\n",
       "      <td>NaN</td>\n",
       "      <td>114.0</td>\n",
       "      <td>1.0</td>\n",
       "      <td>83</td>\n",
       "      <td>116</td>\n",
       "      <td>47</td>\n",
       "      <td>6189</td>\n",
       "      <td>10477</td>\n",
       "      <td>Quarterly Journal of Economics</td>\n",
       "    </tr>\n",
       "  </tbody>\n",
       "</table>\n",
       "<p>5 rows × 22 columns</p>\n",
       "</div>"
      ],
      "text/plain": [
       "           PaperId   Rank                      Doi     DocType  \\\n",
       "121523  3021802473  18475                      NaN        Book   \n",
       "121524  3047811908  21782    10.1525/9780520936942         NaN   \n",
       "121525  3103850923  21618        10.1063/1.4867509  Repository   \n",
       "121526  3108124974  19215                      NaN      Patent   \n",
       "121527  3122705141  16122  10.1162/003355399555954     Journal   \n",
       "\n",
       "                                               PaperTitle  \\\n",
       "121523                                 the human equation   \n",
       "121524       geology of the sierra nevada revised edition   \n",
       "121525  raman spectra and magnetization of all ferroma...   \n",
       "121526                       growth hormone secretagogues   \n",
       "121527  why do some countries produce so much more out...   \n",
       "\n",
       "                                            OriginalTitle BookTitle  Year  \\\n",
       "121523                                 The human equation       NaN  1998   \n",
       "121524      Geology of the Sierra Nevada: Revised Edition       NaN  2006   \n",
       "121525  Raman spectra and Magnetization of all-ferroma...       NaN  2014   \n",
       "121526                       Growth hormone secretagogues       NaN  1996   \n",
       "121527  Why do Some Countries Produce So Much More Out...       NaN  1999   \n",
       "\n",
       "              Date  OnlineDate  ... ConferenceSeriedId  ConferenceInstanceId  \\\n",
       "121523  1998-01-01         NaN  ...                NaN                   NaN   \n",
       "121524  2006-05-15         NaN  ...                NaN                   NaN   \n",
       "121525  2014-02-26         NaN  ...                NaN                   NaN   \n",
       "121526  1996-12-04         NaN  ...                NaN                   NaN   \n",
       "121527  1999-02-01  1999-06-01  ...                NaN                   NaN   \n",
       "\n",
       "        Volume  Issue  FirstPage  LastPage ReferenceCount CitationCount  \\\n",
       "121523     NaN    NaN        NaN       NaN              0           541   \n",
       "121524     NaN    NaN        NaN       NaN              0             4   \n",
       "121525     NaN    NaN        NaN       NaN              0             9   \n",
       "121526     2.0   12.0       1302      1312             28           238   \n",
       "121527   114.0    1.0         83       116             47          6189   \n",
       "\n",
       "        EstimatedCitation                               OriginalVenue  \n",
       "121523                857                                         NaN  \n",
       "121524                  4                                         NaN  \n",
       "121525                  9                    arXiv: Materials Science  \n",
       "121526                370  IDrugs : the investigational drugs journal  \n",
       "121527              10477              Quarterly Journal of Economics  \n",
       "\n",
       "[5 rows x 22 columns]"
      ]
     },
     "execution_count": 4,
     "metadata": {},
     "output_type": "execute_result"
    }
   ],
   "source": [
    "Papers.tail()"
   ]
  },
  {
   "cell_type": "markdown",
   "id": "43fcd412",
   "metadata": {},
   "source": [
    "We can also assign the number of lines we want to view:"
   ]
  },
  {
   "cell_type": "code",
   "execution_count": 5,
   "id": "4783a02a",
   "metadata": {
    "scrolled": true
   },
   "outputs": [
    {
     "data": {
      "text/html": [
       "<div>\n",
       "<style scoped>\n",
       "    .dataframe tbody tr th:only-of-type {\n",
       "        vertical-align: middle;\n",
       "    }\n",
       "\n",
       "    .dataframe tbody tr th {\n",
       "        vertical-align: top;\n",
       "    }\n",
       "\n",
       "    .dataframe thead th {\n",
       "        text-align: right;\n",
       "    }\n",
       "</style>\n",
       "<table border=\"1\" class=\"dataframe\">\n",
       "  <thead>\n",
       "    <tr style=\"text-align: right;\">\n",
       "      <th></th>\n",
       "      <th>PaperId</th>\n",
       "      <th>Rank</th>\n",
       "      <th>Doi</th>\n",
       "      <th>DocType</th>\n",
       "      <th>PaperTitle</th>\n",
       "      <th>OriginalTitle</th>\n",
       "      <th>BookTitle</th>\n",
       "      <th>Year</th>\n",
       "      <th>Date</th>\n",
       "      <th>OnlineDate</th>\n",
       "      <th>...</th>\n",
       "      <th>ConferenceSeriedId</th>\n",
       "      <th>ConferenceInstanceId</th>\n",
       "      <th>Volume</th>\n",
       "      <th>Issue</th>\n",
       "      <th>FirstPage</th>\n",
       "      <th>LastPage</th>\n",
       "      <th>ReferenceCount</th>\n",
       "      <th>CitationCount</th>\n",
       "      <th>EstimatedCitation</th>\n",
       "      <th>OriginalVenue</th>\n",
       "    </tr>\n",
       "  </thead>\n",
       "  <tbody>\n",
       "    <tr>\n",
       "      <th>0</th>\n",
       "      <td>51264158</td>\n",
       "      <td>27169</td>\n",
       "      <td>NaN</td>\n",
       "      <td>NaN</td>\n",
       "      <td>no has visto nada en treblinka</td>\n",
       "      <td>No has visto nada en Treblinka</td>\n",
       "      <td>NaN</td>\n",
       "      <td>2009</td>\n",
       "      <td>2009-01-01 00:00:00</td>\n",
       "      <td>NaN</td>\n",
       "      <td>...</td>\n",
       "      <td>NaN</td>\n",
       "      <td>NaN</td>\n",
       "      <td>NaN</td>\n",
       "      <td>26.0</td>\n",
       "      <td>73</td>\n",
       "      <td>NaN</td>\n",
       "      <td>0</td>\n",
       "      <td>0</td>\n",
       "      <td>0</td>\n",
       "      <td>Cahiers du cinéma: España</td>\n",
       "    </tr>\n",
       "    <tr>\n",
       "      <th>1</th>\n",
       "      <td>93781424</td>\n",
       "      <td>22616</td>\n",
       "      <td>NaN</td>\n",
       "      <td>Journal</td>\n",
       "      <td>reading minds how infants come to understand o...</td>\n",
       "      <td>Reading Minds: How Infants Come to Understand ...</td>\n",
       "      <td>NaN</td>\n",
       "      <td>2009</td>\n",
       "      <td>2009-11-01 00:00:00</td>\n",
       "      <td>NaN</td>\n",
       "      <td>...</td>\n",
       "      <td>NaN</td>\n",
       "      <td>NaN</td>\n",
       "      <td>30.0</td>\n",
       "      <td>2.0</td>\n",
       "      <td>28</td>\n",
       "      <td>32</td>\n",
       "      <td>0</td>\n",
       "      <td>6</td>\n",
       "      <td>6</td>\n",
       "      <td>Zero to Three</td>\n",
       "    </tr>\n",
       "    <tr>\n",
       "      <th>2</th>\n",
       "      <td>138145309</td>\n",
       "      <td>22947</td>\n",
       "      <td>NaN</td>\n",
       "      <td>Patent</td>\n",
       "      <td>weight measuring device for cooking appliance</td>\n",
       "      <td>Weight measuring device for cooking appliance</td>\n",
       "      <td>NaN</td>\n",
       "      <td>1996</td>\n",
       "      <td>1996-09-25 00:00:00</td>\n",
       "      <td>NaN</td>\n",
       "      <td>...</td>\n",
       "      <td>NaN</td>\n",
       "      <td>NaN</td>\n",
       "      <td>NaN</td>\n",
       "      <td>NaN</td>\n",
       "      <td>NaN</td>\n",
       "      <td>NaN</td>\n",
       "      <td>8</td>\n",
       "      <td>6</td>\n",
       "      <td>6</td>\n",
       "      <td>NaN</td>\n",
       "    </tr>\n",
       "    <tr>\n",
       "      <th>3</th>\n",
       "      <td>214118367</td>\n",
       "      <td>21825</td>\n",
       "      <td>10.1007/BF00324200</td>\n",
       "      <td>Journal</td>\n",
       "      <td>effect of oxygen segregation on the surface st...</td>\n",
       "      <td>Effect of oxygen segregation on the surface st...</td>\n",
       "      <td>NaN</td>\n",
       "      <td>1992</td>\n",
       "      <td>1992-04-01 00:00:00</td>\n",
       "      <td>NaN</td>\n",
       "      <td>...</td>\n",
       "      <td>NaN</td>\n",
       "      <td>NaN</td>\n",
       "      <td>54.0</td>\n",
       "      <td>4.0</td>\n",
       "      <td>350</td>\n",
       "      <td>354</td>\n",
       "      <td>22</td>\n",
       "      <td>25</td>\n",
       "      <td>25</td>\n",
       "      <td>Applied Physics A</td>\n",
       "    </tr>\n",
       "    <tr>\n",
       "      <th>4</th>\n",
       "      <td>267808649</td>\n",
       "      <td>22391</td>\n",
       "      <td>NaN</td>\n",
       "      <td>NaN</td>\n",
       "      <td>is mars sample return required prior to sendin...</td>\n",
       "      <td>Is Mars Sample Return Required Prior to Sendin...</td>\n",
       "      <td>NaN</td>\n",
       "      <td>2012</td>\n",
       "      <td>2012-05-22 00:00:00</td>\n",
       "      <td>NaN</td>\n",
       "      <td>...</td>\n",
       "      <td>NaN</td>\n",
       "      <td>NaN</td>\n",
       "      <td>NaN</td>\n",
       "      <td>NaN</td>\n",
       "      <td>NaN</td>\n",
       "      <td>NaN</td>\n",
       "      <td>0</td>\n",
       "      <td>2</td>\n",
       "      <td>2</td>\n",
       "      <td>NaN</td>\n",
       "    </tr>\n",
       "    <tr>\n",
       "      <th>5</th>\n",
       "      <td>327619807</td>\n",
       "      <td>24414</td>\n",
       "      <td>10.1016/B978-0-08-097086-8.31087-X</td>\n",
       "      <td>BookChapter</td>\n",
       "      <td>fertility transition latin america and the car...</td>\n",
       "      <td>Fertility Transition: Latin America and the Ca...</td>\n",
       "      <td>NaN</td>\n",
       "      <td>2015</td>\n",
       "      <td>2015-01-01 00:00:00</td>\n",
       "      <td>NaN</td>\n",
       "      <td>...</td>\n",
       "      <td>NaN</td>\n",
       "      <td>NaN</td>\n",
       "      <td>NaN</td>\n",
       "      <td>NaN</td>\n",
       "      <td>68</td>\n",
       "      <td>72</td>\n",
       "      <td>11</td>\n",
       "      <td>0</td>\n",
       "      <td>0</td>\n",
       "      <td>International Encyclopedia of the Social &amp; Beh...</td>\n",
       "    </tr>\n",
       "    <tr>\n",
       "      <th>6</th>\n",
       "      <td>350503402</td>\n",
       "      <td>22206</td>\n",
       "      <td>NaN</td>\n",
       "      <td>Patent</td>\n",
       "      <td>integrated camera and associated methods</td>\n",
       "      <td>Integrated camera and associated methods</td>\n",
       "      <td>NaN</td>\n",
       "      <td>2007</td>\n",
       "      <td>2007-10-30 00:00:00</td>\n",
       "      <td>NaN</td>\n",
       "      <td>...</td>\n",
       "      <td>NaN</td>\n",
       "      <td>NaN</td>\n",
       "      <td>NaN</td>\n",
       "      <td>NaN</td>\n",
       "      <td>NaN</td>\n",
       "      <td>NaN</td>\n",
       "      <td>68</td>\n",
       "      <td>12</td>\n",
       "      <td>12</td>\n",
       "      <td>NaN</td>\n",
       "    </tr>\n",
       "    <tr>\n",
       "      <th>7</th>\n",
       "      <td>833147076</td>\n",
       "      <td>23773</td>\n",
       "      <td>NaN</td>\n",
       "      <td>Journal</td>\n",
       "      <td>zespol comela nethertona u 14 miesiecznego dzi...</td>\n",
       "      <td>Zespół Comèla-Nethertona u 14-miesięcznego dzi...</td>\n",
       "      <td>NaN</td>\n",
       "      <td>2013</td>\n",
       "      <td>2013-01-01 00:00:00</td>\n",
       "      <td>NaN</td>\n",
       "      <td>...</td>\n",
       "      <td>NaN</td>\n",
       "      <td>NaN</td>\n",
       "      <td>9.0</td>\n",
       "      <td>3.0</td>\n",
       "      <td>287</td>\n",
       "      <td>291</td>\n",
       "      <td>19</td>\n",
       "      <td>0</td>\n",
       "      <td>0</td>\n",
       "      <td>Pediatria i Medycyna Rodzinna</td>\n",
       "    </tr>\n",
       "    <tr>\n",
       "      <th>8</th>\n",
       "      <td>960087013</td>\n",
       "      <td>24862</td>\n",
       "      <td>NaN</td>\n",
       "      <td>Patent</td>\n",
       "      <td>amplifier circuit having linear and non linear...</td>\n",
       "      <td>Amplifier circuit having linear and non-linear...</td>\n",
       "      <td>NaN</td>\n",
       "      <td>1952</td>\n",
       "      <td>1952-07-15 00:00:00</td>\n",
       "      <td>NaN</td>\n",
       "      <td>...</td>\n",
       "      <td>NaN</td>\n",
       "      <td>NaN</td>\n",
       "      <td>NaN</td>\n",
       "      <td>NaN</td>\n",
       "      <td>NaN</td>\n",
       "      <td>NaN</td>\n",
       "      <td>7</td>\n",
       "      <td>16</td>\n",
       "      <td>16</td>\n",
       "      <td>NaN</td>\n",
       "    </tr>\n",
       "    <tr>\n",
       "      <th>9</th>\n",
       "      <td>1495224725</td>\n",
       "      <td>23594</td>\n",
       "      <td>10.1109/OFC.1996.907709</td>\n",
       "      <td>Conference</td>\n",
       "      <td>1 gbyte s error free optical interconnection u...</td>\n",
       "      <td>1 Gbyte/s error-free optical interconnection u...</td>\n",
       "      <td>NaN</td>\n",
       "      <td>1996</td>\n",
       "      <td>1996-02-25 00:00:00</td>\n",
       "      <td>NaN</td>\n",
       "      <td>...</td>\n",
       "      <td>2.621452e+09</td>\n",
       "      <td>NaN</td>\n",
       "      <td>NaN</td>\n",
       "      <td>NaN</td>\n",
       "      <td>139</td>\n",
       "      <td>140</td>\n",
       "      <td>1</td>\n",
       "      <td>1</td>\n",
       "      <td>1</td>\n",
       "      <td>optical fiber communication conference</td>\n",
       "    </tr>\n",
       "  </tbody>\n",
       "</table>\n",
       "<p>10 rows × 22 columns</p>\n",
       "</div>"
      ],
      "text/plain": [
       "      PaperId   Rank                                 Doi      DocType  \\\n",
       "0    51264158  27169                                 NaN          NaN   \n",
       "1    93781424  22616                                 NaN      Journal   \n",
       "2   138145309  22947                                 NaN       Patent   \n",
       "3   214118367  21825                  10.1007/BF00324200      Journal   \n",
       "4   267808649  22391                                 NaN          NaN   \n",
       "5   327619807  24414  10.1016/B978-0-08-097086-8.31087-X  BookChapter   \n",
       "6   350503402  22206                                 NaN       Patent   \n",
       "7   833147076  23773                                 NaN      Journal   \n",
       "8   960087013  24862                                 NaN       Patent   \n",
       "9  1495224725  23594             10.1109/OFC.1996.907709   Conference   \n",
       "\n",
       "                                          PaperTitle  \\\n",
       "0                     no has visto nada en treblinka   \n",
       "1  reading minds how infants come to understand o...   \n",
       "2      weight measuring device for cooking appliance   \n",
       "3  effect of oxygen segregation on the surface st...   \n",
       "4  is mars sample return required prior to sendin...   \n",
       "5  fertility transition latin america and the car...   \n",
       "6           integrated camera and associated methods   \n",
       "7  zespol comela nethertona u 14 miesiecznego dzi...   \n",
       "8  amplifier circuit having linear and non linear...   \n",
       "9  1 gbyte s error free optical interconnection u...   \n",
       "\n",
       "                                       OriginalTitle BookTitle  Year  \\\n",
       "0                     No has visto nada en Treblinka       NaN  2009   \n",
       "1  Reading Minds: How Infants Come to Understand ...       NaN  2009   \n",
       "2      Weight measuring device for cooking appliance       NaN  1996   \n",
       "3  Effect of oxygen segregation on the surface st...       NaN  1992   \n",
       "4  Is Mars Sample Return Required Prior to Sendin...       NaN  2012   \n",
       "5  Fertility Transition: Latin America and the Ca...       NaN  2015   \n",
       "6           Integrated camera and associated methods       NaN  2007   \n",
       "7  Zespół Comèla-Nethertona u 14-miesięcznego dzi...       NaN  2013   \n",
       "8  Amplifier circuit having linear and non-linear...       NaN  1952   \n",
       "9  1 Gbyte/s error-free optical interconnection u...       NaN  1996   \n",
       "\n",
       "                  Date OnlineDate  ... ConferenceSeriedId  \\\n",
       "0  2009-01-01 00:00:00        NaN  ...                NaN   \n",
       "1  2009-11-01 00:00:00        NaN  ...                NaN   \n",
       "2  1996-09-25 00:00:00        NaN  ...                NaN   \n",
       "3  1992-04-01 00:00:00        NaN  ...                NaN   \n",
       "4  2012-05-22 00:00:00        NaN  ...                NaN   \n",
       "5  2015-01-01 00:00:00        NaN  ...                NaN   \n",
       "6  2007-10-30 00:00:00        NaN  ...                NaN   \n",
       "7  2013-01-01 00:00:00        NaN  ...                NaN   \n",
       "8  1952-07-15 00:00:00        NaN  ...                NaN   \n",
       "9  1996-02-25 00:00:00        NaN  ...       2.621452e+09   \n",
       "\n",
       "   ConferenceInstanceId  Volume  Issue  FirstPage  LastPage ReferenceCount  \\\n",
       "0                   NaN     NaN   26.0         73       NaN              0   \n",
       "1                   NaN    30.0    2.0         28        32              0   \n",
       "2                   NaN     NaN    NaN        NaN       NaN              8   \n",
       "3                   NaN    54.0    4.0        350       354             22   \n",
       "4                   NaN     NaN    NaN        NaN       NaN              0   \n",
       "5                   NaN     NaN    NaN         68        72             11   \n",
       "6                   NaN     NaN    NaN        NaN       NaN             68   \n",
       "7                   NaN     9.0    3.0        287       291             19   \n",
       "8                   NaN     NaN    NaN        NaN       NaN              7   \n",
       "9                   NaN     NaN    NaN        139       140              1   \n",
       "\n",
       "  CitationCount  EstimatedCitation  \\\n",
       "0             0                  0   \n",
       "1             6                  6   \n",
       "2             6                  6   \n",
       "3            25                 25   \n",
       "4             2                  2   \n",
       "5             0                  0   \n",
       "6            12                 12   \n",
       "7             0                  0   \n",
       "8            16                 16   \n",
       "9             1                  1   \n",
       "\n",
       "                                       OriginalVenue  \n",
       "0                          Cahiers du cinéma: España  \n",
       "1                                      Zero to Three  \n",
       "2                                                NaN  \n",
       "3                                  Applied Physics A  \n",
       "4                                                NaN  \n",
       "5  International Encyclopedia of the Social & Beh...  \n",
       "6                                                NaN  \n",
       "7                      Pediatria i Medycyna Rodzinna  \n",
       "8                                                NaN  \n",
       "9             optical fiber communication conference  \n",
       "\n",
       "[10 rows x 22 columns]"
      ]
     },
     "execution_count": 5,
     "metadata": {},
     "output_type": "execute_result"
    }
   ],
   "source": [
    "Papers.head(10)"
   ]
  },
  {
   "cell_type": "markdown",
   "id": "44b86110",
   "metadata": {},
   "source": [
    "we can check all the column names"
   ]
  },
  {
   "cell_type": "code",
   "execution_count": 6,
   "id": "b2c7150c",
   "metadata": {},
   "outputs": [
    {
     "data": {
      "text/plain": [
       "Index(['PaperId', 'Rank', 'Doi', 'DocType', 'PaperTitle', 'OriginalTitle',\n",
       "       'BookTitle', 'Year', 'Date', 'OnlineDate', 'Publisher', 'JournalId',\n",
       "       'ConferenceSeriedId', 'ConferenceInstanceId', 'Volume', 'Issue',\n",
       "       'FirstPage', 'LastPage', 'ReferenceCount', 'CitationCount',\n",
       "       'EstimatedCitation', 'OriginalVenue'],\n",
       "      dtype='object')"
      ]
     },
     "execution_count": 6,
     "metadata": {},
     "output_type": "execute_result"
    }
   ],
   "source": [
    "Papers.columns"
   ]
  },
  {
   "cell_type": "markdown",
   "id": "144890f9",
   "metadata": {},
   "source": [
    "We cam also check the datatype of different columns in the dataframe"
   ]
  },
  {
   "cell_type": "code",
   "execution_count": 7,
   "id": "9747c12c",
   "metadata": {},
   "outputs": [
    {
     "data": {
      "text/plain": [
       "PaperId                   int64\n",
       "Rank                      int64\n",
       "Doi                      object\n",
       "DocType                  object\n",
       "PaperTitle               object\n",
       "OriginalTitle            object\n",
       "BookTitle                object\n",
       "Year                      int64\n",
       "Date                     object\n",
       "OnlineDate               object\n",
       "Publisher                object\n",
       "JournalId               float64\n",
       "ConferenceSeriedId      float64\n",
       "ConferenceInstanceId    float64\n",
       "Volume                  float64\n",
       "Issue                   float64\n",
       "FirstPage                object\n",
       "LastPage                 object\n",
       "ReferenceCount            int64\n",
       "CitationCount             int64\n",
       "EstimatedCitation         int64\n",
       "OriginalVenue            object\n",
       "dtype: object"
      ]
     },
     "execution_count": 7,
     "metadata": {},
     "output_type": "execute_result"
    }
   ],
   "source": [
    "Papers.dtypes"
   ]
  },
  {
   "cell_type": "markdown",
   "id": "cf087a4b",
   "metadata": {},
   "source": [
    "We can get basic statistic summary"
   ]
  },
  {
   "cell_type": "code",
   "execution_count": 8,
   "id": "d9e7b2ec",
   "metadata": {},
   "outputs": [
    {
     "data": {
      "text/html": [
       "<div>\n",
       "<style scoped>\n",
       "    .dataframe tbody tr th:only-of-type {\n",
       "        vertical-align: middle;\n",
       "    }\n",
       "\n",
       "    .dataframe tbody tr th {\n",
       "        vertical-align: top;\n",
       "    }\n",
       "\n",
       "    .dataframe thead th {\n",
       "        text-align: right;\n",
       "    }\n",
       "</style>\n",
       "<table border=\"1\" class=\"dataframe\">\n",
       "  <thead>\n",
       "    <tr style=\"text-align: right;\">\n",
       "      <th></th>\n",
       "      <th>PaperId</th>\n",
       "      <th>Rank</th>\n",
       "      <th>Year</th>\n",
       "      <th>JournalId</th>\n",
       "      <th>ConferenceSeriedId</th>\n",
       "      <th>ConferenceInstanceId</th>\n",
       "      <th>Volume</th>\n",
       "      <th>Issue</th>\n",
       "      <th>ReferenceCount</th>\n",
       "      <th>CitationCount</th>\n",
       "      <th>EstimatedCitation</th>\n",
       "    </tr>\n",
       "  </thead>\n",
       "  <tbody>\n",
       "    <tr>\n",
       "      <th>count</th>\n",
       "      <td>1.215280e+05</td>\n",
       "      <td>121528.000000</td>\n",
       "      <td>121528.000000</td>\n",
       "      <td>9.518600e+04</td>\n",
       "      <td>2.409000e+03</td>\n",
       "      <td>1.190000e+03</td>\n",
       "      <td>97504.000000</td>\n",
       "      <td>8.942900e+04</td>\n",
       "      <td>121528.000000</td>\n",
       "      <td>121528.000000</td>\n",
       "      <td>121528.000000</td>\n",
       "    </tr>\n",
       "    <tr>\n",
       "      <th>mean</th>\n",
       "      <td>2.091660e+09</td>\n",
       "      <td>20798.741615</td>\n",
       "      <td>2000.712107</td>\n",
       "      <td>2.320434e+08</td>\n",
       "      <td>1.645837e+09</td>\n",
       "      <td>1.550020e+09</td>\n",
       "      <td>121.912209</td>\n",
       "      <td>1.562715e+03</td>\n",
       "      <td>32.459376</td>\n",
       "      <td>327.860510</td>\n",
       "      <td>533.472714</td>\n",
       "    </tr>\n",
       "    <tr>\n",
       "      <th>std</th>\n",
       "      <td>5.110574e+08</td>\n",
       "      <td>2245.724090</td>\n",
       "      <td>15.392376</td>\n",
       "      <td>5.672864e+08</td>\n",
       "      <td>7.068869e+08</td>\n",
       "      <td>1.257272e+09</td>\n",
       "      <td>549.184394</td>\n",
       "      <td>3.137761e+05</td>\n",
       "      <td>97.094530</td>\n",
       "      <td>2082.035447</td>\n",
       "      <td>3335.611367</td>\n",
       "    </tr>\n",
       "    <tr>\n",
       "      <th>min</th>\n",
       "      <td>1.692770e+05</td>\n",
       "      <td>12146.000000</td>\n",
       "      <td>1800.000000</td>\n",
       "      <td>6.166100e+04</td>\n",
       "      <td>1.119485e+09</td>\n",
       "      <td>1.314140e+05</td>\n",
       "      <td>1.000000</td>\n",
       "      <td>-1.000000e+00</td>\n",
       "      <td>0.000000</td>\n",
       "      <td>0.000000</td>\n",
       "      <td>0.000000</td>\n",
       "    </tr>\n",
       "    <tr>\n",
       "      <th>25%</th>\n",
       "      <td>1.999389e+09</td>\n",
       "      <td>19480.000000</td>\n",
       "      <td>1994.000000</td>\n",
       "      <td>5.256695e+07</td>\n",
       "      <td>1.152463e+09</td>\n",
       "      <td>1.466442e+08</td>\n",
       "      <td>19.000000</td>\n",
       "      <td>2.000000e+00</td>\n",
       "      <td>1.000000</td>\n",
       "      <td>14.000000</td>\n",
       "      <td>14.000000</td>\n",
       "    </tr>\n",
       "    <tr>\n",
       "      <th>50%</th>\n",
       "      <td>2.075562e+09</td>\n",
       "      <td>20523.000000</td>\n",
       "      <td>2004.000000</td>\n",
       "      <td>1.111554e+08</td>\n",
       "      <td>1.180663e+09</td>\n",
       "      <td>2.327706e+09</td>\n",
       "      <td>46.000000</td>\n",
       "      <td>4.000000e+00</td>\n",
       "      <td>20.000000</td>\n",
       "      <td>50.000000</td>\n",
       "      <td>76.000000</td>\n",
       "    </tr>\n",
       "    <tr>\n",
       "      <th>75%</th>\n",
       "      <td>2.171961e+09</td>\n",
       "      <td>21772.000000</td>\n",
       "      <td>2011.000000</td>\n",
       "      <td>1.611418e+08</td>\n",
       "      <td>2.622412e+09</td>\n",
       "      <td>2.787473e+09</td>\n",
       "      <td>101.000000</td>\n",
       "      <td>9.000000e+00</td>\n",
       "      <td>41.000000</td>\n",
       "      <td>160.000000</td>\n",
       "      <td>239.000000</td>\n",
       "    </tr>\n",
       "    <tr>\n",
       "      <th>max</th>\n",
       "      <td>3.129179e+09</td>\n",
       "      <td>44703.000000</td>\n",
       "      <td>2021.000000</td>\n",
       "      <td>3.035669e+09</td>\n",
       "      <td>3.044669e+09</td>\n",
       "      <td>3.023787e+09</td>\n",
       "      <td>114116.000000</td>\n",
       "      <td>8.886889e+07</td>\n",
       "      <td>17661.000000</td>\n",
       "      <td>261034.000000</td>\n",
       "      <td>280531.000000</td>\n",
       "    </tr>\n",
       "  </tbody>\n",
       "</table>\n",
       "</div>"
      ],
      "text/plain": [
       "            PaperId           Rank           Year     JournalId  \\\n",
       "count  1.215280e+05  121528.000000  121528.000000  9.518600e+04   \n",
       "mean   2.091660e+09   20798.741615    2000.712107  2.320434e+08   \n",
       "std    5.110574e+08    2245.724090      15.392376  5.672864e+08   \n",
       "min    1.692770e+05   12146.000000    1800.000000  6.166100e+04   \n",
       "25%    1.999389e+09   19480.000000    1994.000000  5.256695e+07   \n",
       "50%    2.075562e+09   20523.000000    2004.000000  1.111554e+08   \n",
       "75%    2.171961e+09   21772.000000    2011.000000  1.611418e+08   \n",
       "max    3.129179e+09   44703.000000    2021.000000  3.035669e+09   \n",
       "\n",
       "       ConferenceSeriedId  ConferenceInstanceId         Volume         Issue  \\\n",
       "count        2.409000e+03          1.190000e+03   97504.000000  8.942900e+04   \n",
       "mean         1.645837e+09          1.550020e+09     121.912209  1.562715e+03   \n",
       "std          7.068869e+08          1.257272e+09     549.184394  3.137761e+05   \n",
       "min          1.119485e+09          1.314140e+05       1.000000 -1.000000e+00   \n",
       "25%          1.152463e+09          1.466442e+08      19.000000  2.000000e+00   \n",
       "50%          1.180663e+09          2.327706e+09      46.000000  4.000000e+00   \n",
       "75%          2.622412e+09          2.787473e+09     101.000000  9.000000e+00   \n",
       "max          3.044669e+09          3.023787e+09  114116.000000  8.886889e+07   \n",
       "\n",
       "       ReferenceCount  CitationCount  EstimatedCitation  \n",
       "count   121528.000000  121528.000000      121528.000000  \n",
       "mean        32.459376     327.860510         533.472714  \n",
       "std         97.094530    2082.035447        3335.611367  \n",
       "min          0.000000       0.000000           0.000000  \n",
       "25%          1.000000      14.000000          14.000000  \n",
       "50%         20.000000      50.000000          76.000000  \n",
       "75%         41.000000     160.000000         239.000000  \n",
       "max      17661.000000  261034.000000      280531.000000  "
      ]
     },
     "execution_count": 8,
     "metadata": {},
     "output_type": "execute_result"
    }
   ],
   "source": [
    "Papers.describe()"
   ]
  },
  {
   "cell_type": "markdown",
   "id": "110b14c8",
   "metadata": {},
   "source": [
    "To select a part of the dataframe, for example, a column in a dataframe, we can either use a square bracket or a dot: "
   ]
  },
  {
   "cell_type": "code",
   "execution_count": 9,
   "id": "e0894b45",
   "metadata": {},
   "outputs": [
    {
     "data": {
      "text/plain": [
       "0                            no has visto nada en treblinka\n",
       "1         reading minds how infants come to understand o...\n",
       "2             weight measuring device for cooking appliance\n",
       "3         effect of oxygen segregation on the surface st...\n",
       "4         is mars sample return required prior to sendin...\n",
       "                                ...                        \n",
       "121523                                   the human equation\n",
       "121524         geology of the sierra nevada revised edition\n",
       "121525    raman spectra and magnetization of all ferroma...\n",
       "121526                         growth hormone secretagogues\n",
       "121527    why do some countries produce so much more out...\n",
       "Name: PaperTitle, Length: 121528, dtype: object"
      ]
     },
     "execution_count": 9,
     "metadata": {},
     "output_type": "execute_result"
    }
   ],
   "source": [
    "Papers['PaperTitle']"
   ]
  },
  {
   "cell_type": "code",
   "execution_count": 10,
   "id": "fedb4eed",
   "metadata": {},
   "outputs": [
    {
     "data": {
      "text/plain": [
       "0                            no has visto nada en treblinka\n",
       "1         reading minds how infants come to understand o...\n",
       "2             weight measuring device for cooking appliance\n",
       "3         effect of oxygen segregation on the surface st...\n",
       "4         is mars sample return required prior to sendin...\n",
       "                                ...                        \n",
       "121523                                   the human equation\n",
       "121524         geology of the sierra nevada revised edition\n",
       "121525    raman spectra and magnetization of all ferroma...\n",
       "121526                         growth hormone secretagogues\n",
       "121527    why do some countries produce so much more out...\n",
       "Name: PaperTitle, Length: 121528, dtype: object"
      ]
     },
     "execution_count": 10,
     "metadata": {},
     "output_type": "execute_result"
    }
   ],
   "source": [
    "Papers.PaperTitle"
   ]
  },
  {
   "cell_type": "code",
   "execution_count": 11,
   "id": "a8e32929",
   "metadata": {},
   "outputs": [
    {
     "data": {
      "text/html": [
       "<div>\n",
       "<style scoped>\n",
       "    .dataframe tbody tr th:only-of-type {\n",
       "        vertical-align: middle;\n",
       "    }\n",
       "\n",
       "    .dataframe tbody tr th {\n",
       "        vertical-align: top;\n",
       "    }\n",
       "\n",
       "    .dataframe thead th {\n",
       "        text-align: right;\n",
       "    }\n",
       "</style>\n",
       "<table border=\"1\" class=\"dataframe\">\n",
       "  <thead>\n",
       "    <tr style=\"text-align: right;\">\n",
       "      <th></th>\n",
       "      <th>PaperTitle</th>\n",
       "      <th>Year</th>\n",
       "    </tr>\n",
       "  </thead>\n",
       "  <tbody>\n",
       "    <tr>\n",
       "      <th>0</th>\n",
       "      <td>no has visto nada en treblinka</td>\n",
       "      <td>2009</td>\n",
       "    </tr>\n",
       "    <tr>\n",
       "      <th>1</th>\n",
       "      <td>reading minds how infants come to understand o...</td>\n",
       "      <td>2009</td>\n",
       "    </tr>\n",
       "    <tr>\n",
       "      <th>2</th>\n",
       "      <td>weight measuring device for cooking appliance</td>\n",
       "      <td>1996</td>\n",
       "    </tr>\n",
       "    <tr>\n",
       "      <th>3</th>\n",
       "      <td>effect of oxygen segregation on the surface st...</td>\n",
       "      <td>1992</td>\n",
       "    </tr>\n",
       "    <tr>\n",
       "      <th>4</th>\n",
       "      <td>is mars sample return required prior to sendin...</td>\n",
       "      <td>2012</td>\n",
       "    </tr>\n",
       "    <tr>\n",
       "      <th>...</th>\n",
       "      <td>...</td>\n",
       "      <td>...</td>\n",
       "    </tr>\n",
       "    <tr>\n",
       "      <th>121523</th>\n",
       "      <td>the human equation</td>\n",
       "      <td>1998</td>\n",
       "    </tr>\n",
       "    <tr>\n",
       "      <th>121524</th>\n",
       "      <td>geology of the sierra nevada revised edition</td>\n",
       "      <td>2006</td>\n",
       "    </tr>\n",
       "    <tr>\n",
       "      <th>121525</th>\n",
       "      <td>raman spectra and magnetization of all ferroma...</td>\n",
       "      <td>2014</td>\n",
       "    </tr>\n",
       "    <tr>\n",
       "      <th>121526</th>\n",
       "      <td>growth hormone secretagogues</td>\n",
       "      <td>1996</td>\n",
       "    </tr>\n",
       "    <tr>\n",
       "      <th>121527</th>\n",
       "      <td>why do some countries produce so much more out...</td>\n",
       "      <td>1999</td>\n",
       "    </tr>\n",
       "  </tbody>\n",
       "</table>\n",
       "<p>121528 rows × 2 columns</p>\n",
       "</div>"
      ],
      "text/plain": [
       "                                               PaperTitle  Year\n",
       "0                          no has visto nada en treblinka  2009\n",
       "1       reading minds how infants come to understand o...  2009\n",
       "2           weight measuring device for cooking appliance  1996\n",
       "3       effect of oxygen segregation on the surface st...  1992\n",
       "4       is mars sample return required prior to sendin...  2012\n",
       "...                                                   ...   ...\n",
       "121523                                 the human equation  1998\n",
       "121524       geology of the sierra nevada revised edition  2006\n",
       "121525  raman spectra and magnetization of all ferroma...  2014\n",
       "121526                       growth hormone secretagogues  1996\n",
       "121527  why do some countries produce so much more out...  1999\n",
       "\n",
       "[121528 rows x 2 columns]"
      ]
     },
     "execution_count": 11,
     "metadata": {},
     "output_type": "execute_result"
    }
   ],
   "source": [
    "Papers[['PaperTitle', 'Year']]"
   ]
  },
  {
   "cell_type": "markdown",
   "id": "be23f962",
   "metadata": {},
   "source": [
    "With square bracket, we can slices the rows"
   ]
  },
  {
   "cell_type": "markdown",
   "id": "f0e7cbc1",
   "metadata": {},
   "source": [
    "## Indexing and Selecting Data"
   ]
  },
  {
   "cell_type": "code",
   "execution_count": 12,
   "id": "6f301a61",
   "metadata": {},
   "outputs": [
    {
     "data": {
      "text/html": [
       "<div>\n",
       "<style scoped>\n",
       "    .dataframe tbody tr th:only-of-type {\n",
       "        vertical-align: middle;\n",
       "    }\n",
       "\n",
       "    .dataframe tbody tr th {\n",
       "        vertical-align: top;\n",
       "    }\n",
       "\n",
       "    .dataframe thead th {\n",
       "        text-align: right;\n",
       "    }\n",
       "</style>\n",
       "<table border=\"1\" class=\"dataframe\">\n",
       "  <thead>\n",
       "    <tr style=\"text-align: right;\">\n",
       "      <th></th>\n",
       "      <th>PaperId</th>\n",
       "      <th>Rank</th>\n",
       "      <th>Doi</th>\n",
       "      <th>DocType</th>\n",
       "      <th>PaperTitle</th>\n",
       "      <th>OriginalTitle</th>\n",
       "      <th>BookTitle</th>\n",
       "      <th>Year</th>\n",
       "      <th>Date</th>\n",
       "      <th>OnlineDate</th>\n",
       "      <th>...</th>\n",
       "      <th>ConferenceSeriedId</th>\n",
       "      <th>ConferenceInstanceId</th>\n",
       "      <th>Volume</th>\n",
       "      <th>Issue</th>\n",
       "      <th>FirstPage</th>\n",
       "      <th>LastPage</th>\n",
       "      <th>ReferenceCount</th>\n",
       "      <th>CitationCount</th>\n",
       "      <th>EstimatedCitation</th>\n",
       "      <th>OriginalVenue</th>\n",
       "    </tr>\n",
       "  </thead>\n",
       "  <tbody>\n",
       "    <tr>\n",
       "      <th>0</th>\n",
       "      <td>51264158</td>\n",
       "      <td>27169</td>\n",
       "      <td>NaN</td>\n",
       "      <td>NaN</td>\n",
       "      <td>no has visto nada en treblinka</td>\n",
       "      <td>No has visto nada en Treblinka</td>\n",
       "      <td>NaN</td>\n",
       "      <td>2009</td>\n",
       "      <td>2009-01-01 00:00:00</td>\n",
       "      <td>NaN</td>\n",
       "      <td>...</td>\n",
       "      <td>NaN</td>\n",
       "      <td>NaN</td>\n",
       "      <td>NaN</td>\n",
       "      <td>26.0</td>\n",
       "      <td>73</td>\n",
       "      <td>NaN</td>\n",
       "      <td>0</td>\n",
       "      <td>0</td>\n",
       "      <td>0</td>\n",
       "      <td>Cahiers du cinéma: España</td>\n",
       "    </tr>\n",
       "    <tr>\n",
       "      <th>1</th>\n",
       "      <td>93781424</td>\n",
       "      <td>22616</td>\n",
       "      <td>NaN</td>\n",
       "      <td>Journal</td>\n",
       "      <td>reading minds how infants come to understand o...</td>\n",
       "      <td>Reading Minds: How Infants Come to Understand ...</td>\n",
       "      <td>NaN</td>\n",
       "      <td>2009</td>\n",
       "      <td>2009-11-01 00:00:00</td>\n",
       "      <td>NaN</td>\n",
       "      <td>...</td>\n",
       "      <td>NaN</td>\n",
       "      <td>NaN</td>\n",
       "      <td>30.0</td>\n",
       "      <td>2.0</td>\n",
       "      <td>28</td>\n",
       "      <td>32</td>\n",
       "      <td>0</td>\n",
       "      <td>6</td>\n",
       "      <td>6</td>\n",
       "      <td>Zero to Three</td>\n",
       "    </tr>\n",
       "    <tr>\n",
       "      <th>2</th>\n",
       "      <td>138145309</td>\n",
       "      <td>22947</td>\n",
       "      <td>NaN</td>\n",
       "      <td>Patent</td>\n",
       "      <td>weight measuring device for cooking appliance</td>\n",
       "      <td>Weight measuring device for cooking appliance</td>\n",
       "      <td>NaN</td>\n",
       "      <td>1996</td>\n",
       "      <td>1996-09-25 00:00:00</td>\n",
       "      <td>NaN</td>\n",
       "      <td>...</td>\n",
       "      <td>NaN</td>\n",
       "      <td>NaN</td>\n",
       "      <td>NaN</td>\n",
       "      <td>NaN</td>\n",
       "      <td>NaN</td>\n",
       "      <td>NaN</td>\n",
       "      <td>8</td>\n",
       "      <td>6</td>\n",
       "      <td>6</td>\n",
       "      <td>NaN</td>\n",
       "    </tr>\n",
       "  </tbody>\n",
       "</table>\n",
       "<p>3 rows × 22 columns</p>\n",
       "</div>"
      ],
      "text/plain": [
       "     PaperId   Rank  Doi  DocType  \\\n",
       "0   51264158  27169  NaN      NaN   \n",
       "1   93781424  22616  NaN  Journal   \n",
       "2  138145309  22947  NaN   Patent   \n",
       "\n",
       "                                          PaperTitle  \\\n",
       "0                     no has visto nada en treblinka   \n",
       "1  reading minds how infants come to understand o...   \n",
       "2      weight measuring device for cooking appliance   \n",
       "\n",
       "                                       OriginalTitle BookTitle  Year  \\\n",
       "0                     No has visto nada en Treblinka       NaN  2009   \n",
       "1  Reading Minds: How Infants Come to Understand ...       NaN  2009   \n",
       "2      Weight measuring device for cooking appliance       NaN  1996   \n",
       "\n",
       "                  Date OnlineDate  ... ConferenceSeriedId  \\\n",
       "0  2009-01-01 00:00:00        NaN  ...                NaN   \n",
       "1  2009-11-01 00:00:00        NaN  ...                NaN   \n",
       "2  1996-09-25 00:00:00        NaN  ...                NaN   \n",
       "\n",
       "   ConferenceInstanceId  Volume  Issue  FirstPage  LastPage ReferenceCount  \\\n",
       "0                   NaN     NaN   26.0         73       NaN              0   \n",
       "1                   NaN    30.0    2.0         28        32              0   \n",
       "2                   NaN     NaN    NaN        NaN       NaN              8   \n",
       "\n",
       "  CitationCount  EstimatedCitation              OriginalVenue  \n",
       "0             0                  0  Cahiers du cinéma: España  \n",
       "1             6                  6              Zero to Three  \n",
       "2             6                  6                        NaN  \n",
       "\n",
       "[3 rows x 22 columns]"
      ]
     },
     "execution_count": 12,
     "metadata": {},
     "output_type": "execute_result"
    }
   ],
   "source": [
    "Papers[0:3]"
   ]
  },
  {
   "cell_type": "markdown",
   "id": "f05fa555",
   "metadata": {},
   "source": [
    "By Calling\n",
    "```python\n",
    ".sort_values()\n",
    "```\n",
    "We can sort a dataframe by the value of a column"
   ]
  },
  {
   "cell_type": "code",
   "execution_count": 13,
   "id": "909a9184",
   "metadata": {},
   "outputs": [
    {
     "data": {
      "text/html": [
       "<div>\n",
       "<style scoped>\n",
       "    .dataframe tbody tr th:only-of-type {\n",
       "        vertical-align: middle;\n",
       "    }\n",
       "\n",
       "    .dataframe tbody tr th {\n",
       "        vertical-align: top;\n",
       "    }\n",
       "\n",
       "    .dataframe thead th {\n",
       "        text-align: right;\n",
       "    }\n",
       "</style>\n",
       "<table border=\"1\" class=\"dataframe\">\n",
       "  <thead>\n",
       "    <tr style=\"text-align: right;\">\n",
       "      <th></th>\n",
       "      <th>PaperTitle</th>\n",
       "      <th>CitationCount</th>\n",
       "    </tr>\n",
       "  </thead>\n",
       "  <tbody>\n",
       "    <tr>\n",
       "      <th>52431</th>\n",
       "      <td>protein measurement with the folin phenol reagent</td>\n",
       "      <td>261034</td>\n",
       "    </tr>\n",
       "    <tr>\n",
       "      <th>21523</th>\n",
       "      <td>cleavage of structural proteins during the ass...</td>\n",
       "      <td>207835</td>\n",
       "    </tr>\n",
       "    <tr>\n",
       "      <th>54356</th>\n",
       "      <td>a rapid and sensitive method for the quantitat...</td>\n",
       "      <td>199392</td>\n",
       "    </tr>\n",
       "    <tr>\n",
       "      <th>73208</th>\n",
       "      <td>molecular cloning a laboratory manual</td>\n",
       "      <td>142684</td>\n",
       "    </tr>\n",
       "    <tr>\n",
       "      <th>81429</th>\n",
       "      <td>r a language and environment for statistical c...</td>\n",
       "      <td>107482</td>\n",
       "    </tr>\n",
       "    <tr>\n",
       "      <th>14051</th>\n",
       "      <td>diagnostic and statistical manual of mental di...</td>\n",
       "      <td>106633</td>\n",
       "    </tr>\n",
       "    <tr>\n",
       "      <th>36580</th>\n",
       "      <td>analysis of relative gene expression data usin...</td>\n",
       "      <td>95971</td>\n",
       "    </tr>\n",
       "    <tr>\n",
       "      <th>39096</th>\n",
       "      <td>generalized gradient approximation made simple</td>\n",
       "      <td>90398</td>\n",
       "    </tr>\n",
       "    <tr>\n",
       "      <th>95248</th>\n",
       "      <td>standard methods for the examination of water ...</td>\n",
       "      <td>83352</td>\n",
       "    </tr>\n",
       "    <tr>\n",
       "      <th>111990</th>\n",
       "      <td>basic local alignment search tool</td>\n",
       "      <td>69377</td>\n",
       "    </tr>\n",
       "    <tr>\n",
       "      <th>29078</th>\n",
       "      <td>a short history of shelx</td>\n",
       "      <td>68624</td>\n",
       "    </tr>\n",
       "    <tr>\n",
       "      <th>84795</th>\n",
       "      <td>case study research design and methods</td>\n",
       "      <td>67527</td>\n",
       "    </tr>\n",
       "    <tr>\n",
       "      <th>118325</th>\n",
       "      <td>mini mental state a practical method for gradi...</td>\n",
       "      <td>66543</td>\n",
       "    </tr>\n",
       "    <tr>\n",
       "      <th>72115</th>\n",
       "      <td>density functional thermochemistry iii the rol...</td>\n",
       "      <td>62886</td>\n",
       "    </tr>\n",
       "    <tr>\n",
       "      <th>57624</th>\n",
       "      <td>gapped blast and psi blast a new generation of...</td>\n",
       "      <td>62102</td>\n",
       "    </tr>\n",
       "    <tr>\n",
       "      <th>35541</th>\n",
       "      <td>statistical power analysis for the behavioral ...</td>\n",
       "      <td>59995</td>\n",
       "    </tr>\n",
       "    <tr>\n",
       "      <th>68786</th>\n",
       "      <td>single step method of rna isolation by acid gu...</td>\n",
       "      <td>59599</td>\n",
       "    </tr>\n",
       "    <tr>\n",
       "      <th>14282</th>\n",
       "      <td>the moderator mediator variable distinction in...</td>\n",
       "      <td>59232</td>\n",
       "    </tr>\n",
       "    <tr>\n",
       "      <th>54832</th>\n",
       "      <td>clustal w improving the sensitivity of progres...</td>\n",
       "      <td>55409</td>\n",
       "    </tr>\n",
       "    <tr>\n",
       "      <th>102393</th>\n",
       "      <td>controlling the false discovery rate a practic...</td>\n",
       "      <td>53885</td>\n",
       "    </tr>\n",
       "  </tbody>\n",
       "</table>\n",
       "</div>"
      ],
      "text/plain": [
       "                                               PaperTitle  CitationCount\n",
       "52431   protein measurement with the folin phenol reagent         261034\n",
       "21523   cleavage of structural proteins during the ass...         207835\n",
       "54356   a rapid and sensitive method for the quantitat...         199392\n",
       "73208               molecular cloning a laboratory manual         142684\n",
       "81429   r a language and environment for statistical c...         107482\n",
       "14051   diagnostic and statistical manual of mental di...         106633\n",
       "36580   analysis of relative gene expression data usin...          95971\n",
       "39096      generalized gradient approximation made simple          90398\n",
       "95248   standard methods for the examination of water ...          83352\n",
       "111990                  basic local alignment search tool          69377\n",
       "29078                            a short history of shelx          68624\n",
       "84795              case study research design and methods          67527\n",
       "118325  mini mental state a practical method for gradi...          66543\n",
       "72115   density functional thermochemistry iii the rol...          62886\n",
       "57624   gapped blast and psi blast a new generation of...          62102\n",
       "35541   statistical power analysis for the behavioral ...          59995\n",
       "68786   single step method of rna isolation by acid gu...          59599\n",
       "14282   the moderator mediator variable distinction in...          59232\n",
       "54832   clustal w improving the sensitivity of progres...          55409\n",
       "102393  controlling the false discovery rate a practic...          53885"
      ]
     },
     "execution_count": 13,
     "metadata": {},
     "output_type": "execute_result"
    }
   ],
   "source": [
    "Papers.\\\n",
    "    sort_values(by = 'CitationCount', \n",
    "                ascending = False)[['PaperTitle', 'CitationCount']][0:20]"
   ]
  },
  {
   "cell_type": "markdown",
   "id": "16c8b3af",
   "metadata": {},
   "source": [
    "We can also use\n",
    "```python\n",
    ".loc[]\n",
    "```\n",
    "to make selection by label. \n",
    "We may do that using this format:\n",
    "```python\n",
    "df.loc[indics, column names]\n",
    "```"
   ]
  },
  {
   "cell_type": "code",
   "execution_count": 14,
   "id": "a49cbf40",
   "metadata": {
    "scrolled": true
   },
   "outputs": [
    {
     "data": {
      "text/plain": [
       "1    reading minds how infants come to understand o...\n",
       "2        weight measuring device for cooking appliance\n",
       "3    effect of oxygen segregation on the surface st...\n",
       "4    is mars sample return required prior to sendin...\n",
       "Name: PaperTitle, dtype: object"
      ]
     },
     "execution_count": 14,
     "metadata": {},
     "output_type": "execute_result"
    }
   ],
   "source": [
    "Papers.loc[1:4, 'PaperTitle']"
   ]
  },
  {
   "cell_type": "markdown",
   "id": "36f509b2",
   "metadata": {},
   "source": [
    "Select multiple columns"
   ]
  },
  {
   "cell_type": "code",
   "execution_count": 15,
   "id": "47b61da7",
   "metadata": {
    "scrolled": true
   },
   "outputs": [
    {
     "data": {
      "text/html": [
       "<div>\n",
       "<style scoped>\n",
       "    .dataframe tbody tr th:only-of-type {\n",
       "        vertical-align: middle;\n",
       "    }\n",
       "\n",
       "    .dataframe tbody tr th {\n",
       "        vertical-align: top;\n",
       "    }\n",
       "\n",
       "    .dataframe thead th {\n",
       "        text-align: right;\n",
       "    }\n",
       "</style>\n",
       "<table border=\"1\" class=\"dataframe\">\n",
       "  <thead>\n",
       "    <tr style=\"text-align: right;\">\n",
       "      <th></th>\n",
       "      <th>PaperTitle</th>\n",
       "      <th>CitationCount</th>\n",
       "    </tr>\n",
       "  </thead>\n",
       "  <tbody>\n",
       "    <tr>\n",
       "      <th>1</th>\n",
       "      <td>reading minds how infants come to understand o...</td>\n",
       "      <td>6</td>\n",
       "    </tr>\n",
       "    <tr>\n",
       "      <th>2</th>\n",
       "      <td>weight measuring device for cooking appliance</td>\n",
       "      <td>6</td>\n",
       "    </tr>\n",
       "    <tr>\n",
       "      <th>3</th>\n",
       "      <td>effect of oxygen segregation on the surface st...</td>\n",
       "      <td>25</td>\n",
       "    </tr>\n",
       "    <tr>\n",
       "      <th>4</th>\n",
       "      <td>is mars sample return required prior to sendin...</td>\n",
       "      <td>2</td>\n",
       "    </tr>\n",
       "  </tbody>\n",
       "</table>\n",
       "</div>"
      ],
      "text/plain": [
       "                                          PaperTitle  CitationCount\n",
       "1  reading minds how infants come to understand o...              6\n",
       "2      weight measuring device for cooking appliance              6\n",
       "3  effect of oxygen segregation on the surface st...             25\n",
       "4  is mars sample return required prior to sendin...              2"
      ]
     },
     "execution_count": 15,
     "metadata": {},
     "output_type": "execute_result"
    }
   ],
   "source": [
    "Papers.loc[1:4, ['PaperTitle', 'CitationCount']]"
   ]
  },
  {
   "cell_type": "markdown",
   "id": "d5fe8215",
   "metadata": {},
   "source": [
    "Using\n",
    "```python\n",
    ".iloc[]\n",
    "```\n",
    "we can make selection by position(index). \n",
    "We may do that using this format:\n",
    "```python\n",
    "df.iloc[row position, column position]\n",
    "```"
   ]
  },
  {
   "cell_type": "code",
   "execution_count": 16,
   "id": "791f9778",
   "metadata": {},
   "outputs": [
    {
     "data": {
      "text/html": [
       "<div>\n",
       "<style scoped>\n",
       "    .dataframe tbody tr th:only-of-type {\n",
       "        vertical-align: middle;\n",
       "    }\n",
       "\n",
       "    .dataframe tbody tr th {\n",
       "        vertical-align: top;\n",
       "    }\n",
       "\n",
       "    .dataframe thead th {\n",
       "        text-align: right;\n",
       "    }\n",
       "</style>\n",
       "<table border=\"1\" class=\"dataframe\">\n",
       "  <thead>\n",
       "    <tr style=\"text-align: right;\">\n",
       "      <th></th>\n",
       "      <th>Doi</th>\n",
       "      <th>PaperTitle</th>\n",
       "      <th>BookTitle</th>\n",
       "    </tr>\n",
       "  </thead>\n",
       "  <tbody>\n",
       "    <tr>\n",
       "      <th>1</th>\n",
       "      <td>NaN</td>\n",
       "      <td>reading minds how infants come to understand o...</td>\n",
       "      <td>NaN</td>\n",
       "    </tr>\n",
       "    <tr>\n",
       "      <th>3</th>\n",
       "      <td>10.1007/BF00324200</td>\n",
       "      <td>effect of oxygen segregation on the surface st...</td>\n",
       "      <td>NaN</td>\n",
       "    </tr>\n",
       "    <tr>\n",
       "      <th>5</th>\n",
       "      <td>10.1016/B978-0-08-097086-8.31087-X</td>\n",
       "      <td>fertility transition latin america and the car...</td>\n",
       "      <td>NaN</td>\n",
       "    </tr>\n",
       "  </tbody>\n",
       "</table>\n",
       "</div>"
      ],
      "text/plain": [
       "                                  Doi  \\\n",
       "1                                 NaN   \n",
       "3                  10.1007/BF00324200   \n",
       "5  10.1016/B978-0-08-097086-8.31087-X   \n",
       "\n",
       "                                          PaperTitle BookTitle  \n",
       "1  reading minds how infants come to understand o...       NaN  \n",
       "3  effect of oxygen segregation on the surface st...       NaN  \n",
       "5  fertility transition latin america and the car...       NaN  "
      ]
     },
     "execution_count": 16,
     "metadata": {},
     "output_type": "execute_result"
    }
   ],
   "source": [
    "Papers.iloc[[1, 3, 5], [2, 4, 6]]"
   ]
  },
  {
   "cell_type": "code",
   "execution_count": 17,
   "id": "b4b40f01",
   "metadata": {},
   "outputs": [
    {
     "data": {
      "text/html": [
       "<div>\n",
       "<style scoped>\n",
       "    .dataframe tbody tr th:only-of-type {\n",
       "        vertical-align: middle;\n",
       "    }\n",
       "\n",
       "    .dataframe tbody tr th {\n",
       "        vertical-align: top;\n",
       "    }\n",
       "\n",
       "    .dataframe thead th {\n",
       "        text-align: right;\n",
       "    }\n",
       "</style>\n",
       "<table border=\"1\" class=\"dataframe\">\n",
       "  <thead>\n",
       "    <tr style=\"text-align: right;\">\n",
       "      <th></th>\n",
       "      <th>Doi</th>\n",
       "      <th>DocType</th>\n",
       "    </tr>\n",
       "  </thead>\n",
       "  <tbody>\n",
       "    <tr>\n",
       "      <th>1</th>\n",
       "      <td>NaN</td>\n",
       "      <td>Journal</td>\n",
       "    </tr>\n",
       "    <tr>\n",
       "      <th>2</th>\n",
       "      <td>NaN</td>\n",
       "      <td>Patent</td>\n",
       "    </tr>\n",
       "    <tr>\n",
       "      <th>3</th>\n",
       "      <td>10.1007/BF00324200</td>\n",
       "      <td>Journal</td>\n",
       "    </tr>\n",
       "    <tr>\n",
       "      <th>4</th>\n",
       "      <td>NaN</td>\n",
       "      <td>NaN</td>\n",
       "    </tr>\n",
       "  </tbody>\n",
       "</table>\n",
       "</div>"
      ],
      "text/plain": [
       "                  Doi  DocType\n",
       "1                 NaN  Journal\n",
       "2                 NaN   Patent\n",
       "3  10.1007/BF00324200  Journal\n",
       "4                 NaN      NaN"
      ]
     },
     "execution_count": 17,
     "metadata": {},
     "output_type": "execute_result"
    }
   ],
   "source": [
    "Papers.iloc[1:5, 2:4]"
   ]
  },
  {
   "cell_type": "markdown",
   "id": "6ad605c9",
   "metadata": {},
   "source": [
    "We can also select rows by condition"
   ]
  },
  {
   "cell_type": "code",
   "execution_count": 18,
   "id": "0558112c",
   "metadata": {
    "scrolled": true
   },
   "outputs": [
    {
     "data": {
      "text/html": [
       "<div>\n",
       "<style scoped>\n",
       "    .dataframe tbody tr th:only-of-type {\n",
       "        vertical-align: middle;\n",
       "    }\n",
       "\n",
       "    .dataframe tbody tr th {\n",
       "        vertical-align: top;\n",
       "    }\n",
       "\n",
       "    .dataframe thead th {\n",
       "        text-align: right;\n",
       "    }\n",
       "</style>\n",
       "<table border=\"1\" class=\"dataframe\">\n",
       "  <thead>\n",
       "    <tr style=\"text-align: right;\">\n",
       "      <th></th>\n",
       "      <th>PaperId</th>\n",
       "      <th>Rank</th>\n",
       "      <th>Doi</th>\n",
       "      <th>DocType</th>\n",
       "      <th>PaperTitle</th>\n",
       "      <th>OriginalTitle</th>\n",
       "      <th>BookTitle</th>\n",
       "      <th>Year</th>\n",
       "      <th>Date</th>\n",
       "      <th>OnlineDate</th>\n",
       "      <th>...</th>\n",
       "      <th>ConferenceSeriedId</th>\n",
       "      <th>ConferenceInstanceId</th>\n",
       "      <th>Volume</th>\n",
       "      <th>Issue</th>\n",
       "      <th>FirstPage</th>\n",
       "      <th>LastPage</th>\n",
       "      <th>ReferenceCount</th>\n",
       "      <th>CitationCount</th>\n",
       "      <th>EstimatedCitation</th>\n",
       "      <th>OriginalVenue</th>\n",
       "    </tr>\n",
       "  </thead>\n",
       "  <tbody>\n",
       "    <tr>\n",
       "      <th>15</th>\n",
       "      <td>1883546710</td>\n",
       "      <td>19465</td>\n",
       "      <td>NaN</td>\n",
       "      <td>Patent</td>\n",
       "      <td>sensor suite and communication system for carg...</td>\n",
       "      <td>Sensor suite and communication system for carg...</td>\n",
       "      <td>NaN</td>\n",
       "      <td>2003</td>\n",
       "      <td>2003-05-19 00:00:00</td>\n",
       "      <td>NaN</td>\n",
       "      <td>...</td>\n",
       "      <td>NaN</td>\n",
       "      <td>NaN</td>\n",
       "      <td>NaN</td>\n",
       "      <td>NaN</td>\n",
       "      <td>NaN</td>\n",
       "      <td>NaN</td>\n",
       "      <td>10</td>\n",
       "      <td>111</td>\n",
       "      <td>172</td>\n",
       "      <td>NaN</td>\n",
       "    </tr>\n",
       "    <tr>\n",
       "      <th>36</th>\n",
       "      <td>2170586390</td>\n",
       "      <td>22233</td>\n",
       "      <td>10.1017/S0305000900004736</td>\n",
       "      <td>Journal</td>\n",
       "      <td>words and plans early language and the develop...</td>\n",
       "      <td>Words and plans: early language and the develo...</td>\n",
       "      <td>NaN</td>\n",
       "      <td>1982</td>\n",
       "      <td>1982-06-01 00:00:00</td>\n",
       "      <td>2008-09-26 00:00:00</td>\n",
       "      <td>...</td>\n",
       "      <td>NaN</td>\n",
       "      <td>NaN</td>\n",
       "      <td>9.0</td>\n",
       "      <td>2.0</td>\n",
       "      <td>303</td>\n",
       "      <td>318</td>\n",
       "      <td>13</td>\n",
       "      <td>108</td>\n",
       "      <td>169</td>\n",
       "      <td>Journal of Child Language</td>\n",
       "    </tr>\n",
       "    <tr>\n",
       "      <th>45</th>\n",
       "      <td>2312202389</td>\n",
       "      <td>23439</td>\n",
       "      <td>10.1021/JA01507A023</td>\n",
       "      <td>Journal</td>\n",
       "      <td>the effect of geminal substitution ring size a...</td>\n",
       "      <td>The Effect of Geminal Substitution Ring Size a...</td>\n",
       "      <td>NaN</td>\n",
       "      <td>1960</td>\n",
       "      <td>1960-11-01 00:00:00</td>\n",
       "      <td>NaN</td>\n",
       "      <td>...</td>\n",
       "      <td>NaN</td>\n",
       "      <td>NaN</td>\n",
       "      <td>82.0</td>\n",
       "      <td>22.0</td>\n",
       "      <td>5858</td>\n",
       "      <td>5865</td>\n",
       "      <td>0</td>\n",
       "      <td>176</td>\n",
       "      <td>268</td>\n",
       "      <td>Journal of the American Chemical Society</td>\n",
       "    </tr>\n",
       "    <tr>\n",
       "      <th>85</th>\n",
       "      <td>1579354139</td>\n",
       "      <td>20970</td>\n",
       "      <td>NaN</td>\n",
       "      <td>Journal</td>\n",
       "      <td>homozygote for huntington disease</td>\n",
       "      <td>Homozygote for Huntington disease.</td>\n",
       "      <td>NaN</td>\n",
       "      <td>1989</td>\n",
       "      <td>1989-10-01 00:00:00</td>\n",
       "      <td>NaN</td>\n",
       "      <td>...</td>\n",
       "      <td>NaN</td>\n",
       "      <td>NaN</td>\n",
       "      <td>45.0</td>\n",
       "      <td>4.0</td>\n",
       "      <td>615</td>\n",
       "      <td>618</td>\n",
       "      <td>10</td>\n",
       "      <td>105</td>\n",
       "      <td>159</td>\n",
       "      <td>American Journal of Human Genetics</td>\n",
       "    </tr>\n",
       "    <tr>\n",
       "      <th>141</th>\n",
       "      <td>2000303521</td>\n",
       "      <td>19333</td>\n",
       "      <td>10.1093/EMBOJ/18.3.623</td>\n",
       "      <td>Journal</td>\n",
       "      <td>different functions for the thyroid hormone re...</td>\n",
       "      <td>Different functions for the thyroid hormone re...</td>\n",
       "      <td>NaN</td>\n",
       "      <td>1999</td>\n",
       "      <td>1999-02-01 00:00:00</td>\n",
       "      <td>1999-02-01 00:00:00</td>\n",
       "      <td>...</td>\n",
       "      <td>NaN</td>\n",
       "      <td>NaN</td>\n",
       "      <td>18.0</td>\n",
       "      <td>3.0</td>\n",
       "      <td>623</td>\n",
       "      <td>631</td>\n",
       "      <td>34</td>\n",
       "      <td>350</td>\n",
       "      <td>420</td>\n",
       "      <td>The EMBO Journal</td>\n",
       "    </tr>\n",
       "    <tr>\n",
       "      <th>...</th>\n",
       "      <td>...</td>\n",
       "      <td>...</td>\n",
       "      <td>...</td>\n",
       "      <td>...</td>\n",
       "      <td>...</td>\n",
       "      <td>...</td>\n",
       "      <td>...</td>\n",
       "      <td>...</td>\n",
       "      <td>...</td>\n",
       "      <td>...</td>\n",
       "      <td>...</td>\n",
       "      <td>...</td>\n",
       "      <td>...</td>\n",
       "      <td>...</td>\n",
       "      <td>...</td>\n",
       "      <td>...</td>\n",
       "      <td>...</td>\n",
       "      <td>...</td>\n",
       "      <td>...</td>\n",
       "      <td>...</td>\n",
       "      <td>...</td>\n",
       "    </tr>\n",
       "    <tr>\n",
       "      <th>121511</th>\n",
       "      <td>2904321847</td>\n",
       "      <td>18026</td>\n",
       "      <td>10.1183/13993003.01897-2018</td>\n",
       "      <td>Journal</td>\n",
       "      <td>pulmonary hypertension due to left heart disease</td>\n",
       "      <td>Pulmonary hypertension due to left heart disease.</td>\n",
       "      <td>NaN</td>\n",
       "      <td>2019</td>\n",
       "      <td>2019-01-01</td>\n",
       "      <td>2019-01-24</td>\n",
       "      <td>...</td>\n",
       "      <td>NaN</td>\n",
       "      <td>NaN</td>\n",
       "      <td>53.0</td>\n",
       "      <td>1.0</td>\n",
       "      <td>1801897</td>\n",
       "      <td>NaN</td>\n",
       "      <td>85</td>\n",
       "      <td>131</td>\n",
       "      <td>162</td>\n",
       "      <td>European Respiratory Journal</td>\n",
       "    </tr>\n",
       "    <tr>\n",
       "      <th>121518</th>\n",
       "      <td>2950491028</td>\n",
       "      <td>20327</td>\n",
       "      <td>10.1021/JM00106A038</td>\n",
       "      <td>Journal</td>\n",
       "      <td>fadrozole hydrochloride a potent selective non...</td>\n",
       "      <td>Fadrozole hydrochloride: a potent, selective, ...</td>\n",
       "      <td>NaN</td>\n",
       "      <td>1991</td>\n",
       "      <td>1991-02-01</td>\n",
       "      <td>NaN</td>\n",
       "      <td>...</td>\n",
       "      <td>NaN</td>\n",
       "      <td>NaN</td>\n",
       "      <td>34.0</td>\n",
       "      <td>2.0</td>\n",
       "      <td>725</td>\n",
       "      <td>736</td>\n",
       "      <td>0</td>\n",
       "      <td>161</td>\n",
       "      <td>241</td>\n",
       "      <td>Journal of Medicinal Chemistry</td>\n",
       "    </tr>\n",
       "    <tr>\n",
       "      <th>121523</th>\n",
       "      <td>3021802473</td>\n",
       "      <td>18475</td>\n",
       "      <td>NaN</td>\n",
       "      <td>Book</td>\n",
       "      <td>the human equation</td>\n",
       "      <td>The human equation</td>\n",
       "      <td>NaN</td>\n",
       "      <td>1998</td>\n",
       "      <td>1998-01-01</td>\n",
       "      <td>NaN</td>\n",
       "      <td>...</td>\n",
       "      <td>NaN</td>\n",
       "      <td>NaN</td>\n",
       "      <td>NaN</td>\n",
       "      <td>NaN</td>\n",
       "      <td>NaN</td>\n",
       "      <td>NaN</td>\n",
       "      <td>0</td>\n",
       "      <td>541</td>\n",
       "      <td>857</td>\n",
       "      <td>NaN</td>\n",
       "    </tr>\n",
       "    <tr>\n",
       "      <th>121526</th>\n",
       "      <td>3108124974</td>\n",
       "      <td>19215</td>\n",
       "      <td>NaN</td>\n",
       "      <td>Patent</td>\n",
       "      <td>growth hormone secretagogues</td>\n",
       "      <td>Growth hormone secretagogues</td>\n",
       "      <td>NaN</td>\n",
       "      <td>1996</td>\n",
       "      <td>1996-12-04</td>\n",
       "      <td>NaN</td>\n",
       "      <td>...</td>\n",
       "      <td>NaN</td>\n",
       "      <td>NaN</td>\n",
       "      <td>2.0</td>\n",
       "      <td>12.0</td>\n",
       "      <td>1302</td>\n",
       "      <td>1312</td>\n",
       "      <td>28</td>\n",
       "      <td>238</td>\n",
       "      <td>370</td>\n",
       "      <td>IDrugs : the investigational drugs journal</td>\n",
       "    </tr>\n",
       "    <tr>\n",
       "      <th>121527</th>\n",
       "      <td>3122705141</td>\n",
       "      <td>16122</td>\n",
       "      <td>10.1162/003355399555954</td>\n",
       "      <td>Journal</td>\n",
       "      <td>why do some countries produce so much more out...</td>\n",
       "      <td>Why do Some Countries Produce So Much More Out...</td>\n",
       "      <td>NaN</td>\n",
       "      <td>1999</td>\n",
       "      <td>1999-02-01</td>\n",
       "      <td>1999-06-01</td>\n",
       "      <td>...</td>\n",
       "      <td>NaN</td>\n",
       "      <td>NaN</td>\n",
       "      <td>114.0</td>\n",
       "      <td>1.0</td>\n",
       "      <td>83</td>\n",
       "      <td>116</td>\n",
       "      <td>47</td>\n",
       "      <td>6189</td>\n",
       "      <td>10477</td>\n",
       "      <td>Quarterly Journal of Economics</td>\n",
       "    </tr>\n",
       "  </tbody>\n",
       "</table>\n",
       "<p>41785 rows × 22 columns</p>\n",
       "</div>"
      ],
      "text/plain": [
       "           PaperId   Rank                          Doi  DocType  \\\n",
       "15      1883546710  19465                          NaN   Patent   \n",
       "36      2170586390  22233    10.1017/S0305000900004736  Journal   \n",
       "45      2312202389  23439          10.1021/JA01507A023  Journal   \n",
       "85      1579354139  20970                          NaN  Journal   \n",
       "141     2000303521  19333       10.1093/EMBOJ/18.3.623  Journal   \n",
       "...            ...    ...                          ...      ...   \n",
       "121511  2904321847  18026  10.1183/13993003.01897-2018  Journal   \n",
       "121518  2950491028  20327          10.1021/JM00106A038  Journal   \n",
       "121523  3021802473  18475                          NaN     Book   \n",
       "121526  3108124974  19215                          NaN   Patent   \n",
       "121527  3122705141  16122      10.1162/003355399555954  Journal   \n",
       "\n",
       "                                               PaperTitle  \\\n",
       "15      sensor suite and communication system for carg...   \n",
       "36      words and plans early language and the develop...   \n",
       "45      the effect of geminal substitution ring size a...   \n",
       "85                      homozygote for huntington disease   \n",
       "141     different functions for the thyroid hormone re...   \n",
       "...                                                   ...   \n",
       "121511   pulmonary hypertension due to left heart disease   \n",
       "121518  fadrozole hydrochloride a potent selective non...   \n",
       "121523                                 the human equation   \n",
       "121526                       growth hormone secretagogues   \n",
       "121527  why do some countries produce so much more out...   \n",
       "\n",
       "                                            OriginalTitle BookTitle  Year  \\\n",
       "15      Sensor suite and communication system for carg...       NaN  2003   \n",
       "36      Words and plans: early language and the develo...       NaN  1982   \n",
       "45      The Effect of Geminal Substitution Ring Size a...       NaN  1960   \n",
       "85                     Homozygote for Huntington disease.       NaN  1989   \n",
       "141     Different functions for the thyroid hormone re...       NaN  1999   \n",
       "...                                                   ...       ...   ...   \n",
       "121511  Pulmonary hypertension due to left heart disease.       NaN  2019   \n",
       "121518  Fadrozole hydrochloride: a potent, selective, ...       NaN  1991   \n",
       "121523                                 The human equation       NaN  1998   \n",
       "121526                       Growth hormone secretagogues       NaN  1996   \n",
       "121527  Why do Some Countries Produce So Much More Out...       NaN  1999   \n",
       "\n",
       "                       Date           OnlineDate  ... ConferenceSeriedId  \\\n",
       "15      2003-05-19 00:00:00                  NaN  ...                NaN   \n",
       "36      1982-06-01 00:00:00  2008-09-26 00:00:00  ...                NaN   \n",
       "45      1960-11-01 00:00:00                  NaN  ...                NaN   \n",
       "85      1989-10-01 00:00:00                  NaN  ...                NaN   \n",
       "141     1999-02-01 00:00:00  1999-02-01 00:00:00  ...                NaN   \n",
       "...                     ...                  ...  ...                ...   \n",
       "121511           2019-01-01           2019-01-24  ...                NaN   \n",
       "121518           1991-02-01                  NaN  ...                NaN   \n",
       "121523           1998-01-01                  NaN  ...                NaN   \n",
       "121526           1996-12-04                  NaN  ...                NaN   \n",
       "121527           1999-02-01           1999-06-01  ...                NaN   \n",
       "\n",
       "        ConferenceInstanceId  Volume  Issue  FirstPage  LastPage  \\\n",
       "15                       NaN     NaN    NaN        NaN       NaN   \n",
       "36                       NaN     9.0    2.0        303       318   \n",
       "45                       NaN    82.0   22.0       5858      5865   \n",
       "85                       NaN    45.0    4.0        615       618   \n",
       "141                      NaN    18.0    3.0        623       631   \n",
       "...                      ...     ...    ...        ...       ...   \n",
       "121511                   NaN    53.0    1.0    1801897       NaN   \n",
       "121518                   NaN    34.0    2.0        725       736   \n",
       "121523                   NaN     NaN    NaN        NaN       NaN   \n",
       "121526                   NaN     2.0   12.0       1302      1312   \n",
       "121527                   NaN   114.0    1.0         83       116   \n",
       "\n",
       "       ReferenceCount CitationCount  EstimatedCitation  \\\n",
       "15                 10           111                172   \n",
       "36                 13           108                169   \n",
       "45                  0           176                268   \n",
       "85                 10           105                159   \n",
       "141                34           350                420   \n",
       "...               ...           ...                ...   \n",
       "121511             85           131                162   \n",
       "121518              0           161                241   \n",
       "121523              0           541                857   \n",
       "121526             28           238                370   \n",
       "121527             47          6189              10477   \n",
       "\n",
       "                                     OriginalVenue  \n",
       "15                                             NaN  \n",
       "36                       Journal of Child Language  \n",
       "45        Journal of the American Chemical Society  \n",
       "85              American Journal of Human Genetics  \n",
       "141                               The EMBO Journal  \n",
       "...                                            ...  \n",
       "121511                European Respiratory Journal  \n",
       "121518              Journal of Medicinal Chemistry  \n",
       "121523                                         NaN  \n",
       "121526  IDrugs : the investigational drugs journal  \n",
       "121527              Quarterly Journal of Economics  \n",
       "\n",
       "[41785 rows x 22 columns]"
      ]
     },
     "execution_count": 18,
     "metadata": {},
     "output_type": "execute_result"
    }
   ],
   "source": [
    "Papers[Papers['CitationCount'] >= 100]"
   ]
  },
  {
   "cell_type": "markdown",
   "id": "18e55a4f",
   "metadata": {},
   "source": [
    "Most of the data we use might be dirty, in a sense that it includes a lot of NaN values. With Pandas we can either remove rows with NaNs or fill NaN with another value"
   ]
  },
  {
   "cell_type": "markdown",
   "id": "f57d1885",
   "metadata": {},
   "source": [
    "## Removing NaN"
   ]
  },
  {
   "cell_type": "code",
   "execution_count": 19,
   "id": "11d744e0",
   "metadata": {
    "scrolled": true
   },
   "outputs": [
    {
     "data": {
      "text/html": [
       "<div>\n",
       "<style scoped>\n",
       "    .dataframe tbody tr th:only-of-type {\n",
       "        vertical-align: middle;\n",
       "    }\n",
       "\n",
       "    .dataframe tbody tr th {\n",
       "        vertical-align: top;\n",
       "    }\n",
       "\n",
       "    .dataframe thead th {\n",
       "        text-align: right;\n",
       "    }\n",
       "</style>\n",
       "<table border=\"1\" class=\"dataframe\">\n",
       "  <thead>\n",
       "    <tr style=\"text-align: right;\">\n",
       "      <th></th>\n",
       "      <th>DocType</th>\n",
       "      <th>PaperTitle</th>\n",
       "      <th>CitationCount</th>\n",
       "    </tr>\n",
       "  </thead>\n",
       "  <tbody>\n",
       "    <tr>\n",
       "      <th>1</th>\n",
       "      <td>Journal</td>\n",
       "      <td>reading minds how infants come to understand o...</td>\n",
       "      <td>6</td>\n",
       "    </tr>\n",
       "    <tr>\n",
       "      <th>2</th>\n",
       "      <td>Patent</td>\n",
       "      <td>weight measuring device for cooking appliance</td>\n",
       "      <td>6</td>\n",
       "    </tr>\n",
       "    <tr>\n",
       "      <th>3</th>\n",
       "      <td>Journal</td>\n",
       "      <td>effect of oxygen segregation on the surface st...</td>\n",
       "      <td>25</td>\n",
       "    </tr>\n",
       "    <tr>\n",
       "      <th>5</th>\n",
       "      <td>BookChapter</td>\n",
       "      <td>fertility transition latin america and the car...</td>\n",
       "      <td>0</td>\n",
       "    </tr>\n",
       "    <tr>\n",
       "      <th>6</th>\n",
       "      <td>Patent</td>\n",
       "      <td>integrated camera and associated methods</td>\n",
       "      <td>12</td>\n",
       "    </tr>\n",
       "    <tr>\n",
       "      <th>...</th>\n",
       "      <td>...</td>\n",
       "      <td>...</td>\n",
       "      <td>...</td>\n",
       "    </tr>\n",
       "    <tr>\n",
       "      <th>121522</th>\n",
       "      <td>Journal</td>\n",
       "      <td>the long non coding rna lncrna973 is involved ...</td>\n",
       "      <td>11</td>\n",
       "    </tr>\n",
       "    <tr>\n",
       "      <th>121523</th>\n",
       "      <td>Book</td>\n",
       "      <td>the human equation</td>\n",
       "      <td>541</td>\n",
       "    </tr>\n",
       "    <tr>\n",
       "      <th>121525</th>\n",
       "      <td>Repository</td>\n",
       "      <td>raman spectra and magnetization of all ferroma...</td>\n",
       "      <td>9</td>\n",
       "    </tr>\n",
       "    <tr>\n",
       "      <th>121526</th>\n",
       "      <td>Patent</td>\n",
       "      <td>growth hormone secretagogues</td>\n",
       "      <td>238</td>\n",
       "    </tr>\n",
       "    <tr>\n",
       "      <th>121527</th>\n",
       "      <td>Journal</td>\n",
       "      <td>why do some countries produce so much more out...</td>\n",
       "      <td>6189</td>\n",
       "    </tr>\n",
       "  </tbody>\n",
       "</table>\n",
       "<p>113546 rows × 3 columns</p>\n",
       "</div>"
      ],
      "text/plain": [
       "            DocType                                         PaperTitle  \\\n",
       "1           Journal  reading minds how infants come to understand o...   \n",
       "2            Patent      weight measuring device for cooking appliance   \n",
       "3           Journal  effect of oxygen segregation on the surface st...   \n",
       "5       BookChapter  fertility transition latin america and the car...   \n",
       "6            Patent           integrated camera and associated methods   \n",
       "...             ...                                                ...   \n",
       "121522      Journal  the long non coding rna lncrna973 is involved ...   \n",
       "121523         Book                                 the human equation   \n",
       "121525   Repository  raman spectra and magnetization of all ferroma...   \n",
       "121526       Patent                       growth hormone secretagogues   \n",
       "121527      Journal  why do some countries produce so much more out...   \n",
       "\n",
       "        CitationCount  \n",
       "1                   6  \n",
       "2                   6  \n",
       "3                  25  \n",
       "5                   0  \n",
       "6                  12  \n",
       "...               ...  \n",
       "121522             11  \n",
       "121523            541  \n",
       "121525              9  \n",
       "121526            238  \n",
       "121527           6189  \n",
       "\n",
       "[113546 rows x 3 columns]"
      ]
     },
     "execution_count": 19,
     "metadata": {},
     "output_type": "execute_result"
    }
   ],
   "source": [
    "Papers[['DocType', 'PaperTitle', 'CitationCount']].dropna()"
   ]
  },
  {
   "cell_type": "markdown",
   "id": "c258946a",
   "metadata": {},
   "source": [
    "Some time by removing rows with NaN, we might loss a lot of information. In the following example, we lost data because a lot of publication in the dataset is missing document type. Removing all the rows with NaN might bring undesired results. "
   ]
  },
  {
   "cell_type": "code",
   "execution_count": 20,
   "id": "a99ba28f",
   "metadata": {},
   "outputs": [
    {
     "data": {
      "text/plain": [
       "(121528, 113546)"
      ]
     },
     "execution_count": 20,
     "metadata": {},
     "output_type": "execute_result"
    }
   ],
   "source": [
    "len(Papers[['DocType', 'PaperTitle', 'CitationCount']]), len(Papers[['DocType', 'PaperTitle', 'CitationCount']].dropna())"
   ]
  },
  {
   "cell_type": "markdown",
   "id": "668474ca",
   "metadata": {},
   "source": [
    "Instead of removing NaN, we can also fill those fields with other values:"
   ]
  },
  {
   "cell_type": "code",
   "execution_count": 21,
   "id": "9b31a9b5",
   "metadata": {},
   "outputs": [
    {
     "data": {
      "text/plain": [
       "0            unknown\n",
       "1            Journal\n",
       "2             Patent\n",
       "3            Journal\n",
       "4            unknown\n",
       "             ...    \n",
       "121523          Book\n",
       "121524       unknown\n",
       "121525    Repository\n",
       "121526        Patent\n",
       "121527       Journal\n",
       "Name: DocType, Length: 121528, dtype: object"
      ]
     },
     "execution_count": 21,
     "metadata": {},
     "output_type": "execute_result"
    }
   ],
   "source": [
    "Papers['DocType'].fillna('unknown')"
   ]
  },
  {
   "cell_type": "markdown",
   "id": "b86d334b",
   "metadata": {},
   "source": [
    "With Pandas, we can perform simple descriptive statistic:"
   ]
  },
  {
   "cell_type": "code",
   "execution_count": 22,
   "id": "9b1159b9",
   "metadata": {},
   "outputs": [
    {
     "data": {
      "text/plain": [
       "(327.8605095122112, 2082.035447131417)"
      ]
     },
     "execution_count": 22,
     "metadata": {},
     "output_type": "execute_result"
    }
   ],
   "source": [
    "Papers.CitationCount.mean(), Papers.CitationCount.std()"
   ]
  },
  {
   "cell_type": "markdown",
   "id": "4c26a431",
   "metadata": {},
   "source": [
    "Counting the frequency of different categories in a dataframe:"
   ]
  },
  {
   "cell_type": "code",
   "execution_count": 23,
   "id": "998c846c",
   "metadata": {},
   "outputs": [
    {
     "data": {
      "text/plain": [
       "Journal        94498\n",
       "Patent         11238\n",
       "unknown         7982\n",
       "Book            3883\n",
       "Conference      2409\n",
       "Repository       842\n",
       "BookChapter      419\n",
       "Thesis           254\n",
       "Dataset            3\n",
       "Name: DocType, dtype: int64"
      ]
     },
     "execution_count": 23,
     "metadata": {},
     "output_type": "execute_result"
    }
   ],
   "source": [
    "Papers.DocType.fillna('unknown').value_counts()"
   ]
  },
  {
   "cell_type": "markdown",
   "id": "7d3b620a",
   "metadata": {},
   "source": [
    "## Data Preprocessing"
   ]
  },
  {
   "cell_type": "markdown",
   "id": "a301ac99",
   "metadata": {},
   "source": [
    "Sometimes we want to apply an operation on a column, we can simply call\n",
    "```python\n",
    ".apply(func)\n",
    "```\n",
    "with ```func``` being the operation in the form of Python function"
   ]
  },
  {
   "cell_type": "code",
   "execution_count": 24,
   "id": "fe4dee9e",
   "metadata": {},
   "outputs": [
    {
     "data": {
      "text/plain": [
       "0         False\n",
       "1         False\n",
       "2         False\n",
       "3         False\n",
       "4          True\n",
       "          ...  \n",
       "121523    False\n",
       "121524    False\n",
       "121525     True\n",
       "121526    False\n",
       "121527    False\n",
       "Name: Year, Length: 121528, dtype: bool"
      ]
     },
     "execution_count": 24,
     "metadata": {},
     "output_type": "execute_result"
    }
   ],
   "source": [
    "def published_recently(s):\n",
    "    if (2021 - s) <= 10:\n",
    "        return(True)\n",
    "    else:\n",
    "        return(False)\n",
    "\n",
    "Papers.Year.apply(published_recently)"
   ]
  },
  {
   "cell_type": "markdown",
   "id": "9031f249",
   "metadata": {},
   "source": [
    "There are many ways we can link two different dataframe. One way is to use ```pd.concat([])```"
   ]
  },
  {
   "cell_type": "code",
   "execution_count": 25,
   "id": "d1894832",
   "metadata": {},
   "outputs": [
    {
     "data": {
      "text/html": [
       "<div>\n",
       "<style scoped>\n",
       "    .dataframe tbody tr th:only-of-type {\n",
       "        vertical-align: middle;\n",
       "    }\n",
       "\n",
       "    .dataframe tbody tr th {\n",
       "        vertical-align: top;\n",
       "    }\n",
       "\n",
       "    .dataframe thead th {\n",
       "        text-align: right;\n",
       "    }\n",
       "</style>\n",
       "<table border=\"1\" class=\"dataframe\">\n",
       "  <thead>\n",
       "    <tr style=\"text-align: right;\">\n",
       "      <th></th>\n",
       "      <th>Year</th>\n",
       "      <th>Year</th>\n",
       "    </tr>\n",
       "  </thead>\n",
       "  <tbody>\n",
       "    <tr>\n",
       "      <th>0</th>\n",
       "      <td>2009</td>\n",
       "      <td>False</td>\n",
       "    </tr>\n",
       "    <tr>\n",
       "      <th>1</th>\n",
       "      <td>2009</td>\n",
       "      <td>False</td>\n",
       "    </tr>\n",
       "    <tr>\n",
       "      <th>2</th>\n",
       "      <td>1996</td>\n",
       "      <td>False</td>\n",
       "    </tr>\n",
       "    <tr>\n",
       "      <th>3</th>\n",
       "      <td>1992</td>\n",
       "      <td>False</td>\n",
       "    </tr>\n",
       "    <tr>\n",
       "      <th>4</th>\n",
       "      <td>2012</td>\n",
       "      <td>True</td>\n",
       "    </tr>\n",
       "    <tr>\n",
       "      <th>...</th>\n",
       "      <td>...</td>\n",
       "      <td>...</td>\n",
       "    </tr>\n",
       "    <tr>\n",
       "      <th>121523</th>\n",
       "      <td>1998</td>\n",
       "      <td>False</td>\n",
       "    </tr>\n",
       "    <tr>\n",
       "      <th>121524</th>\n",
       "      <td>2006</td>\n",
       "      <td>False</td>\n",
       "    </tr>\n",
       "    <tr>\n",
       "      <th>121525</th>\n",
       "      <td>2014</td>\n",
       "      <td>True</td>\n",
       "    </tr>\n",
       "    <tr>\n",
       "      <th>121526</th>\n",
       "      <td>1996</td>\n",
       "      <td>False</td>\n",
       "    </tr>\n",
       "    <tr>\n",
       "      <th>121527</th>\n",
       "      <td>1999</td>\n",
       "      <td>False</td>\n",
       "    </tr>\n",
       "  </tbody>\n",
       "</table>\n",
       "<p>121528 rows × 2 columns</p>\n",
       "</div>"
      ],
      "text/plain": [
       "        Year   Year\n",
       "0       2009  False\n",
       "1       2009  False\n",
       "2       1996  False\n",
       "3       1992  False\n",
       "4       2012   True\n",
       "...      ...    ...\n",
       "121523  1998  False\n",
       "121524  2006  False\n",
       "121525  2014   True\n",
       "121526  1996  False\n",
       "121527  1999  False\n",
       "\n",
       "[121528 rows x 2 columns]"
      ]
     },
     "execution_count": 25,
     "metadata": {},
     "output_type": "execute_result"
    }
   ],
   "source": [
    "pd.concat([Papers.Year, Papers.Year.apply(published_recently)], axis = 1)"
   ]
  },
  {
   "cell_type": "markdown",
   "id": "a5b6d03c",
   "metadata": {},
   "source": [
    "If we want to combine two dataframe with matching column values, we can use ```merge()```"
   ]
  },
  {
   "cell_type": "markdown",
   "id": "cac3cf46",
   "metadata": {},
   "source": [
    "Let's import another table:"
   ]
  },
  {
   "cell_type": "code",
   "execution_count": 26,
   "id": "546d60a3",
   "metadata": {},
   "outputs": [],
   "source": [
    "PaperCitationContext = pd.read_csv('~/datasets/s4/MAG/PaperCitationContexts.csv')"
   ]
  },
  {
   "cell_type": "markdown",
   "id": "1b4f9425",
   "metadata": {},
   "source": [
    "Merge two dataframe matching PaperId to see what each paper is citing and the citaiton context"
   ]
  },
  {
   "cell_type": "code",
   "execution_count": 27,
   "id": "92f035b4",
   "metadata": {},
   "outputs": [
    {
     "data": {
      "text/html": [
       "<div>\n",
       "<style scoped>\n",
       "    .dataframe tbody tr th:only-of-type {\n",
       "        vertical-align: middle;\n",
       "    }\n",
       "\n",
       "    .dataframe tbody tr th {\n",
       "        vertical-align: top;\n",
       "    }\n",
       "\n",
       "    .dataframe thead th {\n",
       "        text-align: right;\n",
       "    }\n",
       "</style>\n",
       "<table border=\"1\" class=\"dataframe\">\n",
       "  <thead>\n",
       "    <tr style=\"text-align: right;\">\n",
       "      <th></th>\n",
       "      <th>PaperTitle</th>\n",
       "      <th>CitationContext</th>\n",
       "    </tr>\n",
       "  </thead>\n",
       "  <tbody>\n",
       "    <tr>\n",
       "      <th>0</th>\n",
       "      <td>characteristics of graphene for quantized hall...</td>\n",
       "      <td>Recently, we have observed QHR plateaus in lar...</td>\n",
       "    </tr>\n",
       "    <tr>\n",
       "      <th>1</th>\n",
       "      <td>characteristics of graphene for quantized hall...</td>\n",
       "      <td>This energy gap stabilizes the transverse resi...</td>\n",
       "    </tr>\n",
       "    <tr>\n",
       "      <th>2</th>\n",
       "      <td>characteristics of graphene for quantized hall...</td>\n",
       "      <td>A collaboration of University laboratories in ...</td>\n",
       "    </tr>\n",
       "    <tr>\n",
       "      <th>3</th>\n",
       "      <td>characteristics of graphene for quantized hall...</td>\n",
       "      <td>Furthermore, graphene could support the produc...</td>\n",
       "    </tr>\n",
       "    <tr>\n",
       "      <th>4</th>\n",
       "      <td>characteristics of graphene for quantized hall...</td>\n",
       "      <td>multiple symmetries in the quantum state of mo...</td>\n",
       "    </tr>\n",
       "    <tr>\n",
       "      <th>...</th>\n",
       "      <td>...</td>\n",
       "      <td>...</td>\n",
       "    </tr>\n",
       "    <tr>\n",
       "      <th>20980</th>\n",
       "      <td>the early emergence and puzzling decline of re...</td>\n",
       "      <td>But when and how can children learn abstract p...</td>\n",
       "    </tr>\n",
       "    <tr>\n",
       "      <th>20981</th>\n",
       "      <td>the early emergence and puzzling decline of re...</td>\n",
       "      <td>However, theoretical advances drawing on Bayes...</td>\n",
       "    </tr>\n",
       "    <tr>\n",
       "      <th>20982</th>\n",
       "      <td>the early emergence and puzzling decline of re...</td>\n",
       "      <td>The earlier literature invoked a “relational s...</td>\n",
       "    </tr>\n",
       "    <tr>\n",
       "      <th>20983</th>\n",
       "      <td>the early emergence and puzzling decline of re...</td>\n",
       "      <td>These findings are also relevant to the broade...</td>\n",
       "    </tr>\n",
       "    <tr>\n",
       "      <th>20984</th>\n",
       "      <td>the early emergence and puzzling decline of re...</td>\n",
       "      <td>First, these results indicate that relational ...</td>\n",
       "    </tr>\n",
       "  </tbody>\n",
       "</table>\n",
       "<p>20985 rows × 2 columns</p>\n",
       "</div>"
      ],
      "text/plain": [
       "                                              PaperTitle  \\\n",
       "0      characteristics of graphene for quantized hall...   \n",
       "1      characteristics of graphene for quantized hall...   \n",
       "2      characteristics of graphene for quantized hall...   \n",
       "3      characteristics of graphene for quantized hall...   \n",
       "4      characteristics of graphene for quantized hall...   \n",
       "...                                                  ...   \n",
       "20980  the early emergence and puzzling decline of re...   \n",
       "20981  the early emergence and puzzling decline of re...   \n",
       "20982  the early emergence and puzzling decline of re...   \n",
       "20983  the early emergence and puzzling decline of re...   \n",
       "20984  the early emergence and puzzling decline of re...   \n",
       "\n",
       "                                         CitationContext  \n",
       "0      Recently, we have observed QHR plateaus in lar...  \n",
       "1      This energy gap stabilizes the transverse resi...  \n",
       "2      A collaboration of University laboratories in ...  \n",
       "3      Furthermore, graphene could support the produc...  \n",
       "4      multiple symmetries in the quantum state of mo...  \n",
       "...                                                  ...  \n",
       "20980  But when and how can children learn abstract p...  \n",
       "20981  However, theoretical advances drawing on Bayes...  \n",
       "20982  The earlier literature invoked a “relational s...  \n",
       "20983  These findings are also relevant to the broade...  \n",
       "20984  First, these results indicate that relational ...  \n",
       "\n",
       "[20985 rows x 2 columns]"
      ]
     },
     "execution_count": 27,
     "metadata": {},
     "output_type": "execute_result"
    }
   ],
   "source": [
    "Papers.\\\n",
    "    merge(PaperCitationContext, how = 'inner', on = 'PaperId')[['PaperTitle', 'CitationContext']]"
   ]
  },
  {
   "cell_type": "markdown",
   "id": "bf41901d",
   "metadata": {},
   "source": [
    "We might want to look at simple descriptive statistic or apply complicated operation on data broken into different groups, we can use\n",
    "```python\n",
    ".groupby()\n",
    "```\n",
    "to do that. In the following case, we will calculate the average citation count for different document type:"
   ]
  },
  {
   "cell_type": "code",
   "execution_count": 28,
   "id": "5aafb8fb",
   "metadata": {},
   "outputs": [
    {
     "data": {
      "text/plain": [
       "DocType\n",
       "Book           1465.976822\n",
       "BookChapter     165.656325\n",
       "Conference      413.393524\n",
       "Dataset          42.000000\n",
       "Journal         327.535101\n",
       "Patent           50.553835\n",
       "Repository      229.358670\n",
       "Thesis           20.661417\n",
       "Name: CitationCount, dtype: float64"
      ]
     },
     "execution_count": 28,
     "metadata": {},
     "output_type": "execute_result"
    }
   ],
   "source": [
    "Papers.groupby('DocType')['CitationCount'].mean()"
   ]
  },
  {
   "cell_type": "markdown",
   "id": "b192f6f3",
   "metadata": {},
   "source": [
    "In the following case, we are counting the number of documents of different document types"
   ]
  },
  {
   "cell_type": "code",
   "execution_count": 29,
   "id": "79743b04",
   "metadata": {},
   "outputs": [
    {
     "data": {
      "text/plain": [
       "DocType\n",
       "Book            3883\n",
       "BookChapter      419\n",
       "Conference      2409\n",
       "Dataset            3\n",
       "Journal        94498\n",
       "Patent         11238\n",
       "Repository       842\n",
       "Thesis           254\n",
       "Name: PaperId, dtype: int64"
      ]
     },
     "execution_count": 29,
     "metadata": {},
     "output_type": "execute_result"
    }
   ],
   "source": [
    "Papers.groupby('DocType')['PaperId'].count()"
   ]
  },
  {
   "cell_type": "markdown",
   "id": "8ccc19d3",
   "metadata": {},
   "source": [
    "# Visualization with Matplotlib\n",
    "\n",
    "(code example from jakevdp/PythonDataScienceHandbook)"
   ]
  },
  {
   "cell_type": "markdown",
   "id": "73b519d6",
   "metadata": {},
   "source": []
  },
  {
   "cell_type": "markdown",
   "id": "0d5e2c08",
   "metadata": {},
   "source": [
    "### Importing Matplotlib\n",
    "\n",
    "Like the package NumPy and Pandas, we will also use `as` to shorten the package name for `Matplotlib`:"
   ]
  },
  {
   "cell_type": "code",
   "execution_count": 30,
   "id": "9bcd7d7d",
   "metadata": {},
   "outputs": [],
   "source": [
    "import matplotlib.pyplot as plt"
   ]
  },
  {
   "cell_type": "markdown",
   "id": "d3a40267",
   "metadata": {},
   "source": [
    "### Setting Styles\n",
    "\n",
    "There are many [plot styles](https://matplotlib.org/stable/gallery/style_sheets/style_sheets_reference.html) matplotlib provides. In this notebook we will be using the `classic` style."
   ]
  },
  {
   "cell_type": "code",
   "execution_count": 31,
   "id": "e3bbc762",
   "metadata": {},
   "outputs": [],
   "source": [
    "plt.style.use('classic')"
   ]
  },
  {
   "cell_type": "markdown",
   "id": "4eca5b80",
   "metadata": {},
   "source": [
    "#### Plotting from an IPython notebook\n",
    "\n",
    "- ``%matplotlib notebook``  *interactive* plots embedded within the notebook\n",
    "- ``%matplotlib inline``  *static* images of your plot embedded in the notebook\n",
    "\n",
    "\n"
   ]
  },
  {
   "cell_type": "code",
   "execution_count": 32,
   "id": "ad2e0d78",
   "metadata": {},
   "outputs": [],
   "source": [
    "%matplotlib inline"
   ]
  },
  {
   "cell_type": "markdown",
   "id": "d8498c3a",
   "metadata": {},
   "source": [
    "Lets plot cosine and sine"
   ]
  },
  {
   "cell_type": "code",
   "execution_count": 33,
   "id": "a63dd20c",
   "metadata": {},
   "outputs": [
    {
     "data": {
      "image/png": "[encoded data removed]",
      "text/plain": [
       "<Figure size 432x288 with 1 Axes>"
      ]
     },
     "metadata": {
      "needs_background": "light"
     },
     "output_type": "display_data"
    }
   ],
   "source": [
    "import numpy as np\n",
    "x = np.linspace(0, 10, 100)\n",
    "\n",
    "fig = plt.figure()\n",
    "plt.plot(x, np.sin(x), '-')\n",
    "plt.plot(x, np.cos(x), '--');"
   ]
  },
  {
   "cell_type": "markdown",
   "id": "7717a444",
   "metadata": {},
   "source": [
    "We used [`np.linespace`](https://numpy.org/doc/stable/reference/generated/numpy.linspace.html), to create our data `x`. In short \n",
    "> np.linespace(starting number, end number, number of data points)"
   ]
  },
  {
   "cell_type": "markdown",
   "id": "4671cec4",
   "metadata": {},
   "source": [
    "## Two Plots in One Image"
   ]
  },
  {
   "cell_type": "markdown",
   "id": "aa8531db",
   "metadata": {},
   "source": [
    "Brief idea of subplot"
   ]
  },
  {
   "cell_type": "code",
   "execution_count": 34,
   "id": "c1b1b916",
   "metadata": {},
   "outputs": [
    {
     "data": {
      "image/png": "[encoded data removed]",
      "text/plain": [
       "<Figure size 432x288 with 2 Axes>"
      ]
     },
     "metadata": {
      "needs_background": "light"
     },
     "output_type": "display_data"
    }
   ],
   "source": [
    "plt.figure()  # create a plot figure\n",
    "\n",
    "# create the first of two panels and set current axis\n",
    "plt.subplot(2, 1, 1) # (rows, columns, panel number)\n",
    "plt.plot(x, np.sin(x))\n",
    "\n",
    "# create the second panel and set current axis\n",
    "plt.subplot(2, 1, 2)\n",
    "plt.plot(x, np.cos(x));"
   ]
  },
  {
   "cell_type": "markdown",
   "id": "e2788c38",
   "metadata": {},
   "source": [
    "#### Object-oriented interface\n",
    "\n",
    "in the object-oriented interface the plotting functions are *methods* of explicit ``Figure`` and ``Axes`` objects"
   ]
  },
  {
   "cell_type": "code",
   "execution_count": 35,
   "id": "256434c7",
   "metadata": {},
   "outputs": [
    {
     "data": {
      "image/png": "[encoded data removed]",
      "text/plain": [
       "<Figure size 432x288 with 2 Axes>"
      ]
     },
     "metadata": {
      "needs_background": "light"
     },
     "output_type": "display_data"
    }
   ],
   "source": [
    "# First create a grid of plots\n",
    "# ax will be an array of two Axes objects\n",
    "fig, ax = plt.subplots(2)\n",
    "\n",
    "# Call plot() method on the appropriate object\n",
    "ax[0].plot(x, np.sin(x))\n",
    "ax[1].plot(x, np.cos(x));"
   ]
  },
  {
   "cell_type": "markdown",
   "id": "9c61856f",
   "metadata": {},
   "source": [
    "## Simple Line Plots"
   ]
  },
  {
   "cell_type": "markdown",
   "id": "30f91397",
   "metadata": {},
   "source": [
    "line plot of a single function $y = f(x)$."
   ]
  },
  {
   "cell_type": "code",
   "execution_count": 36,
   "id": "69e6f5a9",
   "metadata": {},
   "outputs": [
    {
     "data": {
      "image/png": "[encoded data removed]",
      "text/plain": [
       "<Figure size 432x288 with 1 Axes>"
      ]
     },
     "metadata": {},
     "output_type": "display_data"
    }
   ],
   "source": [
    "%matplotlib inline\n",
    "import matplotlib.pyplot as plt\n",
    "plt.style.use('seaborn-whitegrid')\n",
    "import numpy as np\n",
    "fig = plt.figure()\n",
    "ax = plt.axes()\n",
    "\n",
    "x = np.linspace(0, 10, 1000)\n",
    "ax.plot(x, np.sin(x));"
   ]
  },
  {
   "cell_type": "markdown",
   "id": "d8bc8b42",
   "metadata": {},
   "source": [
    "create a single figure with multiple lines, we can call the ``plot`` function multiple times:"
   ]
  },
  {
   "cell_type": "code",
   "execution_count": 37,
   "id": "ef399fc1",
   "metadata": {},
   "outputs": [
    {
     "data": {
      "image/png": "[encoded data removed]",
      "text/plain": [
       "<Figure size 432x288 with 1 Axes>"
      ]
     },
     "metadata": {},
     "output_type": "display_data"
    }
   ],
   "source": [
    "plt.plot(x, np.sin(x))\n",
    "plt.plot(x, np.cos(x));"
   ]
  },
  {
   "cell_type": "markdown",
   "id": "1472f296",
   "metadata": {},
   "source": [
    "## Adjusting the Plot: Line Colors and Styles"
   ]
  },
  {
   "cell_type": "code",
   "execution_count": 38,
   "id": "4118a4e7",
   "metadata": {},
   "outputs": [
    {
     "data": {
      "image/png": "[encoded data removed]",
      "text/plain": [
       "<Figure size 432x288 with 1 Axes>"
      ]
     },
     "metadata": {},
     "output_type": "display_data"
    }
   ],
   "source": [
    "plt.plot(x, np.sin(x - 0), color='blue')        # specify color by name\n",
    "plt.plot(x, np.sin(x - 1), color='g')           # short color code (rgbcmyk)\n",
    "plt.plot(x, np.sin(x - 2), color='0.75')        # Grayscale between 0 and 1\n",
    "plt.plot(x, np.sin(x - 3), color='#FFDD44')     # Hex code (RRGGBB from 00 to FF)\n",
    "plt.plot(x, np.sin(x - 4), color=(1.0,0.2,0.3)) # RGB tuple, values 0 to 1\n",
    "plt.plot(x, np.sin(x - 5), color='chartreuse'); # all HTML color names supported"
   ]
  },
  {
   "cell_type": "code",
   "execution_count": 39,
   "id": "690b7f2a",
   "metadata": {},
   "outputs": [
    {
     "data": {
      "image/png": "[encoded data removed]",
      "text/plain": [
       "<Figure size 432x288 with 1 Axes>"
      ]
     },
     "metadata": {},
     "output_type": "display_data"
    }
   ],
   "source": [
    "plt.plot(x, x + 0, linestyle='solid')\n",
    "plt.plot(x, x + 1, linestyle='dashed')\n",
    "plt.plot(x, x + 2, linestyle='dashdot')\n",
    "plt.plot(x, x + 3, linestyle='dotted');\n",
    "\n",
    "# For short, you can use the following codes:\n",
    "plt.plot(x, x + 4, linestyle='-')  # solid\n",
    "plt.plot(x, x + 5, linestyle='--') # dashed\n",
    "plt.plot(x, x + 6, linestyle='-.') # dashdot\n",
    "plt.plot(x, x + 7, linestyle=':');  # dotted"
   ]
  },
  {
   "cell_type": "code",
   "execution_count": 40,
   "id": "d5d2b657",
   "metadata": {},
   "outputs": [
    {
     "data": {
      "image/png": "[encoded data removed]",
      "text/plain": [
       "<Figure size 432x288 with 1 Axes>"
      ]
     },
     "metadata": {},
     "output_type": "display_data"
    }
   ],
   "source": [
    "plt.plot(x, x + 0, '-g')  # solid green\n",
    "plt.plot(x, x + 1, '--c') # dashed cyan\n",
    "plt.plot(x, x + 2, '-.k') # dashdot black\n",
    "plt.plot(x, x + 3, ':r');  # dotted red"
   ]
  },
  {
   "cell_type": "markdown",
   "id": "e1a99be4",
   "metadata": {},
   "source": [
    "## Labeling Plots"
   ]
  },
  {
   "cell_type": "code",
   "execution_count": 41,
   "id": "51cb8840",
   "metadata": {},
   "outputs": [
    {
     "data": {
      "image/png": "[encoded data removed]",
      "text/plain": [
       "<Figure size 432x288 with 1 Axes>"
      ]
     },
     "metadata": {},
     "output_type": "display_data"
    }
   ],
   "source": [
    "plt.plot(x, np.sin(x))\n",
    "plt.title(\"A Sine Curve\")\n",
    "plt.xlabel(\"x\")\n",
    "plt.ylabel(\"sin(x)\");"
   ]
  },
  {
   "cell_type": "code",
   "execution_count": 42,
   "id": "ad5766df",
   "metadata": {},
   "outputs": [
    {
     "data": {
      "image/png": "[encoded data removed]",
      "text/plain": [
       "<Figure size 432x288 with 1 Axes>"
      ]
     },
     "metadata": {},
     "output_type": "display_data"
    }
   ],
   "source": [
    "plt.plot(x, np.sin(x), '-g', label='sin(x)')\n",
    "plt.plot(x, np.cos(x), ':b', label='cos(x)')\n",
    "plt.axis('equal')\n",
    "\n",
    "plt.legend();"
   ]
  },
  {
   "cell_type": "markdown",
   "id": "cde4c4d6",
   "metadata": {},
   "source": [
    "## Visualization with Seaborn"
   ]
  },
  {
   "cell_type": "markdown",
   "id": "4ca68006",
   "metadata": {},
   "source": [
    "#### Multi Line Plot with Legend"
   ]
  },
  {
   "cell_type": "code",
   "execution_count": 43,
   "id": "5c6b4f51",
   "metadata": {},
   "outputs": [],
   "source": [
    "import matplotlib.pyplot as plt\n",
    "plt.style.use('classic')\n",
    "%matplotlib inline\n",
    "import numpy as np\n",
    "import pandas as pd"
   ]
  },
  {
   "cell_type": "code",
   "execution_count": 44,
   "id": "a76ed9aa",
   "metadata": {},
   "outputs": [],
   "source": [
    "# Create some data\n",
    "rng = np.random.RandomState(0)\n",
    "x = np.linspace(0, 10, 500)\n",
    "y = np.cumsum(rng.randn(500, 6), 0) # create 6 array of number that adds up to 0"
   ]
  },
  {
   "cell_type": "code",
   "execution_count": 45,
   "id": "512bfdcd",
   "metadata": {
    "scrolled": true
   },
   "outputs": [
    {
     "data": {
      "image/png": "[encoded data removed]",
      "text/plain": [
       "<Figure size 432x288 with 1 Axes>"
      ]
     },
     "metadata": {
      "needs_background": "light"
     },
     "output_type": "display_data"
    }
   ],
   "source": [
    "# Plot the data with Matplotlib defaults\n",
    "plt.plot(x, y)\n",
    "plt.legend('ABCDEF', ncol=2, loc='upper left');"
   ]
  },
  {
   "cell_type": "code",
   "execution_count": 46,
   "id": "cc53f1b4",
   "metadata": {},
   "outputs": [
    {
     "data": {
      "image/png": "[encoded data removed]",
      "text/plain": [
       "<Figure size 432x288 with 1 Axes>"
      ]
     },
     "metadata": {},
     "output_type": "display_data"
    }
   ],
   "source": [
    "import seaborn as sns\n",
    "sns.set() # using sns theme\n",
    "# same plotting code as above!\n",
    "plt.plot(x, y)\n",
    "plt.legend('ABCDEF', ncol=2, loc='upper left');"
   ]
  },
  {
   "cell_type": "markdown",
   "id": "cfac25dc",
   "metadata": {},
   "source": []
  },
  {
   "cell_type": "markdown",
   "id": "7f8996aa",
   "metadata": {},
   "source": [
    "### Pair plots\n",
    " *pair plots*. A quick visulization on the relationship between each columns in iris datas."
   ]
  },
  {
   "cell_type": "code",
   "execution_count": 47,
   "id": "bdeb92ed",
   "metadata": {},
   "outputs": [
    {
     "data": {
      "text/html": [
       "<div>\n",
       "<style scoped>\n",
       "    .dataframe tbody tr th:only-of-type {\n",
       "        vertical-align: middle;\n",
       "    }\n",
       "\n",
       "    .dataframe tbody tr th {\n",
       "        vertical-align: top;\n",
       "    }\n",
       "\n",
       "    .dataframe thead th {\n",
       "        text-align: right;\n",
       "    }\n",
       "</style>\n",
       "<table border=\"1\" class=\"dataframe\">\n",
       "  <thead>\n",
       "    <tr style=\"text-align: right;\">\n",
       "      <th></th>\n",
       "      <th>sepal_length</th>\n",
       "      <th>sepal_width</th>\n",
       "      <th>petal_length</th>\n",
       "      <th>petal_width</th>\n",
       "      <th>species</th>\n",
       "    </tr>\n",
       "  </thead>\n",
       "  <tbody>\n",
       "    <tr>\n",
       "      <th>0</th>\n",
       "      <td>5.1</td>\n",
       "      <td>3.5</td>\n",
       "      <td>1.4</td>\n",
       "      <td>0.2</td>\n",
       "      <td>setosa</td>\n",
       "    </tr>\n",
       "    <tr>\n",
       "      <th>1</th>\n",
       "      <td>4.9</td>\n",
       "      <td>3.0</td>\n",
       "      <td>1.4</td>\n",
       "      <td>0.2</td>\n",
       "      <td>setosa</td>\n",
       "    </tr>\n",
       "    <tr>\n",
       "      <th>2</th>\n",
       "      <td>4.7</td>\n",
       "      <td>3.2</td>\n",
       "      <td>1.3</td>\n",
       "      <td>0.2</td>\n",
       "      <td>setosa</td>\n",
       "    </tr>\n",
       "    <tr>\n",
       "      <th>3</th>\n",
       "      <td>4.6</td>\n",
       "      <td>3.1</td>\n",
       "      <td>1.5</td>\n",
       "      <td>0.2</td>\n",
       "      <td>setosa</td>\n",
       "    </tr>\n",
       "    <tr>\n",
       "      <th>4</th>\n",
       "      <td>5.0</td>\n",
       "      <td>3.6</td>\n",
       "      <td>1.4</td>\n",
       "      <td>0.2</td>\n",
       "      <td>setosa</td>\n",
       "    </tr>\n",
       "  </tbody>\n",
       "</table>\n",
       "</div>"
      ],
      "text/plain": [
       "   sepal_length  sepal_width  petal_length  petal_width species\n",
       "0           5.1          3.5           1.4          0.2  setosa\n",
       "1           4.9          3.0           1.4          0.2  setosa\n",
       "2           4.7          3.2           1.3          0.2  setosa\n",
       "3           4.6          3.1           1.5          0.2  setosa\n",
       "4           5.0          3.6           1.4          0.2  setosa"
      ]
     },
     "execution_count": 47,
     "metadata": {},
     "output_type": "execute_result"
    }
   ],
   "source": [
    "iris = sns.load_dataset(\"iris\")\n",
    "iris.head()"
   ]
  },
  {
   "cell_type": "code",
   "execution_count": 48,
   "id": "e9b4445f",
   "metadata": {},
   "outputs": [
    {
     "data": {
      "image/png": "[encoded data removed]",
      "text/plain": [
       "<Figure size 806.85x720 with 20 Axes>"
      ]
     },
     "metadata": {},
     "output_type": "display_data"
    }
   ],
   "source": [
    "sns.pairplot(iris, hue='species', height=2.5);"
   ]
  },
  {
   "cell_type": "markdown",
   "id": "29c638b8",
   "metadata": {},
   "source": [
    "### Faceted histograms"
   ]
  },
  {
   "cell_type": "markdown",
   "id": "b89376c6",
   "metadata": {},
   "source": [
    "Create multiple plots with Facet. Below is a datasets of tips, we will analysis the percentage of tips custom give base on *sex* and *time*"
   ]
  },
  {
   "cell_type": "code",
   "execution_count": 49,
   "id": "1308da4b",
   "metadata": {
    "scrolled": true
   },
   "outputs": [
    {
     "data": {
      "text/html": [
       "<div>\n",
       "<style scoped>\n",
       "    .dataframe tbody tr th:only-of-type {\n",
       "        vertical-align: middle;\n",
       "    }\n",
       "\n",
       "    .dataframe tbody tr th {\n",
       "        vertical-align: top;\n",
       "    }\n",
       "\n",
       "    .dataframe thead th {\n",
       "        text-align: right;\n",
       "    }\n",
       "</style>\n",
       "<table border=\"1\" class=\"dataframe\">\n",
       "  <thead>\n",
       "    <tr style=\"text-align: right;\">\n",
       "      <th></th>\n",
       "      <th>total_bill</th>\n",
       "      <th>tip</th>\n",
       "      <th>sex</th>\n",
       "      <th>smoker</th>\n",
       "      <th>day</th>\n",
       "      <th>time</th>\n",
       "      <th>size</th>\n",
       "    </tr>\n",
       "  </thead>\n",
       "  <tbody>\n",
       "    <tr>\n",
       "      <th>0</th>\n",
       "      <td>16.99</td>\n",
       "      <td>1.01</td>\n",
       "      <td>Female</td>\n",
       "      <td>No</td>\n",
       "      <td>Sun</td>\n",
       "      <td>Dinner</td>\n",
       "      <td>2</td>\n",
       "    </tr>\n",
       "    <tr>\n",
       "      <th>1</th>\n",
       "      <td>10.34</td>\n",
       "      <td>1.66</td>\n",
       "      <td>Male</td>\n",
       "      <td>No</td>\n",
       "      <td>Sun</td>\n",
       "      <td>Dinner</td>\n",
       "      <td>3</td>\n",
       "    </tr>\n",
       "    <tr>\n",
       "      <th>2</th>\n",
       "      <td>21.01</td>\n",
       "      <td>3.50</td>\n",
       "      <td>Male</td>\n",
       "      <td>No</td>\n",
       "      <td>Sun</td>\n",
       "      <td>Dinner</td>\n",
       "      <td>3</td>\n",
       "    </tr>\n",
       "    <tr>\n",
       "      <th>3</th>\n",
       "      <td>23.68</td>\n",
       "      <td>3.31</td>\n",
       "      <td>Male</td>\n",
       "      <td>No</td>\n",
       "      <td>Sun</td>\n",
       "      <td>Dinner</td>\n",
       "      <td>2</td>\n",
       "    </tr>\n",
       "    <tr>\n",
       "      <th>4</th>\n",
       "      <td>24.59</td>\n",
       "      <td>3.61</td>\n",
       "      <td>Female</td>\n",
       "      <td>No</td>\n",
       "      <td>Sun</td>\n",
       "      <td>Dinner</td>\n",
       "      <td>4</td>\n",
       "    </tr>\n",
       "  </tbody>\n",
       "</table>\n",
       "</div>"
      ],
      "text/plain": [
       "   total_bill   tip     sex smoker  day    time  size\n",
       "0       16.99  1.01  Female     No  Sun  Dinner     2\n",
       "1       10.34  1.66    Male     No  Sun  Dinner     3\n",
       "2       21.01  3.50    Male     No  Sun  Dinner     3\n",
       "3       23.68  3.31    Male     No  Sun  Dinner     2\n",
       "4       24.59  3.61  Female     No  Sun  Dinner     4"
      ]
     },
     "execution_count": 49,
     "metadata": {},
     "output_type": "execute_result"
    }
   ],
   "source": [
    "tips = sns.load_dataset('tips')\n",
    "tips.head()"
   ]
  },
  {
   "cell_type": "code",
   "execution_count": 50,
   "id": "2feec1e7",
   "metadata": {},
   "outputs": [
    {
     "data": {
      "image/png": "[encoded data removed]",
      "text/plain": [
       "<Figure size 432x432 with 4 Axes>"
      ]
     },
     "metadata": {},
     "output_type": "display_data"
    }
   ],
   "source": [
    "tips['tip_pct'] = 100 * tips['tip'] / tips['total_bill']\n",
    "\n",
    "grid = sns.FacetGrid(tips, row=\"sex\", col=\"time\", margin_titles=True)\n",
    "grid.map(plt.hist, \"tip_pct\", bins=np.linspace(0, 40, 15));"
   ]
  },
  {
   "cell_type": "markdown",
   "id": "47214086",
   "metadata": {},
   "source": [
    "### Factor plots"
   ]
  },
  {
   "cell_type": "markdown",
   "id": "f5ae6d8e",
   "metadata": {},
   "source": [
    "Some quick boxplots"
   ]
  },
  {
   "cell_type": "code",
   "execution_count": 51,
   "id": "1ad57f7e",
   "metadata": {
    "scrolled": false
   },
   "outputs": [
    {
     "data": {
      "image/png": "[encoded data removed]",
      "text/plain": [
       "<Figure size 436.35x360 with 1 Axes>"
      ]
     },
     "metadata": {},
     "output_type": "display_data"
    }
   ],
   "source": [
    "with sns.axes_style(style='ticks'):\n",
    "    g = sns.catplot(x=\"day\", y=\"total_bill\", hue=\"sex\", data=tips, kind=\"box\")\n",
    "    g.set_axis_labels(\"Day\", \"Total Bill\");"
   ]
  },
  {
   "cell_type": "markdown",
   "id": "aacb0e2d",
   "metadata": {},
   "source": [
    "# Activity"
   ]
  },
  {
   "cell_type": "markdown",
   "id": "1baf4308",
   "metadata": {},
   "source": [
    "##### Can you create a line plot with matplotlib or seaborn showing trend of the number of papers between 2000 and 2010 in MAG papers dataset? \n",
    "![solution1](https://raw.githubusercontent.com/SciSciSummerSchool/s4_lectures/master/1_introduction/images/01_03_activity1.png)"
   ]
  },
  {
   "cell_type": "code",
   "execution_count": 168,
   "id": "7f087e60",
   "metadata": {},
   "outputs": [],
   "source": [
    "Papers = pd.read_csv(\"~/datasets/s4/MAG/Papers.csv\")\n",
    "\n",
    "# Display without scientific notation\n",
    "ax = plt.axes()\n",
    "ax.ticklabel_format(useOffset=False)\n",
    "\n",
    "# code here\n",
    "#\n",
    "#\n",
    "# "
   ]
  },
  {
   "cell_type": "markdown",
   "id": "92c491ff",
   "metadata": {},
   "source": [
    "### Advanced (optional)"
   ]
  },
  {
   "cell_type": "markdown",
   "id": "c00095e1",
   "metadata": {},
   "source": [
    "##### Using matplotlib or seaborn, can you show the trend of citation numbers between 1950 and 2015 for different types of documents?\n",
    "![solution2](https://raw.githubusercontent.com/SciSciSummerSchool/s4_lectures/master/1_introduction/images/01_03_activity2.png)"
   ]
  },
  {
   "cell_type": "code",
   "execution_count": null,
   "id": "c820a43f",
   "metadata": {},
   "outputs": [],
   "source": [
    "Papers = pd.read_csv(\"~/datasets/s4/MAG/Papers.csv\")\n",
    "\n",
    "# Display without scientific notation\n",
    "ax = plt.axes()\n",
    "ax.ticklabel_format(useOffset=False)\n",
    "\n",
    "# code here\n",
    "#\n",
    "#\n",
    "# \n",
    "\n",
    "# Legend style\n",
    "plt.legend(loc='upper left');"
   ]
  }
 ],
 "metadata": {
  "kernelspec": {
   "display_name": "Python 3",
   "language": "python",
   "name": "python3"
  },
  "language_info": {
   "codemirror_mode": {
    "name": "ipython",
    "version": 3
   },
   "file_extension": ".py",
   "mimetype": "text/x-python",
   "name": "python",
   "nbconvert_exporter": "python",
   "pygments_lexer": "ipython3",
   "version": "3.8.8"
  },
  "latex_envs": {
   "LaTeX_envs_menu_present": true,
   "autoclose": false,
   "autocomplete": true,
   "bibliofile": "biblio.bib",
   "cite_by": "apalike",
   "current_citInitial": 1,
   "eqLabelWithNumbers": true,
   "eqNumInitial": 1,
   "hotkeys": {
    "equation": "Ctrl-E",
    "itemize": "Ctrl-I"
   },
   "labels_anchors": false,
   "latex_user_defs": false,
   "report_style_numbering": false,
   "user_envs_cfg": false
  },
  "toc": {
   "base_numbering": 1,
   "nav_menu": {},
   "number_sections": true,
   "sideBar": true,
   "skip_h1_title": false,
   "title_cell": "Table of Contents",
   "title_sidebar": "Contents",
   "toc_cell": false,
   "toc_position": {},
   "toc_section_display": true,
   "toc_window_display": false
  }
 },
 "nbformat": 4,
 "nbformat_minor": 5
}
