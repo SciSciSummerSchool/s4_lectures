{
 "cells": [
  {
   "cell_type": "markdown",
   "id": "emerging-charlotte",
   "metadata": {
    "cell_style": "center",
    "pycharm": {
     "name": "#%% md\n"
    },
    "slideshow": {
     "slide_type": "slide"
    }
   },
   "source": [
    "# Science of Science Summer School (S4)\n",
    "- Daniel E. Acuna, Computer Science Department, University of Colorado, Boulder\n",
    "- Stephen David, OHSU"
   ]
  },
  {
   "cell_type": "markdown",
   "id": "b2d0307b",
   "metadata": {
    "cell_style": "split",
    "pycharm": {
     "name": "#%% md\n"
    },
    "slideshow": {
     "slide_type": "slide"
    }
   },
   "source": [
    "# Acknowledgements\n",
    "- NSF's #1933803 _Collaborative Research: Social Dynamics of Knowledge Transfer Through Scientific Mentorship and Publication_\n",
    "- School of Information Studies at Syracuse University\n",
    "- Students:\n",
    "  - Lizhen Liang (Ph.D. iSchool)\n",
    "  - Han Zhuang (Ph.D. iSchool)\n",
    "  - LaRoyce Jermaine Covington Jr. (Ph.D. iSchool)"
   ]
  },
  {
   "cell_type": "markdown",
   "id": "f5dc1fc9",
   "metadata": {
    "cell_style": "split",
    "pycharm": {
     "name": "#%% md\n"
    }
   },
   "source": [
    "![](images/nsf_logo.png)"
   ]
  },
  {
   "cell_type": "markdown",
   "id": "a96dfb2d",
   "metadata": {
    "pycharm": {
     "name": "#%% md\n"
    },
    "slideshow": {
     "slide_type": "slide"
    }
   },
   "source": [
    "# Motivation\n",
    "- Several schools dedicated to _Computational Social Science_ (e.g., SICSS) and mostly to methods\n",
    "- Few dedicated to the nascent field of science of science\n",
    "- Specifically, few dedicated to foundational and emerging questions, theories, and methods for science of science\n",
    "- Opportunities for mentoring have significantly diminished due to COVID-19"
   ]
  },
  {
   "cell_type": "markdown",
   "id": "2a1650d3",
   "metadata": {
    "cell_style": "split",
    "pycharm": {
     "name": "#%% md\n"
    }
   },
   "source": [
    "![](images/01_01_departments.png)"
   ]
  },
  {
   "cell_type": "markdown",
   "id": "9a17b118",
   "metadata": {
    "cell_style": "split",
    "pycharm": {
     "name": "#%% md\n"
    },
    "slideshow": {
     "slide_type": "slide"
    }
   },
   "source": [
    "![](images/01_01_yourself.png)"
   ]
  },
  {
   "cell_type": "markdown",
   "id": "a5b51cd7",
   "metadata": {
    "cell_style": "split",
    "pycharm": {
     "name": "#%% md\n"
    },
    "slideshow": {
     "slide_type": "-"
    }
   },
   "source": [
    "![](images/01_01_expect_to_learn.png)"
   ]
  },
  {
   "cell_type": "markdown",
   "id": "f6b9bc80",
   "metadata": {
    "cell_style": "center",
    "pycharm": {
     "name": "#%% md\n"
    },
    "slideshow": {
     "slide_type": "slide"
    }
   },
   "source": [
    "# Acceptances (you!)\n",
    "\n",
    "- We accepted 33 outstanding students\n",
    "- We tried to balance expertise, career stage, interests, and diversity\n",
    "- This school is as good as you make it to be\n",
    "- Participate and ask questions as much as possible"
   ]
  },
  {
   "cell_type": "markdown",
   "id": "ce0c7474",
   "metadata": {
    "pycharm": {
     "name": "#%% md\n"
    },
    "slideshow": {
     "slide_type": "slide"
    }
   },
   "source": [
    "# Some rules\n",
    "- Check the code of conduct at https://s4.scienceofscience.org/cod/\n",
    "- We will record the lectures by us, the presenters, and mentors.\n",
    "- We will record the question and answer sessions\n",
    "- Zoom does not record the breakout rooms\n",
    "- Please use your camera and microphone, but you are welcome to use the chat functionality"
   ]
  },
  {
   "cell_type": "markdown",
   "id": "042d9695",
   "metadata": {
    "cell_style": "split",
    "pycharm": {
     "name": "#%% md\n"
    },
    "slideshow": {
     "slide_type": "slide"
    }
   },
   "source": [
    "# Some rules\n",
    "\n",
    "- If you want your questions or comments to be more permanent, use the Slack workspace\n",
    "- Admin can post to \"announcements\", but you can post to any channel\n",
    "- For the projects, we will be posting ideas to the \"ideas-for-projects\" channel\n",
    "- If you have technical difficulties, use the \"helpdesk\" channel"
   ]
  },
  {
   "cell_type": "markdown",
   "id": "8497ec33",
   "metadata": {
    "cell_style": "split",
    "pycharm": {
     "name": "#%% md\n"
    }
   },
   "source": [
    "![](images/01_01_slack.png)"
   ]
  },
  {
   "cell_type": "markdown",
   "id": "chubby-trade",
   "metadata": {
    "cell_style": "split",
    "pycharm": {
     "name": "#%% md\n"
    },
    "slideshow": {
     "slide_type": "slide"
    }
   },
   "source": [
    "# Objectives\n",
    "1. Lectures (first week)\n",
    "2. Conference (second week)\n",
    "3. Panel discussion (second week)\n",
    "4. Mentoring sessions (second week)\n",
    "5. Group interactions (throughout summer school)\n",
    "7. Micro-grant (details TBA)"
   ]
  },
  {
   "cell_type": "markdown",
   "id": "61c96ee9",
   "metadata": {
    "cell_style": "split",
    "pycharm": {
     "name": "#%% md\n"
    }
   },
   "source": [
    "![](images/agenda.jpg)"
   ]
  },
  {
   "cell_type": "markdown",
   "id": "accessible-median",
   "metadata": {
    "pycharm": {
     "name": "#%% md\n"
    },
    "slideshow": {
     "slide_type": "slide"
    }
   },
   "source": [
    "# Schedule\n",
    "\n",
    "To stay up to day, check the \"latest\" schedule at https://s4.scienceofscience.org/schedule/"
   ]
  },
  {
   "cell_type": "markdown",
   "id": "sensitive-fraction",
   "metadata": {
    "pycharm": {
     "name": "#%% md\n"
    },
    "slideshow": {
     "slide_type": "slide"
    }
   },
   "source": [
    "# First week\n",
    "Methods and group discussion\n",
    "\n",
    "| Day     |           |\n",
    "|---------|------------------|\n",
    "| August 1 | Introduction    |\n",
    "| August 2 | ML/AI      + presentation by S4 2021 group      |\n",
    "| August 3 | Network science + presentation by S4 2021 group |\n",
    "| August 4 | Deep learning   + presentation by S4 2021 group |\n",
    "| August 5 | Causal inference + presentation by S4 2021 group |"
   ]
  },
  {
   "cell_type": "markdown",
   "id": "c90bc122",
   "metadata": {
    "pycharm": {
     "name": "#%% md\n"
    },
    "slideshow": {
     "slide_type": "slide"
    }
   },
   "source": [
    "# Second week\n",
    "\n",
    "Conference and discussion with mentors\n",
    "\n",
    "| Day      |           |\n",
    "|----------|------------------|\n",
    "| August 8 | Dan Larremore, Arunas Radzvilavicius, Aaron Clauset, (Panel) Sarah Bratt, Carolyn Stein, Gizem Korkmaz     |\n",
    "| August 9 | Roberta Sinatra, Daniel Romero, Ludo Waltman            |\n",
    "| August 10 | Patricia Feeney, Bei Yu, Nihar B. Shah  |\n",
    "| August 11 | Julia Lane, Tom Hope, Daniel Acuna    |\n",
    "| August 12 | Project presentations |\n"
   ]
  },
  {
   "cell_type": "markdown",
   "id": "0200993d",
   "metadata": {
    "pycharm": {
     "name": "#%% md\n"
    },
    "slideshow": {
     "slide_type": "slide"
    }
   },
   "source": [
    "# First week\n",
    "\n",
    "| Activity               | PT                   | ET                  | CET                 | China               | India                |\n",
    "|------------------------|----------------------|---------------------|---------------------|---------------------|----------------------|\n",
    "| Intro presentation     | 06:00 AM - 07:00 AM  | 09:00 AM - 10:00 AM | 03:00 PM - 04:00 PM | 09:00 PM - 10:00 PM | 06:30 PM - 07:30 PM  |\n",
    "| Lectures               | 07:00 AM - 10:00 AM  | 10:00 AM - 01:00 PM | 04:00 PM - 07:00 PM | 10:00 PM - 01:00 AM | 07:30 PM - 10:30 PM  |\n",
    "| Long break             | 10:00 AM - 11:00 AM  | 01:00 PM - 02:00 PM | 07:00 PM - 08:00 PM | 01:00 AM - 02:00 AM | 10:30 PM - 11:30 PM  |\n",
    "| Group activity   | 11:00 AM - 12:45 PM  | 02:00 PM - 03:45 PM | 08:00 PM - 09:45 PM | 02:00 AM - 03:45 AM | 11:30 PM - 01:15 AM  |"
   ]
  },
  {
   "cell_type": "markdown",
   "id": "e909acca",
   "metadata": {
    "pycharm": {
     "name": "#%% md\n"
    },
    "slideshow": {
     "slide_type": "slide"
    }
   },
   "source": [
    "# Second week\n",
    "\n",
    "\n",
    "| Activity                           | PT                   | ET                  | CET                 | China               | India                |\n",
    "|------------------------------------|----------------------|---------------------|---------------------|---------------------|----------------------|\n",
    "| Presentations                      | 06:00 AM - 08:35 AM  | 09:00 AM - 11:35 AM | 03:00 PM - 05:35 PM | 09:00 PM - 11:35 PM | 06:30 PM - 09:05 PM  |\n",
    "| Panel discussion                   | 08:35 AM - 09:35 AM  | 11:35 AM - 12:35 PM | 05:35 PM - 06:35 PM | 11:35 PM - 12:35 AM | 09:05 PM - 10:05 PM  |\n",
    "| Long break                         | 09:35 AM - 10:15 AM  | 12:35 PM - 01:15 PM | 06:35 PM - 07:15 PM | 12:35 AM - 01:15 AM | 10:05 PM - 10:45 PM  |\n",
    "| Mentoring sessions                 | 10:15 AM - 12:30 PM  | 01:15 PM - 03:30 PM | 07:15 PM - 09:30 PM | 01:15 AM - 03:30 AM | 10:45 PM - 01:00 AM  |"
   ]
  },
  {
   "cell_type": "markdown",
   "id": "4c2ac49a",
   "metadata": {
    "pycharm": {
     "name": "#%% md\n"
    },
    "slideshow": {
     "slide_type": "slide"
    }
   },
   "source": [
    "# Mentoring sessions\n",
    "- Students will be assigned based on their preference\n",
    "- Most mentors will be available for two hours the day of the presentation, and two hours the next day\n",
    "- For some mentors, students will likely meet them in groups\n",
    "- Take the mentoring as an opportunity to ask relevant questions to your research and the future of the field"
   ]
  },
  {
   "cell_type": "markdown",
   "id": "a645fd0b",
   "metadata": {
    "pycharm": {
     "name": "#%% md\n"
    },
    "slideshow": {
     "slide_type": "slide"
    }
   },
   "source": [
    "# Group interactions\n",
    "- You will be assigned into small pods of 4 to 5 students during lecture activites\n",
    "- Today, you should try to interact with as many people can you can\n",
    "- During Monday's afternoon session, you will discuss potential projects\n",
    "- You will present a proposal by Thursday midnight\n",
    "> Each group must deliver a 1-page, single-spaced, 1-inch margin document with a summary of the project. Event hough you might be unsure about which project you would like to pursue, it is good to start thinking about it as soon as possible. The summary should describe the following items\n",
    "- The groups will present their projects during the last day of S4 (August 6)"
   ]
  },
  {
   "cell_type": "markdown",
   "id": "81dd7ae8",
   "metadata": {
    "pycharm": {
     "name": "#%% md\n"
    },
    "slideshow": {
     "slide_type": "slide"
    }
   },
   "source": [
    "# Micro-grants\n",
    "- Only for US-affiliated students/faculty (sorry!)\n",
    "- Eight to ten $1,000 US dollars for genuine research projects (we will release an agreement soon)\n",
    "- We will make the application process as painless as possible\n",
    "- Ideally, the best projects to be presented next week will have higher chances"
   ]
  },
  {
   "cell_type": "markdown",
   "id": "711541bb",
   "metadata": {
    "cell_style": "split",
    "pycharm": {
     "name": "#%% md\n"
    },
    "slideshow": {
     "slide_type": "slide"
    }
   },
   "source": [
    "# Introduction to Science of Science\n",
    "\n",
    "- Science of science is a relatively new subfield of Computational Social Science\n",
    "- Its roots can be traced back to Philosophy of Science\n",
    "- It is closely related to Scientometrics, Bibliometrics, and Science and Technology Studies\n",
    "- You should simply think of it as the scientific method applied to science itself"
   ]
  },
  {
   "cell_type": "markdown",
   "id": "4adefa1e",
   "metadata": {
    "cell_style": "split",
    "pycharm": {
     "name": "#%% md\n"
    }
   },
   "source": [
    "![](images/The_Scientific_Method.svg.png)"
   ]
  },
  {
   "cell_type": "markdown",
   "id": "6ed5b5b3",
   "metadata": {
    "cell_style": "split",
    "pycharm": {
     "name": "#%% md\n"
    },
    "slideshow": {
     "slide_type": "slide"
    }
   },
   "source": [
    "# Why do we still need Science of Science\n",
    "- Data about science and scientists is increasing\n",
    "- The diversity of data about science is also expanding (e.g. text and image)\n",
    "- Most of methods have specific assumptions, which can affect research correctness"
   ]
  },
  {
   "cell_type": "markdown",
   "id": "5c64a573",
   "metadata": {
    "cell_style": "split",
    "pycharm": {
     "name": "#%% md\n"
    }
   },
   "source": [
    "![](images/stasa_paper.jpg)\n",
    "\n",
    "Milojević, S. (2015). Quantifying the cognitive extent of science. Journal of Informetrics, 9(4), 962-973."
   ]
  },
  {
   "cell_type": "markdown",
   "id": "e117ed97",
   "metadata": {
    "cell_style": "split",
    "pycharm": {
     "name": "#%% md\n"
    },
    "slideshow": {
     "slide_type": "slide"
    }
   },
   "source": [
    "# Example new datasets\n",
    "- Microsoft Academic Graph (disambiguated publications, authors, institutions, and citations from journals and conference venues) +300M publications +400 authors (https://academic.microsoft.com)\n",
    "- Semantic Scholar (publication abstracts fro MAG) and many more datasets https://allenai.org/data\n",
    "- PubMed Open Access Subset (full-text, figures, captions) for 4+ million publications (https://www.ncbi.nlm.nih.gov/pmc/tools/openftlist/)\n",
    "- FederalExporter (funding dataset from NIH, NSF, and other 12 US agencies) (https://federalreporter.nih.gov/)\n",
    "- Crossref (curated citation and funding datasets, not disambiguated) (https://www.crossref.org/)"
   ]
  },
  {
   "cell_type": "markdown",
   "id": "b21393a0",
   "metadata": {
    "cell_style": "split",
    "pycharm": {
     "name": "#%% md\n"
    }
   },
   "source": [
    "![](images/mag_discontinued.png)"
   ]
  },
  {
   "cell_type": "markdown",
   "id": "6295c7d5",
   "metadata": {
    "pycharm": {
     "name": "#%% md\n"
    },
    "slideshow": {
     "slide_type": "slide"
    }
   },
   "source": [
    "# What can we do with the new data about science?\n",
    "Challenges for traditional quantitative studies of science (e.g., economics of science and sociology of science):\n",
    "- Traditional statistics can not work with unstructured data\n",
    "- Traditional statistics and mathematical models might not find complex relationships in science\n",
    "\n",
    "Challenges for qualitative studies of science (e.g., science communication)\n",
    "- Qualitative research methods are expensive and might be non-replicable (Chapman et al., 2018)\n",
    "- Qualitative research methods are not fast for massive data\n"
   ]
  },
  {
   "cell_type": "markdown",
   "id": "991603bb",
   "metadata": {
    "pycharm": {
     "name": "#%% md\n"
    },
    "slideshow": {
     "slide_type": "slide"
    }
   },
   "source": [
    "# Ways to Analyze Unstructured Data\n",
    "- Computer Vision can gain information (such as objects) in academic figures\n",
    "- Natural Language Processing can obtain information (such as, topics and semantic meanings) from texts of publications\n",
    "- Machine Learning can help researchers to develop new computational techniques to extract desirable information for unstructured data\n",
    "\n",
    "<img src='images/ibm.png'>\n",
    "\n",
    "Image from IBM"
   ]
  },
  {
   "cell_type": "markdown",
   "id": "e5049f7f",
   "metadata": {
    "pycharm": {
     "name": "#%% md\n"
    },
    "slideshow": {
     "slide_type": "slide"
    }
   },
   "source": [
    "# What if we ignore unstructured data in science\n",
    "- We might not know the structure of science in a big picture (Newman, 2001)\n",
    "- We might be limited to discoveries from small samples of scientists or publications (Colyvas & Powell, 2006) \n",
    "- We might not be able to examine previous theory about science"
   ]
  },
  {
   "cell_type": "markdown",
   "id": "8b57fe65",
   "metadata": {
    "pycharm": {
     "name": "#%% md\n"
    },
    "slideshow": {
     "slide_type": "slide"
    }
   },
   "source": [
    "# The risk of using unstructured data and potential issues\n",
    "The quality of data influence the research findings in a significant way (Meng, 2018):\n",
    "- The sampling method\n",
    "- The quantity of population\n",
    "\n",
    "Computational techniques might not produce accurate information from unstructured data (Towne et al., 2016)\n",
    "The results of some computational techniques might be hard to interpret "
   ]
  },
  {
   "cell_type": "markdown",
   "id": "20aa1dd7",
   "metadata": {
    "pycharm": {
     "name": "#%% md\n"
    },
    "slideshow": {
     "slide_type": "slide"
    }
   },
   "source": [
    "# More than data: what should we do with new methods\n",
    "- Without new computational techniques, many research questions about science are answered by intuitive methods (e.g. Packalen and Bhattacharya 2020, Wang et al. 2017, and Jaffe 2000)\n",
    "- But new computational techniques can provide novel approaches to these research questions"
   ]
  },
  {
   "cell_type": "markdown",
   "id": "68084111",
   "metadata": {
    "pycharm": {
     "name": "#%% md\n"
    },
    "slideshow": {
     "slide_type": "slide"
    }
   },
   "source": [
    "# Conclusion\n",
    "- New datasets about the scientific enterprise open up big avenues for new research\n",
    "- New computational techniques enable us to extract information from these datasets and to answer research questions in new ways\n",
    "- There are some challenges and opportunities regarding machine learning and science: Bias and Rich gets richer\n"
   ]
  },
  {
   "cell_type": "markdown",
   "id": "87af759a",
   "metadata": {
    "pycharm": {
     "name": "#%% md\n"
    },
    "slideshow": {
     "slide_type": "slide"
    }
   },
   "source": [
    "# Next\n",
    "\n",
    "- Introduction to Python\n",
    "- Introduction to Pandas\n",
    "- Datasets"
   ]
  },
  {
   "cell_type": "markdown",
   "id": "46ccbfd0",
   "metadata": {
    "pycharm": {
     "name": "#%% md\n"
    },
    "slideshow": {
     "slide_type": "slide"
    }
   },
   "source": [
    "# This environment has different datasets\n",
    "\n",
    "- Microsoft Academic Graph (https://www.microsoft.com/en-us/research/project/microsoft-academic-graph/)\n",
    "- ACL-ARC (citation worthiness dataset https://github.com/sciosci/cite-worthiness)\n",
    "- Pubmed Open Access Subset (images, full text, https://www.ncbi.nlm.nih.gov/pmc/tools/openftlist/)\n",
    "- MENTORSHIP (Ke et al., https://arxiv.org/abs/2106.06487)"
   ]
  }
 ],
 "metadata": {
  "celltoolbar": "Slideshow",
  "kernelspec": {
   "display_name": "Python 3",
   "language": "python",
   "name": "python3"
  },
  "language_info": {
   "codemirror_mode": {
    "name": "ipython",
    "version": 3
   },
   "file_extension": ".py",
   "mimetype": "text/x-python",
   "name": "python",
   "nbconvert_exporter": "python",
   "pygments_lexer": "ipython3",
   "version": "3.8.6"
  },
  "latex_envs": {
   "LaTeX_envs_menu_present": true,
   "autoclose": false,
   "autocomplete": true,
   "bibliofile": "biblio.bib",
   "cite_by": "apalike",
   "current_citInitial": 1,
   "eqLabelWithNumbers": true,
   "eqNumInitial": 1,
   "hotkeys": {
    "equation": "Ctrl-E",
    "itemize": "Ctrl-I"
   },
   "labels_anchors": false,
   "latex_user_defs": false,
   "report_style_numbering": false,
   "user_envs_cfg": false
  },
  "rise": {
   "chalkboard": {
    "color": [
     "rgb(250, 250, 250)",
     "rgb(250, 250, 250)"
    ]
   },
   "enable_chalkboard": true,
   "footer": "<h3><span style='color: orange'>Science of Science Summer School 2022</span> &#x2014; https://s4.scienceofscience.org &#x2014; (Virtually) hosted by School of Information Studies, Syracuse University: &#x2014; 08/01 - 08/12 </h3>",
   "header": "<h3>Day 1 - Introduction</h3>",
   "show_buttons_on_startup": false,
   "slideNumber": true,
   "theme": "white"
  },
  "toc": {
   "base_numbering": 1,
   "nav_menu": {
    "height": "122.986px",
    "width": "160px"
   },
   "number_sections": false,
   "sideBar": true,
   "skip_h1_title": false,
   "title_cell": "Table of Contents",
   "title_sidebar": "Contents",
   "toc_cell": false,
   "toc_position": {},
   "toc_section_display": true,
   "toc_window_display": false
  },
  "widgets": {
   "application/vnd.jupyter.widget-state+json": {
    "state": {},
    "version_major": 2,
    "version_minor": 0
   }
  }
 },
 "nbformat": 4,
 "nbformat_minor": 5
}
