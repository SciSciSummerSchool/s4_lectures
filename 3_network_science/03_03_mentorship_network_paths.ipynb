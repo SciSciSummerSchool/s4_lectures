{
 "cells": [
  {
   "cell_type": "markdown",
   "id": "c889b667-3bd4-4543-abb9-c5a70662fa7c",
   "metadata": {},
   "source": [
    "# Introduction - mentorship network data"
   ]
  },
  {
   "cell_type": "markdown",
   "id": "48e8519d-3509-4e05-a502-6eaed441ea4d",
   "metadata": {},
   "source": [
    "This notebook provides a very basic introduction to the Academic Family Tree mentorship dataset, which describes academic mentoring relationships collected as part of the Academic Family Tree (AFT) project. Data will be loaded from two core AFT tables:\n",
    "* `people` - table of individual academic researchers\n",
    "* `connect` - table of mentoring relationships between researchers in `people`\n",
    "Subsequent code snippets will illustrate how to interpret the contents of these tables and perform a shorest-path calculate between two researchers in the network."
   ]
  },
  {
   "cell_type": "code",
   "execution_count": 1,
   "id": "15fe0e3a-32ca-4181-b09b-dd7c583473f1",
   "metadata": {},
   "outputs": [],
   "source": [
    "# load required libraries\n",
    "import pandas as pd\n",
    "import numpy as np"
   ]
  },
  {
   "cell_type": "markdown",
   "id": "26e61bdf-0054-47d1-b738-2c08e94ff300",
   "metadata": {},
   "source": [
    "# Load/preprocess data"
   ]
  },
  {
   "cell_type": "code",
   "execution_count": 2,
   "id": "308c1dd9-fce3-4b94-8313-4ebde5191783",
   "metadata": {},
   "outputs": [],
   "source": [
    "connect = pd.read_csv('~/datasets/s4/MENTORSHIP/mentorship.csv')\n",
    "people = pd.read_csv('~/datasets/s4/MENTORSHIP/researcher.csv')"
   ]
  },
  {
   "cell_type": "markdown",
   "id": "c7dcf80e-f0a7-4aaa-aff0-3dccb36a7f27",
   "metadata": {},
   "source": [
    "Extract a subset of columns that contain useful information for this demo"
   ]
  },
  {
   "cell_type": "code",
   "execution_count": 3,
   "id": "274572c3-f41a-41a1-9c6e-959978fef424",
   "metadata": {},
   "outputs": [],
   "source": [
    "connect = connect[['CID','MenteeID','MentorID','MentorshipType','Institution','StopYear']]\n",
    "people = people[['PID','FirstName','MiddleName','LastName','Institution','ResearchArea']]"
   ]
  },
  {
   "cell_type": "markdown",
   "id": "d2ae1727-9798-49a6-a96e-e44f1a7b01a5",
   "metadata": {},
   "source": [
    "# Getting oriented"
   ]
  },
  {
   "cell_type": "markdown",
   "id": "4c806e86-0344-4972-b573-8ec1e76e3423",
   "metadata": {},
   "source": [
    "Each row of the `connect` table has three basic fields:\n",
    "* `MenteeID` unique identifier of the trainee. This provides an index to an entry in the `people` table.\n",
    "* `MentorID` unique identifier of the mentor.\n",
    "* `MentorshipType` integer coding the type of relationship (0=undergrad research assistant, 1=graduate student, 2=postdoctoral fellow, 3=research scientist).\n",
    "\n",
    "Additional fields that may be of interest:\n",
    "* `CID` unique identifier for each connection\n",
    "* `Institution` string name of institution where training took place\n",
    "* `StopYear` year of graduation/training completed"
   ]
  },
  {
   "cell_type": "code",
   "execution_count": 4,
   "id": "4d27504f-f4c9-4a92-bade-91be0eba4011",
   "metadata": {},
   "outputs": [
    {
     "data": {
      "text/html": [
       "<div>\n",
       "<style scoped>\n",
       "    .dataframe tbody tr th:only-of-type {\n",
       "        vertical-align: middle;\n",
       "    }\n",
       "\n",
       "    .dataframe tbody tr th {\n",
       "        vertical-align: top;\n",
       "    }\n",
       "\n",
       "    .dataframe thead th {\n",
       "        text-align: right;\n",
       "    }\n",
       "</style>\n",
       "<table border=\"1\" class=\"dataframe\">\n",
       "  <thead>\n",
       "    <tr style=\"text-align: right;\">\n",
       "      <th></th>\n",
       "      <th>CID</th>\n",
       "      <th>MenteeID</th>\n",
       "      <th>MentorID</th>\n",
       "      <th>MentorshipType</th>\n",
       "      <th>Institution</th>\n",
       "      <th>StopYear</th>\n",
       "    </tr>\n",
       "  </thead>\n",
       "  <tbody>\n",
       "    <tr>\n",
       "      <th>0</th>\n",
       "      <td>2</td>\n",
       "      <td>2</td>\n",
       "      <td>3</td>\n",
       "      <td>1</td>\n",
       "      <td>University of California, Berkeley</td>\n",
       "      <td>2005</td>\n",
       "    </tr>\n",
       "    <tr>\n",
       "      <th>1</th>\n",
       "      <td>3</td>\n",
       "      <td>4</td>\n",
       "      <td>3</td>\n",
       "      <td>2</td>\n",
       "      <td>University of California, Berkeley</td>\n",
       "      <td>2006</td>\n",
       "    </tr>\n",
       "    <tr>\n",
       "      <th>2</th>\n",
       "      <td>5</td>\n",
       "      <td>6</td>\n",
       "      <td>3</td>\n",
       "      <td>1</td>\n",
       "      <td>University of California, Berkeley</td>\n",
       "      <td>2008</td>\n",
       "    </tr>\n",
       "    <tr>\n",
       "      <th>3</th>\n",
       "      <td>6</td>\n",
       "      <td>18761</td>\n",
       "      <td>9</td>\n",
       "      <td>1</td>\n",
       "      <td>University of California, Berkeley</td>\n",
       "      <td>1984</td>\n",
       "    </tr>\n",
       "    <tr>\n",
       "      <th>4</th>\n",
       "      <td>7</td>\n",
       "      <td>10</td>\n",
       "      <td>16</td>\n",
       "      <td>2</td>\n",
       "      <td>Washington University, Saint Louis</td>\n",
       "      <td>-1</td>\n",
       "    </tr>\n",
       "  </tbody>\n",
       "</table>\n",
       "</div>"
      ],
      "text/plain": [
       "   CID  MenteeID  MentorID  MentorshipType  \\\n",
       "0    2         2         3               1   \n",
       "1    3         4         3               2   \n",
       "2    5         6         3               1   \n",
       "3    6     18761         9               1   \n",
       "4    7        10        16               2   \n",
       "\n",
       "                          Institution  StopYear  \n",
       "0  University of California, Berkeley      2005  \n",
       "1  University of California, Berkeley      2006  \n",
       "2  University of California, Berkeley      2008  \n",
       "3  University of California, Berkeley      1984  \n",
       "4  Washington University, Saint Louis        -1  "
      ]
     },
     "execution_count": 4,
     "metadata": {},
     "output_type": "execute_result"
    }
   ],
   "source": [
    "connect.head()"
   ]
  },
  {
   "cell_type": "markdown",
   "id": "3e0cb52f-6c0c-4210-aca6-a12a12558a63",
   "metadata": {},
   "source": [
    "The fields `connect.MenteeID` and `connect.MentorID` can be linked to `people.PID`.\n",
    "\n",
    "`people` contains information about the connected researchers:\n",
    "* `PID` unique identifier\n",
    "* `FirstName`, `MiddleName`, `LastName` name (lastname=surname)\n",
    "* `Institution` most recent affiliation (may not match `connect.Institution`)\n",
    "* `ResearchArea` string encoding AFT field(s) where the researcher is listed.\n"
   ]
  },
  {
   "cell_type": "markdown",
   "id": "7b728257-cb22-4720-ae18-a356fdd36be4",
   "metadata": {},
   "source": [
    "For example, we can find the names of the two people in the relationship in the first row of `connect` "
   ]
  },
  {
   "cell_type": "code",
   "execution_count": 5,
   "id": "c92bf796-9104-4f00-b46b-ee299c5f1f26",
   "metadata": {},
   "outputs": [
    {
     "data": {
      "text/html": [
       "<div>\n",
       "<style scoped>\n",
       "    .dataframe tbody tr th:only-of-type {\n",
       "        vertical-align: middle;\n",
       "    }\n",
       "\n",
       "    .dataframe tbody tr th {\n",
       "        vertical-align: top;\n",
       "    }\n",
       "\n",
       "    .dataframe thead th {\n",
       "        text-align: right;\n",
       "    }\n",
       "</style>\n",
       "<table border=\"1\" class=\"dataframe\">\n",
       "  <thead>\n",
       "    <tr style=\"text-align: right;\">\n",
       "      <th></th>\n",
       "      <th>PID</th>\n",
       "      <th>FirstName</th>\n",
       "      <th>MiddleName</th>\n",
       "      <th>LastName</th>\n",
       "      <th>Institution</th>\n",
       "      <th>ResearchArea</th>\n",
       "    </tr>\n",
       "  </thead>\n",
       "  <tbody>\n",
       "    <tr>\n",
       "      <th>1</th>\n",
       "      <td>2</td>\n",
       "      <td>BENJAMIN</td>\n",
       "      <td>Y</td>\n",
       "      <td>HAYDEN</td>\n",
       "      <td>University of Minnesota, Twin Cities</td>\n",
       "      <td>neuro</td>\n",
       "    </tr>\n",
       "    <tr>\n",
       "      <th>2</th>\n",
       "      <td>3</td>\n",
       "      <td>JACK</td>\n",
       "      <td>L</td>\n",
       "      <td>GALLANT</td>\n",
       "      <td>University of California, Berkeley</td>\n",
       "      <td>neuro,psych</td>\n",
       "    </tr>\n",
       "  </tbody>\n",
       "</table>\n",
       "</div>"
      ],
      "text/plain": [
       "   PID FirstName MiddleName LastName                           Institution  \\\n",
       "1    2  BENJAMIN          Y   HAYDEN  University of Minnesota, Twin Cities   \n",
       "2    3      JACK          L  GALLANT    University of California, Berkeley   \n",
       "\n",
       "  ResearchArea  \n",
       "1        neuro  \n",
       "2  neuro,psych  "
      ]
     },
     "execution_count": 5,
     "metadata": {},
     "output_type": "execute_result"
    }
   ],
   "source": [
    "people.loc[(people.PID==2) | (people.PID==3)]"
   ]
  },
  {
   "cell_type": "markdown",
   "id": "65577664-f7aa-4504-9aba-e1f98222b12a",
   "metadata": {},
   "source": [
    "To simplify identification of individuals in the network, we can link the tables together. The `_t` suffix indicates trainee (\"mentee\") and `_m` suffix indicates the mentor."
   ]
  },
  {
   "cell_type": "code",
   "execution_count": 6,
   "id": "34798c83-8e31-42a7-bbee-c051c28eb2c1",
   "metadata": {},
   "outputs": [
    {
     "data": {
      "text/html": [
       "<div>\n",
       "<style scoped>\n",
       "    .dataframe tbody tr th:only-of-type {\n",
       "        vertical-align: middle;\n",
       "    }\n",
       "\n",
       "    .dataframe tbody tr th {\n",
       "        vertical-align: top;\n",
       "    }\n",
       "\n",
       "    .dataframe thead th {\n",
       "        text-align: right;\n",
       "    }\n",
       "</style>\n",
       "<table border=\"1\" class=\"dataframe\">\n",
       "  <thead>\n",
       "    <tr style=\"text-align: right;\">\n",
       "      <th></th>\n",
       "      <th>CID</th>\n",
       "      <th>MenteeID</th>\n",
       "      <th>MentorID</th>\n",
       "      <th>MentorshipType</th>\n",
       "      <th>Institution</th>\n",
       "      <th>StopYear</th>\n",
       "      <th>PID_t</th>\n",
       "      <th>FirstName_t</th>\n",
       "      <th>MiddleName_t</th>\n",
       "      <th>LastName_t</th>\n",
       "      <th>ResearchArea_t</th>\n",
       "      <th>PID_m</th>\n",
       "      <th>FirstName_m</th>\n",
       "      <th>MiddleName_m</th>\n",
       "      <th>LastName_m</th>\n",
       "      <th>ResearchArea_m</th>\n",
       "    </tr>\n",
       "  </thead>\n",
       "  <tbody>\n",
       "    <tr>\n",
       "      <th>0</th>\n",
       "      <td>2</td>\n",
       "      <td>2</td>\n",
       "      <td>3</td>\n",
       "      <td>1</td>\n",
       "      <td>University of California, Berkeley</td>\n",
       "      <td>2005</td>\n",
       "      <td>2</td>\n",
       "      <td>BENJAMIN</td>\n",
       "      <td>Y</td>\n",
       "      <td>HAYDEN</td>\n",
       "      <td>neuro</td>\n",
       "      <td>3</td>\n",
       "      <td>JACK</td>\n",
       "      <td>L</td>\n",
       "      <td>GALLANT</td>\n",
       "      <td>neuro,psych</td>\n",
       "    </tr>\n",
       "    <tr>\n",
       "      <th>1</th>\n",
       "      <td>3</td>\n",
       "      <td>4</td>\n",
       "      <td>3</td>\n",
       "      <td>2</td>\n",
       "      <td>University of California, Berkeley</td>\n",
       "      <td>2006</td>\n",
       "      <td>4</td>\n",
       "      <td>BENJAMIN</td>\n",
       "      <td>NaN</td>\n",
       "      <td>WILLMORE</td>\n",
       "      <td>neuro</td>\n",
       "      <td>3</td>\n",
       "      <td>JACK</td>\n",
       "      <td>L</td>\n",
       "      <td>GALLANT</td>\n",
       "      <td>neuro,psych</td>\n",
       "    </tr>\n",
       "    <tr>\n",
       "      <th>2</th>\n",
       "      <td>5</td>\n",
       "      <td>6</td>\n",
       "      <td>3</td>\n",
       "      <td>1</td>\n",
       "      <td>University of California, Berkeley</td>\n",
       "      <td>2008</td>\n",
       "      <td>6</td>\n",
       "      <td>RYAN</td>\n",
       "      <td>NaN</td>\n",
       "      <td>PRENGER</td>\n",
       "      <td>neuro</td>\n",
       "      <td>3</td>\n",
       "      <td>JACK</td>\n",
       "      <td>L</td>\n",
       "      <td>GALLANT</td>\n",
       "      <td>neuro,psych</td>\n",
       "    </tr>\n",
       "    <tr>\n",
       "      <th>3</th>\n",
       "      <td>17</td>\n",
       "      <td>27</td>\n",
       "      <td>3</td>\n",
       "      <td>1</td>\n",
       "      <td>University of California, Berkeley</td>\n",
       "      <td>-1</td>\n",
       "      <td>27</td>\n",
       "      <td>JOSEPH</td>\n",
       "      <td>P</td>\n",
       "      <td>ROGERS</td>\n",
       "      <td>neuro</td>\n",
       "      <td>3</td>\n",
       "      <td>JACK</td>\n",
       "      <td>L</td>\n",
       "      <td>GALLANT</td>\n",
       "      <td>neuro,psych</td>\n",
       "    </tr>\n",
       "    <tr>\n",
       "      <th>4</th>\n",
       "      <td>18</td>\n",
       "      <td>28</td>\n",
       "      <td>3</td>\n",
       "      <td>2</td>\n",
       "      <td>University of California, Berkeley</td>\n",
       "      <td>-1</td>\n",
       "      <td>28</td>\n",
       "      <td>RACHEL</td>\n",
       "      <td>NaN</td>\n",
       "      <td>SHOUP</td>\n",
       "      <td>neuro</td>\n",
       "      <td>3</td>\n",
       "      <td>JACK</td>\n",
       "      <td>L</td>\n",
       "      <td>GALLANT</td>\n",
       "      <td>neuro,psych</td>\n",
       "    </tr>\n",
       "  </tbody>\n",
       "</table>\n",
       "</div>"
      ],
      "text/plain": [
       "   CID  MenteeID  MentorID  MentorshipType  \\\n",
       "0    2         2         3               1   \n",
       "1    3         4         3               2   \n",
       "2    5         6         3               1   \n",
       "3   17        27         3               1   \n",
       "4   18        28         3               2   \n",
       "\n",
       "                          Institution  StopYear  PID_t FirstName_t  \\\n",
       "0  University of California, Berkeley      2005      2    BENJAMIN   \n",
       "1  University of California, Berkeley      2006      4    BENJAMIN   \n",
       "2  University of California, Berkeley      2008      6        RYAN   \n",
       "3  University of California, Berkeley        -1     27      JOSEPH   \n",
       "4  University of California, Berkeley        -1     28      RACHEL   \n",
       "\n",
       "  MiddleName_t LastName_t ResearchArea_t  PID_m FirstName_m MiddleName_m  \\\n",
       "0            Y     HAYDEN          neuro      3        JACK            L   \n",
       "1          NaN   WILLMORE          neuro      3        JACK            L   \n",
       "2          NaN    PRENGER          neuro      3        JACK            L   \n",
       "3            P     ROGERS          neuro      3        JACK            L   \n",
       "4          NaN      SHOUP          neuro      3        JACK            L   \n",
       "\n",
       "  LastName_m ResearchArea_m  \n",
       "0    GALLANT    neuro,psych  \n",
       "1    GALLANT    neuro,psych  \n",
       "2    GALLANT    neuro,psych  \n",
       "3    GALLANT    neuro,psych  \n",
       "4    GALLANT    neuro,psych  "
      ]
     },
     "execution_count": 6,
     "metadata": {},
     "output_type": "execute_result"
    }
   ],
   "source": [
    "connect_names = connect.merge(people[['PID','FirstName','MiddleName','LastName','ResearchArea']], how='inner', left_on='MenteeID', right_on='PID')\n",
    "connect_names = connect_names.merge(people[['PID','FirstName','MiddleName','LastName','ResearchArea']], how='inner', left_on='MentorID', \n",
    "                                    right_on='PID', suffixes=['_t','_m'])\n",
    "\n",
    "connect_names.head()"
   ]
  },
  {
   "cell_type": "markdown",
   "id": "82ca3a15-60ee-4492-90d2-d8653c85f0d7",
   "metadata": {},
   "source": [
    "# Shortest path calculations"
   ]
  },
  {
   "cell_type": "markdown",
   "id": "ec25db4b-a61c-42dc-85fa-9b1041164108",
   "metadata": {},
   "source": [
    "Extract the core fields from `connect_names` into a numpy matrix"
   ]
  },
  {
   "cell_type": "code",
   "execution_count": 7,
   "id": "f609ad49-9377-4e4b-95f0-8950e0ba6537",
   "metadata": {},
   "outputs": [],
   "source": [
    "connection_matrix = connect_names[['MenteeID','MentorID','MentorshipType']].values"
   ]
  },
  {
   "cell_type": "markdown",
   "id": "6aab9a8f-2c61-49e7-8b2e-863cf5becb37",
   "metadata": {},
   "source": [
    "Define a couple functions to calculate distance and path between researchers"
   ]
  },
  {
   "cell_type": "code",
   "execution_count": 8,
   "id": "f7426020-acdd-46af-8035-5837afeed79c",
   "metadata": {},
   "outputs": [],
   "source": [
    "def get_distance(pid1, pid2=None, connections=None, direction=0, instr=[1, 2, 3]):\n",
    "    \"\"\"\n",
    "    Helper function to measure paths between two researchers (pid1 and pid2) or one research and\n",
    "    all other researchers (if pid2 is None). Researchers are identified by AFT PID. Generates a\n",
    "    vector of distances from pid1 to all other researchers, but stops filling in distances once pid2\n",
    "    is reached. Thus if pid2 is None, function will continue computing distances to all pids.\n",
    "    \n",
    "    :param pid1: PID of first researcher\n",
    "    :param pid2: PID of second reseracher. If None, compute distance vector for all researchers\n",
    "    :param connections: N x 3 table of connected nodes. col 1=trainee, col 2=mentor, col 3=relationship type (0-3)\n",
    "    :param direction: (default) 0 trace all relationships (mentor-to-trainee and trainee-to-mentor)\n",
    "                      -1 only consider \"downward\" (mentor to trainee) relationships from pid1 to pid2\n",
    "                      1 only consider \"upward\" relationships\n",
    "    :param instr: list of relationship types to include (0=RA, 1=student, 2=postdoc, 3=research scientist)\n",
    "                  default is [1,2,3] since RA relationships are only very spottily sampled and loosely defined.\n",
    "    :return: d - vector of distance from pid1 to all other nodes, d(pid) = -1 if no connection exists or if d(pid2)\n",
    "                 has been filled in. thus if pid2 is not None, many values of d will be -1. Note that not all pids\n",
    "                 exist and many existing nodes aren't connected to the main tree, so some values of d will always be -1\n",
    "    \"\"\"\n",
    "    maxpid = np.max(connections[:, :2])\n",
    "\n",
    "    # compute distance between first node and every other node\n",
    "    d = -np.ones(maxpid+1, dtype=int)\n",
    "    p = np.array(pid1)\n",
    "    dd = int(0)\n",
    "    d[p] = dd\n",
    "\n",
    "    while p.size:\n",
    "        startp = np.argwhere(d == dd)[:, 0]\n",
    "\n",
    "        # find matching connections\n",
    "        if direction == 1:\n",
    "            m1 = np.in1d(connections[:, 0], startp) & np.in1d(connections[:,2], instr)\n",
    "            p = connections[m1, 1]     \n",
    "            \n",
    "        elif direction == -1:\n",
    "            m2 = np.in1d(connections[:, 1], startp) & np.in1d(connections[:,2], instr)\n",
    "            p = connections[m2, 0]\n",
    "            \n",
    "        else:  # direction == 0\n",
    "            m1 = np.in1d(connections[:, 0], startp) & np.in1d(connections[:,2], instr)\n",
    "            m2 = np.in1d(connections[:, 1], startp) & np.in1d(connections[:,2], instr)\n",
    "            p = np.union1d(connections[m1, 1], connections[m2, 0])\n",
    "\n",
    "        p = p[p <= maxpid]\n",
    "        p = p[d[p] == -1]\n",
    "\n",
    "        dd += 1\n",
    "        d[p] = dd\n",
    "        if pid2 is not None and d[pid2] > 0:\n",
    "            # force stop, we found pid2\n",
    "            p = np.array([])\n",
    "\n",
    "    return d"
   ]
  },
  {
   "cell_type": "code",
   "execution_count": 9,
   "id": "04a1473e-0622-4ba5-b682-c1b5771b2de0",
   "metadata": {},
   "outputs": [],
   "source": [
    "def mentorship_path(pid1, pid2, connections, direction=0, instr=[1, 2, 3]):\n",
    "    \"\"\"\n",
    "    Trace shortest path from pid1 to pid2 in mentorship graph, regardless of direction of training relationship\n",
    "    :param pid1: PID of first researcher\n",
    "    :param pid2: PID of second reseracher. If None, compute distance vector for all researchers\n",
    "    :param connections: N x 3 table of connected nodes. col 1=trainee, col 2=mentor, col 3=relationship type (0-3)\n",
    "    :param direction: (default) 0 trace all relationships (mentor-to-trainee and trainee-to-mentor)\n",
    "                      -1 only consider \"downward\" (mentor to trainee) relationships from pid1 to pid2\n",
    "                      1 only consider \"upward\" relationships\n",
    "    :param instr: list of relationship types to include (0=RA, 1=student, 2=postdoc, 3=research scientist)\n",
    "                  default is [1,2,3] since RA relationships are only very spottily sampled and loosely defined.\n",
    "    :return: path_data: dict with fields:\n",
    "        'd': number of steps from pid1 to pid2, d=np.inf if no connection, other fields not specified\n",
    "        'path': d + 1 sequence of pids from pid1 to pid2\n",
    "        'relation': len d list of relationship codes for each step\n",
    "        'direction': len d list of relationship directions (1: path_n trained by path_n+1, -1: path_n trained path_n+1)\n",
    "        'pid1': pid1\n",
    "        'pid2': pid2\n",
    "    \"\"\"\n",
    "    # determine distance to everyone from pid1\n",
    "    d = get_distance(pid2, pid1, connections, direction=direction, instr=[1, 2, 3])\n",
    "\n",
    "    if d[pid1]<0:\n",
    "        return np.array([])\n",
    "\n",
    "    path = [pid1]\n",
    "    rel = []\n",
    "    direction = []\n",
    "    while path[-1] != pid2:\n",
    "        current_pid = path[-1]\n",
    "        current_d = d[current_pid]-1\n",
    "        #print(\"d={}, pid={}\".format(current_d, current_pid))\n",
    "\n",
    "        set1 = connections[connections[:, 1]==current_pid]\n",
    "        set2 = connections[connections[:, 0]==current_pid]\n",
    "        set1 = set1[:,[True,False,True]]\n",
    "        set2 = set2[:,[False,True,True]]\n",
    "        next_set = np.concatenate((set1,set2),axis=0)\n",
    "\n",
    "        next_pids = next_set[d[next_set[:,0]]==current_d,:]\n",
    "        path.append(next_pids[0, 0])\n",
    "        rel.append(next_pids[0, 1])\n",
    "        if path[-1] in set1[:,0]:\n",
    "            direction.append(-1)\n",
    "        else:\n",
    "            direction.append(1)\n",
    "            \n",
    "    return {'path': path, 'relation': rel, 'direction': direction, 'd': d[pid1], 'pid1': pid1, 'pid2': pid2}"
   ]
  },
  {
   "cell_type": "markdown",
   "id": "699c0d1a-6f99-49b9-9a59-590699069e56",
   "metadata": {},
   "source": [
    "First let's try something very simple, measuring the trivial path between a mentor and trainee, for example, the researchers in the first row of `connect` (Hayden and Gallant)."
   ]
  },
  {
   "cell_type": "code",
   "execution_count": 10,
   "id": "811ec2e6-471e-4156-aff1-3dcabdaaa09e",
   "metadata": {},
   "outputs": [
    {
     "data": {
      "text/plain": [
       "{'path': [3, 2],\n",
       " 'relation': [1],\n",
       " 'direction': [-1],\n",
       " 'd': 1,\n",
       " 'pid1': 3,\n",
       " 'pid2': 2}"
      ]
     },
     "execution_count": 10,
     "metadata": {},
     "output_type": "execute_result"
    }
   ],
   "source": [
    "pid1 = 3\n",
    "pid2 = 2\n",
    "\n",
    "path_data = mentorship_path(pid1,pid2,connection_matrix)\n",
    "\n",
    "path_data"
   ]
  },
  {
   "cell_type": "markdown",
   "id": "15ce5667-9cfd-40b0-8783-6de19d9a6dfc",
   "metadata": {},
   "source": [
    "There's a lot embedded in `path_data`:\n",
    "* `d` number of steps in the shortest path from `pid1` to `pid2`.\n",
    "* `path` list of `PID`s in the shortest path, $[ p_0, p_1, ... p_d ] $. Note that `len(d)` is $d+1$.\n",
    "* `relation` type of mentoring relationship in each step.\n",
    "* `direction` of relationship. If $direction_n == 1$, $p_{n-1}$ was a trainee of $p_n$. If $direction_n == -1$, $p_{n-1}$ trained $p_n$."
   ]
  },
  {
   "cell_type": "code",
   "execution_count": 11,
   "id": "1c9c1059-7405-4db0-8446-fa2e0387b520",
   "metadata": {
    "tags": []
   },
   "outputs": [
    {
     "data": {
      "text/plain": [
       "'grad student'"
      ]
     },
     "execution_count": 11,
     "metadata": {},
     "output_type": "execute_result"
    }
   ],
   "source": [
    "relation_string = ['research assistant','grad student', 'postdoc', 'research scientist']\n",
    "\n",
    "relation_string[path_data['relation'][0]]"
   ]
  },
  {
   "cell_type": "markdown",
   "id": "9185fdf0-734e-4f78-a692-2f1c41649c4e",
   "metadata": {},
   "source": [
    "Now let's search for a different PID by name."
   ]
  },
  {
   "cell_type": "code",
   "execution_count": 12,
   "id": "61e3cfde-32e6-4cd5-a97a-b4188bc6095a",
   "metadata": {
    "tags": []
   },
   "outputs": [
    {
     "data": {
      "text/html": [
       "<div>\n",
       "<style scoped>\n",
       "    .dataframe tbody tr th:only-of-type {\n",
       "        vertical-align: middle;\n",
       "    }\n",
       "\n",
       "    .dataframe tbody tr th {\n",
       "        vertical-align: top;\n",
       "    }\n",
       "\n",
       "    .dataframe thead th {\n",
       "        text-align: right;\n",
       "    }\n",
       "</style>\n",
       "<table border=\"1\" class=\"dataframe\">\n",
       "  <thead>\n",
       "    <tr style=\"text-align: right;\">\n",
       "      <th></th>\n",
       "      <th>PID</th>\n",
       "      <th>FirstName</th>\n",
       "      <th>MiddleName</th>\n",
       "      <th>LastName</th>\n",
       "      <th>Institution</th>\n",
       "      <th>ResearchArea</th>\n",
       "    </tr>\n",
       "  </thead>\n",
       "  <tbody>\n",
       "    <tr>\n",
       "      <th>327</th>\n",
       "      <td>331</td>\n",
       "      <td>ERIC</td>\n",
       "      <td>R</td>\n",
       "      <td>KANDEL</td>\n",
       "      <td>Columbia University</td>\n",
       "      <td>neuro,physiology</td>\n",
       "    </tr>\n",
       "  </tbody>\n",
       "</table>\n",
       "</div>"
      ],
      "text/plain": [
       "     PID FirstName MiddleName LastName          Institution      ResearchArea\n",
       "327  331      ERIC          R   KANDEL  Columbia University  neuro,physiology"
      ]
     },
     "execution_count": 12,
     "metadata": {},
     "output_type": "execute_result"
    }
   ],
   "source": [
    "people.loc[(people.FirstName=='ERIC') & (people.LastName=='KANDEL')]"
   ]
  },
  {
   "cell_type": "markdown",
   "id": "3493f6a7-4cd0-48eb-a3bc-70263b5836cb",
   "metadata": {},
   "source": [
    "Then compute a path between Gallant ($PID=3$) and Kandel ($PID=331$)."
   ]
  },
  {
   "cell_type": "code",
   "execution_count": 13,
   "id": "911d235b-3b92-460f-8e3e-6224201caadd",
   "metadata": {},
   "outputs": [
    {
     "data": {
      "text/plain": [
       "{'path': [3, 595, 29368, 331],\n",
       " 'relation': [1, 1, 1],\n",
       " 'direction': [1, -1, 1],\n",
       " 'd': 3,\n",
       " 'pid1': 3,\n",
       " 'pid2': 331}"
      ]
     },
     "execution_count": 13,
     "metadata": {},
     "output_type": "execute_result"
    }
   ],
   "source": [
    "pid1 = 3\n",
    "pid2 = 331\n",
    "path_data = mentorship_path(pid1,pid2,connection_matrix)\n",
    "\n",
    "path_data"
   ]
  },
  {
   "cell_type": "markdown",
   "id": "be5516dd-c045-484f-9e11-346fcfe273fb",
   "metadata": {},
   "source": [
    "This snippet of code translates `path_data` into something human-readable."
   ]
  },
  {
   "cell_type": "code",
   "execution_count": 15,
   "id": "fbd4b442-70b3-4251-907f-b169b60ae805",
   "metadata": {},
   "outputs": [
    {
     "name": "stdout",
     "output_type": "stream",
     "text": [
      "JACK GALLANT trained with JOY HIRSCH as a grad student\n",
      "JOY HIRSCH trained AMIT ETKIN as a grad student \n",
      "AMIT ETKIN trained with ERIC KANDEL as a grad student\n"
     ]
    }
   ],
   "source": [
    "def display_path(path_data):\n",
    "    relation_string = ['research assistant','grad student', 'postdoc', 'research scientist']\n",
    "    for p1,p2,rel,direction in zip(path_data['path'][:-1], path_data['path'][1:], path_data['relation'], path_data['direction']):\n",
    "        n1 = f\"{people.loc[people.PID==p1,'FirstName'].values[0]} {people.loc[people.PID==p1,'LastName'].values[0]}\"\n",
    "        n2 = f\"{people.loc[people.PID==p2,'FirstName'].values[0]} {people.loc[people.PID==p2,'LastName'].values[0]}\"\n",
    "        if direction>0:\n",
    "            print(f\"{n1} trained with {n2} as a {relation_string[rel]}\")\n",
    "        else:\n",
    "            print(f\"{n1} trained {n2} as a {relation_string[rel]} \")\n",
    "            \n",
    "display_path(path_data)"
   ]
  },
  {
   "cell_type": "markdown",
   "id": "f429dae2",
   "metadata": {},
   "source": [
    "# Common ancestor paths"
   ]
  },
  {
   "cell_type": "markdown",
   "id": "21d57fdb-a675-496a-b373-4902d05b8de2",
   "metadata": {},
   "source": [
    "The default shortest path is computed without attention to the direction of relationships. A different analysis might measure the distance between two researchers through a common ancestor, that is, tracing relationships from trainee to mentor for each of `pid1` and `pid2` until a common PID is reached. Try it using `get_common_ancestor_path`."
   ]
  },
  {
   "cell_type": "code",
   "execution_count": 16,
   "id": "7694cfe3-3a23-433e-8828-5130b186e298",
   "metadata": {},
   "outputs": [],
   "source": [
    "def common_ancestor_path(pid1, pid2, connections, instr=None):\n",
    "    \"\"\"\n",
    "    Trace path from pid1 to pid2 through a common ancestor, works very similarly to to mentorship_path\n",
    "    :param pid1: PID of first researcher\n",
    "    :param pid2: PID of second reseracher. If None, compute distance vector for all researchers\n",
    "    :param connections: N x 3 table of connected nodes. col 1=trainee, col 2=mentor, col 3=relationship type (0-3)\n",
    "    :param direction: 0 trace all relationships (mentor-to-trainee and trainee-to-mentor)\n",
    "                      -1 only consider \"downward\" (mentor to trainee) relationships from pid1 to pid2\n",
    "                      1 only consider \"upward\" relationships\n",
    "    :param instr: list of relationship types to include (0=RA, 1=student, 2=postdoc, 3=research scientist)\n",
    "                  default is [1,2,3] since RA relationships are only very spottily sampled and loosely defined.\n",
    "    :return: path_data: dict with fields:\n",
    "        'd': number of steps from pid1 to pid2, d=np.inf if no connection, other fields not specified\n",
    "        'path': d + 1 sequence of pids from pid1 to pid2\n",
    "        'relation': len d list of relationship codes for each step\n",
    "        'direction': len d list of relationship directions (1: path_n trained by path_n+1, -1: path_n trained path_n+1)\n",
    "        'pid1': pid1\n",
    "        'pid2': pid2\n",
    "        'pid_common': pid of common ancestor, should appear in path\n",
    "    \"\"\"\n",
    "    if instr is None:\n",
    "        instr = [1, 2, 3]\n",
    "\n",
    "    maxpid = np.max(connections[:, :2])\n",
    "    dd = int(0)\n",
    "\n",
    "    # initialize distance vectors for both pid1 and pid2\n",
    "    d1 = -np.ones(maxpid + 1, dtype=int)\n",
    "    p1 = np.array(pid1)\n",
    "    d1[p1] = dd\n",
    "\n",
    "    d2 = -np.ones(maxpid + 1, dtype=int)\n",
    "    p2 = np.array(pid2)\n",
    "    d2[p2] = dd\n",
    "\n",
    "    common_pid = []\n",
    "    while len(common_pid) == 0:\n",
    "        startp1 = np.argwhere(d1 == dd)[:, 0]\n",
    "        startp2 = np.argwhere(d2 == dd)[:, 0]\n",
    "\n",
    "        # find matching connections\n",
    "        m1 = np.in1d(connections[:, 0], startp1) & np.in1d(connections[:, 2], instr)\n",
    "        m2 = np.in1d(connections[:, 0], startp2) & np.in1d(connections[:, 2], instr)\n",
    "\n",
    "        p1 = connections[m1, 1]\n",
    "        p2 = connections[m2, 1]\n",
    "\n",
    "        dd += 1\n",
    "        p1 = p1[p1 <= maxpid]\n",
    "        p1 = p1[d1[p1] == -1]\n",
    "        d1[p1] = dd\n",
    "\n",
    "        p2 = p2[p2 <= maxpid]\n",
    "        p2 = p2[d2[p2] == -1]\n",
    "        d2[p2] = dd\n",
    "\n",
    "        # check for any pids that show connections for both pid1 and pid2 with len <= dd\n",
    "        common_pid = np.where((d1 >= 0) & (d2 >= 0))[0]\n",
    "\n",
    "    # find paths from pid1 and pid2 back to common_pid\n",
    "    path_data1 = mentorship_path(pid1, common_pid[0], connections, direction=-1, instr=instr)\n",
    "    path_data2 = mentorship_path(common_pid[0], pid2, connections, direction=1, instr=instr)\n",
    "\n",
    "    # now splice:\n",
    "    path_data = {}\n",
    "    path_data['path'] = path_data1['path'] + path_data2['path'][1:]\n",
    "    path_data['relation'] = path_data1['relation'] + path_data2['relation']\n",
    "    path_data['direction'] = path_data1['direction'] + path_data2['direction']\n",
    "    path_data['d'] = path_data1['d'] + path_data2['d']\n",
    "    path_data['pid1'] = pid1\n",
    "    path_data['pid2'] = pid2\n",
    "    path_data['pid_common'] = common_pid[0]\n",
    "\n",
    "    return path_data\n"
   ]
  },
  {
   "cell_type": "code",
   "execution_count": 17,
   "id": "b471b769-577c-45aa-b61a-633ccfc847e3",
   "metadata": {},
   "outputs": [
    {
     "data": {
      "text/plain": [
       "{'path': [3, 16, 112, 65, 331],\n",
       " 'relation': [2, 2, 2, 2],\n",
       " 'direction': [1, 1, 1, -1],\n",
       " 'd': 4,\n",
       " 'pid1': 3,\n",
       " 'pid2': 331,\n",
       " 'pid_common': 65}"
      ]
     },
     "execution_count": 17,
     "metadata": {},
     "output_type": "execute_result"
    }
   ],
   "source": [
    "path_data = common_ancestor_path(pid1,pid2,connection_matrix)\n",
    "path_data"
   ]
  },
  {
   "cell_type": "code",
   "execution_count": 18,
   "id": "373ec80d",
   "metadata": {},
   "outputs": [
    {
     "name": "stdout",
     "output_type": "stream",
     "text": [
      "JACK GALLANT trained with DAVID VAN ESSEN as a postdoc\n",
      "DAVID VAN ESSEN trained with DAVID HUBEL as a postdoc\n",
      "DAVID HUBEL trained with STEPHEN KUFFLER as a postdoc\n",
      "STEPHEN KUFFLER trained ERIC KANDEL as a postdoc \n"
     ]
    }
   ],
   "source": [
    "display_path(path_data)"
   ]
  },
  {
   "cell_type": "code",
   "execution_count": null,
   "id": "4772a833",
   "metadata": {},
   "outputs": [],
   "source": []
  },
  {
   "cell_type": "markdown",
   "id": "02299efb",
   "metadata": {},
   "source": [
    "**Exercise 1a.** Find the shortest path between Isaac Newton and Sigmund Freud. "
   ]
  },
  {
   "cell_type": "code",
   "execution_count": 21,
   "id": "2108332e",
   "metadata": {},
   "outputs": [
    {
     "name": "stdout",
     "output_type": "stream",
     "text": [
      "ISAAC NEWTON trained ROGER COTES as a grad student \n",
      "ROGER COTES trained ROBERT SMITH as a grad student \n",
      "ROBERT SMITH trained WALTER TAYLOR as a grad student \n",
      "WALTER TAYLOR trained STEPHEN WHISSON as a grad student \n",
      "STEPHEN WHISSON trained THOMAS POSTLETHWAITE as a grad student \n",
      "THOMAS POSTLETHWAITE trained THOMAS JONES as a grad student \n",
      "THOMAS JONES trained ADAM SEDGWICK as a grad student \n",
      "ADAM SEDGWICK trained CHARLES DARWIN as a grad student \n",
      "CHARLES DARWIN trained FRANCIS DARWIN as a research scientist \n",
      "FRANCIS DARWIN trained with EMANUEL KLEIN as a postdoc\n",
      "EMANUEL KLEIN trained with ERNST VON BRUCKE as a grad student\n",
      "ERNST VON BRUCKE trained SIGMUND FREUD as a grad student \n"
     ]
    }
   ],
   "source": [
    "# type your answer here"
   ]
  },
  {
   "cell_type": "code",
   "execution_count": null,
   "id": "054803dd",
   "metadata": {},
   "outputs": [],
   "source": []
  },
  {
   "cell_type": "code",
   "execution_count": null,
   "id": "ea2f93b3",
   "metadata": {},
   "outputs": [],
   "source": []
  },
  {
   "cell_type": "markdown",
   "id": "48c8763b",
   "metadata": {},
   "source": [
    "**Exercise 1b.** How much shorter is this path than the path through a common ancestor?"
   ]
  },
  {
   "cell_type": "code",
   "execution_count": 22,
   "id": "a654cfb9",
   "metadata": {},
   "outputs": [
    {
     "data": {
      "text/plain": [
       "12"
      ]
     },
     "execution_count": 22,
     "metadata": {},
     "output_type": "execute_result"
    }
   ],
   "source": [
    "# type your answer here"
   ]
  },
  {
   "cell_type": "code",
   "execution_count": null,
   "id": "70ac452f",
   "metadata": {},
   "outputs": [],
   "source": []
  },
  {
   "cell_type": "markdown",
   "id": "50bb1871",
   "metadata": {},
   "source": [
    "**Exercise 2a.** if `pid2==None`, `get_distance` will compute the distance to all other nodes in the network. How many nodes are 2 steps from Eric Kandell?"
   ]
  },
  {
   "cell_type": "code",
   "execution_count": 24,
   "id": "cfd8b94e",
   "metadata": {},
   "outputs": [
    {
     "data": {
      "text/plain": [
       "583"
      ]
     },
     "execution_count": 24,
     "metadata": {},
     "output_type": "execute_result"
    }
   ],
   "source": [
    "# type your answer here"
   ]
  },
  {
   "cell_type": "markdown",
   "id": "821d3616",
   "metadata": {},
   "source": [
    "**Exercise 2b.** How many academic \"grandchildren\" does Eric Kandel have? (Hint: consider the `direction` parameter.)"
   ]
  },
  {
   "cell_type": "code",
   "execution_count": 25,
   "id": "13a8e9a8",
   "metadata": {},
   "outputs": [
    {
     "data": {
      "text/plain": [
       "467"
      ]
     },
     "execution_count": 25,
     "metadata": {},
     "output_type": "execute_result"
    }
   ],
   "source": [
    "# type your answer here"
   ]
  },
  {
   "cell_type": "code",
   "execution_count": null,
   "id": "27a54d77",
   "metadata": {},
   "outputs": [],
   "source": []
  },
  {
   "cell_type": "code",
   "execution_count": null,
   "id": "bc894a00",
   "metadata": {},
   "outputs": [],
   "source": []
  },
  {
   "cell_type": "code",
   "execution_count": null,
   "id": "04add193",
   "metadata": {},
   "outputs": [],
   "source": []
  }
 ],
 "metadata": {
  "kernelspec": {
   "display_name": "Python 3",
   "language": "python",
   "name": "python3"
  },
  "language_info": {
   "codemirror_mode": {
    "name": "ipython",
    "version": 3
   },
   "file_extension": ".py",
   "mimetype": "text/x-python",
   "name": "python",
   "nbconvert_exporter": "python",
   "pygments_lexer": "ipython3",
   "version": "3.8.8"
  },
  "latex_envs": {
   "LaTeX_envs_menu_present": true,
   "autoclose": false,
   "autocomplete": true,
   "bibliofile": "biblio.bib",
   "cite_by": "apalike",
   "current_citInitial": 1,
   "eqLabelWithNumbers": true,
   "eqNumInitial": 1,
   "hotkeys": {
    "equation": "Ctrl-E",
    "itemize": "Ctrl-I"
   },
   "labels_anchors": false,
   "latex_user_defs": false,
   "report_style_numbering": false,
   "user_envs_cfg": false
  },
  "toc": {
   "base_numbering": 1,
   "nav_menu": {},
   "number_sections": true,
   "sideBar": true,
   "skip_h1_title": false,
   "title_cell": "Table of Contents",
   "title_sidebar": "Contents",
   "toc_cell": false,
   "toc_position": {},
   "toc_section_display": true,
   "toc_window_display": true
  }
 },
 "nbformat": 4,
 "nbformat_minor": 5
}
