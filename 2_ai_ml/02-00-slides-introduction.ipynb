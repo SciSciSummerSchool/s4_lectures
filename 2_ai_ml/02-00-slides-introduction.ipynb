{
 "cells": [
  {
   "cell_type": "markdown",
   "metadata": {
    "slideshow": {
     "slide_type": "slide"
    }
   },
   "source": [
    "# Science of Science Summer School (S4) 2022\n",
    "## Day 2: AI/ML\n",
    "### Introduction\n",
    "- Daniel E. Acuna, Department of Computer Science, Colorado University, Boulder"
   ]
  },
  {
   "cell_type": "markdown",
   "metadata": {
    "slideshow": {
     "slide_type": "slide"
    }
   },
   "source": [
    "# Plan for today\n",
    "\n",
    "- Teaching from 9:00 AM - 12:30 PM ET\n",
    "- We will cover:\n",
    "  - Numpy, Pandas, Matplotlib\n",
    "  - Basic math\n",
    "  - Statistical learning\n",
    "  - scikit-learn\n",
    "  - Model evaluation, comparison  "
   ]
  },
  {
   "cell_type": "markdown",
   "metadata": {
    "slideshow": {
     "slide_type": "slide"
    }
   },
   "source": [
    "# Recommendations\n",
    "\n",
    "- Linear algebra: This MIT OCW’s Linear Algebra course, which is free  The first couple of lectures cover most you need https://ocw.mit.edu/courses/mathematics/18-06sc-linear-algebra-fall-2011/index.htm\n",
    "- Calculus: Another MIT OCW’s Calculus free course. I would recommend Part A and B. https://ocw.mit.edu/courses/mathematics/18-01sc-single-variable-calculus-fall-2010/unit-2-applications-of-differentiation/\n",
    "- Probability and statistics I would recommend the first chapters of DeGroot and Schervish’s book “Probability and Statistics”\n",
    "- Programming: There are plenty of resources online about programming. For programming in Python, I would recommend Jake VanderPlas’s “Python Data Science Handbook”. https://jakevdp.github.io/PythonDataScienceHandbook/\n",
    "- Statistical learning: The Elements of Statistical Learning (advanced) https://web.stanford.edu/~hastie/ElemStatLearn/ or An Introduction to Statistical Learning (introductory) https://www.statlearning.com/"
   ]
  },
  {
   "cell_type": "markdown",
   "metadata": {
    "slideshow": {
     "slide_type": "slide"
    }
   },
   "source": [
    "# If your copy of the repo is not syncronized to soshub\n",
    "\n",
    "Do the following\n",
    "![](images/open_terminal.png)\n",
    "and type `rm -rf library/s4_lectures` (careful with this command!)\n",
    "![](images/terminal_rm_command.png)\n",
    "and shutdown and restart your \"server\"\n",
    "![](images/open_control.png) ![](images/shutdown_server.png)\n"
   ]
  },
  {
   "cell_type": "markdown",
   "metadata": {
    "slideshow": {
     "slide_type": "slide"
    }
   },
   "source": [
    "# Groups/projects and others\n",
    "\n",
    "- If you don't have a group yet, feel free to use the afternoon session to find a match\n",
    "- Some groups have created channels on Slack\n",
    "- We need to close the Zoom meeting during the long break to save the video and post. We'll reopen at 2:00 PM ET\n",
    "- Remember to check repository https://github.com/SciSciSummerSchool/s4_lectures and references https://github.com/SciSciSummerSchool/s4_lectures/tree/master/references\n",
    "- Check https://s4.scienceofscience.org/schedule/ for videos\n",
    "- Questions?"
   ]
  }
 ],
 "metadata": {
  "celltoolbar": "Slideshow",
  "kernelspec": {
   "display_name": "Python 3",
   "language": "python",
   "name": "python3"
  },
  "language_info": {
   "codemirror_mode": {
    "name": "ipython",
    "version": 3
   },
   "file_extension": ".py",
   "mimetype": "text/x-python",
   "name": "python",
   "nbconvert_exporter": "python",
   "pygments_lexer": "ipython3",
   "version": "3.8.6"
  },
  "latex_envs": {
   "LaTeX_envs_menu_present": true,
   "autoclose": false,
   "autocomplete": true,
   "bibliofile": "biblio.bib",
   "cite_by": "apalike",
   "current_citInitial": 1,
   "eqLabelWithNumbers": true,
   "eqNumInitial": 1,
   "hotkeys": {
    "equation": "Ctrl-E",
    "itemize": "Ctrl-I"
   },
   "labels_anchors": false,
   "latex_user_defs": false,
   "report_style_numbering": false,
   "user_envs_cfg": false
  },
  "rise": {
   "chalkboard": {
    "color": [
     "rgb(250, 250, 250)",
     "rgb(250, 250, 250)"
    ]
   },
   "enable_chalkboard": true,
   "footer": "<h3><span style='color: orange'>Science of Science Summer School 2022</span> &#x2014; https://s4.scienceofscience.org &#x2014; (Virtually) hosted by School of Information Studies, Syracuse University</h3>",
   "header": "<h3>Day 2 - ML/AI</h3>",
   "show_buttons_on_startup": false,
   "slideNumber": true,
   "theme": "white"
  },
  "toc": {
   "base_numbering": 1,
   "nav_menu": {},
   "number_sections": false,
   "sideBar": true,
   "skip_h1_title": false,
   "title_cell": "Table of Contents",
   "title_sidebar": "Contents",
   "toc_cell": false,
   "toc_position": {},
   "toc_section_display": true,
   "toc_window_display": false
  }
 },
 "nbformat": 4,
 "nbformat_minor": 4
}
